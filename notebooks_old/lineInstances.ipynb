{
 "cells": [
  {
   "cell_type": "code",
   "execution_count": 1,
   "metadata": {
    "collapsed": true,
    "ExecuteTime": {
     "end_time": "2023-05-27T12:29:08.440153700Z",
     "start_time": "2023-05-27T12:29:08.019243400Z"
    }
   },
   "outputs": [],
   "source": [
    "import numpy as np\n",
    "import matplotlib.pyplot as plt"
   ]
  },
  {
   "cell_type": "code",
   "execution_count": 2,
   "outputs": [],
   "source": [
    "# notebook to create line instances"
   ],
   "metadata": {
    "collapsed": false,
    "ExecuteTime": {
     "end_time": "2023-05-27T12:29:12.591280600Z",
     "start_time": "2023-05-27T12:29:12.587774700Z"
    }
   }
  },
  {
   "cell_type": "code",
   "execution_count": 10,
   "outputs": [],
   "source": [
    "# create n random points on a line meaning that x is 0 and y is random between 0 and val\n",
    "# function\n",
    "def create_line(n=10):\n",
    "    val = n * 10\n",
    "    x = np.zeros(n)\n",
    "    y = np.random.randint(0, val, n)\n",
    "    return np.array([x, y]).T\n"
   ],
   "metadata": {
    "collapsed": false,
    "ExecuteTime": {
     "end_time": "2023-05-27T12:32:37.081488500Z",
     "start_time": "2023-05-27T12:32:37.076150800Z"
    }
   }
  },
  {
   "cell_type": "code",
   "execution_count": 11,
   "outputs": [
    {
     "data": {
      "text/plain": "array([[ 0., 99.],\n       [ 0., 87.],\n       [ 0., 92.],\n       [ 0., 64.],\n       [ 0., 10.],\n       [ 0., 15.],\n       [ 0., 81.],\n       [ 0., 30.],\n       [ 0., 63.],\n       [ 0., 93.]])"
     },
     "execution_count": 11,
     "metadata": {},
     "output_type": "execute_result"
    }
   ],
   "source": [
    "a = create_line()\n",
    "a"
   ],
   "metadata": {
    "collapsed": false,
    "ExecuteTime": {
     "end_time": "2023-05-27T12:32:37.236122200Z",
     "start_time": "2023-05-27T12:32:37.232160Z"
    }
   }
  },
  {
   "cell_type": "code",
   "execution_count": 13,
   "outputs": [],
   "source": [
    "def createTSP(size, num):\n",
    "    points = create_line(size)\n",
    "    with open(f'line_{size}_{num}.tsp', 'w') as f:\n",
    "        f.write(f'NAME: line_{size}_{num}\\n')\n",
    "        f.write('TYPE: TSP\\n')\n",
    "        f.write(f'COMMENT: line_{size}_{num}\\n')\n",
    "        f.write(f'DIMENSION: {size}\\n')\n",
    "        f.write('EDGE_WEIGHT_TYPE: EUC_2D\\n')\n",
    "        f.write('NODE_COORD_SECTION\\n')\n",
    "        for i in range(size):\n",
    "            f.write(f'{i+1} {points[i][0]} {points[i][1]}\\n')"
   ],
   "metadata": {
    "collapsed": false,
    "ExecuteTime": {
     "end_time": "2023-05-27T12:33:42.176387300Z",
     "start_time": "2023-05-27T12:33:42.171099600Z"
    }
   }
  },
  {
   "cell_type": "code",
   "execution_count": 14,
   "outputs": [],
   "source": [
    "for i in range(10):\n",
    "    for j in range(10,101,10):\n",
    "        createTSP(j,i)"
   ],
   "metadata": {
    "collapsed": false,
    "ExecuteTime": {
     "end_time": "2023-05-27T12:33:58.620203Z",
     "start_time": "2023-05-27T12:33:58.579579100Z"
    }
   }
  },
  {
   "cell_type": "code",
   "execution_count": 16,
   "outputs": [
    {
     "data": {
      "text/plain": "<Figure size 640x480 with 1 Axes>",
      "image/png": "[encoded data removed]"
     },
     "metadata": {},
     "output_type": "display_data"
    }
   ],
   "source": [
    "# plot line_20_0\n",
    "with open('line_20_0.tsp', 'r') as f:\n",
    "    lines = f.readlines()\n",
    "    points = []\n",
    "    for line in lines[7:-1]:\n",
    "        points.append([float(x) for x in line.split()[1:]])\n",
    "    points = np.array(points)\n",
    "    plt.scatter(points[:,0], points[:,1])\n",
    "    plt.show()"
   ],
   "metadata": {
    "collapsed": false,
    "ExecuteTime": {
     "end_time": "2023-05-27T12:34:36.449992300Z",
     "start_time": "2023-05-27T12:34:36.347138500Z"
    }
   }
  },
  {
   "cell_type": "code",
   "execution_count": null,
   "outputs": [],
   "source": [],
   "metadata": {
    "collapsed": false
   }
  }
 ],
 "metadata": {
  "kernelspec": {
   "display_name": "Python 3",
   "language": "python",
   "name": "python3"
  },
  "language_info": {
   "codemirror_mode": {
    "name": "ipython",
    "version": 2
   },
   "file_extension": ".py",
   "mimetype": "text/x-python",
   "name": "python",
   "nbconvert_exporter": "python",
   "pygments_lexer": "ipython2",
   "version": "2.7.6"
  }
 },
 "nbformat": 4,
 "nbformat_minor": 0
}
