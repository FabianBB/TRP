{
 "cells": [
  {
   "cell_type": "code",
   "execution_count": 1,
   "metadata": {
    "collapsed": true,
    "ExecuteTime": {
     "end_time": "2023-06-08T12:19:07.779702100Z",
     "start_time": "2023-06-08T12:19:07.357172900Z"
    }
   },
   "outputs": [],
   "source": [
    "import numpy as np\n",
    "import matplotlib.pyplot as plt"
   ]
  },
  {
   "cell_type": "code",
   "execution_count": 2,
   "outputs": [],
   "source": [
    "# this notebook is ffor creating extremely random graphs"
   ],
   "metadata": {
    "collapsed": false,
    "ExecuteTime": {
     "end_time": "2023-06-08T12:19:20.974056800Z",
     "start_time": "2023-06-08T12:19:20.970541200Z"
    }
   }
  },
  {
   "cell_type": "code",
   "execution_count": 20,
   "outputs": [],
   "source": [
    "# function to create super random graphs\n",
    "\n",
    "\n",
    "def createGraph():\n",
    "    # generate 1 random number between 5 and 100. this will be the number of nodes\n",
    "    n = np.random.randint(6, 100)\n",
    "\n",
    "    # generate 2 random numbers between 0 and 5000. this will be the boundaries of the x coordinates of the nodes\n",
    "    x = np.random.randint(0, 5000, n)\n",
    "    # generate 2 random numbers between 0 and 5000. this will be the boundaries of the y coordinates of the nodes\n",
    "    y = np.random.randint(0, 5000, n)\n",
    "\n",
    "    # create n random points with the x and y coordinates\n",
    "    points = np.column_stack((x, y))\n",
    "\n",
    "    return points"
   ],
   "metadata": {
    "collapsed": false,
    "ExecuteTime": {
     "end_time": "2023-06-08T12:46:45.612426200Z",
     "start_time": "2023-06-08T12:46:45.606160Z"
    }
   }
  },
  {
   "cell_type": "code",
   "execution_count": 21,
   "outputs": [
    {
     "data": {
      "text/plain": "array([[ 385, 1465],\n       [1651, 4452],\n       [1416, 3378],\n       [  44, 3847],\n       [ 242,  941],\n       [3940, 2598],\n       [3736, 3410],\n       [ 282, 3422],\n       [2248, 4973],\n       [1899,  328],\n       [4635, 2731],\n       [2827, 3653],\n       [4961, 1639],\n       [ 316, 2468],\n       [2590, 2104],\n       [2656, 2172],\n       [ 894,  126],\n       [2791, 3624],\n       [4382, 2730],\n       [3646, 4722],\n       [1239, 1028],\n       [ 398, 3589],\n       [ 819, 1268],\n       [1260,  535],\n       [2155, 2588],\n       [4094, 1420],\n       [1982, 3015],\n       [2736, 1035],\n       [1343,   55],\n       [2409, 3458],\n       [4940, 2707],\n       [ 417, 3812],\n       [3418, 1173],\n       [1062, 3575],\n       [3895, 1706],\n       [4191, 3866],\n       [ 380, 4194],\n       [4417, 2873],\n       [3863, 1869],\n       [3404, 3919],\n       [3954, 1398],\n       [1974, 1198],\n       [3891,  775],\n       [ 549, 3040],\n       [ 599, 3857],\n       [3323, 2507],\n       [4160, 3929],\n       [ 696, 4696],\n       [1665, 4748],\n       [3718, 4229],\n       [2334, 2607],\n       [1643, 1992],\n       [3964, 2703],\n       [3022, 1401],\n       [1910, 3581],\n       [ 860, 3015],\n       [3125, 3714],\n       [1728, 2011],\n       [1200,  652],\n       [1091, 3819],\n       [2264, 3206],\n       [1436, 4477],\n       [1220, 4282],\n       [1454, 3251],\n       [1520, 4648],\n       [3508, 4620],\n       [4043, 1384],\n       [1244, 3746],\n       [4013, 2869],\n       [1442, 4720],\n       [ 769,  684]])"
     },
     "execution_count": 21,
     "metadata": {},
     "output_type": "execute_result"
    }
   ],
   "source": [
    "a = createGraph()\n",
    "a"
   ],
   "metadata": {
    "collapsed": false,
    "ExecuteTime": {
     "end_time": "2023-06-08T12:46:45.912458500Z",
     "start_time": "2023-06-08T12:46:45.906194200Z"
    }
   }
  },
  {
   "cell_type": "code",
   "execution_count": 22,
   "outputs": [],
   "source": [
    "def createTSP(num):\n",
    "    points = createGraph()\n",
    "    size = len(points)\n",
    "    with open(f'srandom_{size}_{num}.tsp', 'w') as f:\n",
    "        f.write(f'NAME: line_{size}_{num}\\n')\n",
    "        f.write('TYPE: TSP\\n')\n",
    "        f.write(f'COMMENT: srandom_{size}_{num}\\n')\n",
    "        f.write(f'DIMENSION: {size}\\n')\n",
    "        f.write('EDGE_WEIGHT_TYPE: EUC_2D\\n')\n",
    "        f.write('NODE_COORD_SECTION\\n')\n",
    "        for i in range(size):\n",
    "            f.write(f'{i+1} {points[i][0]} {points[i][1]}\\n')"
   ],
   "metadata": {
    "collapsed": false,
    "ExecuteTime": {
     "end_time": "2023-06-08T12:46:57.567962Z",
     "start_time": "2023-06-08T12:46:57.563459Z"
    }
   }
  },
  {
   "cell_type": "code",
   "execution_count": 23,
   "outputs": [],
   "source": [
    "# create 100 random graphs\n",
    "for i in range(100):\n",
    "    createTSP(i)"
   ],
   "metadata": {
    "collapsed": false,
    "ExecuteTime": {
     "end_time": "2023-06-08T12:46:58.083091700Z",
     "start_time": "2023-06-08T12:46:58.039675800Z"
    }
   }
  },
  {
   "cell_type": "code",
   "execution_count": null,
   "outputs": [],
   "source": [],
   "metadata": {
    "collapsed": false
   }
  }
 ],
 "metadata": {
  "kernelspec": {
   "display_name": "Python 3",
   "language": "python",
   "name": "python3"
  },
  "language_info": {
   "codemirror_mode": {
    "name": "ipython",
    "version": 2
   },
   "file_extension": ".py",
   "mimetype": "text/x-python",
   "name": "python",
   "nbconvert_exporter": "python",
   "pygments_lexer": "ipython2",
   "version": "2.7.6"
  }
 },
 "nbformat": 4,
 "nbformat_minor": 0
}
