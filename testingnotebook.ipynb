{
 "cells": [
  {
   "cell_type": "code",
   "execution_count": 8,
   "metadata": {
    "collapsed": true,
    "ExecuteTime": {
     "end_time": "2023-05-28T22:42:18.708313600Z",
     "start_time": "2023-05-28T22:42:18.699351200Z"
    }
   },
   "outputs": [],
   "source": [
    "import numpy as np\n",
    "\n",
    "import tsplib95\n",
    "import networkx as nx\n",
    "from networkx.algorithms.approximation import christofides\n",
    "\n",
    "import os\n",
    "import pandas as pd\n",
    "import gilsrvnd\n",
    "import DBMEA\n",
    "import grasp\n",
    "\n",
    "\n"
   ]
  },
  {
   "cell_type": "code",
   "execution_count": 51,
   "outputs": [],
   "source": [
    "# read in graph instances/random_20_0.tsp\n",
    "problem = tsplib95.load('Instances/att48.tsp')\n",
    "graph = problem.get_graph()\n",
    "dist_matrix = nx.to_numpy_matrix(graph)\n",
    "\n"
   ],
   "metadata": {
    "collapsed": false,
    "ExecuteTime": {
     "end_time": "2023-05-28T22:50:41.751273900Z",
     "start_time": "2023-05-28T22:50:41.738513100Z"
    }
   }
  },
  {
   "cell_type": "code",
   "execution_count": 52,
   "outputs": [
    {
     "data": {
      "text/plain": "[0,\n 7,\n 21,\n 15,\n 2,\n 40,\n 33,\n 13,\n 24,\n 38,\n 47,\n 4,\n 41,\n 9,\n 34,\n 44,\n 23,\n 25,\n 3,\n 1,\n 28,\n 31,\n 20,\n 46,\n 10,\n 12,\n 22,\n 11,\n 14,\n 39,\n 8,\n 32,\n 19,\n 45,\n 17,\n 35,\n 5,\n 29,\n 42,\n 26,\n 16,\n 18,\n 36,\n 27,\n 6,\n 43,\n 30,\n 37]"
     },
     "execution_count": 52,
     "metadata": {},
     "output_type": "execute_result"
    }
   ],
   "source": [
    "t = christofides(graph)\n",
    "# remove last index of t\n",
    "t = [x - 1 for x in t]\n",
    "t.pop()\n",
    "t = list(t)\n",
    "t"
   ],
   "metadata": {
    "collapsed": false,
    "ExecuteTime": {
     "end_time": "2023-05-28T22:50:41.918868Z",
     "start_time": "2023-05-28T22:50:41.898823400Z"
    }
   }
  },
  {
   "cell_type": "code",
   "execution_count": 55,
   "outputs": [],
   "source": [
    "def cost(s, dist_matrix):\n",
    "    cost = sum((len(s) - i - 1) * dist_matrix[s[i], s[i + 1]] for i in range(len(s) - 1))\n",
    "    return cost"
   ],
   "metadata": {
    "collapsed": false,
    "ExecuteTime": {
     "end_time": "2023-05-28T22:54:41.509100Z",
     "start_time": "2023-05-28T22:54:41.488959400Z"
    }
   }
  },
  {
   "cell_type": "code",
   "execution_count": 56,
   "outputs": [
    {
     "data": {
      "text/plain": "333391.0"
     },
     "execution_count": 56,
     "metadata": {},
     "output_type": "execute_result"
    }
   ],
   "source": [
    "cost(t, dist_matrix)"
   ],
   "metadata": {
    "collapsed": false,
    "ExecuteTime": {
     "end_time": "2023-05-28T22:54:41.755799100Z",
     "start_time": "2023-05-28T22:54:41.749193200Z"
    }
   }
  },
  {
   "cell_type": "code",
   "execution_count": 34,
   "outputs": [
    {
     "data": {
      "text/plain": "              file   n     m    ratio1  ratio2   density  min     max   \n0        att48.tsp  48  1176  0.040816    24.5  1.042553  0.0  2662.0  \\\n1     berlin52.tsp  52  1378  0.037736    26.5  1.039216  0.0  1716.0   \n2     brazil58.tsp  58  1711  0.033898    29.5  1.035088  0.0  8700.0   \n3      burma14.tsp  14   105  0.133333     7.5  1.153846  1.0  1261.0   \n4    dantzig42.tsp  42   903  0.046512    21.5  1.048780  0.0   192.0   \n..             ...  ..   ...       ...     ...       ...  ...     ...   \n335  line_90_5.tsp  90  4095  0.021978    45.5  1.022472  0.0   889.0   \n336  line_90_6.tsp  90  4095  0.021978    45.5  1.022472  0.0   888.0   \n337  line_90_7.tsp  90  4095  0.021978    45.5  1.022472  0.0   862.0   \n338  line_90_8.tsp  90  4095  0.021978    45.5  1.022472  0.0   889.0   \n339  line_90_9.tsp  90  4095  0.021978    45.5  1.022472  0.0   875.0   \n\n            mean          std           var  GILS_cost  GILS_time  GRASP_cost   \n0    1017.559896   627.598414  3.938798e+05   226229.0   6.474685    301702.0  \\\n1     564.188609   345.722052  1.195237e+05   145419.0   6.054587    191072.0   \n2    2094.914388  1426.139588  2.033874e+06   532454.0   8.013889    709540.0   \n3     442.612245   272.511473  7.426250e+04    16457.0   0.156218     18393.0   \n4      72.295918    43.481585  1.890648e+03    12392.0   2.579336     14523.0   \n..           ...          ...           ...        ...        ...         ...   \n335   319.538272   226.908988  5.148769e+04    55730.0  35.477098    157350.0   \n336   297.687407   211.917802  4.490915e+04    48884.0  30.191444    128976.0   \n337   249.932840   181.712429  3.301941e+04    51464.0  28.821121    124368.0   \n338   316.810123   226.894830  5.148126e+04    60845.0  28.282006    123373.0   \n339   293.470864   209.501121  4.389072e+04    60959.0  29.666181    118075.0   \n\n     GRASP_time  DBMEA_cost  DBMEA_time  Min_val  Min_col  min_method  \n0      0.026019    207771.0    5.288543        0      NaN  DBMEA_cost  \n1      0.031533    143278.0    5.374160        0      NaN  DBMEA_cost  \n2      0.043413    535150.0    9.045840        0      NaN   GILS_cost  \n3      0.001000     16457.0    0.082072        0      NaN  GRASP_time  \n4      0.016044     12256.0    3.325098        0      NaN  DBMEA_cost  \n..          ...         ...         ...      ...      ...         ...  \n335    0.233857     57558.0   36.326975        0      NaN   GILS_cost  \n336    0.232372     45916.0   37.348990        0      NaN  DBMEA_cost  \n337    0.232510     49038.0   44.483338        0      NaN  DBMEA_cost  \n338    0.231058     65825.0   39.745050        0      NaN   GILS_cost  \n339    0.229949     58315.0   44.563938        0      NaN  DBMEA_cost  \n\n[340 rows x 20 columns]",
      "text/html": "<div>\n<style scoped>\n    .dataframe tbody tr th:only-of-type {\n        vertical-align: middle;\n    }\n\n    .dataframe tbody tr th {\n        vertical-align: top;\n    }\n\n    .dataframe thead th {\n        text-align: right;\n    }\n</style>\n<table border=\"1\" class=\"dataframe\">\n  <thead>\n    <tr style=\"text-align: right;\">\n      <th></th>\n      <th>file</th>\n      <th>n</th>\n      <th>m</th>\n      <th>ratio1</th>\n      <th>ratio2</th>\n      <th>density</th>\n      <th>min</th>\n      <th>max</th>\n      <th>mean</th>\n      <th>std</th>\n      <th>var</th>\n      <th>GILS_cost</th>\n      <th>GILS_time</th>\n      <th>GRASP_cost</th>\n      <th>GRASP_time</th>\n      <th>DBMEA_cost</th>\n      <th>DBMEA_time</th>\n      <th>Min_val</th>\n      <th>Min_col</th>\n      <th>min_method</th>\n    </tr>\n  </thead>\n  <tbody>\n    <tr>\n      <th>0</th>\n      <td>att48.tsp</td>\n      <td>48</td>\n      <td>1176</td>\n      <td>0.040816</td>\n      <td>24.5</td>\n      <td>1.042553</td>\n      <td>0.0</td>\n      <td>2662.0</td>\n      <td>1017.559896</td>\n      <td>627.598414</td>\n      <td>3.938798e+05</td>\n      <td>226229.0</td>\n      <td>6.474685</td>\n      <td>301702.0</td>\n      <td>0.026019</td>\n      <td>207771.0</td>\n      <td>5.288543</td>\n      <td>0</td>\n      <td>NaN</td>\n      <td>DBMEA_cost</td>\n    </tr>\n    <tr>\n      <th>1</th>\n      <td>berlin52.tsp</td>\n      <td>52</td>\n      <td>1378</td>\n      <td>0.037736</td>\n      <td>26.5</td>\n      <td>1.039216</td>\n      <td>0.0</td>\n      <td>1716.0</td>\n      <td>564.188609</td>\n      <td>345.722052</td>\n      <td>1.195237e+05</td>\n      <td>145419.0</td>\n      <td>6.054587</td>\n      <td>191072.0</td>\n      <td>0.031533</td>\n      <td>143278.0</td>\n      <td>5.374160</td>\n      <td>0</td>\n      <td>NaN</td>\n      <td>DBMEA_cost</td>\n    </tr>\n    <tr>\n      <th>2</th>\n      <td>brazil58.tsp</td>\n      <td>58</td>\n      <td>1711</td>\n      <td>0.033898</td>\n      <td>29.5</td>\n      <td>1.035088</td>\n      <td>0.0</td>\n      <td>8700.0</td>\n      <td>2094.914388</td>\n      <td>1426.139588</td>\n      <td>2.033874e+06</td>\n      <td>532454.0</td>\n      <td>8.013889</td>\n      <td>709540.0</td>\n      <td>0.043413</td>\n      <td>535150.0</td>\n      <td>9.045840</td>\n      <td>0</td>\n      <td>NaN</td>\n      <td>GILS_cost</td>\n    </tr>\n    <tr>\n      <th>3</th>\n      <td>burma14.tsp</td>\n      <td>14</td>\n      <td>105</td>\n      <td>0.133333</td>\n      <td>7.5</td>\n      <td>1.153846</td>\n      <td>1.0</td>\n      <td>1261.0</td>\n      <td>442.612245</td>\n      <td>272.511473</td>\n      <td>7.426250e+04</td>\n      <td>16457.0</td>\n      <td>0.156218</td>\n      <td>18393.0</td>\n      <td>0.001000</td>\n      <td>16457.0</td>\n      <td>0.082072</td>\n      <td>0</td>\n      <td>NaN</td>\n      <td>GRASP_time</td>\n    </tr>\n    <tr>\n      <th>4</th>\n      <td>dantzig42.tsp</td>\n      <td>42</td>\n      <td>903</td>\n      <td>0.046512</td>\n      <td>21.5</td>\n      <td>1.048780</td>\n      <td>0.0</td>\n      <td>192.0</td>\n      <td>72.295918</td>\n      <td>43.481585</td>\n      <td>1.890648e+03</td>\n      <td>12392.0</td>\n      <td>2.579336</td>\n      <td>14523.0</td>\n      <td>0.016044</td>\n      <td>12256.0</td>\n      <td>3.325098</td>\n      <td>0</td>\n      <td>NaN</td>\n      <td>DBMEA_cost</td>\n    </tr>\n    <tr>\n      <th>...</th>\n      <td>...</td>\n      <td>...</td>\n      <td>...</td>\n      <td>...</td>\n      <td>...</td>\n      <td>...</td>\n      <td>...</td>\n      <td>...</td>\n      <td>...</td>\n      <td>...</td>\n      <td>...</td>\n      <td>...</td>\n      <td>...</td>\n      <td>...</td>\n      <td>...</td>\n      <td>...</td>\n      <td>...</td>\n      <td>...</td>\n      <td>...</td>\n      <td>...</td>\n    </tr>\n    <tr>\n      <th>335</th>\n      <td>line_90_5.tsp</td>\n      <td>90</td>\n      <td>4095</td>\n      <td>0.021978</td>\n      <td>45.5</td>\n      <td>1.022472</td>\n      <td>0.0</td>\n      <td>889.0</td>\n      <td>319.538272</td>\n      <td>226.908988</td>\n      <td>5.148769e+04</td>\n      <td>55730.0</td>\n      <td>35.477098</td>\n      <td>157350.0</td>\n      <td>0.233857</td>\n      <td>57558.0</td>\n      <td>36.326975</td>\n      <td>0</td>\n      <td>NaN</td>\n      <td>GILS_cost</td>\n    </tr>\n    <tr>\n      <th>336</th>\n      <td>line_90_6.tsp</td>\n      <td>90</td>\n      <td>4095</td>\n      <td>0.021978</td>\n      <td>45.5</td>\n      <td>1.022472</td>\n      <td>0.0</td>\n      <td>888.0</td>\n      <td>297.687407</td>\n      <td>211.917802</td>\n      <td>4.490915e+04</td>\n      <td>48884.0</td>\n      <td>30.191444</td>\n      <td>128976.0</td>\n      <td>0.232372</td>\n      <td>45916.0</td>\n      <td>37.348990</td>\n      <td>0</td>\n      <td>NaN</td>\n      <td>DBMEA_cost</td>\n    </tr>\n    <tr>\n      <th>337</th>\n      <td>line_90_7.tsp</td>\n      <td>90</td>\n      <td>4095</td>\n      <td>0.021978</td>\n      <td>45.5</td>\n      <td>1.022472</td>\n      <td>0.0</td>\n      <td>862.0</td>\n      <td>249.932840</td>\n      <td>181.712429</td>\n      <td>3.301941e+04</td>\n      <td>51464.0</td>\n      <td>28.821121</td>\n      <td>124368.0</td>\n      <td>0.232510</td>\n      <td>49038.0</td>\n      <td>44.483338</td>\n      <td>0</td>\n      <td>NaN</td>\n      <td>DBMEA_cost</td>\n    </tr>\n    <tr>\n      <th>338</th>\n      <td>line_90_8.tsp</td>\n      <td>90</td>\n      <td>4095</td>\n      <td>0.021978</td>\n      <td>45.5</td>\n      <td>1.022472</td>\n      <td>0.0</td>\n      <td>889.0</td>\n      <td>316.810123</td>\n      <td>226.894830</td>\n      <td>5.148126e+04</td>\n      <td>60845.0</td>\n      <td>28.282006</td>\n      <td>123373.0</td>\n      <td>0.231058</td>\n      <td>65825.0</td>\n      <td>39.745050</td>\n      <td>0</td>\n      <td>NaN</td>\n      <td>GILS_cost</td>\n    </tr>\n    <tr>\n      <th>339</th>\n      <td>line_90_9.tsp</td>\n      <td>90</td>\n      <td>4095</td>\n      <td>0.021978</td>\n      <td>45.5</td>\n      <td>1.022472</td>\n      <td>0.0</td>\n      <td>875.0</td>\n      <td>293.470864</td>\n      <td>209.501121</td>\n      <td>4.389072e+04</td>\n      <td>60959.0</td>\n      <td>29.666181</td>\n      <td>118075.0</td>\n      <td>0.229949</td>\n      <td>58315.0</td>\n      <td>44.563938</td>\n      <td>0</td>\n      <td>NaN</td>\n      <td>DBMEA_cost</td>\n    </tr>\n  </tbody>\n</table>\n<p>340 rows × 20 columns</p>\n</div>"
     },
     "execution_count": 34,
     "metadata": {},
     "output_type": "execute_result"
    }
   ],
   "source": [
    "# read in matrix_all csv\n",
    "matrix_all = pd.read_csv('matrix_good.csv')\n",
    "matrix_all"
   ],
   "metadata": {
    "collapsed": false,
    "ExecuteTime": {
     "end_time": "2023-05-28T22:46:53.111352400Z",
     "start_time": "2023-05-28T22:46:53.074038200Z"
    }
   }
  },
  {
   "cell_type": "code",
   "execution_count": 29,
   "outputs": [],
   "source": [
    "matrix_all[\"Min_col\"] = \"\"\n",
    "matrix_all[\"Min_val\"] = 0"
   ],
   "metadata": {
    "collapsed": false,
    "ExecuteTime": {
     "end_time": "2023-05-28T00:01:14.239473500Z",
     "start_time": "2023-05-28T00:01:14.235091600Z"
    }
   }
  },
  {
   "cell_type": "code",
   "execution_count": 41,
   "outputs": [],
   "source": [
    "# find the minimum of the columns GILS_cost, DBMEA_cost, GRASP_cost, in case of a tie choose the column with the minimum time column\n",
    "def findBest(row):\n",
    "    cost_columns = ['GRASP_cost', 'GILS_cost', 'DBMEA_cost']\n",
    "    min_cost = row[cost_columns].min()\n",
    "\n",
    "    min_columns = row[[col for col in cost_columns if row[col] == min_cost]]\n",
    "\n",
    "    if len(min_columns) == 1:\n",
    "        return min_columns.index[0]\n",
    "    else:\n",
    "        time_columns = [\"GRASP_time\", \"GILS_time\", \"DBMEA_time\"]\n",
    "        min_time = row[time_columns].min()\n",
    "        min_time_columns = row[[col for col in time_columns if row[col] == min_time]]\n",
    "        return min_time_columns.index[0]"
   ],
   "metadata": {
    "collapsed": false,
    "ExecuteTime": {
     "end_time": "2023-05-28T00:12:05.250677100Z",
     "start_time": "2023-05-28T00:12:05.226800200Z"
    }
   }
  },
  {
   "cell_type": "code",
   "execution_count": 42,
   "outputs": [],
   "source": [
    "matrix_all['min_method'] = matrix_all.apply(findBest, axis=1)"
   ],
   "metadata": {
    "collapsed": false,
    "ExecuteTime": {
     "end_time": "2023-05-28T00:12:08.303040Z",
     "start_time": "2023-05-28T00:12:08.167810300Z"
    }
   }
  },
  {
   "cell_type": "code",
   "execution_count": 44,
   "outputs": [
    {
     "data": {
      "text/plain": "min_method\nDBMEA_cost    186\nGILS_cost     121\nGRASP_time     33\nName: count, dtype: int64"
     },
     "execution_count": 44,
     "metadata": {},
     "output_type": "execute_result"
    }
   ],
   "source": [
    "matrix_all[\"min_method\"].value_counts()"
   ],
   "metadata": {
    "collapsed": false,
    "ExecuteTime": {
     "end_time": "2023-05-28T00:12:32.637329300Z",
     "start_time": "2023-05-28T00:12:32.629252800Z"
    }
   }
  },
  {
   "cell_type": "code",
   "execution_count": 45,
   "outputs": [],
   "source": [
    "# save matrix_all as csv\n",
    "#matrix_all.to_csv('matrix_good.csv', index=False)"
   ],
   "metadata": {
    "collapsed": false,
    "ExecuteTime": {
     "end_time": "2023-05-28T00:14:12.070854Z",
     "start_time": "2023-05-28T00:14:12.057627900Z"
    }
   }
  },
  {
   "cell_type": "code",
   "execution_count": null,
   "outputs": [],
   "source": [],
   "metadata": {
    "collapsed": false
   }
  }
 ],
 "metadata": {
  "kernelspec": {
   "display_name": "Python 3",
   "language": "python",
   "name": "python3"
  },
  "language_info": {
   "codemirror_mode": {
    "name": "ipython",
    "version": 2
   },
   "file_extension": ".py",
   "mimetype": "text/x-python",
   "name": "python",
   "nbconvert_exporter": "python",
   "pygments_lexer": "ipython2",
   "version": "2.7.6"
  }
 },
 "nbformat": 4,
 "nbformat_minor": 0
}
