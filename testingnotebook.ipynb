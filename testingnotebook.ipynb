{
 "cells": [
  {
   "cell_type": "code",
   "execution_count": 1,
   "metadata": {
    "collapsed": true,
    "ExecuteTime": {
     "end_time": "2023-06-08T14:19:42.931188500Z",
     "start_time": "2023-06-08T14:19:42.364769400Z"
    }
   },
   "outputs": [],
   "source": [
    "import numpy as np\n",
    "\n",
    "import tsplib95\n",
    "import networkx as nx\n",
    "from networkx.algorithms.approximation import christofides\n",
    "\n",
    "import os\n",
    "import pandas as pd\n",
    "import gilsrvnd\n",
    "import DBMEA\n",
    "import grasp\n",
    "import matplotlib.pyplot as plt\n",
    "\n",
    "\n"
   ]
  },
  {
   "cell_type": "code",
   "execution_count": 40,
   "outputs": [],
   "source": [
    "# read in graph instances/random_20_0.tsp\n",
    "problem = tsplib95.load('Instances/random_20_0.tsp')\n",
    "graph = problem.get_graph()\n",
    "dist_matrix = nx.to_numpy_matrix(graph)\n",
    "n = len(graph.nodes)\n",
    "cities_matrix = np.zeros((n, 2))\n",
    "for i in range(0, n):\n",
    "    # ensure numpy matrix\n",
    "    cities_matrix[i] = problem.get_display(i + 1)\n"
   ],
   "metadata": {
    "collapsed": false,
    "ExecuteTime": {
     "end_time": "2023-06-02T14:23:41.217499900Z",
     "start_time": "2023-06-02T14:23:41.210809200Z"
    }
   }
  },
  {
   "cell_type": "code",
   "execution_count": 41,
   "outputs": [],
   "source": [
    "def visualise(solution, cities, plot_title=\"TRP\", filename=\"temp.png\"):\n",
    "    x = cities[:, 0]\n",
    "    y = cities[:, 1]\n",
    "\n",
    "    plt.figure(figsize=(8, 6))\n",
    "    plt.scatter(x, y, color='red')\n",
    "\n",
    "    # Plot the solution path\n",
    "    solution_x = x[solution]\n",
    "    solution_y = y[solution]\n",
    "    plt.plot(solution_x, solution_y, 'b-', linewidth=0.5)\n",
    "\n",
    "    # Connect the last first cities, should not be needed as we're doing TRP instead of TSP, but it looks nicer\n",
    "    plt.plot([solution_x[-1], solution_x[0]], [solution_y[-1], solution_y[0]], 'b-', linewidth=0.5)\n",
    "\n",
    "    # Label each point with city index\n",
    "    for i, (xi, yi) in enumerate(zip(x, y)):\n",
    "        plt.text(xi, yi, str(i), color='black', ha='center', va='center')\n",
    "\n",
    "    # Set plot title and labels\n",
    "    plt.title(plot_title)\n",
    "\n",
    "    plt.savefig(filename)\n",
    "    plt.close()"
   ],
   "metadata": {
    "collapsed": false,
    "ExecuteTime": {
     "end_time": "2023-06-02T14:23:41.721323900Z",
     "start_time": "2023-06-02T14:23:41.719484300Z"
    }
   }
  },
  {
   "cell_type": "code",
   "execution_count": 42,
   "outputs": [
    {
     "data": {
      "text/plain": "[0, 9, 14, 11, 12, 15, 10, 4, 16, 18, 1, 6, 5, 17, 13, 19, 7, 2, 3, 8]"
     },
     "execution_count": 42,
     "metadata": {},
     "output_type": "execute_result"
    }
   ],
   "source": [
    "# get TSP tour using nx\n",
    "TSP = christofides(graph)\n",
    "TSP.pop()\n",
    "TSP = [x - 1 for x in TSP]\n",
    "TSP\n"
   ],
   "metadata": {
    "collapsed": false,
    "ExecuteTime": {
     "end_time": "2023-06-02T14:23:42.437959600Z",
     "start_time": "2023-06-02T14:23:42.432044500Z"
    }
   }
  },
  {
   "cell_type": "code",
   "execution_count": 43,
   "outputs": [],
   "source": [
    "# get the TRP tour using GILS\n",
    "gilsrvnd_sol, gilsrvnd_cost, gilsrvnd_time = gilsrvnd.run(\"Instances/random_20_0.tsp\")"
   ],
   "metadata": {
    "collapsed": false,
    "ExecuteTime": {
     "end_time": "2023-06-02T14:23:49.727288700Z",
     "start_time": "2023-06-02T14:23:48.988890500Z"
    }
   }
  },
  {
   "cell_type": "code",
   "execution_count": 45,
   "outputs": [],
   "source": [
    "visualise(gilsrvnd_sol, cities_matrix, \"random_20_0 TRP Tour\", \"OptimalTRP.png\")\n",
    "visualise(TSP, cities_matrix, \"random_20_0 TSP Tour\", \"OptimalTSP.png\")"
   ],
   "metadata": {
    "collapsed": false,
    "ExecuteTime": {
     "end_time": "2023-06-02T14:24:48.669924300Z",
     "start_time": "2023-06-02T14:24:48.507729200Z"
    }
   }
  },
  {
   "cell_type": "code",
   "execution_count": 28,
   "outputs": [
    {
     "data": {
      "text/plain": "<Figure size 640x480 with 1 Axes>",
      "image/png": "[encoded data removed]"
     },
     "metadata": {},
     "output_type": "display_data"
    }
   ],
   "source": [
    "# plot bip_20_0.tsp\n",
    "fn = \"random_10_0.tsp\"\n",
    "with open('Instances/' + fn, 'r') as f:\n",
    "    lines = f.readlines()\n",
    "    points = []\n",
    "    for line in lines[7:-1]:\n",
    "        points.append([float(x) for x in line.split()[1:]])\n",
    "    points = np.array(points)\n",
    "    plt.scatter(points[:,0], points[:,1])\n",
    "    plt.title(fn[:-4])\n",
    "    plt.savefig('Images/'+ fn[:-4] + \".png\")\n",
    "    # save the image\n"
   ],
   "metadata": {
    "collapsed": false,
    "ExecuteTime": {
     "end_time": "2023-06-02T14:05:19.873724300Z",
     "start_time": "2023-06-02T14:05:19.751881100Z"
    }
   }
  },
  {
   "cell_type": "code",
   "execution_count": 15,
   "outputs": [
    {
     "data": {
      "text/plain": "<Figure size 640x480 with 0 Axes>"
     },
     "metadata": {},
     "output_type": "display_data"
    }
   ],
   "source": [
    "# save the image\n",
    "plt.savefig('bip_30_0.png')"
   ],
   "metadata": {
    "collapsed": false,
    "ExecuteTime": {
     "end_time": "2023-06-02T13:55:26.261569800Z",
     "start_time": "2023-06-02T13:55:26.238501200Z"
    }
   }
  },
  {
   "cell_type": "code",
   "execution_count": 3,
   "outputs": [
    {
     "data": {
      "text/plain": "                 file   n     m    ratio1  ratio2   density  avg_clustering   \n0    srandom_10_1.tsp  10    55  0.181818     5.5  1.222222        0.414072  \\\n1   srandom_15_11.tsp  15   120  0.125000     8.0  1.142857        0.421630   \n2   srandom_16_55.tsp  16   136  0.117647     8.5  1.133333        0.427203   \n3   srandom_18_53.tsp  18   171  0.105263     9.5  1.117647        0.424722   \n4   srandom_19_87.tsp  19   190  0.100000    10.0  1.111111        0.462766   \n..                ...  ..   ...       ...     ...       ...             ...   \n95  srandom_91_96.tsp  91  4186  0.021739    46.0  1.022222        0.367393   \n96  srandom_95_81.tsp  95  4560  0.020833    48.0  1.021277        0.387272   \n97  srandom_96_63.tsp  96  4656  0.020619    48.5  1.021053        0.384503   \n98  srandom_99_74.tsp  99  4950  0.020000    50.0  1.020408        0.383080   \n99   srandom_9_35.tsp   9    45  0.200000     5.0  1.250000        0.481985   \n\n    mst_size  tsp_approx  edge_min  ...  closeness_std  closeness_var   \n0          9     78438.0       0.0  ...       0.000092   8.524779e-09  \\\n1         14    141877.0       0.0  ...       0.000079   6.302363e-09   \n2         15    171027.0       0.0  ...       0.000091   8.320751e-09   \n3         17    176552.0       0.0  ...       0.000063   3.935094e-09   \n4         18    138627.0       0.0  ...       0.000071   5.052711e-09   \n..       ...         ...       ...  ...            ...            ...   \n95        90   1930185.0       0.0  ...       0.000066   4.317079e-09   \n96        94   2021345.0       0.0  ...       0.000052   2.721331e-09   \n97        95   2105686.0       0.0  ...       0.000065   4.246357e-09   \n98        98   2229878.0       0.0  ...       0.000068   4.648060e-09   \n99         8     97216.0       0.0  ...       0.000080   6.477653e-09   \n\n    closeness_q25  closeness_q75  GILS_cost  GILS_time  GRASP_cost   \n0        0.000345       0.000492    59309.0   0.109016     69185.0  \\\n1        0.000329       0.000456   110331.0   0.241537    134487.0   \n2        0.000352       0.000508   118768.0   0.433086    159940.0   \n3        0.000330       0.000411   141565.0   0.553906    206389.0   \n4        0.000361       0.000463   133145.0   0.425085    187575.0   \n..            ...            ...        ...        ...         ...   \n95       0.000352       0.000459  1603056.0  30.021509   2692697.0   \n96       0.000340       0.000424  1686640.0  39.880181   3065490.0   \n97       0.000355       0.000460  1909301.0  33.306335   2808284.0   \n98       0.000346       0.000461  2002650.0  46.667097   3304424.0   \n99       0.000276       0.000434    53088.0   0.097882     74183.0   \n\n    GRASP_time  DBMEA_cost  DBMEA_time  \n0     0.000000     59309.0    0.044516  \n1     0.002000    110331.0    0.092007  \n2     0.001009    118193.0    0.228065  \n3     0.001503    140809.0    0.186478  \n4     0.002503    134349.0    0.283005  \n..         ...         ...         ...  \n95    0.257267   1651652.0   43.846168  \n96    0.294402   1758693.0   41.918330  \n97    0.297344   1847337.0   45.883843  \n98    0.331193   1961511.0   60.949679  \n99    0.000000     53088.0    0.026524  \n\n[100 rows x 36 columns]",
      "text/html": "<div>\n<style scoped>\n    .dataframe tbody tr th:only-of-type {\n        vertical-align: middle;\n    }\n\n    .dataframe tbody tr th {\n        vertical-align: top;\n    }\n\n    .dataframe thead th {\n        text-align: right;\n    }\n</style>\n<table border=\"1\" class=\"dataframe\">\n  <thead>\n    <tr style=\"text-align: right;\">\n      <th></th>\n      <th>file</th>\n      <th>n</th>\n      <th>m</th>\n      <th>ratio1</th>\n      <th>ratio2</th>\n      <th>density</th>\n      <th>avg_clustering</th>\n      <th>mst_size</th>\n      <th>tsp_approx</th>\n      <th>edge_min</th>\n      <th>...</th>\n      <th>closeness_std</th>\n      <th>closeness_var</th>\n      <th>closeness_q25</th>\n      <th>closeness_q75</th>\n      <th>GILS_cost</th>\n      <th>GILS_time</th>\n      <th>GRASP_cost</th>\n      <th>GRASP_time</th>\n      <th>DBMEA_cost</th>\n      <th>DBMEA_time</th>\n    </tr>\n  </thead>\n  <tbody>\n    <tr>\n      <th>0</th>\n      <td>srandom_10_1.tsp</td>\n      <td>10</td>\n      <td>55</td>\n      <td>0.181818</td>\n      <td>5.5</td>\n      <td>1.222222</td>\n      <td>0.414072</td>\n      <td>9</td>\n      <td>78438.0</td>\n      <td>0.0</td>\n      <td>...</td>\n      <td>0.000092</td>\n      <td>8.524779e-09</td>\n      <td>0.000345</td>\n      <td>0.000492</td>\n      <td>59309.0</td>\n      <td>0.109016</td>\n      <td>69185.0</td>\n      <td>0.000000</td>\n      <td>59309.0</td>\n      <td>0.044516</td>\n    </tr>\n    <tr>\n      <th>1</th>\n      <td>srandom_15_11.tsp</td>\n      <td>15</td>\n      <td>120</td>\n      <td>0.125000</td>\n      <td>8.0</td>\n      <td>1.142857</td>\n      <td>0.421630</td>\n      <td>14</td>\n      <td>141877.0</td>\n      <td>0.0</td>\n      <td>...</td>\n      <td>0.000079</td>\n      <td>6.302363e-09</td>\n      <td>0.000329</td>\n      <td>0.000456</td>\n      <td>110331.0</td>\n      <td>0.241537</td>\n      <td>134487.0</td>\n      <td>0.002000</td>\n      <td>110331.0</td>\n      <td>0.092007</td>\n    </tr>\n    <tr>\n      <th>2</th>\n      <td>srandom_16_55.tsp</td>\n      <td>16</td>\n      <td>136</td>\n      <td>0.117647</td>\n      <td>8.5</td>\n      <td>1.133333</td>\n      <td>0.427203</td>\n      <td>15</td>\n      <td>171027.0</td>\n      <td>0.0</td>\n      <td>...</td>\n      <td>0.000091</td>\n      <td>8.320751e-09</td>\n      <td>0.000352</td>\n      <td>0.000508</td>\n      <td>118768.0</td>\n      <td>0.433086</td>\n      <td>159940.0</td>\n      <td>0.001009</td>\n      <td>118193.0</td>\n      <td>0.228065</td>\n    </tr>\n    <tr>\n      <th>3</th>\n      <td>srandom_18_53.tsp</td>\n      <td>18</td>\n      <td>171</td>\n      <td>0.105263</td>\n      <td>9.5</td>\n      <td>1.117647</td>\n      <td>0.424722</td>\n      <td>17</td>\n      <td>176552.0</td>\n      <td>0.0</td>\n      <td>...</td>\n      <td>0.000063</td>\n      <td>3.935094e-09</td>\n      <td>0.000330</td>\n      <td>0.000411</td>\n      <td>141565.0</td>\n      <td>0.553906</td>\n      <td>206389.0</td>\n      <td>0.001503</td>\n      <td>140809.0</td>\n      <td>0.186478</td>\n    </tr>\n    <tr>\n      <th>4</th>\n      <td>srandom_19_87.tsp</td>\n      <td>19</td>\n      <td>190</td>\n      <td>0.100000</td>\n      <td>10.0</td>\n      <td>1.111111</td>\n      <td>0.462766</td>\n      <td>18</td>\n      <td>138627.0</td>\n      <td>0.0</td>\n      <td>...</td>\n      <td>0.000071</td>\n      <td>5.052711e-09</td>\n      <td>0.000361</td>\n      <td>0.000463</td>\n      <td>133145.0</td>\n      <td>0.425085</td>\n      <td>187575.0</td>\n      <td>0.002503</td>\n      <td>134349.0</td>\n      <td>0.283005</td>\n    </tr>\n    <tr>\n      <th>...</th>\n      <td>...</td>\n      <td>...</td>\n      <td>...</td>\n      <td>...</td>\n      <td>...</td>\n      <td>...</td>\n      <td>...</td>\n      <td>...</td>\n      <td>...</td>\n      <td>...</td>\n      <td>...</td>\n      <td>...</td>\n      <td>...</td>\n      <td>...</td>\n      <td>...</td>\n      <td>...</td>\n      <td>...</td>\n      <td>...</td>\n      <td>...</td>\n      <td>...</td>\n      <td>...</td>\n    </tr>\n    <tr>\n      <th>95</th>\n      <td>srandom_91_96.tsp</td>\n      <td>91</td>\n      <td>4186</td>\n      <td>0.021739</td>\n      <td>46.0</td>\n      <td>1.022222</td>\n      <td>0.367393</td>\n      <td>90</td>\n      <td>1930185.0</td>\n      <td>0.0</td>\n      <td>...</td>\n      <td>0.000066</td>\n      <td>4.317079e-09</td>\n      <td>0.000352</td>\n      <td>0.000459</td>\n      <td>1603056.0</td>\n      <td>30.021509</td>\n      <td>2692697.0</td>\n      <td>0.257267</td>\n      <td>1651652.0</td>\n      <td>43.846168</td>\n    </tr>\n    <tr>\n      <th>96</th>\n      <td>srandom_95_81.tsp</td>\n      <td>95</td>\n      <td>4560</td>\n      <td>0.020833</td>\n      <td>48.0</td>\n      <td>1.021277</td>\n      <td>0.387272</td>\n      <td>94</td>\n      <td>2021345.0</td>\n      <td>0.0</td>\n      <td>...</td>\n      <td>0.000052</td>\n      <td>2.721331e-09</td>\n      <td>0.000340</td>\n      <td>0.000424</td>\n      <td>1686640.0</td>\n      <td>39.880181</td>\n      <td>3065490.0</td>\n      <td>0.294402</td>\n      <td>1758693.0</td>\n      <td>41.918330</td>\n    </tr>\n    <tr>\n      <th>97</th>\n      <td>srandom_96_63.tsp</td>\n      <td>96</td>\n      <td>4656</td>\n      <td>0.020619</td>\n      <td>48.5</td>\n      <td>1.021053</td>\n      <td>0.384503</td>\n      <td>95</td>\n      <td>2105686.0</td>\n      <td>0.0</td>\n      <td>...</td>\n      <td>0.000065</td>\n      <td>4.246357e-09</td>\n      <td>0.000355</td>\n      <td>0.000460</td>\n      <td>1909301.0</td>\n      <td>33.306335</td>\n      <td>2808284.0</td>\n      <td>0.297344</td>\n      <td>1847337.0</td>\n      <td>45.883843</td>\n    </tr>\n    <tr>\n      <th>98</th>\n      <td>srandom_99_74.tsp</td>\n      <td>99</td>\n      <td>4950</td>\n      <td>0.020000</td>\n      <td>50.0</td>\n      <td>1.020408</td>\n      <td>0.383080</td>\n      <td>98</td>\n      <td>2229878.0</td>\n      <td>0.0</td>\n      <td>...</td>\n      <td>0.000068</td>\n      <td>4.648060e-09</td>\n      <td>0.000346</td>\n      <td>0.000461</td>\n      <td>2002650.0</td>\n      <td>46.667097</td>\n      <td>3304424.0</td>\n      <td>0.331193</td>\n      <td>1961511.0</td>\n      <td>60.949679</td>\n    </tr>\n    <tr>\n      <th>99</th>\n      <td>srandom_9_35.tsp</td>\n      <td>9</td>\n      <td>45</td>\n      <td>0.200000</td>\n      <td>5.0</td>\n      <td>1.250000</td>\n      <td>0.481985</td>\n      <td>8</td>\n      <td>97216.0</td>\n      <td>0.0</td>\n      <td>...</td>\n      <td>0.000080</td>\n      <td>6.477653e-09</td>\n      <td>0.000276</td>\n      <td>0.000434</td>\n      <td>53088.0</td>\n      <td>0.097882</td>\n      <td>74183.0</td>\n      <td>0.000000</td>\n      <td>53088.0</td>\n      <td>0.026524</td>\n    </tr>\n  </tbody>\n</table>\n<p>100 rows × 36 columns</p>\n</div>"
     },
     "execution_count": 3,
     "metadata": {},
     "output_type": "execute_result"
    }
   ],
   "source": [
    "df = pd.read_csv(\"srandom.csv\")\n",
    "df"
   ],
   "metadata": {
    "collapsed": false,
    "ExecuteTime": {
     "end_time": "2023-06-08T15:04:50.382284300Z",
     "start_time": "2023-06-08T15:04:50.358868200Z"
    }
   }
  },
  {
   "cell_type": "code",
   "execution_count": 4,
   "outputs": [],
   "source": [
    "# find the minimum of the columns GILS_cost, DBMEA_cost, GRASP_cost, in case of a tie choose the column with the minimum time column\n",
    "def findBest(row):\n",
    "    cost_columns = ['GRASP_cost', 'GILS_cost', 'DBMEA_cost']\n",
    "    min_cost = row[cost_columns].min()\n",
    "\n",
    "    min_columns = row[[col for col in cost_columns if row[col] == min_cost]]\n",
    "\n",
    "    if len(min_columns) == 1:\n",
    "        return min_columns.index[0]\n",
    "    else:\n",
    "        time_columns = [\"GRASP_time\", \"GILS_time\", \"DBMEA_time\"]\n",
    "        min_time = row[time_columns].min()\n",
    "        min_time_columns = row[[col for col in time_columns if row[col] == min_time]]\n",
    "        return min_time_columns.index[0]"
   ],
   "metadata": {
    "collapsed": false,
    "ExecuteTime": {
     "end_time": "2023-06-08T15:04:59.635289Z",
     "start_time": "2023-06-08T15:04:59.627489800Z"
    }
   }
  },
  {
   "cell_type": "code",
   "execution_count": 5,
   "outputs": [],
   "source": [
    "df['min_method'] = df.apply(findBest, axis=1)"
   ],
   "metadata": {
    "collapsed": false,
    "ExecuteTime": {
     "end_time": "2023-06-08T15:05:14.927894500Z",
     "start_time": "2023-06-08T15:05:14.883432700Z"
    }
   }
  },
  {
   "cell_type": "code",
   "execution_count": 6,
   "outputs": [
    {
     "data": {
      "text/plain": "                 file   n     m    ratio1  ratio2   density  avg_clustering   \n0    srandom_10_1.tsp  10    55  0.181818     5.5  1.222222        0.414072  \\\n1   srandom_15_11.tsp  15   120  0.125000     8.0  1.142857        0.421630   \n2   srandom_16_55.tsp  16   136  0.117647     8.5  1.133333        0.427203   \n3   srandom_18_53.tsp  18   171  0.105263     9.5  1.117647        0.424722   \n4   srandom_19_87.tsp  19   190  0.100000    10.0  1.111111        0.462766   \n..                ...  ..   ...       ...     ...       ...             ...   \n95  srandom_91_96.tsp  91  4186  0.021739    46.0  1.022222        0.367393   \n96  srandom_95_81.tsp  95  4560  0.020833    48.0  1.021277        0.387272   \n97  srandom_96_63.tsp  96  4656  0.020619    48.5  1.021053        0.384503   \n98  srandom_99_74.tsp  99  4950  0.020000    50.0  1.020408        0.383080   \n99   srandom_9_35.tsp   9    45  0.200000     5.0  1.250000        0.481985   \n\n    mst_size  tsp_approx  edge_min  ...  closeness_var  closeness_q25   \n0          9     78438.0       0.0  ...   8.524779e-09       0.000345  \\\n1         14    141877.0       0.0  ...   6.302363e-09       0.000329   \n2         15    171027.0       0.0  ...   8.320751e-09       0.000352   \n3         17    176552.0       0.0  ...   3.935094e-09       0.000330   \n4         18    138627.0       0.0  ...   5.052711e-09       0.000361   \n..       ...         ...       ...  ...            ...            ...   \n95        90   1930185.0       0.0  ...   4.317079e-09       0.000352   \n96        94   2021345.0       0.0  ...   2.721331e-09       0.000340   \n97        95   2105686.0       0.0  ...   4.246357e-09       0.000355   \n98        98   2229878.0       0.0  ...   4.648060e-09       0.000346   \n99         8     97216.0       0.0  ...   6.477653e-09       0.000276   \n\n    closeness_q75  GILS_cost  GILS_time  GRASP_cost  GRASP_time  DBMEA_cost   \n0        0.000492    59309.0   0.109016     69185.0    0.000000     59309.0  \\\n1        0.000456   110331.0   0.241537    134487.0    0.002000    110331.0   \n2        0.000508   118768.0   0.433086    159940.0    0.001009    118193.0   \n3        0.000411   141565.0   0.553906    206389.0    0.001503    140809.0   \n4        0.000463   133145.0   0.425085    187575.0    0.002503    134349.0   \n..            ...        ...        ...         ...         ...         ...   \n95       0.000459  1603056.0  30.021509   2692697.0    0.257267   1651652.0   \n96       0.000424  1686640.0  39.880181   3065490.0    0.294402   1758693.0   \n97       0.000460  1909301.0  33.306335   2808284.0    0.297344   1847337.0   \n98       0.000461  2002650.0  46.667097   3304424.0    0.331193   1961511.0   \n99       0.000434    53088.0   0.097882     74183.0    0.000000     53088.0   \n\n    DBMEA_time  min_method  \n0     0.044516  GRASP_time  \n1     0.092007  GRASP_time  \n2     0.228065  DBMEA_cost  \n3     0.186478  DBMEA_cost  \n4     0.283005   GILS_cost  \n..         ...         ...  \n95   43.846168   GILS_cost  \n96   41.918330   GILS_cost  \n97   45.883843  DBMEA_cost  \n98   60.949679  DBMEA_cost  \n99    0.026524  GRASP_time  \n\n[100 rows x 37 columns]",
      "text/html": "<div>\n<style scoped>\n    .dataframe tbody tr th:only-of-type {\n        vertical-align: middle;\n    }\n\n    .dataframe tbody tr th {\n        vertical-align: top;\n    }\n\n    .dataframe thead th {\n        text-align: right;\n    }\n</style>\n<table border=\"1\" class=\"dataframe\">\n  <thead>\n    <tr style=\"text-align: right;\">\n      <th></th>\n      <th>file</th>\n      <th>n</th>\n      <th>m</th>\n      <th>ratio1</th>\n      <th>ratio2</th>\n      <th>density</th>\n      <th>avg_clustering</th>\n      <th>mst_size</th>\n      <th>tsp_approx</th>\n      <th>edge_min</th>\n      <th>...</th>\n      <th>closeness_var</th>\n      <th>closeness_q25</th>\n      <th>closeness_q75</th>\n      <th>GILS_cost</th>\n      <th>GILS_time</th>\n      <th>GRASP_cost</th>\n      <th>GRASP_time</th>\n      <th>DBMEA_cost</th>\n      <th>DBMEA_time</th>\n      <th>min_method</th>\n    </tr>\n  </thead>\n  <tbody>\n    <tr>\n      <th>0</th>\n      <td>srandom_10_1.tsp</td>\n      <td>10</td>\n      <td>55</td>\n      <td>0.181818</td>\n      <td>5.5</td>\n      <td>1.222222</td>\n      <td>0.414072</td>\n      <td>9</td>\n      <td>78438.0</td>\n      <td>0.0</td>\n      <td>...</td>\n      <td>8.524779e-09</td>\n      <td>0.000345</td>\n      <td>0.000492</td>\n      <td>59309.0</td>\n      <td>0.109016</td>\n      <td>69185.0</td>\n      <td>0.000000</td>\n      <td>59309.0</td>\n      <td>0.044516</td>\n      <td>GRASP_time</td>\n    </tr>\n    <tr>\n      <th>1</th>\n      <td>srandom_15_11.tsp</td>\n      <td>15</td>\n      <td>120</td>\n      <td>0.125000</td>\n      <td>8.0</td>\n      <td>1.142857</td>\n      <td>0.421630</td>\n      <td>14</td>\n      <td>141877.0</td>\n      <td>0.0</td>\n      <td>...</td>\n      <td>6.302363e-09</td>\n      <td>0.000329</td>\n      <td>0.000456</td>\n      <td>110331.0</td>\n      <td>0.241537</td>\n      <td>134487.0</td>\n      <td>0.002000</td>\n      <td>110331.0</td>\n      <td>0.092007</td>\n      <td>GRASP_time</td>\n    </tr>\n    <tr>\n      <th>2</th>\n      <td>srandom_16_55.tsp</td>\n      <td>16</td>\n      <td>136</td>\n      <td>0.117647</td>\n      <td>8.5</td>\n      <td>1.133333</td>\n      <td>0.427203</td>\n      <td>15</td>\n      <td>171027.0</td>\n      <td>0.0</td>\n      <td>...</td>\n      <td>8.320751e-09</td>\n      <td>0.000352</td>\n      <td>0.000508</td>\n      <td>118768.0</td>\n      <td>0.433086</td>\n      <td>159940.0</td>\n      <td>0.001009</td>\n      <td>118193.0</td>\n      <td>0.228065</td>\n      <td>DBMEA_cost</td>\n    </tr>\n    <tr>\n      <th>3</th>\n      <td>srandom_18_53.tsp</td>\n      <td>18</td>\n      <td>171</td>\n      <td>0.105263</td>\n      <td>9.5</td>\n      <td>1.117647</td>\n      <td>0.424722</td>\n      <td>17</td>\n      <td>176552.0</td>\n      <td>0.0</td>\n      <td>...</td>\n      <td>3.935094e-09</td>\n      <td>0.000330</td>\n      <td>0.000411</td>\n      <td>141565.0</td>\n      <td>0.553906</td>\n      <td>206389.0</td>\n      <td>0.001503</td>\n      <td>140809.0</td>\n      <td>0.186478</td>\n      <td>DBMEA_cost</td>\n    </tr>\n    <tr>\n      <th>4</th>\n      <td>srandom_19_87.tsp</td>\n      <td>19</td>\n      <td>190</td>\n      <td>0.100000</td>\n      <td>10.0</td>\n      <td>1.111111</td>\n      <td>0.462766</td>\n      <td>18</td>\n      <td>138627.0</td>\n      <td>0.0</td>\n      <td>...</td>\n      <td>5.052711e-09</td>\n      <td>0.000361</td>\n      <td>0.000463</td>\n      <td>133145.0</td>\n      <td>0.425085</td>\n      <td>187575.0</td>\n      <td>0.002503</td>\n      <td>134349.0</td>\n      <td>0.283005</td>\n      <td>GILS_cost</td>\n    </tr>\n    <tr>\n      <th>...</th>\n      <td>...</td>\n      <td>...</td>\n      <td>...</td>\n      <td>...</td>\n      <td>...</td>\n      <td>...</td>\n      <td>...</td>\n      <td>...</td>\n      <td>...</td>\n      <td>...</td>\n      <td>...</td>\n      <td>...</td>\n      <td>...</td>\n      <td>...</td>\n      <td>...</td>\n      <td>...</td>\n      <td>...</td>\n      <td>...</td>\n      <td>...</td>\n      <td>...</td>\n      <td>...</td>\n    </tr>\n    <tr>\n      <th>95</th>\n      <td>srandom_91_96.tsp</td>\n      <td>91</td>\n      <td>4186</td>\n      <td>0.021739</td>\n      <td>46.0</td>\n      <td>1.022222</td>\n      <td>0.367393</td>\n      <td>90</td>\n      <td>1930185.0</td>\n      <td>0.0</td>\n      <td>...</td>\n      <td>4.317079e-09</td>\n      <td>0.000352</td>\n      <td>0.000459</td>\n      <td>1603056.0</td>\n      <td>30.021509</td>\n      <td>2692697.0</td>\n      <td>0.257267</td>\n      <td>1651652.0</td>\n      <td>43.846168</td>\n      <td>GILS_cost</td>\n    </tr>\n    <tr>\n      <th>96</th>\n      <td>srandom_95_81.tsp</td>\n      <td>95</td>\n      <td>4560</td>\n      <td>0.020833</td>\n      <td>48.0</td>\n      <td>1.021277</td>\n      <td>0.387272</td>\n      <td>94</td>\n      <td>2021345.0</td>\n      <td>0.0</td>\n      <td>...</td>\n      <td>2.721331e-09</td>\n      <td>0.000340</td>\n      <td>0.000424</td>\n      <td>1686640.0</td>\n      <td>39.880181</td>\n      <td>3065490.0</td>\n      <td>0.294402</td>\n      <td>1758693.0</td>\n      <td>41.918330</td>\n      <td>GILS_cost</td>\n    </tr>\n    <tr>\n      <th>97</th>\n      <td>srandom_96_63.tsp</td>\n      <td>96</td>\n      <td>4656</td>\n      <td>0.020619</td>\n      <td>48.5</td>\n      <td>1.021053</td>\n      <td>0.384503</td>\n      <td>95</td>\n      <td>2105686.0</td>\n      <td>0.0</td>\n      <td>...</td>\n      <td>4.246357e-09</td>\n      <td>0.000355</td>\n      <td>0.000460</td>\n      <td>1909301.0</td>\n      <td>33.306335</td>\n      <td>2808284.0</td>\n      <td>0.297344</td>\n      <td>1847337.0</td>\n      <td>45.883843</td>\n      <td>DBMEA_cost</td>\n    </tr>\n    <tr>\n      <th>98</th>\n      <td>srandom_99_74.tsp</td>\n      <td>99</td>\n      <td>4950</td>\n      <td>0.020000</td>\n      <td>50.0</td>\n      <td>1.020408</td>\n      <td>0.383080</td>\n      <td>98</td>\n      <td>2229878.0</td>\n      <td>0.0</td>\n      <td>...</td>\n      <td>4.648060e-09</td>\n      <td>0.000346</td>\n      <td>0.000461</td>\n      <td>2002650.0</td>\n      <td>46.667097</td>\n      <td>3304424.0</td>\n      <td>0.331193</td>\n      <td>1961511.0</td>\n      <td>60.949679</td>\n      <td>DBMEA_cost</td>\n    </tr>\n    <tr>\n      <th>99</th>\n      <td>srandom_9_35.tsp</td>\n      <td>9</td>\n      <td>45</td>\n      <td>0.200000</td>\n      <td>5.0</td>\n      <td>1.250000</td>\n      <td>0.481985</td>\n      <td>8</td>\n      <td>97216.0</td>\n      <td>0.0</td>\n      <td>...</td>\n      <td>6.477653e-09</td>\n      <td>0.000276</td>\n      <td>0.000434</td>\n      <td>53088.0</td>\n      <td>0.097882</td>\n      <td>74183.0</td>\n      <td>0.000000</td>\n      <td>53088.0</td>\n      <td>0.026524</td>\n      <td>GRASP_time</td>\n    </tr>\n  </tbody>\n</table>\n<p>100 rows × 37 columns</p>\n</div>"
     },
     "execution_count": 6,
     "metadata": {},
     "output_type": "execute_result"
    }
   ],
   "source": [
    "df"
   ],
   "metadata": {
    "collapsed": false,
    "ExecuteTime": {
     "end_time": "2023-06-08T15:05:19.078127Z",
     "start_time": "2023-06-08T15:05:19.061069400Z"
    }
   }
  },
  {
   "cell_type": "code",
   "execution_count": 7,
   "outputs": [
    {
     "data": {
      "text/plain": "min_method\nDBMEA_cost    71\nGILS_cost     21\nGRASP_time     8\nName: count, dtype: int64"
     },
     "execution_count": 7,
     "metadata": {},
     "output_type": "execute_result"
    }
   ],
   "source": [
    "df[\"min_method\"].value_counts()"
   ],
   "metadata": {
    "collapsed": false,
    "ExecuteTime": {
     "end_time": "2023-06-08T15:05:27.760596600Z",
     "start_time": "2023-06-08T15:05:27.754485800Z"
    }
   }
  },
  {
   "cell_type": "code",
   "execution_count": 8,
   "outputs": [
    {
     "data": {
      "text/plain": "              file  GILS_cost  DBMEA_cost  GRASP_cost  GILS_time  DBMEA_time   \n0        att48.tsp   226229.0    207771.0    301702.0   6.474685    5.288543  \\\n1     berlin52.tsp   145419.0    143278.0    191072.0   6.054587    5.374160   \n2     brazil58.tsp   532454.0    535150.0    709540.0   8.013889    9.045840   \n3      burma14.tsp    16457.0     16457.0     18393.0   0.156218    0.082072   \n4    dantzig42.tsp    12392.0     12256.0     14523.0   2.579336    3.325098   \n..             ...        ...         ...         ...        ...         ...   \n334  line_90_5.tsp    55730.0     57558.0    157350.0  35.477098   36.326975   \n335  line_90_6.tsp    48884.0     45916.0    128976.0  30.191444   37.348990   \n336  line_90_7.tsp    51464.0     49038.0    124368.0  28.821121   44.483338   \n337  line_90_8.tsp    60845.0     65825.0    123373.0  28.282006   39.745050   \n338  line_90_9.tsp    60959.0     58315.0    118075.0  29.666181   44.563938   \n\n     GRASP_time  min_method   n     m  ...  between_var  between_q25   \n0      0.026019  DBMEA_cost  48  1176  ...     0.000008     0.022051  \\\n1      0.031533  DBMEA_cost  52  1378  ...     0.000065     0.021686   \n2      0.043413   GILS_cost  58  1711  ...     0.000591     0.020050   \n3      0.001000  GRASP_time  14   105  ...     0.000097     0.000000   \n4      0.016044  DBMEA_cost  42   903  ...     0.000788     0.033226   \n..          ...         ...  ..   ...  ...          ...          ...   \n334    0.233857   GILS_cost  90  4095  ...     0.000435     0.050520   \n335    0.232372  DBMEA_cost  90  4095  ...     0.000730     0.049839   \n336    0.232510  DBMEA_cost  90  4095  ...     0.000393     0.048856   \n337    0.231058   GILS_cost  90  4095  ...     0.000680     0.049190   \n338    0.229949  DBMEA_cost  90  4095  ...     0.000496     0.050290   \n\n     between_q75  closeness_min  closeness_max  closeness_mean  closeness_std   \n0       0.026965       0.000574       0.001325        0.001012       0.000205  \\\n1       0.032662       0.000919       0.002555        0.001893       0.000507   \n2       0.042040       0.000201       0.000736        0.000562       0.000145   \n3       0.006410       0.001313       0.002677        0.002193       0.000407   \n4       0.062177       0.008369       0.019061        0.014587       0.003118   \n..           ...            ...            ...             ...            ...   \n334     0.072751       0.002192       0.004113        0.003227       0.000642   \n335     0.071527       0.002220       0.004410        0.003481       0.000709   \n336     0.069497       0.002238       0.005424        0.004240       0.000992   \n337     0.072960       0.002171       0.004137        0.003256       0.000649   \n338     0.073379       0.002201       0.004579        0.003559       0.000797   \n\n     closeness_var  closeness_q25  closeness_q75  \n0     4.221718e-08       0.000889       0.001191  \n1     2.566472e-07       0.001447       0.002371  \n2     2.104825e-08       0.000458       0.000692  \n3     1.654824e-07       0.002048       0.002518  \n4     9.721282e-06       0.011758       0.016824  \n..             ...            ...            ...  \n334   4.123292e-07       0.002620       0.003881  \n335   5.026715e-07       0.002873       0.004060  \n336   9.846681e-07       0.003531       0.005157  \n337   4.205608e-07       0.002625       0.003914  \n338   6.358799e-07       0.002814       0.004375  \n\n[339 rows x 37 columns]",
      "text/html": "<div>\n<style scoped>\n    .dataframe tbody tr th:only-of-type {\n        vertical-align: middle;\n    }\n\n    .dataframe tbody tr th {\n        vertical-align: top;\n    }\n\n    .dataframe thead th {\n        text-align: right;\n    }\n</style>\n<table border=\"1\" class=\"dataframe\">\n  <thead>\n    <tr style=\"text-align: right;\">\n      <th></th>\n      <th>file</th>\n      <th>GILS_cost</th>\n      <th>DBMEA_cost</th>\n      <th>GRASP_cost</th>\n      <th>GILS_time</th>\n      <th>DBMEA_time</th>\n      <th>GRASP_time</th>\n      <th>min_method</th>\n      <th>n</th>\n      <th>m</th>\n      <th>...</th>\n      <th>between_var</th>\n      <th>between_q25</th>\n      <th>between_q75</th>\n      <th>closeness_min</th>\n      <th>closeness_max</th>\n      <th>closeness_mean</th>\n      <th>closeness_std</th>\n      <th>closeness_var</th>\n      <th>closeness_q25</th>\n      <th>closeness_q75</th>\n    </tr>\n  </thead>\n  <tbody>\n    <tr>\n      <th>0</th>\n      <td>att48.tsp</td>\n      <td>226229.0</td>\n      <td>207771.0</td>\n      <td>301702.0</td>\n      <td>6.474685</td>\n      <td>5.288543</td>\n      <td>0.026019</td>\n      <td>DBMEA_cost</td>\n      <td>48</td>\n      <td>1176</td>\n      <td>...</td>\n      <td>0.000008</td>\n      <td>0.022051</td>\n      <td>0.026965</td>\n      <td>0.000574</td>\n      <td>0.001325</td>\n      <td>0.001012</td>\n      <td>0.000205</td>\n      <td>4.221718e-08</td>\n      <td>0.000889</td>\n      <td>0.001191</td>\n    </tr>\n    <tr>\n      <th>1</th>\n      <td>berlin52.tsp</td>\n      <td>145419.0</td>\n      <td>143278.0</td>\n      <td>191072.0</td>\n      <td>6.054587</td>\n      <td>5.374160</td>\n      <td>0.031533</td>\n      <td>DBMEA_cost</td>\n      <td>52</td>\n      <td>1378</td>\n      <td>...</td>\n      <td>0.000065</td>\n      <td>0.021686</td>\n      <td>0.032662</td>\n      <td>0.000919</td>\n      <td>0.002555</td>\n      <td>0.001893</td>\n      <td>0.000507</td>\n      <td>2.566472e-07</td>\n      <td>0.001447</td>\n      <td>0.002371</td>\n    </tr>\n    <tr>\n      <th>2</th>\n      <td>brazil58.tsp</td>\n      <td>532454.0</td>\n      <td>535150.0</td>\n      <td>709540.0</td>\n      <td>8.013889</td>\n      <td>9.045840</td>\n      <td>0.043413</td>\n      <td>GILS_cost</td>\n      <td>58</td>\n      <td>1711</td>\n      <td>...</td>\n      <td>0.000591</td>\n      <td>0.020050</td>\n      <td>0.042040</td>\n      <td>0.000201</td>\n      <td>0.000736</td>\n      <td>0.000562</td>\n      <td>0.000145</td>\n      <td>2.104825e-08</td>\n      <td>0.000458</td>\n      <td>0.000692</td>\n    </tr>\n    <tr>\n      <th>3</th>\n      <td>burma14.tsp</td>\n      <td>16457.0</td>\n      <td>16457.0</td>\n      <td>18393.0</td>\n      <td>0.156218</td>\n      <td>0.082072</td>\n      <td>0.001000</td>\n      <td>GRASP_time</td>\n      <td>14</td>\n      <td>105</td>\n      <td>...</td>\n      <td>0.000097</td>\n      <td>0.000000</td>\n      <td>0.006410</td>\n      <td>0.001313</td>\n      <td>0.002677</td>\n      <td>0.002193</td>\n      <td>0.000407</td>\n      <td>1.654824e-07</td>\n      <td>0.002048</td>\n      <td>0.002518</td>\n    </tr>\n    <tr>\n      <th>4</th>\n      <td>dantzig42.tsp</td>\n      <td>12392.0</td>\n      <td>12256.0</td>\n      <td>14523.0</td>\n      <td>2.579336</td>\n      <td>3.325098</td>\n      <td>0.016044</td>\n      <td>DBMEA_cost</td>\n      <td>42</td>\n      <td>903</td>\n      <td>...</td>\n      <td>0.000788</td>\n      <td>0.033226</td>\n      <td>0.062177</td>\n      <td>0.008369</td>\n      <td>0.019061</td>\n      <td>0.014587</td>\n      <td>0.003118</td>\n      <td>9.721282e-06</td>\n      <td>0.011758</td>\n      <td>0.016824</td>\n    </tr>\n    <tr>\n      <th>...</th>\n      <td>...</td>\n      <td>...</td>\n      <td>...</td>\n      <td>...</td>\n      <td>...</td>\n      <td>...</td>\n      <td>...</td>\n      <td>...</td>\n      <td>...</td>\n      <td>...</td>\n      <td>...</td>\n      <td>...</td>\n      <td>...</td>\n      <td>...</td>\n      <td>...</td>\n      <td>...</td>\n      <td>...</td>\n      <td>...</td>\n      <td>...</td>\n      <td>...</td>\n      <td>...</td>\n    </tr>\n    <tr>\n      <th>334</th>\n      <td>line_90_5.tsp</td>\n      <td>55730.0</td>\n      <td>57558.0</td>\n      <td>157350.0</td>\n      <td>35.477098</td>\n      <td>36.326975</td>\n      <td>0.233857</td>\n      <td>GILS_cost</td>\n      <td>90</td>\n      <td>4095</td>\n      <td>...</td>\n      <td>0.000435</td>\n      <td>0.050520</td>\n      <td>0.072751</td>\n      <td>0.002192</td>\n      <td>0.004113</td>\n      <td>0.003227</td>\n      <td>0.000642</td>\n      <td>4.123292e-07</td>\n      <td>0.002620</td>\n      <td>0.003881</td>\n    </tr>\n    <tr>\n      <th>335</th>\n      <td>line_90_6.tsp</td>\n      <td>48884.0</td>\n      <td>45916.0</td>\n      <td>128976.0</td>\n      <td>30.191444</td>\n      <td>37.348990</td>\n      <td>0.232372</td>\n      <td>DBMEA_cost</td>\n      <td>90</td>\n      <td>4095</td>\n      <td>...</td>\n      <td>0.000730</td>\n      <td>0.049839</td>\n      <td>0.071527</td>\n      <td>0.002220</td>\n      <td>0.004410</td>\n      <td>0.003481</td>\n      <td>0.000709</td>\n      <td>5.026715e-07</td>\n      <td>0.002873</td>\n      <td>0.004060</td>\n    </tr>\n    <tr>\n      <th>336</th>\n      <td>line_90_7.tsp</td>\n      <td>51464.0</td>\n      <td>49038.0</td>\n      <td>124368.0</td>\n      <td>28.821121</td>\n      <td>44.483338</td>\n      <td>0.232510</td>\n      <td>DBMEA_cost</td>\n      <td>90</td>\n      <td>4095</td>\n      <td>...</td>\n      <td>0.000393</td>\n      <td>0.048856</td>\n      <td>0.069497</td>\n      <td>0.002238</td>\n      <td>0.005424</td>\n      <td>0.004240</td>\n      <td>0.000992</td>\n      <td>9.846681e-07</td>\n      <td>0.003531</td>\n      <td>0.005157</td>\n    </tr>\n    <tr>\n      <th>337</th>\n      <td>line_90_8.tsp</td>\n      <td>60845.0</td>\n      <td>65825.0</td>\n      <td>123373.0</td>\n      <td>28.282006</td>\n      <td>39.745050</td>\n      <td>0.231058</td>\n      <td>GILS_cost</td>\n      <td>90</td>\n      <td>4095</td>\n      <td>...</td>\n      <td>0.000680</td>\n      <td>0.049190</td>\n      <td>0.072960</td>\n      <td>0.002171</td>\n      <td>0.004137</td>\n      <td>0.003256</td>\n      <td>0.000649</td>\n      <td>4.205608e-07</td>\n      <td>0.002625</td>\n      <td>0.003914</td>\n    </tr>\n    <tr>\n      <th>338</th>\n      <td>line_90_9.tsp</td>\n      <td>60959.0</td>\n      <td>58315.0</td>\n      <td>118075.0</td>\n      <td>29.666181</td>\n      <td>44.563938</td>\n      <td>0.229949</td>\n      <td>DBMEA_cost</td>\n      <td>90</td>\n      <td>4095</td>\n      <td>...</td>\n      <td>0.000496</td>\n      <td>0.050290</td>\n      <td>0.073379</td>\n      <td>0.002201</td>\n      <td>0.004579</td>\n      <td>0.003559</td>\n      <td>0.000797</td>\n      <td>6.358799e-07</td>\n      <td>0.002814</td>\n      <td>0.004375</td>\n    </tr>\n  </tbody>\n</table>\n<p>339 rows × 37 columns</p>\n</div>"
     },
     "execution_count": 8,
     "metadata": {},
     "output_type": "execute_result"
    }
   ],
   "source": [
    "df2 = pd.read_csv(\"matrix_final.csv\")\n",
    "df2"
   ],
   "metadata": {
    "collapsed": false,
    "ExecuteTime": {
     "end_time": "2023-06-08T15:06:26.299276500Z",
     "start_time": "2023-06-08T15:06:26.281731Z"
    }
   }
  },
  {
   "cell_type": "code",
   "execution_count": 14,
   "outputs": [
    {
     "data": {
      "text/plain": "                  file  GILS_cost  DBMEA_cost  GRASP_cost  GILS_time   \n0            att48.tsp   226229.0    207771.0    301702.0   6.474685  \\\n1         berlin52.tsp   145419.0    143278.0    191072.0   6.054587   \n2         brazil58.tsp   532454.0    535150.0    709540.0   8.013889   \n3          burma14.tsp    16457.0     16457.0     18393.0   0.156218   \n4        dantzig42.tsp    12392.0     12256.0     14523.0   2.579336   \n..                 ...        ...         ...         ...        ...   \n434  srandom_91_96.tsp  1603056.0   1651652.0   2692697.0  30.021509   \n435  srandom_95_81.tsp  1686640.0   1758693.0   3065490.0  39.880181   \n436  srandom_96_63.tsp  1909301.0   1847337.0   2808284.0  33.306335   \n437  srandom_99_74.tsp  2002650.0   1961511.0   3304424.0  46.667097   \n438   srandom_9_35.tsp    53088.0     53088.0     74183.0   0.097882   \n\n     DBMEA_time  GRASP_time  min_method   n     m  ...  between_var   \n0      5.288543    0.026019  DBMEA_cost  48  1176  ...     0.000008  \\\n1      5.374160    0.031533  DBMEA_cost  52  1378  ...     0.000065   \n2      9.045840    0.043413   GILS_cost  58  1711  ...     0.000591   \n3      0.082072    0.001000  GRASP_time  14   105  ...     0.000097   \n4      3.325098    0.016044  DBMEA_cost  42   903  ...     0.000788   \n..          ...         ...         ...  ..   ...  ...          ...   \n434   43.846168    0.257267   GILS_cost  91  4186  ...     0.000005   \n435   41.918330    0.294402   GILS_cost  95  4560  ...     0.000006   \n436   45.883843    0.297344  DBMEA_cost  96  4656  ...     0.000007   \n437   60.949679    0.331193  DBMEA_cost  99  4950  ...     0.000007   \n438    0.026524    0.000000  GRASP_time   9    45  ...     0.000126   \n\n     between_q25  between_q75  closeness_min  closeness_max  closeness_mean   \n0       0.022051     0.026965       0.000574       0.001325        0.001012  \\\n1       0.021686     0.032662       0.000919       0.002555        0.001893   \n2       0.020050     0.042040       0.000201       0.000736        0.000562   \n3       0.000000     0.006410       0.001313       0.002677        0.002193   \n4       0.033226     0.062177       0.008369       0.019061        0.014587   \n..           ...          ...            ...            ...             ...   \n434     0.012572     0.015648       0.000274       0.000522        0.000399   \n435     0.011738     0.015896       0.000256       0.000490        0.000380   \n436     0.011653     0.015989       0.000278       0.000536        0.000404   \n437     0.011239     0.015325       0.000288       0.000540        0.000406   \n438     0.142857     0.142857       0.000234       0.000448        0.000336   \n\n     closeness_std  closeness_var  closeness_q25  closeness_q75  \n0         0.000205   4.221718e-08       0.000889       0.001191  \n1         0.000507   2.566472e-07       0.001447       0.002371  \n2         0.000145   2.104825e-08       0.000458       0.000692  \n3         0.000407   1.654824e-07       0.002048       0.002518  \n4         0.003118   9.721282e-06       0.011758       0.016824  \n..             ...            ...            ...            ...  \n434       0.000066   4.317079e-09       0.000352       0.000459  \n435       0.000052   2.721331e-09       0.000340       0.000424  \n436       0.000065   4.246357e-09       0.000355       0.000460  \n437       0.000068   4.648060e-09       0.000346       0.000461  \n438       0.000080   6.477653e-09       0.000276       0.000434  \n\n[439 rows x 37 columns]",
      "text/html": "<div>\n<style scoped>\n    .dataframe tbody tr th:only-of-type {\n        vertical-align: middle;\n    }\n\n    .dataframe tbody tr th {\n        vertical-align: top;\n    }\n\n    .dataframe thead th {\n        text-align: right;\n    }\n</style>\n<table border=\"1\" class=\"dataframe\">\n  <thead>\n    <tr style=\"text-align: right;\">\n      <th></th>\n      <th>file</th>\n      <th>GILS_cost</th>\n      <th>DBMEA_cost</th>\n      <th>GRASP_cost</th>\n      <th>GILS_time</th>\n      <th>DBMEA_time</th>\n      <th>GRASP_time</th>\n      <th>min_method</th>\n      <th>n</th>\n      <th>m</th>\n      <th>...</th>\n      <th>between_var</th>\n      <th>between_q25</th>\n      <th>between_q75</th>\n      <th>closeness_min</th>\n      <th>closeness_max</th>\n      <th>closeness_mean</th>\n      <th>closeness_std</th>\n      <th>closeness_var</th>\n      <th>closeness_q25</th>\n      <th>closeness_q75</th>\n    </tr>\n  </thead>\n  <tbody>\n    <tr>\n      <th>0</th>\n      <td>att48.tsp</td>\n      <td>226229.0</td>\n      <td>207771.0</td>\n      <td>301702.0</td>\n      <td>6.474685</td>\n      <td>5.288543</td>\n      <td>0.026019</td>\n      <td>DBMEA_cost</td>\n      <td>48</td>\n      <td>1176</td>\n      <td>...</td>\n      <td>0.000008</td>\n      <td>0.022051</td>\n      <td>0.026965</td>\n      <td>0.000574</td>\n      <td>0.001325</td>\n      <td>0.001012</td>\n      <td>0.000205</td>\n      <td>4.221718e-08</td>\n      <td>0.000889</td>\n      <td>0.001191</td>\n    </tr>\n    <tr>\n      <th>1</th>\n      <td>berlin52.tsp</td>\n      <td>145419.0</td>\n      <td>143278.0</td>\n      <td>191072.0</td>\n      <td>6.054587</td>\n      <td>5.374160</td>\n      <td>0.031533</td>\n      <td>DBMEA_cost</td>\n      <td>52</td>\n      <td>1378</td>\n      <td>...</td>\n      <td>0.000065</td>\n      <td>0.021686</td>\n      <td>0.032662</td>\n      <td>0.000919</td>\n      <td>0.002555</td>\n      <td>0.001893</td>\n      <td>0.000507</td>\n      <td>2.566472e-07</td>\n      <td>0.001447</td>\n      <td>0.002371</td>\n    </tr>\n    <tr>\n      <th>2</th>\n      <td>brazil58.tsp</td>\n      <td>532454.0</td>\n      <td>535150.0</td>\n      <td>709540.0</td>\n      <td>8.013889</td>\n      <td>9.045840</td>\n      <td>0.043413</td>\n      <td>GILS_cost</td>\n      <td>58</td>\n      <td>1711</td>\n      <td>...</td>\n      <td>0.000591</td>\n      <td>0.020050</td>\n      <td>0.042040</td>\n      <td>0.000201</td>\n      <td>0.000736</td>\n      <td>0.000562</td>\n      <td>0.000145</td>\n      <td>2.104825e-08</td>\n      <td>0.000458</td>\n      <td>0.000692</td>\n    </tr>\n    <tr>\n      <th>3</th>\n      <td>burma14.tsp</td>\n      <td>16457.0</td>\n      <td>16457.0</td>\n      <td>18393.0</td>\n      <td>0.156218</td>\n      <td>0.082072</td>\n      <td>0.001000</td>\n      <td>GRASP_time</td>\n      <td>14</td>\n      <td>105</td>\n      <td>...</td>\n      <td>0.000097</td>\n      <td>0.000000</td>\n      <td>0.006410</td>\n      <td>0.001313</td>\n      <td>0.002677</td>\n      <td>0.002193</td>\n      <td>0.000407</td>\n      <td>1.654824e-07</td>\n      <td>0.002048</td>\n      <td>0.002518</td>\n    </tr>\n    <tr>\n      <th>4</th>\n      <td>dantzig42.tsp</td>\n      <td>12392.0</td>\n      <td>12256.0</td>\n      <td>14523.0</td>\n      <td>2.579336</td>\n      <td>3.325098</td>\n      <td>0.016044</td>\n      <td>DBMEA_cost</td>\n      <td>42</td>\n      <td>903</td>\n      <td>...</td>\n      <td>0.000788</td>\n      <td>0.033226</td>\n      <td>0.062177</td>\n      <td>0.008369</td>\n      <td>0.019061</td>\n      <td>0.014587</td>\n      <td>0.003118</td>\n      <td>9.721282e-06</td>\n      <td>0.011758</td>\n      <td>0.016824</td>\n    </tr>\n    <tr>\n      <th>...</th>\n      <td>...</td>\n      <td>...</td>\n      <td>...</td>\n      <td>...</td>\n      <td>...</td>\n      <td>...</td>\n      <td>...</td>\n      <td>...</td>\n      <td>...</td>\n      <td>...</td>\n      <td>...</td>\n      <td>...</td>\n      <td>...</td>\n      <td>...</td>\n      <td>...</td>\n      <td>...</td>\n      <td>...</td>\n      <td>...</td>\n      <td>...</td>\n      <td>...</td>\n      <td>...</td>\n    </tr>\n    <tr>\n      <th>434</th>\n      <td>srandom_91_96.tsp</td>\n      <td>1603056.0</td>\n      <td>1651652.0</td>\n      <td>2692697.0</td>\n      <td>30.021509</td>\n      <td>43.846168</td>\n      <td>0.257267</td>\n      <td>GILS_cost</td>\n      <td>91</td>\n      <td>4186</td>\n      <td>...</td>\n      <td>0.000005</td>\n      <td>0.012572</td>\n      <td>0.015648</td>\n      <td>0.000274</td>\n      <td>0.000522</td>\n      <td>0.000399</td>\n      <td>0.000066</td>\n      <td>4.317079e-09</td>\n      <td>0.000352</td>\n      <td>0.000459</td>\n    </tr>\n    <tr>\n      <th>435</th>\n      <td>srandom_95_81.tsp</td>\n      <td>1686640.0</td>\n      <td>1758693.0</td>\n      <td>3065490.0</td>\n      <td>39.880181</td>\n      <td>41.918330</td>\n      <td>0.294402</td>\n      <td>GILS_cost</td>\n      <td>95</td>\n      <td>4560</td>\n      <td>...</td>\n      <td>0.000006</td>\n      <td>0.011738</td>\n      <td>0.015896</td>\n      <td>0.000256</td>\n      <td>0.000490</td>\n      <td>0.000380</td>\n      <td>0.000052</td>\n      <td>2.721331e-09</td>\n      <td>0.000340</td>\n      <td>0.000424</td>\n    </tr>\n    <tr>\n      <th>436</th>\n      <td>srandom_96_63.tsp</td>\n      <td>1909301.0</td>\n      <td>1847337.0</td>\n      <td>2808284.0</td>\n      <td>33.306335</td>\n      <td>45.883843</td>\n      <td>0.297344</td>\n      <td>DBMEA_cost</td>\n      <td>96</td>\n      <td>4656</td>\n      <td>...</td>\n      <td>0.000007</td>\n      <td>0.011653</td>\n      <td>0.015989</td>\n      <td>0.000278</td>\n      <td>0.000536</td>\n      <td>0.000404</td>\n      <td>0.000065</td>\n      <td>4.246357e-09</td>\n      <td>0.000355</td>\n      <td>0.000460</td>\n    </tr>\n    <tr>\n      <th>437</th>\n      <td>srandom_99_74.tsp</td>\n      <td>2002650.0</td>\n      <td>1961511.0</td>\n      <td>3304424.0</td>\n      <td>46.667097</td>\n      <td>60.949679</td>\n      <td>0.331193</td>\n      <td>DBMEA_cost</td>\n      <td>99</td>\n      <td>4950</td>\n      <td>...</td>\n      <td>0.000007</td>\n      <td>0.011239</td>\n      <td>0.015325</td>\n      <td>0.000288</td>\n      <td>0.000540</td>\n      <td>0.000406</td>\n      <td>0.000068</td>\n      <td>4.648060e-09</td>\n      <td>0.000346</td>\n      <td>0.000461</td>\n    </tr>\n    <tr>\n      <th>438</th>\n      <td>srandom_9_35.tsp</td>\n      <td>53088.0</td>\n      <td>53088.0</td>\n      <td>74183.0</td>\n      <td>0.097882</td>\n      <td>0.026524</td>\n      <td>0.000000</td>\n      <td>GRASP_time</td>\n      <td>9</td>\n      <td>45</td>\n      <td>...</td>\n      <td>0.000126</td>\n      <td>0.142857</td>\n      <td>0.142857</td>\n      <td>0.000234</td>\n      <td>0.000448</td>\n      <td>0.000336</td>\n      <td>0.000080</td>\n      <td>6.477653e-09</td>\n      <td>0.000276</td>\n      <td>0.000434</td>\n    </tr>\n  </tbody>\n</table>\n<p>439 rows × 37 columns</p>\n</div>"
     },
     "execution_count": 14,
     "metadata": {},
     "output_type": "execute_result"
    }
   ],
   "source": [
    "# append\n",
    "df3 = pd.concat([df2, df], ignore_index=True)\n",
    "df3"
   ],
   "metadata": {
    "collapsed": false,
    "ExecuteTime": {
     "end_time": "2023-06-08T15:09:18.277049800Z",
     "start_time": "2023-06-08T15:09:18.262843700Z"
    }
   }
  },
  {
   "cell_type": "code",
   "execution_count": 15,
   "outputs": [],
   "source": [
    "# save as matrix_super.csv\n",
    "df3.to_csv('matrix_super.csv', index=False)"
   ],
   "metadata": {
    "collapsed": false,
    "ExecuteTime": {
     "end_time": "2023-06-08T15:09:35.221860200Z",
     "start_time": "2023-06-08T15:09:35.205878700Z"
    }
   }
  },
  {
   "cell_type": "code",
   "execution_count": 45,
   "outputs": [],
   "source": [
    "# save matrix_all as csv\n",
    "#matrix_all.to_csv('matrix_good.csv', index=False)"
   ],
   "metadata": {
    "collapsed": false,
    "ExecuteTime": {
     "end_time": "2023-05-28T00:14:12.070854Z",
     "start_time": "2023-05-28T00:14:12.057627900Z"
    }
   }
  },
  {
   "cell_type": "code",
   "execution_count": 1,
   "outputs": [
    {
     "ename": "NameError",
     "evalue": "name 'pd' is not defined",
     "output_type": "error",
     "traceback": [
      "\u001B[1;31m---------------------------------------------------------------------------\u001B[0m",
      "\u001B[1;31mNameError\u001B[0m                                 Traceback (most recent call last)",
      "Cell \u001B[1;32mIn[1], line 2\u001B[0m\n\u001B[0;32m      1\u001B[0m \u001B[38;5;66;03m# load matrix_final\u001B[39;00m\n\u001B[1;32m----> 2\u001B[0m df \u001B[38;5;241m=\u001B[39m \u001B[43mpd\u001B[49m\u001B[38;5;241m.\u001B[39mread_csv(\u001B[38;5;124m'\u001B[39m\u001B[38;5;124mmatrix_final.csv\u001B[39m\u001B[38;5;124m'\u001B[39m)\n\u001B[0;32m      3\u001B[0m df\n",
      "\u001B[1;31mNameError\u001B[0m: name 'pd' is not defined"
     ]
    }
   ],
   "source": [
    "# load matrix_final\n",
    "matrix_final = pd.read_csv('matrix_final.csv')\n",
    "matrix_final"
   ],
   "metadata": {
    "collapsed": false,
    "ExecuteTime": {
     "end_time": "2023-06-05T10:35:48.021839600Z",
     "start_time": "2023-06-05T10:35:47.846317200Z"
    }
   }
  },
  {
   "cell_type": "code",
   "execution_count": null,
   "outputs": [],
   "source": [
    "# min method value counts as percentage and multiply by 100\n",
    "matrix_final[\"min_method\"].value_counts(normalize=True)"
   ],
   "metadata": {
    "collapsed": false
   }
  },
  {
   "cell_type": "code",
   "execution_count": null,
   "outputs": [],
   "source": [],
   "metadata": {
    "collapsed": false
   }
  }
 ],
 "metadata": {
  "kernelspec": {
   "display_name": "Python 3",
   "language": "python",
   "name": "python3"
  },
  "language_info": {
   "codemirror_mode": {
    "name": "ipython",
    "version": 2
   },
   "file_extension": ".py",
   "mimetype": "text/x-python",
   "name": "python",
   "nbconvert_exporter": "python",
   "pygments_lexer": "ipython2",
   "version": "2.7.6"
  }
 },
 "nbformat": 4,
 "nbformat_minor": 0
}
