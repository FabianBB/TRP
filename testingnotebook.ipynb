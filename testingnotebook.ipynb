{
 "cells": [
  {
   "cell_type": "code",
   "execution_count": 12,
   "metadata": {
    "collapsed": true,
    "ExecuteTime": {
     "end_time": "2023-06-02T13:55:02.114707800Z",
     "start_time": "2023-06-02T13:55:02.088683500Z"
    }
   },
   "outputs": [],
   "source": [
    "import numpy as np\n",
    "\n",
    "import tsplib95\n",
    "import networkx as nx\n",
    "from networkx.algorithms.approximation import christofides,\n",
    "\n",
    "import os\n",
    "import pandas as pd\n",
    "import gilsrvnd\n",
    "import DBMEA\n",
    "import grasp\n",
    "import matplotlib.pyplot as plt\n",
    "\n",
    "\n"
   ]
  },
  {
   "cell_type": "code",
   "execution_count": 40,
   "outputs": [],
   "source": [
    "# read in graph instances/random_20_0.tsp\n",
    "problem = tsplib95.load('Instances/random_20_0.tsp')\n",
    "graph = problem.get_graph()\n",
    "dist_matrix = nx.to_numpy_matrix(graph)\n",
    "n = len(graph.nodes)\n",
    "cities_matrix = np.zeros((n, 2))\n",
    "for i in range(0, n):\n",
    "    # ensure numpy matrix\n",
    "    cities_matrix[i] = problem.get_display(i + 1)\n"
   ],
   "metadata": {
    "collapsed": false,
    "ExecuteTime": {
     "end_time": "2023-06-02T14:23:41.217499900Z",
     "start_time": "2023-06-02T14:23:41.210809200Z"
    }
   }
  },
  {
   "cell_type": "code",
   "execution_count": 41,
   "outputs": [],
   "source": [
    "def visualise(solution, cities, plot_title=\"TRP\", filename=\"temp.png\"):\n",
    "    x = cities[:, 0]\n",
    "    y = cities[:, 1]\n",
    "\n",
    "    plt.figure(figsize=(8, 6))\n",
    "    plt.scatter(x, y, color='red')\n",
    "\n",
    "    # Plot the solution path\n",
    "    solution_x = x[solution]\n",
    "    solution_y = y[solution]\n",
    "    plt.plot(solution_x, solution_y, 'b-', linewidth=0.5)\n",
    "\n",
    "    # Connect the last first cities, should not be needed as we're doing TRP instead of TSP, but it looks nicer\n",
    "    plt.plot([solution_x[-1], solution_x[0]], [solution_y[-1], solution_y[0]], 'b-', linewidth=0.5)\n",
    "\n",
    "    # Label each point with city index\n",
    "    for i, (xi, yi) in enumerate(zip(x, y)):\n",
    "        plt.text(xi, yi, str(i), color='black', ha='center', va='center')\n",
    "\n",
    "    # Set plot title and labels\n",
    "    plt.title(plot_title)\n",
    "\n",
    "    plt.savefig(filename)\n",
    "    plt.close()"
   ],
   "metadata": {
    "collapsed": false,
    "ExecuteTime": {
     "end_time": "2023-06-02T14:23:41.721323900Z",
     "start_time": "2023-06-02T14:23:41.719484300Z"
    }
   }
  },
  {
   "cell_type": "code",
   "execution_count": 42,
   "outputs": [
    {
     "data": {
      "text/plain": "[0, 9, 14, 11, 12, 15, 10, 4, 16, 18, 1, 6, 5, 17, 13, 19, 7, 2, 3, 8]"
     },
     "execution_count": 42,
     "metadata": {},
     "output_type": "execute_result"
    }
   ],
   "source": [
    "# get TSP tour using nx\n",
    "TSP = christofides(graph)\n",
    "TSP.pop()\n",
    "TSP = [x - 1 for x in TSP]\n",
    "TSP\n"
   ],
   "metadata": {
    "collapsed": false,
    "ExecuteTime": {
     "end_time": "2023-06-02T14:23:42.437959600Z",
     "start_time": "2023-06-02T14:23:42.432044500Z"
    }
   }
  },
  {
   "cell_type": "code",
   "execution_count": 43,
   "outputs": [],
   "source": [
    "# get the TRP tour using GILS\n",
    "gilsrvnd_sol, gilsrvnd_cost, gilsrvnd_time = gilsrvnd.run(\"Instances/random_20_0.tsp\")"
   ],
   "metadata": {
    "collapsed": false,
    "ExecuteTime": {
     "end_time": "2023-06-02T14:23:49.727288700Z",
     "start_time": "2023-06-02T14:23:48.988890500Z"
    }
   }
  },
  {
   "cell_type": "code",
   "execution_count": 45,
   "outputs": [],
   "source": [
    "visualise(gilsrvnd_sol, cities_matrix, \"random_20_0 TRP Tour\", \"OptimalTRP.png\")\n",
    "visualise(TSP, cities_matrix, \"random_20_0 TSP Tour\", \"OptimalTSP.png\")"
   ],
   "metadata": {
    "collapsed": false,
    "ExecuteTime": {
     "end_time": "2023-06-02T14:24:48.669924300Z",
     "start_time": "2023-06-02T14:24:48.507729200Z"
    }
   }
  },
  {
   "cell_type": "code",
   "execution_count": 28,
   "outputs": [
    {
     "data": {
      "text/plain": "<Figure size 640x480 with 1 Axes>",
      "image/png": "[encoded data removed]"
     },
     "metadata": {},
     "output_type": "display_data"
    }
   ],
   "source": [
    "# plot bip_20_0.tsp\n",
    "fn = \"random_10_0.tsp\"\n",
    "with open('Instances/' + fn, 'r') as f:\n",
    "    lines = f.readlines()\n",
    "    points = []\n",
    "    for line in lines[7:-1]:\n",
    "        points.append([float(x) for x in line.split()[1:]])\n",
    "    points = np.array(points)\n",
    "    plt.scatter(points[:,0], points[:,1])\n",
    "    plt.title(fn[:-4])\n",
    "    plt.savefig('Images/'+ fn[:-4] + \".png\")\n",
    "    # save the image\n"
   ],
   "metadata": {
    "collapsed": false,
    "ExecuteTime": {
     "end_time": "2023-06-02T14:05:19.873724300Z",
     "start_time": "2023-06-02T14:05:19.751881100Z"
    }
   }
  },
  {
   "cell_type": "code",
   "execution_count": 15,
   "outputs": [
    {
     "data": {
      "text/plain": "<Figure size 640x480 with 0 Axes>"
     },
     "metadata": {},
     "output_type": "display_data"
    }
   ],
   "source": [
    "# save the image\n",
    "plt.savefig('bip_30_0.png')"
   ],
   "metadata": {
    "collapsed": false,
    "ExecuteTime": {
     "end_time": "2023-06-02T13:55:26.261569800Z",
     "start_time": "2023-06-02T13:55:26.238501200Z"
    }
   }
  },
  {
   "cell_type": "code",
   "execution_count": 41,
   "outputs": [],
   "source": [
    "# find the minimum of the columns GILS_cost, DBMEA_cost, GRASP_cost, in case of a tie choose the column with the minimum time column\n",
    "def findBest(row):\n",
    "    cost_columns = ['GRASP_cost', 'GILS_cost', 'DBMEA_cost']\n",
    "    min_cost = row[cost_columns].min()\n",
    "\n",
    "    min_columns = row[[col for col in cost_columns if row[col] == min_cost]]\n",
    "\n",
    "    if len(min_columns) == 1:\n",
    "        return min_columns.index[0]\n",
    "    else:\n",
    "        time_columns = [\"GRASP_time\", \"GILS_time\", \"DBMEA_time\"]\n",
    "        min_time = row[time_columns].min()\n",
    "        min_time_columns = row[[col for col in time_columns if row[col] == min_time]]\n",
    "        return min_time_columns.index[0]"
   ],
   "metadata": {
    "collapsed": false,
    "ExecuteTime": {
     "end_time": "2023-05-28T00:12:05.250677100Z",
     "start_time": "2023-05-28T00:12:05.226800200Z"
    }
   }
  },
  {
   "cell_type": "code",
   "execution_count": 42,
   "outputs": [],
   "source": [
    "matrix_all['min_method'] = matrix_all.apply(findBest, axis=1)"
   ],
   "metadata": {
    "collapsed": false,
    "ExecuteTime": {
     "end_time": "2023-05-28T00:12:08.303040Z",
     "start_time": "2023-05-28T00:12:08.167810300Z"
    }
   }
  },
  {
   "cell_type": "code",
   "execution_count": 44,
   "outputs": [
    {
     "data": {
      "text/plain": "min_method\nDBMEA_cost    186\nGILS_cost     121\nGRASP_time     33\nName: count, dtype: int64"
     },
     "execution_count": 44,
     "metadata": {},
     "output_type": "execute_result"
    }
   ],
   "source": [
    "matrix_all[\"min_method\"].value_counts()"
   ],
   "metadata": {
    "collapsed": false,
    "ExecuteTime": {
     "end_time": "2023-05-28T00:12:32.637329300Z",
     "start_time": "2023-05-28T00:12:32.629252800Z"
    }
   }
  },
  {
   "cell_type": "code",
   "execution_count": 45,
   "outputs": [],
   "source": [
    "# save matrix_all as csv\n",
    "#matrix_all.to_csv('matrix_good.csv', index=False)"
   ],
   "metadata": {
    "collapsed": false,
    "ExecuteTime": {
     "end_time": "2023-05-28T00:14:12.070854Z",
     "start_time": "2023-05-28T00:14:12.057627900Z"
    }
   }
  },
  {
   "cell_type": "code",
   "execution_count": null,
   "outputs": [],
   "source": [],
   "metadata": {
    "collapsed": false
   }
  }
 ],
 "metadata": {
  "kernelspec": {
   "display_name": "Python 3",
   "language": "python",
   "name": "python3"
  },
  "language_info": {
   "codemirror_mode": {
    "name": "ipython",
    "version": 2
   },
   "file_extension": ".py",
   "mimetype": "text/x-python",
   "name": "python",
   "nbconvert_exporter": "python",
   "pygments_lexer": "ipython2",
   "version": "2.7.6"
  }
 },
 "nbformat": 4,
 "nbformat_minor": 0
}
