{
 "cells": [
  {
   "cell_type": "code",
   "execution_count": 106,
   "metadata": {
    "collapsed": true,
    "ExecuteTime": {
     "end_time": "2023-05-18T18:50:48.544685Z",
     "start_time": "2023-05-18T18:50:48.523183700Z"
    }
   },
   "outputs": [],
   "source": [
    "import numpy as np\n",
    "\n",
    "import tsplib95\n",
    "import networkx as nx\n",
    "\n",
    "import os\n",
    "import pandas as pd\n",
    "import gilsrvnd\n",
    "import DBMEA\n",
    "import grasp\n",
    "\n",
    "from sklearn.ensemble import RandomForestClassifier\n",
    "from sklearn.model_selection import train_test_split\n",
    "from sklearn.metrics import accuracy_score, confusion_matrix\n",
    "from sklearn.linear_model import LogisticRegression\n",
    "\n"
   ]
  },
  {
   "cell_type": "code",
   "execution_count": 107,
   "outputs": [
    {
     "data": {
      "text/plain": "['att48.tsp',\n 'berlin52.tsp',\n 'bip_100_0.tsp',\n 'bip_100_1.tsp',\n 'bip_100_2.tsp',\n 'bip_100_3.tsp',\n 'bip_100_4.tsp',\n 'bip_100_5.tsp',\n 'bip_100_6.tsp',\n 'bip_100_7.tsp',\n 'bip_100_8.tsp',\n 'bip_100_9.tsp',\n 'bip_10_0.tsp',\n 'bip_10_1.tsp',\n 'bip_10_2.tsp',\n 'bip_10_3.tsp',\n 'bip_10_4.tsp',\n 'bip_10_5.tsp',\n 'bip_10_6.tsp',\n 'bip_10_7.tsp',\n 'bip_10_8.tsp',\n 'bip_10_9.tsp',\n 'bip_20_0.tsp',\n 'bip_20_1.tsp',\n 'bip_20_2.tsp',\n 'bip_20_3.tsp',\n 'bip_20_4.tsp',\n 'bip_20_5.tsp',\n 'bip_20_6.tsp',\n 'bip_20_7.tsp',\n 'bip_20_8.tsp',\n 'bip_20_9.tsp',\n 'bip_30_0.tsp',\n 'bip_30_1.tsp',\n 'bip_30_2.tsp',\n 'bip_30_3.tsp',\n 'bip_30_4.tsp',\n 'bip_30_5.tsp',\n 'bip_30_6.tsp',\n 'bip_30_7.tsp',\n 'bip_30_8.tsp',\n 'bip_30_9.tsp',\n 'bip_40_0.tsp',\n 'bip_40_1.tsp',\n 'bip_40_2.tsp',\n 'bip_40_3.tsp',\n 'bip_40_4.tsp',\n 'bip_40_5.tsp',\n 'bip_40_6.tsp',\n 'bip_40_7.tsp',\n 'bip_40_8.tsp',\n 'bip_40_9.tsp',\n 'bip_50_0.tsp',\n 'bip_50_1.tsp',\n 'bip_50_2.tsp',\n 'bip_50_3.tsp',\n 'bip_50_4.tsp',\n 'bip_50_5.tsp',\n 'bip_50_6.tsp',\n 'bip_50_7.tsp',\n 'bip_50_8.tsp',\n 'bip_50_9.tsp',\n 'bip_60_0.tsp',\n 'bip_60_1.tsp',\n 'bip_60_2.tsp',\n 'bip_60_3.tsp',\n 'bip_60_4.tsp',\n 'bip_60_5.tsp',\n 'bip_60_6.tsp',\n 'bip_60_7.tsp',\n 'bip_60_8.tsp',\n 'bip_60_9.tsp',\n 'bip_70_0.tsp',\n 'bip_70_1.tsp',\n 'bip_70_2.tsp',\n 'bip_70_3.tsp',\n 'bip_70_4.tsp',\n 'bip_70_5.tsp',\n 'bip_70_6.tsp',\n 'bip_70_7.tsp',\n 'bip_70_8.tsp',\n 'bip_70_9.tsp',\n 'bip_80_0.tsp',\n 'bip_80_1.tsp',\n 'bip_80_2.tsp',\n 'bip_80_3.tsp',\n 'bip_80_4.tsp',\n 'bip_80_5.tsp',\n 'bip_80_6.tsp',\n 'bip_80_7.tsp',\n 'bip_80_8.tsp',\n 'bip_80_9.tsp',\n 'bip_90_0.tsp',\n 'bip_90_1.tsp',\n 'bip_90_2.tsp',\n 'bip_90_3.tsp',\n 'bip_90_4.tsp',\n 'bip_90_5.tsp',\n 'bip_90_6.tsp',\n 'bip_90_7.tsp',\n 'bip_90_8.tsp',\n 'bip_90_9.tsp',\n 'brazil58.tsp',\n 'burma14.tsp',\n 'dantzig42.tsp',\n 'eil101.tsp',\n 'eil51.tsp',\n 'eil76.tsp',\n 'gr48.tsp',\n 'gr96.tsp',\n 'hk48.tsp',\n 'kroA100.tsp',\n 'kroB100.tsp',\n 'kroC100.tsp',\n 'kroD100.tsp',\n 'kroE100.tsp',\n 'lin105.tsp',\n 'mod_att48.tsp',\n 'mod_berlin52.tsp',\n 'mod_burma14.tsp',\n 'mod_eil101.tsp',\n 'mod_eil51.tsp',\n 'mod_eil76.tsp',\n 'mod_gr96.tsp',\n 'mod_kroA100.tsp',\n 'mod_kroB100.tsp',\n 'mod_kroC100.tsp',\n 'mod_kroD100.tsp',\n 'mod_kroE100.tsp',\n 'mod_lin105.tsp',\n 'mod_pr107.tsp',\n 'mod_pr76.tsp',\n 'mod_rat99.tsp',\n 'mod_st70.tsp',\n 'pr107.tsp',\n 'pr76.tsp',\n 'random_100_0.tsp',\n 'random_100_1.tsp',\n 'random_100_2.tsp',\n 'random_100_3.tsp',\n 'random_100_4.tsp',\n 'random_100_5.tsp',\n 'random_100_6.tsp',\n 'random_100_7.tsp',\n 'random_100_8.tsp',\n 'random_100_9.tsp',\n 'random_10_0.tsp',\n 'random_10_1.tsp',\n 'random_10_2.tsp',\n 'random_10_3.tsp',\n 'random_10_4.tsp',\n 'random_10_5.tsp',\n 'random_10_6.tsp',\n 'random_10_7.tsp',\n 'random_10_8.tsp',\n 'random_10_9.tsp',\n 'random_20_0.tsp',\n 'random_20_1.tsp',\n 'random_20_2.tsp',\n 'random_20_3.tsp',\n 'random_20_4.tsp',\n 'random_20_5.tsp',\n 'random_20_6.tsp',\n 'random_20_7.tsp',\n 'random_20_8.tsp',\n 'random_20_9.tsp',\n 'random_30_0.tsp',\n 'random_30_1.tsp',\n 'random_30_2.tsp',\n 'random_30_3.tsp',\n 'random_30_4.tsp',\n 'random_30_5.tsp',\n 'random_30_6.tsp',\n 'random_30_7.tsp',\n 'random_30_8.tsp',\n 'random_30_9.tsp',\n 'random_40_0.tsp',\n 'random_40_1.tsp',\n 'random_40_2.tsp',\n 'random_40_3.tsp',\n 'random_40_4.tsp',\n 'random_40_5.tsp',\n 'random_40_6.tsp',\n 'random_40_7.tsp',\n 'random_40_8.tsp',\n 'random_40_9.tsp',\n 'random_50_0.tsp',\n 'random_50_1.tsp',\n 'random_50_2.tsp',\n 'random_50_3.tsp',\n 'random_50_4.tsp',\n 'random_50_5.tsp',\n 'random_50_6.tsp',\n 'random_50_7.tsp',\n 'random_50_8.tsp',\n 'random_50_9.tsp',\n 'random_60_0.tsp',\n 'random_60_1.tsp',\n 'random_60_2.tsp',\n 'random_60_3.tsp',\n 'random_60_4.tsp',\n 'random_60_5.tsp',\n 'random_60_6.tsp',\n 'random_60_7.tsp',\n 'random_60_8.tsp',\n 'random_60_9.tsp',\n 'random_70_0.tsp',\n 'random_70_1.tsp',\n 'random_70_2.tsp',\n 'random_70_3.tsp',\n 'random_70_4.tsp',\n 'random_70_5.tsp',\n 'random_70_6.tsp',\n 'random_70_7.tsp',\n 'random_70_8.tsp',\n 'random_70_9.tsp',\n 'random_80_0.tsp',\n 'random_80_1.tsp',\n 'random_80_2.tsp',\n 'random_80_3.tsp',\n 'random_80_4.tsp',\n 'random_80_5.tsp',\n 'random_80_6.tsp',\n 'random_80_7.tsp',\n 'random_80_8.tsp',\n 'random_80_9.tsp',\n 'random_90_0.tsp',\n 'random_90_1.tsp',\n 'random_90_2.tsp',\n 'random_90_3.tsp',\n 'random_90_4.tsp',\n 'random_90_5.tsp',\n 'random_90_6.tsp',\n 'random_90_7.tsp',\n 'random_90_8.tsp',\n 'random_90_9.tsp',\n 'rat99.tsp',\n 'rd100.tsp',\n 'st70.tsp',\n 'swiss42.tsp']"
     },
     "execution_count": 107,
     "metadata": {},
     "output_type": "execute_result"
    }
   ],
   "source": [
    "# get all files from the instances folder\n",
    "files = os.listdir('instances')\n",
    "files"
   ],
   "metadata": {
    "collapsed": false,
    "ExecuteTime": {
     "end_time": "2023-05-18T18:50:48.544685Z",
     "start_time": "2023-05-18T18:50:48.524687300Z"
    }
   }
  },
  {
   "cell_type": "code",
   "execution_count": 108,
   "outputs": [],
   "source": [
    "# create a dict that will be turned into a dataframe later the keys should be:\n",
    "# file, n, m, ratio1, ratio2, density, min, max, mean, median, Q25, Q75, std, var\n",
    "datadict = {'file': [], 'n': [], 'm': [], 'ratio1': [], 'ratio2': [], 'density': [], 'min': [], 'max': [], 'mean': [], 'std': [], 'var': []}"
   ],
   "metadata": {
    "collapsed": false,
    "ExecuteTime": {
     "end_time": "2023-05-18T18:50:48.544685Z",
     "start_time": "2023-05-18T18:50:48.528766100Z"
    }
   }
  },
  {
   "cell_type": "code",
   "execution_count": 109,
   "outputs": [
    {
     "name": "stdout",
     "output_type": "stream",
     "text": [
      "att48.tsp done\n",
      "berlin52.tsp done\n",
      "bip_100_0.tsp done\n",
      "bip_100_1.tsp done\n",
      "bip_100_2.tsp done\n",
      "bip_100_3.tsp done\n",
      "bip_100_4.tsp done\n",
      "bip_100_5.tsp done\n",
      "bip_100_6.tsp done\n",
      "bip_100_7.tsp done\n",
      "bip_100_8.tsp done\n",
      "bip_100_9.tsp done\n",
      "bip_10_0.tsp done\n",
      "bip_10_1.tsp done\n",
      "bip_10_2.tsp done\n",
      "bip_10_3.tsp done\n",
      "bip_10_4.tsp done\n",
      "bip_10_5.tsp done\n",
      "bip_10_6.tsp done\n",
      "bip_10_7.tsp done\n",
      "bip_10_8.tsp done\n",
      "bip_10_9.tsp done\n",
      "bip_20_0.tsp done\n",
      "bip_20_1.tsp done\n",
      "bip_20_2.tsp done\n",
      "bip_20_3.tsp done\n",
      "bip_20_4.tsp done\n",
      "bip_20_5.tsp done\n",
      "bip_20_6.tsp done\n",
      "bip_20_7.tsp done\n",
      "bip_20_8.tsp done\n",
      "bip_20_9.tsp done\n",
      "bip_30_0.tsp done\n",
      "bip_30_1.tsp done\n",
      "bip_30_2.tsp done\n",
      "bip_30_3.tsp done\n",
      "bip_30_4.tsp done\n",
      "bip_30_5.tsp done\n",
      "bip_30_6.tsp done\n",
      "bip_30_7.tsp done\n",
      "bip_30_8.tsp done\n",
      "bip_30_9.tsp done\n",
      "bip_40_0.tsp done\n",
      "bip_40_1.tsp done\n",
      "bip_40_2.tsp done\n",
      "bip_40_3.tsp done\n",
      "bip_40_4.tsp done\n",
      "bip_40_5.tsp done\n",
      "bip_40_6.tsp done\n",
      "bip_40_7.tsp done\n",
      "bip_40_8.tsp done\n",
      "bip_40_9.tsp done\n",
      "bip_50_0.tsp done\n",
      "bip_50_1.tsp done\n",
      "bip_50_2.tsp done\n",
      "bip_50_3.tsp done\n",
      "bip_50_4.tsp done\n",
      "bip_50_5.tsp done\n",
      "bip_50_6.tsp done\n",
      "bip_50_7.tsp done\n",
      "bip_50_8.tsp done\n",
      "bip_50_9.tsp done\n",
      "bip_60_0.tsp done\n",
      "bip_60_1.tsp done\n",
      "bip_60_2.tsp done\n",
      "bip_60_3.tsp done\n",
      "bip_60_4.tsp done\n",
      "bip_60_5.tsp done\n",
      "bip_60_6.tsp done\n",
      "bip_60_7.tsp done\n",
      "bip_60_8.tsp done\n",
      "bip_60_9.tsp done\n",
      "bip_70_0.tsp done\n",
      "bip_70_1.tsp done\n",
      "bip_70_2.tsp done\n",
      "bip_70_3.tsp done\n",
      "bip_70_4.tsp done\n",
      "bip_70_5.tsp done\n",
      "bip_70_6.tsp done\n",
      "bip_70_7.tsp done\n",
      "bip_70_8.tsp done\n",
      "bip_70_9.tsp done\n",
      "bip_80_0.tsp done\n",
      "bip_80_1.tsp done\n",
      "bip_80_2.tsp done\n",
      "bip_80_3.tsp done\n",
      "bip_80_4.tsp done\n",
      "bip_80_5.tsp done\n",
      "bip_80_6.tsp done\n",
      "bip_80_7.tsp done\n",
      "bip_80_8.tsp done\n",
      "bip_80_9.tsp done\n",
      "bip_90_0.tsp done\n",
      "bip_90_1.tsp done\n",
      "bip_90_2.tsp done\n",
      "bip_90_3.tsp done\n",
      "bip_90_4.tsp done\n",
      "bip_90_5.tsp done\n",
      "bip_90_6.tsp done\n",
      "bip_90_7.tsp done\n",
      "bip_90_8.tsp done\n",
      "bip_90_9.tsp done\n",
      "brazil58.tsp done\n",
      "burma14.tsp done\n",
      "dantzig42.tsp done\n",
      "eil101.tsp done\n",
      "eil51.tsp done\n",
      "eil76.tsp done\n",
      "gr48.tsp done\n",
      "gr96.tsp done\n",
      "hk48.tsp done\n",
      "kroA100.tsp done\n",
      "kroB100.tsp done\n",
      "kroC100.tsp done\n",
      "kroD100.tsp done\n",
      "kroE100.tsp done\n",
      "lin105.tsp done\n",
      "mod_att48.tsp done\n",
      "mod_berlin52.tsp done\n",
      "mod_burma14.tsp done\n",
      "mod_eil101.tsp done\n",
      "mod_eil51.tsp done\n",
      "mod_eil76.tsp done\n",
      "mod_gr96.tsp done\n",
      "mod_kroA100.tsp done\n",
      "mod_kroB100.tsp done\n",
      "mod_kroC100.tsp done\n",
      "mod_kroD100.tsp done\n",
      "mod_kroE100.tsp done\n",
      "mod_lin105.tsp done\n",
      "mod_pr107.tsp done\n",
      "mod_pr76.tsp done\n",
      "mod_rat99.tsp done\n",
      "mod_st70.tsp done\n",
      "pr107.tsp done\n",
      "pr76.tsp done\n",
      "random_100_0.tsp done\n",
      "random_100_1.tsp done\n",
      "random_100_2.tsp done\n",
      "random_100_3.tsp done\n",
      "random_100_4.tsp done\n",
      "random_100_5.tsp done\n",
      "random_100_6.tsp done\n",
      "random_100_7.tsp done\n",
      "random_100_8.tsp done\n",
      "random_100_9.tsp done\n",
      "random_10_0.tsp done\n",
      "random_10_1.tsp done\n",
      "random_10_2.tsp done\n",
      "random_10_3.tsp done\n",
      "random_10_4.tsp done\n",
      "random_10_5.tsp done\n",
      "random_10_6.tsp done\n",
      "random_10_7.tsp done\n",
      "random_10_8.tsp done\n",
      "random_10_9.tsp done\n",
      "random_20_0.tsp done\n",
      "random_20_1.tsp done\n",
      "random_20_2.tsp done\n",
      "random_20_3.tsp done\n",
      "random_20_4.tsp done\n",
      "random_20_5.tsp done\n",
      "random_20_6.tsp done\n",
      "random_20_7.tsp done\n",
      "random_20_8.tsp done\n",
      "random_20_9.tsp done\n",
      "random_30_0.tsp done\n",
      "random_30_1.tsp done\n",
      "random_30_2.tsp done\n",
      "random_30_3.tsp done\n",
      "random_30_4.tsp done\n",
      "random_30_5.tsp done\n",
      "random_30_6.tsp done\n",
      "random_30_7.tsp done\n",
      "random_30_8.tsp done\n",
      "random_30_9.tsp done\n",
      "random_40_0.tsp done\n",
      "random_40_1.tsp done\n",
      "random_40_2.tsp done\n",
      "random_40_3.tsp done\n",
      "random_40_4.tsp done\n",
      "random_40_5.tsp done\n",
      "random_40_6.tsp done\n",
      "random_40_7.tsp done\n",
      "random_40_8.tsp done\n",
      "random_40_9.tsp done\n",
      "random_50_0.tsp done\n",
      "random_50_1.tsp done\n",
      "random_50_2.tsp done\n",
      "random_50_3.tsp done\n",
      "random_50_4.tsp done\n",
      "random_50_5.tsp done\n",
      "random_50_6.tsp done\n",
      "random_50_7.tsp done\n",
      "random_50_8.tsp done\n",
      "random_50_9.tsp done\n",
      "random_60_0.tsp done\n",
      "random_60_1.tsp done\n",
      "random_60_2.tsp done\n",
      "random_60_3.tsp done\n",
      "random_60_4.tsp done\n",
      "random_60_5.tsp done\n",
      "random_60_6.tsp done\n",
      "random_60_7.tsp done\n",
      "random_60_8.tsp done\n",
      "random_60_9.tsp done\n",
      "random_70_0.tsp done\n",
      "random_70_1.tsp done\n",
      "random_70_2.tsp done\n",
      "random_70_3.tsp done\n",
      "random_70_4.tsp done\n",
      "random_70_5.tsp done\n",
      "random_70_6.tsp done\n",
      "random_70_7.tsp done\n",
      "random_70_8.tsp done\n",
      "random_70_9.tsp done\n",
      "random_80_0.tsp done\n",
      "random_80_1.tsp done\n",
      "random_80_2.tsp done\n",
      "random_80_3.tsp done\n",
      "random_80_4.tsp done\n",
      "random_80_5.tsp done\n",
      "random_80_6.tsp done\n",
      "random_80_7.tsp done\n",
      "random_80_8.tsp done\n",
      "random_80_9.tsp done\n",
      "random_90_0.tsp done\n",
      "random_90_1.tsp done\n",
      "random_90_2.tsp done\n",
      "random_90_3.tsp done\n",
      "random_90_4.tsp done\n",
      "random_90_5.tsp done\n",
      "random_90_6.tsp done\n",
      "random_90_7.tsp done\n",
      "random_90_8.tsp done\n",
      "random_90_9.tsp done\n",
      "rat99.tsp done\n",
      "rd100.tsp done\n",
      "st70.tsp done\n",
      "swiss42.tsp done\n"
     ]
    }
   ],
   "source": [
    "# for all files in the instances folder make a graph and get information such as mean, std, min, max\n",
    "for f in files:\n",
    "    problem = tsplib95.load('Instances/' + f)\n",
    "    graph = problem.get_graph()\n",
    "    dist_matrix = nx.to_numpy_matrix(graph)\n",
    "\n",
    "    # get the number of nodes\n",
    "    n = len(graph.nodes)\n",
    "\n",
    "    # get the number of edges\n",
    "    m = len(graph.edges)\n",
    "\n",
    "    # get the ratio of nodes to edges and vice versa\n",
    "    ratio1 = n/m\n",
    "    ratio2 = m/n\n",
    "    # get the density of the graph\n",
    "    density = nx.density(graph)\n",
    "\n",
    "    # get the min, max, mean, median, Q25, Q75, std, var of the distances\n",
    "    emin = np.min(dist_matrix)\n",
    "    emax = np.max(dist_matrix)\n",
    "\n",
    "    mean = np.mean(dist_matrix)\n",
    "\n",
    "\n",
    "    #Q25 = np.quantile(dist_matrix, 0.25)\n",
    "    #Q75 = np.quantile(dist_matrix, 0.75)\n",
    "    std = np.std(dist_matrix)\n",
    "\n",
    "    var = np.var(dist_matrix)\n",
    "\n",
    "\n",
    "    # add the information to the dict\n",
    "    datadict['file'].append(f)\n",
    "    datadict['n'].append(n)\n",
    "    datadict['m'].append(m)\n",
    "    datadict['ratio1'].append(ratio1)\n",
    "    datadict['ratio2'].append(ratio2)\n",
    "    datadict['density'].append(density)\n",
    "    datadict['min'].append(emin)\n",
    "    datadict['max'].append(emax)\n",
    "    datadict['mean'].append(mean)\n",
    "\n",
    "    #datadict['Q25'].append(Q25)\n",
    "    #datadict['Q75'].append(Q75)\n",
    "    datadict['std'].append(std)\n",
    "    datadict['var'].append(var)\n",
    "\n",
    "    print(f'{f} done')\n"
   ],
   "metadata": {
    "collapsed": false,
    "ExecuteTime": {
     "end_time": "2023-05-18T18:50:53.210632Z",
     "start_time": "2023-05-18T18:50:48.533673800Z"
    }
   }
  },
  {
   "cell_type": "code",
   "execution_count": 110,
   "outputs": [
    {
     "data": {
      "text/plain": "                file    n     m    ratio1  ratio2   density  min     max   \n0          att48.tsp   48  1176  0.040816    24.5  1.042553  0.0  2662.0  \\\n1       berlin52.tsp   52  1378  0.037736    26.5  1.039216  0.0  1716.0   \n2      bip_100_0.tsp  100  5050  0.019802    50.5  1.020202  0.0   678.0   \n3      bip_100_1.tsp  100  5050  0.019802    50.5  1.020202  0.0   677.0   \n4      bip_100_2.tsp  100  5050  0.019802    50.5  1.020202  0.0   690.0   \n..               ...  ...   ...       ...     ...       ...  ...     ...   \n235  random_90_9.tsp   90  4095  0.021978    45.5  1.022472  0.0   657.0   \n236        rat99.tsp   99  4950  0.020000    50.0  1.020408  0.0   218.0   \n237        rd100.tsp  100  5050  0.019802    50.5  1.020202  0.0  1334.0   \n238         st70.tsp   70  2485  0.028169    35.5  1.028986  0.0   129.0   \n239      swiss42.tsp   42  1764  0.023810    42.0  1.024390  0.0   323.0   \n\n            mean         std            var  \n0    1017.559896  627.598414  393879.768982  \n1     564.188609  345.722052  119523.737355  \n2     310.541400  259.240163   67205.462286  \n3     310.369400  264.901719   70172.920944  \n4     309.285800  261.385699   68322.483718  \n..           ...         ...            ...  \n235   258.359259  126.441367   15987.419328  \n236    84.137333   47.326182    2239.767488  \n237   550.105000  267.281077   71439.174375  \n238    51.508163   24.994320     624.716056  \n239   112.379819   60.449654    3654.160726  \n\n[240 rows x 11 columns]",
      "text/html": "<div>\n<style scoped>\n    .dataframe tbody tr th:only-of-type {\n        vertical-align: middle;\n    }\n\n    .dataframe tbody tr th {\n        vertical-align: top;\n    }\n\n    .dataframe thead th {\n        text-align: right;\n    }\n</style>\n<table border=\"1\" class=\"dataframe\">\n  <thead>\n    <tr style=\"text-align: right;\">\n      <th></th>\n      <th>file</th>\n      <th>n</th>\n      <th>m</th>\n      <th>ratio1</th>\n      <th>ratio2</th>\n      <th>density</th>\n      <th>min</th>\n      <th>max</th>\n      <th>mean</th>\n      <th>std</th>\n      <th>var</th>\n    </tr>\n  </thead>\n  <tbody>\n    <tr>\n      <th>0</th>\n      <td>att48.tsp</td>\n      <td>48</td>\n      <td>1176</td>\n      <td>0.040816</td>\n      <td>24.5</td>\n      <td>1.042553</td>\n      <td>0.0</td>\n      <td>2662.0</td>\n      <td>1017.559896</td>\n      <td>627.598414</td>\n      <td>393879.768982</td>\n    </tr>\n    <tr>\n      <th>1</th>\n      <td>berlin52.tsp</td>\n      <td>52</td>\n      <td>1378</td>\n      <td>0.037736</td>\n      <td>26.5</td>\n      <td>1.039216</td>\n      <td>0.0</td>\n      <td>1716.0</td>\n      <td>564.188609</td>\n      <td>345.722052</td>\n      <td>119523.737355</td>\n    </tr>\n    <tr>\n      <th>2</th>\n      <td>bip_100_0.tsp</td>\n      <td>100</td>\n      <td>5050</td>\n      <td>0.019802</td>\n      <td>50.5</td>\n      <td>1.020202</td>\n      <td>0.0</td>\n      <td>678.0</td>\n      <td>310.541400</td>\n      <td>259.240163</td>\n      <td>67205.462286</td>\n    </tr>\n    <tr>\n      <th>3</th>\n      <td>bip_100_1.tsp</td>\n      <td>100</td>\n      <td>5050</td>\n      <td>0.019802</td>\n      <td>50.5</td>\n      <td>1.020202</td>\n      <td>0.0</td>\n      <td>677.0</td>\n      <td>310.369400</td>\n      <td>264.901719</td>\n      <td>70172.920944</td>\n    </tr>\n    <tr>\n      <th>4</th>\n      <td>bip_100_2.tsp</td>\n      <td>100</td>\n      <td>5050</td>\n      <td>0.019802</td>\n      <td>50.5</td>\n      <td>1.020202</td>\n      <td>0.0</td>\n      <td>690.0</td>\n      <td>309.285800</td>\n      <td>261.385699</td>\n      <td>68322.483718</td>\n    </tr>\n    <tr>\n      <th>...</th>\n      <td>...</td>\n      <td>...</td>\n      <td>...</td>\n      <td>...</td>\n      <td>...</td>\n      <td>...</td>\n      <td>...</td>\n      <td>...</td>\n      <td>...</td>\n      <td>...</td>\n      <td>...</td>\n    </tr>\n    <tr>\n      <th>235</th>\n      <td>random_90_9.tsp</td>\n      <td>90</td>\n      <td>4095</td>\n      <td>0.021978</td>\n      <td>45.5</td>\n      <td>1.022472</td>\n      <td>0.0</td>\n      <td>657.0</td>\n      <td>258.359259</td>\n      <td>126.441367</td>\n      <td>15987.419328</td>\n    </tr>\n    <tr>\n      <th>236</th>\n      <td>rat99.tsp</td>\n      <td>99</td>\n      <td>4950</td>\n      <td>0.020000</td>\n      <td>50.0</td>\n      <td>1.020408</td>\n      <td>0.0</td>\n      <td>218.0</td>\n      <td>84.137333</td>\n      <td>47.326182</td>\n      <td>2239.767488</td>\n    </tr>\n    <tr>\n      <th>237</th>\n      <td>rd100.tsp</td>\n      <td>100</td>\n      <td>5050</td>\n      <td>0.019802</td>\n      <td>50.5</td>\n      <td>1.020202</td>\n      <td>0.0</td>\n      <td>1334.0</td>\n      <td>550.105000</td>\n      <td>267.281077</td>\n      <td>71439.174375</td>\n    </tr>\n    <tr>\n      <th>238</th>\n      <td>st70.tsp</td>\n      <td>70</td>\n      <td>2485</td>\n      <td>0.028169</td>\n      <td>35.5</td>\n      <td>1.028986</td>\n      <td>0.0</td>\n      <td>129.0</td>\n      <td>51.508163</td>\n      <td>24.994320</td>\n      <td>624.716056</td>\n    </tr>\n    <tr>\n      <th>239</th>\n      <td>swiss42.tsp</td>\n      <td>42</td>\n      <td>1764</td>\n      <td>0.023810</td>\n      <td>42.0</td>\n      <td>1.024390</td>\n      <td>0.0</td>\n      <td>323.0</td>\n      <td>112.379819</td>\n      <td>60.449654</td>\n      <td>3654.160726</td>\n    </tr>\n  </tbody>\n</table>\n<p>240 rows × 11 columns</p>\n</div>"
     },
     "execution_count": 110,
     "metadata": {},
     "output_type": "execute_result"
    }
   ],
   "source": [
    "# turn the dict into a dataframe\n",
    "df = pd.DataFrame.from_dict(datadict)\n",
    "df"
   ],
   "metadata": {
    "collapsed": false,
    "ExecuteTime": {
     "end_time": "2023-05-18T18:50:53.220370800Z",
     "start_time": "2023-05-18T18:50:53.210632Z"
    }
   }
  },
  {
   "cell_type": "code",
   "execution_count": 111,
   "outputs": [],
   "source": [
    "# add columns for the algorithms GRASP, GILS and DBMEA\n",
    "df['GILS_cost'] = 0\n",
    "df['GILS_time'] = 0\n",
    "df['GRASP_cost'] = 0\n",
    "df['GRASP_time'] = 0\n",
    "df['DBMEA_cost'] = 0\n",
    "df['DBMEA_time'] = 0"
   ],
   "metadata": {
    "collapsed": false,
    "ExecuteTime": {
     "end_time": "2023-05-18T18:50:53.223199800Z",
     "start_time": "2023-05-18T18:50:53.220370800Z"
    }
   }
  },
  {
   "cell_type": "code",
   "execution_count": 112,
   "outputs": [
    {
     "data": {
      "text/plain": "                file    n     m    ratio1  ratio2   density  min     max   \n0          att48.tsp   48  1176  0.040816    24.5  1.042553  0.0  2662.0  \\\n1       berlin52.tsp   52  1378  0.037736    26.5  1.039216  0.0  1716.0   \n2      bip_100_0.tsp  100  5050  0.019802    50.5  1.020202  0.0   678.0   \n3      bip_100_1.tsp  100  5050  0.019802    50.5  1.020202  0.0   677.0   \n4      bip_100_2.tsp  100  5050  0.019802    50.5  1.020202  0.0   690.0   \n..               ...  ...   ...       ...     ...       ...  ...     ...   \n235  random_90_9.tsp   90  4095  0.021978    45.5  1.022472  0.0   657.0   \n236        rat99.tsp   99  4950  0.020000    50.0  1.020408  0.0   218.0   \n237        rd100.tsp  100  5050  0.019802    50.5  1.020202  0.0  1334.0   \n238         st70.tsp   70  2485  0.028169    35.5  1.028986  0.0   129.0   \n239      swiss42.tsp   42  1764  0.023810    42.0  1.024390  0.0   323.0   \n\n            mean         std            var  GILS_cost  GILS_time  GRASP_cost   \n0    1017.559896  627.598414  393879.768982          0          0           0  \\\n1     564.188609  345.722052  119523.737355          0          0           0   \n2     310.541400  259.240163   67205.462286          0          0           0   \n3     310.369400  264.901719   70172.920944          0          0           0   \n4     309.285800  261.385699   68322.483718          0          0           0   \n..           ...         ...            ...        ...        ...         ...   \n235   258.359259  126.441367   15987.419328          0          0           0   \n236    84.137333   47.326182    2239.767488          0          0           0   \n237   550.105000  267.281077   71439.174375          0          0           0   \n238    51.508163   24.994320     624.716056          0          0           0   \n239   112.379819   60.449654    3654.160726          0          0           0   \n\n     GRASP_time  DBMEA_cost  DBMEA_time  \n0             0           0           0  \n1             0           0           0  \n2             0           0           0  \n3             0           0           0  \n4             0           0           0  \n..          ...         ...         ...  \n235           0           0           0  \n236           0           0           0  \n237           0           0           0  \n238           0           0           0  \n239           0           0           0  \n\n[240 rows x 17 columns]",
      "text/html": "<div>\n<style scoped>\n    .dataframe tbody tr th:only-of-type {\n        vertical-align: middle;\n    }\n\n    .dataframe tbody tr th {\n        vertical-align: top;\n    }\n\n    .dataframe thead th {\n        text-align: right;\n    }\n</style>\n<table border=\"1\" class=\"dataframe\">\n  <thead>\n    <tr style=\"text-align: right;\">\n      <th></th>\n      <th>file</th>\n      <th>n</th>\n      <th>m</th>\n      <th>ratio1</th>\n      <th>ratio2</th>\n      <th>density</th>\n      <th>min</th>\n      <th>max</th>\n      <th>mean</th>\n      <th>std</th>\n      <th>var</th>\n      <th>GILS_cost</th>\n      <th>GILS_time</th>\n      <th>GRASP_cost</th>\n      <th>GRASP_time</th>\n      <th>DBMEA_cost</th>\n      <th>DBMEA_time</th>\n    </tr>\n  </thead>\n  <tbody>\n    <tr>\n      <th>0</th>\n      <td>att48.tsp</td>\n      <td>48</td>\n      <td>1176</td>\n      <td>0.040816</td>\n      <td>24.5</td>\n      <td>1.042553</td>\n      <td>0.0</td>\n      <td>2662.0</td>\n      <td>1017.559896</td>\n      <td>627.598414</td>\n      <td>393879.768982</td>\n      <td>0</td>\n      <td>0</td>\n      <td>0</td>\n      <td>0</td>\n      <td>0</td>\n      <td>0</td>\n    </tr>\n    <tr>\n      <th>1</th>\n      <td>berlin52.tsp</td>\n      <td>52</td>\n      <td>1378</td>\n      <td>0.037736</td>\n      <td>26.5</td>\n      <td>1.039216</td>\n      <td>0.0</td>\n      <td>1716.0</td>\n      <td>564.188609</td>\n      <td>345.722052</td>\n      <td>119523.737355</td>\n      <td>0</td>\n      <td>0</td>\n      <td>0</td>\n      <td>0</td>\n      <td>0</td>\n      <td>0</td>\n    </tr>\n    <tr>\n      <th>2</th>\n      <td>bip_100_0.tsp</td>\n      <td>100</td>\n      <td>5050</td>\n      <td>0.019802</td>\n      <td>50.5</td>\n      <td>1.020202</td>\n      <td>0.0</td>\n      <td>678.0</td>\n      <td>310.541400</td>\n      <td>259.240163</td>\n      <td>67205.462286</td>\n      <td>0</td>\n      <td>0</td>\n      <td>0</td>\n      <td>0</td>\n      <td>0</td>\n      <td>0</td>\n    </tr>\n    <tr>\n      <th>3</th>\n      <td>bip_100_1.tsp</td>\n      <td>100</td>\n      <td>5050</td>\n      <td>0.019802</td>\n      <td>50.5</td>\n      <td>1.020202</td>\n      <td>0.0</td>\n      <td>677.0</td>\n      <td>310.369400</td>\n      <td>264.901719</td>\n      <td>70172.920944</td>\n      <td>0</td>\n      <td>0</td>\n      <td>0</td>\n      <td>0</td>\n      <td>0</td>\n      <td>0</td>\n    </tr>\n    <tr>\n      <th>4</th>\n      <td>bip_100_2.tsp</td>\n      <td>100</td>\n      <td>5050</td>\n      <td>0.019802</td>\n      <td>50.5</td>\n      <td>1.020202</td>\n      <td>0.0</td>\n      <td>690.0</td>\n      <td>309.285800</td>\n      <td>261.385699</td>\n      <td>68322.483718</td>\n      <td>0</td>\n      <td>0</td>\n      <td>0</td>\n      <td>0</td>\n      <td>0</td>\n      <td>0</td>\n    </tr>\n    <tr>\n      <th>...</th>\n      <td>...</td>\n      <td>...</td>\n      <td>...</td>\n      <td>...</td>\n      <td>...</td>\n      <td>...</td>\n      <td>...</td>\n      <td>...</td>\n      <td>...</td>\n      <td>...</td>\n      <td>...</td>\n      <td>...</td>\n      <td>...</td>\n      <td>...</td>\n      <td>...</td>\n      <td>...</td>\n      <td>...</td>\n    </tr>\n    <tr>\n      <th>235</th>\n      <td>random_90_9.tsp</td>\n      <td>90</td>\n      <td>4095</td>\n      <td>0.021978</td>\n      <td>45.5</td>\n      <td>1.022472</td>\n      <td>0.0</td>\n      <td>657.0</td>\n      <td>258.359259</td>\n      <td>126.441367</td>\n      <td>15987.419328</td>\n      <td>0</td>\n      <td>0</td>\n      <td>0</td>\n      <td>0</td>\n      <td>0</td>\n      <td>0</td>\n    </tr>\n    <tr>\n      <th>236</th>\n      <td>rat99.tsp</td>\n      <td>99</td>\n      <td>4950</td>\n      <td>0.020000</td>\n      <td>50.0</td>\n      <td>1.020408</td>\n      <td>0.0</td>\n      <td>218.0</td>\n      <td>84.137333</td>\n      <td>47.326182</td>\n      <td>2239.767488</td>\n      <td>0</td>\n      <td>0</td>\n      <td>0</td>\n      <td>0</td>\n      <td>0</td>\n      <td>0</td>\n    </tr>\n    <tr>\n      <th>237</th>\n      <td>rd100.tsp</td>\n      <td>100</td>\n      <td>5050</td>\n      <td>0.019802</td>\n      <td>50.5</td>\n      <td>1.020202</td>\n      <td>0.0</td>\n      <td>1334.0</td>\n      <td>550.105000</td>\n      <td>267.281077</td>\n      <td>71439.174375</td>\n      <td>0</td>\n      <td>0</td>\n      <td>0</td>\n      <td>0</td>\n      <td>0</td>\n      <td>0</td>\n    </tr>\n    <tr>\n      <th>238</th>\n      <td>st70.tsp</td>\n      <td>70</td>\n      <td>2485</td>\n      <td>0.028169</td>\n      <td>35.5</td>\n      <td>1.028986</td>\n      <td>0.0</td>\n      <td>129.0</td>\n      <td>51.508163</td>\n      <td>24.994320</td>\n      <td>624.716056</td>\n      <td>0</td>\n      <td>0</td>\n      <td>0</td>\n      <td>0</td>\n      <td>0</td>\n      <td>0</td>\n    </tr>\n    <tr>\n      <th>239</th>\n      <td>swiss42.tsp</td>\n      <td>42</td>\n      <td>1764</td>\n      <td>0.023810</td>\n      <td>42.0</td>\n      <td>1.024390</td>\n      <td>0.0</td>\n      <td>323.0</td>\n      <td>112.379819</td>\n      <td>60.449654</td>\n      <td>3654.160726</td>\n      <td>0</td>\n      <td>0</td>\n      <td>0</td>\n      <td>0</td>\n      <td>0</td>\n      <td>0</td>\n    </tr>\n  </tbody>\n</table>\n<p>240 rows × 17 columns</p>\n</div>"
     },
     "execution_count": 112,
     "metadata": {},
     "output_type": "execute_result"
    }
   ],
   "source": [
    "df"
   ],
   "metadata": {
    "collapsed": false,
    "ExecuteTime": {
     "end_time": "2023-05-18T18:50:53.234532900Z",
     "start_time": "2023-05-18T18:50:53.224708600Z"
    }
   }
  },
  {
   "cell_type": "code",
   "execution_count": 113,
   "outputs": [],
   "source": [
    "# create a function that can be used via df.apply that runs the 3 algorithmms on the given file from the row\n",
    "\n",
    "def benchmark(row):\n",
    "    # get the file\n",
    "    f = row['file']\n",
    "\n",
    "    _, gils_cost, gils_time = gilsrvnd.run(f)\n",
    "    _, grasp_cost, grasp_time = grasp.run(f)\n",
    "    _, dbmea_cost, dbmea_time = DBMEA.run(f)\n",
    "\n",
    "    # add the results to the dataframe\n",
    "\n",
    "    row['GRASP_cost'] = grasp_cost\n",
    "    row['GRASP_time'] = grasp_time\n",
    "\n",
    "    row['GILS_cost'] = gils_cost\n",
    "    row['GILS_time'] = gils_time\n",
    "    row['DBMEA_cost'] = dbmea_cost\n",
    "    row['DBMEA_time'] = dbmea_time\n",
    "\n",
    "    print(f'{f} done')\n",
    "\n",
    "    return row\n"
   ],
   "metadata": {
    "collapsed": false,
    "ExecuteTime": {
     "end_time": "2023-05-18T18:50:53.238074900Z",
     "start_time": "2023-05-18T18:50:53.234532900Z"
    }
   }
  },
  {
   "cell_type": "code",
   "execution_count": 114,
   "outputs": [],
   "source": [
    "# run the benchmark function on all rows\n",
    "# df = df.apply(benchmark, axis=1)\n"
   ],
   "metadata": {
    "collapsed": false,
    "ExecuteTime": {
     "end_time": "2023-05-18T18:50:53.240624900Z",
     "start_time": "2023-05-18T18:50:53.239075100Z"
    }
   }
  },
  {
   "cell_type": "code",
   "execution_count": 115,
   "outputs": [],
   "source": [
    "# save the dataframe as a csv\n",
    "# df.to_csv('data_bip.csv', index=False)\n",
    "# matrix = df.copy()\n",
    "# c = [\"GILS_cost\", \"GRASP_cost\", \"DBMEA_cost\"]\n",
    "# matrix[c] = matrix[c].apply(lambda x: pd.to_numeric(x, errors='coerce'))\n",
    "\n",
    "# matrix['Min_val'] = matrix[c].min(axis=1)\n",
    "# matrix['Min_col'] = matrix[c].idxmin(axis=1)\n",
    "#save the dataframe as a csv\n",
    "# matrix.to_csv('matrix_bip.csv', index=False)"
   ],
   "metadata": {
    "collapsed": false,
    "ExecuteTime": {
     "end_time": "2023-05-18T18:50:53.255051200Z",
     "start_time": "2023-05-18T18:50:53.243068100Z"
    }
   }
  },
  {
   "cell_type": "code",
   "execution_count": 116,
   "outputs": [
    {
     "data": {
      "text/plain": "              file   n     m    ratio1  ratio2   density  min     max   \n0        att48.tsp  48  1176  0.040816    24.5  1.042553  0.0  2662.0  \\\n1     berlin52.tsp  52  1378  0.037736    26.5  1.039216  0.0  1716.0   \n2     brazil58.tsp  58  1711  0.033898    29.5  1.035088  0.0  8700.0   \n3      burma14.tsp  14   105  0.133333     7.5  1.153846  1.0  1261.0   \n4    dantzig42.tsp  42   903  0.046512    21.5  1.048780  0.0   192.0   \n..             ...  ..   ...       ...     ...       ...  ...     ...   \n235   bip_90_5.tsp  90  4095  0.021978    45.5  1.022472  0.0   695.0   \n236   bip_90_6.tsp  90  4095  0.021978    45.5  1.022472  0.0   694.0   \n237   bip_90_7.tsp  90  4095  0.021978    45.5  1.022472  0.0   684.0   \n238   bip_90_8.tsp  90  4095  0.021978    45.5  1.022472  0.0   682.0   \n239   bip_90_9.tsp  90  4095  0.021978    45.5  1.022472  0.0   688.0   \n\n            mean          std           var  GILS_cost  GILS_time  GRASP_cost   \n0    1017.559896   627.598414  3.938798e+05   226229.0   6.474685    301702.0  \\\n1     564.188609   345.722052  1.195237e+05   145419.0   6.054587    191072.0   \n2    2094.914388  1426.139588  2.033874e+06   532454.0   8.013889    709540.0   \n3     442.612245   272.511473  7.426250e+04    16457.0   0.156218     18393.0   \n4      72.295918    43.481585  1.890648e+03    12392.0   2.579336     14523.0   \n..           ...          ...           ...        ...        ...         ...   \n235   308.707160   259.409989  6.729354e+04    77968.0  28.094806    117890.0   \n236   307.900988   259.775403  6.748326e+04    75074.0  27.989268    110798.0   \n237   306.894321   258.083750  6.660722e+04    71876.0  25.897070    112158.0   \n238   307.158519   258.822485  6.698908e+04    67313.0  26.436357    107017.0   \n239   313.092346   261.735508  6.850548e+04    73484.0  25.007059    114936.0   \n\n     GRASP_time  DBMEA_cost  DBMEA_time   Min_val     Min_col  \n0      0.026019    207771.0    5.288543  207771.0  DBMEA_cost  \n1      0.031533    143278.0    5.374160  143278.0  DBMEA_cost  \n2      0.043413    535150.0    9.045840  532454.0   GILS_cost  \n3      0.001000     16457.0    0.082072   16457.0   GILS_cost  \n4      0.016044     12256.0    3.325098   12256.0  DBMEA_cost  \n..          ...         ...         ...       ...         ...  \n235    0.150729     75154.0   32.575500   75154.0  DBMEA_cost  \n236    0.151507     69990.0   28.058020   69990.0  DBMEA_cost  \n237    0.153674     67970.0   38.102861   67970.0  DBMEA_cost  \n238    0.152258     68754.0   29.475499   67313.0   GILS_cost  \n239    0.154996     70412.0   32.347932   70412.0  DBMEA_cost  \n\n[240 rows x 19 columns]",
      "text/html": "<div>\n<style scoped>\n    .dataframe tbody tr th:only-of-type {\n        vertical-align: middle;\n    }\n\n    .dataframe tbody tr th {\n        vertical-align: top;\n    }\n\n    .dataframe thead th {\n        text-align: right;\n    }\n</style>\n<table border=\"1\" class=\"dataframe\">\n  <thead>\n    <tr style=\"text-align: right;\">\n      <th></th>\n      <th>file</th>\n      <th>n</th>\n      <th>m</th>\n      <th>ratio1</th>\n      <th>ratio2</th>\n      <th>density</th>\n      <th>min</th>\n      <th>max</th>\n      <th>mean</th>\n      <th>std</th>\n      <th>var</th>\n      <th>GILS_cost</th>\n      <th>GILS_time</th>\n      <th>GRASP_cost</th>\n      <th>GRASP_time</th>\n      <th>DBMEA_cost</th>\n      <th>DBMEA_time</th>\n      <th>Min_val</th>\n      <th>Min_col</th>\n    </tr>\n  </thead>\n  <tbody>\n    <tr>\n      <th>0</th>\n      <td>att48.tsp</td>\n      <td>48</td>\n      <td>1176</td>\n      <td>0.040816</td>\n      <td>24.5</td>\n      <td>1.042553</td>\n      <td>0.0</td>\n      <td>2662.0</td>\n      <td>1017.559896</td>\n      <td>627.598414</td>\n      <td>3.938798e+05</td>\n      <td>226229.0</td>\n      <td>6.474685</td>\n      <td>301702.0</td>\n      <td>0.026019</td>\n      <td>207771.0</td>\n      <td>5.288543</td>\n      <td>207771.0</td>\n      <td>DBMEA_cost</td>\n    </tr>\n    <tr>\n      <th>1</th>\n      <td>berlin52.tsp</td>\n      <td>52</td>\n      <td>1378</td>\n      <td>0.037736</td>\n      <td>26.5</td>\n      <td>1.039216</td>\n      <td>0.0</td>\n      <td>1716.0</td>\n      <td>564.188609</td>\n      <td>345.722052</td>\n      <td>1.195237e+05</td>\n      <td>145419.0</td>\n      <td>6.054587</td>\n      <td>191072.0</td>\n      <td>0.031533</td>\n      <td>143278.0</td>\n      <td>5.374160</td>\n      <td>143278.0</td>\n      <td>DBMEA_cost</td>\n    </tr>\n    <tr>\n      <th>2</th>\n      <td>brazil58.tsp</td>\n      <td>58</td>\n      <td>1711</td>\n      <td>0.033898</td>\n      <td>29.5</td>\n      <td>1.035088</td>\n      <td>0.0</td>\n      <td>8700.0</td>\n      <td>2094.914388</td>\n      <td>1426.139588</td>\n      <td>2.033874e+06</td>\n      <td>532454.0</td>\n      <td>8.013889</td>\n      <td>709540.0</td>\n      <td>0.043413</td>\n      <td>535150.0</td>\n      <td>9.045840</td>\n      <td>532454.0</td>\n      <td>GILS_cost</td>\n    </tr>\n    <tr>\n      <th>3</th>\n      <td>burma14.tsp</td>\n      <td>14</td>\n      <td>105</td>\n      <td>0.133333</td>\n      <td>7.5</td>\n      <td>1.153846</td>\n      <td>1.0</td>\n      <td>1261.0</td>\n      <td>442.612245</td>\n      <td>272.511473</td>\n      <td>7.426250e+04</td>\n      <td>16457.0</td>\n      <td>0.156218</td>\n      <td>18393.0</td>\n      <td>0.001000</td>\n      <td>16457.0</td>\n      <td>0.082072</td>\n      <td>16457.0</td>\n      <td>GILS_cost</td>\n    </tr>\n    <tr>\n      <th>4</th>\n      <td>dantzig42.tsp</td>\n      <td>42</td>\n      <td>903</td>\n      <td>0.046512</td>\n      <td>21.5</td>\n      <td>1.048780</td>\n      <td>0.0</td>\n      <td>192.0</td>\n      <td>72.295918</td>\n      <td>43.481585</td>\n      <td>1.890648e+03</td>\n      <td>12392.0</td>\n      <td>2.579336</td>\n      <td>14523.0</td>\n      <td>0.016044</td>\n      <td>12256.0</td>\n      <td>3.325098</td>\n      <td>12256.0</td>\n      <td>DBMEA_cost</td>\n    </tr>\n    <tr>\n      <th>...</th>\n      <td>...</td>\n      <td>...</td>\n      <td>...</td>\n      <td>...</td>\n      <td>...</td>\n      <td>...</td>\n      <td>...</td>\n      <td>...</td>\n      <td>...</td>\n      <td>...</td>\n      <td>...</td>\n      <td>...</td>\n      <td>...</td>\n      <td>...</td>\n      <td>...</td>\n      <td>...</td>\n      <td>...</td>\n      <td>...</td>\n      <td>...</td>\n    </tr>\n    <tr>\n      <th>235</th>\n      <td>bip_90_5.tsp</td>\n      <td>90</td>\n      <td>4095</td>\n      <td>0.021978</td>\n      <td>45.5</td>\n      <td>1.022472</td>\n      <td>0.0</td>\n      <td>695.0</td>\n      <td>308.707160</td>\n      <td>259.409989</td>\n      <td>6.729354e+04</td>\n      <td>77968.0</td>\n      <td>28.094806</td>\n      <td>117890.0</td>\n      <td>0.150729</td>\n      <td>75154.0</td>\n      <td>32.575500</td>\n      <td>75154.0</td>\n      <td>DBMEA_cost</td>\n    </tr>\n    <tr>\n      <th>236</th>\n      <td>bip_90_6.tsp</td>\n      <td>90</td>\n      <td>4095</td>\n      <td>0.021978</td>\n      <td>45.5</td>\n      <td>1.022472</td>\n      <td>0.0</td>\n      <td>694.0</td>\n      <td>307.900988</td>\n      <td>259.775403</td>\n      <td>6.748326e+04</td>\n      <td>75074.0</td>\n      <td>27.989268</td>\n      <td>110798.0</td>\n      <td>0.151507</td>\n      <td>69990.0</td>\n      <td>28.058020</td>\n      <td>69990.0</td>\n      <td>DBMEA_cost</td>\n    </tr>\n    <tr>\n      <th>237</th>\n      <td>bip_90_7.tsp</td>\n      <td>90</td>\n      <td>4095</td>\n      <td>0.021978</td>\n      <td>45.5</td>\n      <td>1.022472</td>\n      <td>0.0</td>\n      <td>684.0</td>\n      <td>306.894321</td>\n      <td>258.083750</td>\n      <td>6.660722e+04</td>\n      <td>71876.0</td>\n      <td>25.897070</td>\n      <td>112158.0</td>\n      <td>0.153674</td>\n      <td>67970.0</td>\n      <td>38.102861</td>\n      <td>67970.0</td>\n      <td>DBMEA_cost</td>\n    </tr>\n    <tr>\n      <th>238</th>\n      <td>bip_90_8.tsp</td>\n      <td>90</td>\n      <td>4095</td>\n      <td>0.021978</td>\n      <td>45.5</td>\n      <td>1.022472</td>\n      <td>0.0</td>\n      <td>682.0</td>\n      <td>307.158519</td>\n      <td>258.822485</td>\n      <td>6.698908e+04</td>\n      <td>67313.0</td>\n      <td>26.436357</td>\n      <td>107017.0</td>\n      <td>0.152258</td>\n      <td>68754.0</td>\n      <td>29.475499</td>\n      <td>67313.0</td>\n      <td>GILS_cost</td>\n    </tr>\n    <tr>\n      <th>239</th>\n      <td>bip_90_9.tsp</td>\n      <td>90</td>\n      <td>4095</td>\n      <td>0.021978</td>\n      <td>45.5</td>\n      <td>1.022472</td>\n      <td>0.0</td>\n      <td>688.0</td>\n      <td>313.092346</td>\n      <td>261.735508</td>\n      <td>6.850548e+04</td>\n      <td>73484.0</td>\n      <td>25.007059</td>\n      <td>114936.0</td>\n      <td>0.154996</td>\n      <td>70412.0</td>\n      <td>32.347932</td>\n      <td>70412.0</td>\n      <td>DBMEA_cost</td>\n    </tr>\n  </tbody>\n</table>\n<p>240 rows × 19 columns</p>\n</div>"
     },
     "execution_count": 116,
     "metadata": {},
     "output_type": "execute_result"
    }
   ],
   "source": [
    "# train a model on the data that predicts gils\n",
    "# get the data\n",
    "df = pd.read_csv('matrix_all.csv')\n",
    "df"
   ],
   "metadata": {
    "collapsed": false,
    "ExecuteTime": {
     "end_time": "2023-05-18T18:50:53.316708300Z",
     "start_time": "2023-05-18T18:50:53.246032700Z"
    }
   }
  },
  {
   "cell_type": "code",
   "execution_count": 117,
   "outputs": [
    {
     "data": {
      "text/plain": "Min_col\nDBMEA_cost    147\nGILS_cost      93\nName: count, dtype: int64"
     },
     "execution_count": 117,
     "metadata": {},
     "output_type": "execute_result"
    }
   ],
   "source": [
    "# check value counts\n",
    "df['Min_col'].value_counts()"
   ],
   "metadata": {
    "collapsed": false,
    "ExecuteTime": {
     "end_time": "2023-05-18T18:50:53.316708300Z",
     "start_time": "2023-05-18T18:50:53.261830300Z"
    }
   }
  },
  {
   "cell_type": "code",
   "execution_count": 118,
   "outputs": [],
   "source": [
    "# get the features\n",
    "X = df[['n', 'm', 'ratio1', 'ratio2', 'density', 'min', 'max', 'mean', 'std', 'var']]\n",
    "y = df['Min_col']\n",
    "\n"
   ],
   "metadata": {
    "collapsed": false,
    "ExecuteTime": {
     "end_time": "2023-05-18T18:50:53.336722Z",
     "start_time": "2023-05-18T18:50:53.266076600Z"
    }
   }
  },
  {
   "cell_type": "code",
   "execution_count": 119,
   "outputs": [],
   "source": [
    "# train test split\n",
    "\n",
    "\n",
    "X_train, X_test, y_train, y_test = train_test_split(X, y)\n",
    "\n"
   ],
   "metadata": {
    "collapsed": false,
    "ExecuteTime": {
     "end_time": "2023-05-18T18:50:53.344724600Z",
     "start_time": "2023-05-18T18:50:53.268359100Z"
    }
   }
  },
  {
   "cell_type": "code",
   "execution_count": 120,
   "outputs": [
    {
     "data": {
      "text/plain": "RandomForestClassifier()",
      "text/html": "<style>#sk-container-id-7 {color: black;background-color: white;}#sk-container-id-7 pre{padding: 0;}#sk-container-id-7 div.sk-toggleable {background-color: white;}#sk-container-id-7 label.sk-toggleable__label {cursor: pointer;display: block;width: 100%;margin-bottom: 0;padding: 0.3em;box-sizing: border-box;text-align: center;}#sk-container-id-7 label.sk-toggleable__label-arrow:before {content: \"▸\";float: left;margin-right: 0.25em;color: #696969;}#sk-container-id-7 label.sk-toggleable__label-arrow:hover:before {color: black;}#sk-container-id-7 div.sk-estimator:hover label.sk-toggleable__label-arrow:before {color: black;}#sk-container-id-7 div.sk-toggleable__content {max-height: 0;max-width: 0;overflow: hidden;text-align: left;background-color: #f0f8ff;}#sk-container-id-7 div.sk-toggleable__content pre {margin: 0.2em;color: black;border-radius: 0.25em;background-color: #f0f8ff;}#sk-container-id-7 input.sk-toggleable__control:checked~div.sk-toggleable__content {max-height: 200px;max-width: 100%;overflow: auto;}#sk-container-id-7 input.sk-toggleable__control:checked~label.sk-toggleable__label-arrow:before {content: \"▾\";}#sk-container-id-7 div.sk-estimator input.sk-toggleable__control:checked~label.sk-toggleable__label {background-color: #d4ebff;}#sk-container-id-7 div.sk-label input.sk-toggleable__control:checked~label.sk-toggleable__label {background-color: #d4ebff;}#sk-container-id-7 input.sk-hidden--visually {border: 0;clip: rect(1px 1px 1px 1px);clip: rect(1px, 1px, 1px, 1px);height: 1px;margin: -1px;overflow: hidden;padding: 0;position: absolute;width: 1px;}#sk-container-id-7 div.sk-estimator {font-family: monospace;background-color: #f0f8ff;border: 1px dotted black;border-radius: 0.25em;box-sizing: border-box;margin-bottom: 0.5em;}#sk-container-id-7 div.sk-estimator:hover {background-color: #d4ebff;}#sk-container-id-7 div.sk-parallel-item::after {content: \"\";width: 100%;border-bottom: 1px solid gray;flex-grow: 1;}#sk-container-id-7 div.sk-label:hover label.sk-toggleable__label {background-color: #d4ebff;}#sk-container-id-7 div.sk-serial::before {content: \"\";position: absolute;border-left: 1px solid gray;box-sizing: border-box;top: 0;bottom: 0;left: 50%;z-index: 0;}#sk-container-id-7 div.sk-serial {display: flex;flex-direction: column;align-items: center;background-color: white;padding-right: 0.2em;padding-left: 0.2em;position: relative;}#sk-container-id-7 div.sk-item {position: relative;z-index: 1;}#sk-container-id-7 div.sk-parallel {display: flex;align-items: stretch;justify-content: center;background-color: white;position: relative;}#sk-container-id-7 div.sk-item::before, #sk-container-id-7 div.sk-parallel-item::before {content: \"\";position: absolute;border-left: 1px solid gray;box-sizing: border-box;top: 0;bottom: 0;left: 50%;z-index: -1;}#sk-container-id-7 div.sk-parallel-item {display: flex;flex-direction: column;z-index: 1;position: relative;background-color: white;}#sk-container-id-7 div.sk-parallel-item:first-child::after {align-self: flex-end;width: 50%;}#sk-container-id-7 div.sk-parallel-item:last-child::after {align-self: flex-start;width: 50%;}#sk-container-id-7 div.sk-parallel-item:only-child::after {width: 0;}#sk-container-id-7 div.sk-dashed-wrapped {border: 1px dashed gray;margin: 0 0.4em 0.5em 0.4em;box-sizing: border-box;padding-bottom: 0.4em;background-color: white;}#sk-container-id-7 div.sk-label label {font-family: monospace;font-weight: bold;display: inline-block;line-height: 1.2em;}#sk-container-id-7 div.sk-label-container {text-align: center;}#sk-container-id-7 div.sk-container {/* jupyter's `normalize.less` sets `[hidden] { display: none; }` but bootstrap.min.css set `[hidden] { display: none !important; }` so we also need the `!important` here to be able to override the default hidden behavior on the sphinx rendered scikit-learn.org. See: https://github.com/scikit-learn/scikit-learn/issues/21755 */display: inline-block !important;position: relative;}#sk-container-id-7 div.sk-text-repr-fallback {display: none;}</style><div id=\"sk-container-id-7\" class=\"sk-top-container\"><div class=\"sk-text-repr-fallback\"><pre>RandomForestClassifier()</pre><b>In a Jupyter environment, please rerun this cell to show the HTML representation or trust the notebook. <br />On GitHub, the HTML representation is unable to render, please try loading this page with nbviewer.org.</b></div><div class=\"sk-container\" hidden><div class=\"sk-item\"><div class=\"sk-estimator sk-toggleable\"><input class=\"sk-toggleable__control sk-hidden--visually\" id=\"sk-estimator-id-7\" type=\"checkbox\" checked><label for=\"sk-estimator-id-7\" class=\"sk-toggleable__label sk-toggleable__label-arrow\">RandomForestClassifier</label><div class=\"sk-toggleable__content\"><pre>RandomForestClassifier()</pre></div></div></div></div></div>"
     },
     "execution_count": 120,
     "metadata": {},
     "output_type": "execute_result"
    }
   ],
   "source": [
    "# train a random forest\n",
    "\n",
    "rf = RandomForestClassifier()\n",
    "rf.fit(X_train, y_train)\n",
    "\n"
   ],
   "metadata": {
    "collapsed": false,
    "ExecuteTime": {
     "end_time": "2023-05-18T18:50:53.419115400Z",
     "start_time": "2023-05-18T18:50:53.271690700Z"
    }
   }
  },
  {
   "cell_type": "code",
   "execution_count": 121,
   "outputs": [],
   "source": [
    "# get the predictions\n",
    "y_pred = rf.predict(X_test)\n",
    "\n"
   ],
   "metadata": {
    "collapsed": false,
    "ExecuteTime": {
     "end_time": "2023-05-18T18:50:53.445531200Z",
     "start_time": "2023-05-18T18:50:53.354830Z"
    }
   }
  },
  {
   "cell_type": "code",
   "execution_count": 122,
   "outputs": [
    {
     "data": {
      "text/plain": "0.6333333333333333"
     },
     "execution_count": 122,
     "metadata": {},
     "output_type": "execute_result"
    }
   ],
   "source": [
    "# get the accuracy\n",
    "accuracy_score(y_test, y_pred)\n"
   ],
   "metadata": {
    "collapsed": false,
    "ExecuteTime": {
     "end_time": "2023-05-18T18:50:53.465056600Z",
     "start_time": "2023-05-18T18:50:53.364537600Z"
    }
   }
  },
  {
   "cell_type": "code",
   "execution_count": 123,
   "outputs": [
    {
     "data": {
      "text/plain": "(29, 7, 15, 9)"
     },
     "execution_count": 123,
     "metadata": {},
     "output_type": "execute_result"
    }
   ],
   "source": [
    "# get the confusion matrix\n",
    "\n",
    "tn, fp, fn, tp = confusion_matrix(y_test, y_pred).ravel()\n",
    "(tn, fp, fn, tp)"
   ],
   "metadata": {
    "collapsed": false,
    "ExecuteTime": {
     "end_time": "2023-05-18T18:50:53.465056600Z",
     "start_time": "2023-05-18T18:50:53.368431800Z"
    }
   }
  },
  {
   "cell_type": "code",
   "execution_count": 124,
   "outputs": [],
   "source": [
    "# predict the entire dataset\n",
    "y_pred = rf.predict(X)\n"
   ],
   "metadata": {
    "collapsed": false,
    "ExecuteTime": {
     "end_time": "2023-05-18T18:50:53.465056600Z",
     "start_time": "2023-05-18T18:50:53.372807200Z"
    }
   }
  },
  {
   "cell_type": "code",
   "execution_count": 125,
   "outputs": [
    {
     "data": {
      "text/plain": "0.9083333333333333"
     },
     "execution_count": 125,
     "metadata": {},
     "output_type": "execute_result"
    }
   ],
   "source": [
    "# get the accuracy\n",
    "accuracy_score(y, y_pred)\n"
   ],
   "metadata": {
    "collapsed": false,
    "ExecuteTime": {
     "end_time": "2023-05-18T18:50:53.465056600Z",
     "start_time": "2023-05-18T18:50:53.383020300Z"
    }
   }
  },
  {
   "cell_type": "code",
   "execution_count": 126,
   "outputs": [
    {
     "data": {
      "text/plain": "(140, 7, 15, 78)"
     },
     "execution_count": 126,
     "metadata": {},
     "output_type": "execute_result"
    }
   ],
   "source": [
    "# get the confusion matrix\n",
    "tn, fp, fn, tp = confusion_matrix(y, y_pred).ravel()\n",
    "(tn, fp, fn, tp)"
   ],
   "metadata": {
    "collapsed": false,
    "ExecuteTime": {
     "end_time": "2023-05-18T18:50:53.465056600Z",
     "start_time": "2023-05-18T18:50:53.387175300Z"
    }
   }
  },
  {
   "cell_type": "code",
   "execution_count": 127,
   "outputs": [
    {
     "data": {
      "text/plain": "LogisticRegression()",
      "text/html": "<style>#sk-container-id-8 {color: black;background-color: white;}#sk-container-id-8 pre{padding: 0;}#sk-container-id-8 div.sk-toggleable {background-color: white;}#sk-container-id-8 label.sk-toggleable__label {cursor: pointer;display: block;width: 100%;margin-bottom: 0;padding: 0.3em;box-sizing: border-box;text-align: center;}#sk-container-id-8 label.sk-toggleable__label-arrow:before {content: \"▸\";float: left;margin-right: 0.25em;color: #696969;}#sk-container-id-8 label.sk-toggleable__label-arrow:hover:before {color: black;}#sk-container-id-8 div.sk-estimator:hover label.sk-toggleable__label-arrow:before {color: black;}#sk-container-id-8 div.sk-toggleable__content {max-height: 0;max-width: 0;overflow: hidden;text-align: left;background-color: #f0f8ff;}#sk-container-id-8 div.sk-toggleable__content pre {margin: 0.2em;color: black;border-radius: 0.25em;background-color: #f0f8ff;}#sk-container-id-8 input.sk-toggleable__control:checked~div.sk-toggleable__content {max-height: 200px;max-width: 100%;overflow: auto;}#sk-container-id-8 input.sk-toggleable__control:checked~label.sk-toggleable__label-arrow:before {content: \"▾\";}#sk-container-id-8 div.sk-estimator input.sk-toggleable__control:checked~label.sk-toggleable__label {background-color: #d4ebff;}#sk-container-id-8 div.sk-label input.sk-toggleable__control:checked~label.sk-toggleable__label {background-color: #d4ebff;}#sk-container-id-8 input.sk-hidden--visually {border: 0;clip: rect(1px 1px 1px 1px);clip: rect(1px, 1px, 1px, 1px);height: 1px;margin: -1px;overflow: hidden;padding: 0;position: absolute;width: 1px;}#sk-container-id-8 div.sk-estimator {font-family: monospace;background-color: #f0f8ff;border: 1px dotted black;border-radius: 0.25em;box-sizing: border-box;margin-bottom: 0.5em;}#sk-container-id-8 div.sk-estimator:hover {background-color: #d4ebff;}#sk-container-id-8 div.sk-parallel-item::after {content: \"\";width: 100%;border-bottom: 1px solid gray;flex-grow: 1;}#sk-container-id-8 div.sk-label:hover label.sk-toggleable__label {background-color: #d4ebff;}#sk-container-id-8 div.sk-serial::before {content: \"\";position: absolute;border-left: 1px solid gray;box-sizing: border-box;top: 0;bottom: 0;left: 50%;z-index: 0;}#sk-container-id-8 div.sk-serial {display: flex;flex-direction: column;align-items: center;background-color: white;padding-right: 0.2em;padding-left: 0.2em;position: relative;}#sk-container-id-8 div.sk-item {position: relative;z-index: 1;}#sk-container-id-8 div.sk-parallel {display: flex;align-items: stretch;justify-content: center;background-color: white;position: relative;}#sk-container-id-8 div.sk-item::before, #sk-container-id-8 div.sk-parallel-item::before {content: \"\";position: absolute;border-left: 1px solid gray;box-sizing: border-box;top: 0;bottom: 0;left: 50%;z-index: -1;}#sk-container-id-8 div.sk-parallel-item {display: flex;flex-direction: column;z-index: 1;position: relative;background-color: white;}#sk-container-id-8 div.sk-parallel-item:first-child::after {align-self: flex-end;width: 50%;}#sk-container-id-8 div.sk-parallel-item:last-child::after {align-self: flex-start;width: 50%;}#sk-container-id-8 div.sk-parallel-item:only-child::after {width: 0;}#sk-container-id-8 div.sk-dashed-wrapped {border: 1px dashed gray;margin: 0 0.4em 0.5em 0.4em;box-sizing: border-box;padding-bottom: 0.4em;background-color: white;}#sk-container-id-8 div.sk-label label {font-family: monospace;font-weight: bold;display: inline-block;line-height: 1.2em;}#sk-container-id-8 div.sk-label-container {text-align: center;}#sk-container-id-8 div.sk-container {/* jupyter's `normalize.less` sets `[hidden] { display: none; }` but bootstrap.min.css set `[hidden] { display: none !important; }` so we also need the `!important` here to be able to override the default hidden behavior on the sphinx rendered scikit-learn.org. See: https://github.com/scikit-learn/scikit-learn/issues/21755 */display: inline-block !important;position: relative;}#sk-container-id-8 div.sk-text-repr-fallback {display: none;}</style><div id=\"sk-container-id-8\" class=\"sk-top-container\"><div class=\"sk-text-repr-fallback\"><pre>LogisticRegression()</pre><b>In a Jupyter environment, please rerun this cell to show the HTML representation or trust the notebook. <br />On GitHub, the HTML representation is unable to render, please try loading this page with nbviewer.org.</b></div><div class=\"sk-container\" hidden><div class=\"sk-item\"><div class=\"sk-estimator sk-toggleable\"><input class=\"sk-toggleable__control sk-hidden--visually\" id=\"sk-estimator-id-8\" type=\"checkbox\" checked><label for=\"sk-estimator-id-8\" class=\"sk-toggleable__label sk-toggleable__label-arrow\">LogisticRegression</label><div class=\"sk-toggleable__content\"><pre>LogisticRegression()</pre></div></div></div></div></div>"
     },
     "execution_count": 127,
     "metadata": {},
     "output_type": "execute_result"
    }
   ],
   "source": [
    "# now train a logistic regression\n",
    "\n",
    "lr = LogisticRegression()\n",
    "lr.fit(X_train, y_train)\n"
   ],
   "metadata": {
    "collapsed": false,
    "ExecuteTime": {
     "end_time": "2023-05-18T18:50:53.467057500Z",
     "start_time": "2023-05-18T18:50:53.398204Z"
    }
   }
  },
  {
   "cell_type": "code",
   "execution_count": 128,
   "outputs": [],
   "source": [
    "# get the predictions\n",
    "y_pred = lr.predict(X_test)\n"
   ],
   "metadata": {
    "collapsed": false,
    "ExecuteTime": {
     "end_time": "2023-05-18T18:50:53.467057500Z",
     "start_time": "2023-05-18T18:50:53.398817800Z"
    }
   }
  },
  {
   "cell_type": "code",
   "execution_count": 129,
   "outputs": [
    {
     "data": {
      "text/plain": "0.4"
     },
     "execution_count": 129,
     "metadata": {},
     "output_type": "execute_result"
    }
   ],
   "source": [
    "# get the accuracy\n",
    "accuracy_score(y_test, y_pred)"
   ],
   "metadata": {
    "collapsed": false,
    "ExecuteTime": {
     "end_time": "2023-05-18T18:50:53.467057500Z",
     "start_time": "2023-05-18T18:50:53.400328900Z"
    }
   }
  },
  {
   "cell_type": "code",
   "execution_count": 130,
   "outputs": [
    {
     "data": {
      "text/plain": "(0, 36, 0, 24)"
     },
     "execution_count": 130,
     "metadata": {},
     "output_type": "execute_result"
    }
   ],
   "source": [
    "# get the confusion matrix\n",
    "\n",
    "tn, fp, fn, tp = confusion_matrix(y_test, y_pred).ravel()\n",
    "(tn, fp, fn, tp)"
   ],
   "metadata": {
    "collapsed": false,
    "ExecuteTime": {
     "end_time": "2023-05-18T18:50:53.467057500Z",
     "start_time": "2023-05-18T18:50:53.404866400Z"
    }
   }
  },
  {
   "cell_type": "code",
   "execution_count": 131,
   "outputs": [],
   "source": [
    "#get the predictions for the entire dataset\n",
    "y_pred = lr.predict(X)\n"
   ],
   "metadata": {
    "collapsed": false,
    "ExecuteTime": {
     "end_time": "2023-05-18T18:50:53.468058100Z",
     "start_time": "2023-05-18T18:50:53.410133800Z"
    }
   }
  },
  {
   "cell_type": "code",
   "execution_count": 132,
   "outputs": [
    {
     "data": {
      "text/plain": "0.3875"
     },
     "execution_count": 132,
     "metadata": {},
     "output_type": "execute_result"
    }
   ],
   "source": [
    "# get the accuracy\n",
    "accuracy_score(y, y_pred)"
   ],
   "metadata": {
    "collapsed": false,
    "ExecuteTime": {
     "end_time": "2023-05-18T18:50:53.468058100Z",
     "start_time": "2023-05-18T18:50:53.413685700Z"
    }
   }
  },
  {
   "cell_type": "code",
   "execution_count": 133,
   "outputs": [],
   "source": [
    "# get the confusion matrix"
   ],
   "metadata": {
    "collapsed": false,
    "ExecuteTime": {
     "end_time": "2023-05-18T18:50:53.468058100Z",
     "start_time": "2023-05-18T18:50:53.419115400Z"
    }
   }
  },
  {
   "cell_type": "code",
   "execution_count": 134,
   "outputs": [
    {
     "data": {
      "text/plain": "(0, 147, 0, 93)"
     },
     "execution_count": 134,
     "metadata": {},
     "output_type": "execute_result"
    }
   ],
   "source": [
    "tn, fp, fn, tp = confusion_matrix(y, y_pred).ravel()\n",
    "(tn, fp, fn, tp)"
   ],
   "metadata": {
    "collapsed": false,
    "ExecuteTime": {
     "end_time": "2023-05-18T18:50:53.475570300Z",
     "start_time": "2023-05-18T18:50:53.421629100Z"
    }
   }
  },
  {
   "cell_type": "code",
   "execution_count": 135,
   "outputs": [
    {
     "data": {
      "text/plain": "<Figure size 640x480 with 1 Axes>",
      "image/png": "[encoded data removed]"
     },
     "metadata": {},
     "output_type": "display_data"
    }
   ],
   "source": [
    "# display the logistic regression\n",
    "import matplotlib.pyplot as plt\n",
    "plt.barh(X.columns, lr.coef_[0])\n",
    "plt.show()"
   ],
   "metadata": {
    "collapsed": false,
    "ExecuteTime": {
     "end_time": "2023-05-18T18:50:53.600720500Z",
     "start_time": "2023-05-18T18:50:53.426491500Z"
    }
   }
  },
  {
   "cell_type": "code",
   "execution_count": 136,
   "outputs": [
    {
     "data": {
      "text/plain": "<Figure size 640x480 with 1 Axes>",
      "image/png": "[encoded data removed]"
     },
     "metadata": {},
     "output_type": "display_data"
    }
   ],
   "source": [
    "# display the random forest\n",
    "plt.barh(X.columns, rf.feature_importances_)\n",
    "plt.show()"
   ],
   "metadata": {
    "collapsed": false,
    "ExecuteTime": {
     "end_time": "2023-05-18T18:50:53.607929900Z",
     "start_time": "2023-05-18T18:50:53.501410600Z"
    }
   }
  }
 ],
 "metadata": {
  "kernelspec": {
   "display_name": "Python 3",
   "language": "python",
   "name": "python3"
  },
  "language_info": {
   "codemirror_mode": {
    "name": "ipython",
    "version": 2
   },
   "file_extension": ".py",
   "mimetype": "text/x-python",
   "name": "python",
   "nbconvert_exporter": "python",
   "pygments_lexer": "ipython2",
   "version": "2.7.6"
  }
 },
 "nbformat": 4,
 "nbformat_minor": 0
}
