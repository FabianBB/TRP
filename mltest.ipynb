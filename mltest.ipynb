{
 "cells": [
  {
   "cell_type": "code",
   "execution_count": 1,
   "metadata": {
    "collapsed": true,
    "ExecuteTime": {
     "end_time": "2023-05-08T13:36:20.392666600Z",
     "start_time": "2023-05-08T13:36:19.790664100Z"
    }
   },
   "outputs": [],
   "source": [
    "import numpy as np\n",
    "import random\n",
    "from time import sleep\n",
    "import numpy.random as npr\n",
    "import math\n",
    "import numpy as np\n",
    "import random\n",
    "import sys\n",
    "import tsplib95\n",
    "import networkx as nx\n",
    "import time\n",
    "import os\n",
    "import pandas as pd\n"
   ]
  },
  {
   "cell_type": "code",
   "execution_count": 2,
   "outputs": [
    {
     "data": {
      "text/plain": "['att48.tsp',\n 'berlin52.tsp',\n 'brazil58.tsp',\n 'burma14.tsp',\n 'dantzig42.tsp',\n 'eil101.tsp',\n 'eil51.tsp',\n 'eil76.tsp',\n 'f10.tsp',\n 'gr48.tsp',\n 'gr96.tsp',\n 'hk48.tsp',\n 'kroA100.tsp',\n 'kroB100.tsp',\n 'kroC100.tsp',\n 'kroD100.tsp',\n 'kroE100.tsp',\n 'lin105.tsp',\n 'pr107.tsp',\n 'pr76.tsp',\n 'rat99.tsp',\n 'rd100.tsp',\n 'st70.tsp',\n 'swiss42.tsp']"
     },
     "execution_count": 2,
     "metadata": {},
     "output_type": "execute_result"
    }
   ],
   "source": [
    "# get all files from the instances folder\n",
    "files = os.listdir('instances')\n",
    "files"
   ],
   "metadata": {
    "collapsed": false,
    "ExecuteTime": {
     "end_time": "2023-05-08T13:36:20.405928900Z",
     "start_time": "2023-05-08T13:36:20.392666600Z"
    }
   }
  },
  {
   "cell_type": "code",
   "execution_count": 3,
   "outputs": [],
   "source": [
    "# create a dict that will be turned into a dataframe later the keys should be:\n",
    "# file, n, m, ratio1, ratio2, density, min, max, mean, median, Q25, Q75, std, var\n",
    "datadict = {'file': [], 'n': [], 'm': [], 'ratio1': [], 'ratio2': [], 'density': [], 'min': [], 'max': [], 'mean': [], 'std': [], 'var': []}"
   ],
   "metadata": {
    "collapsed": false,
    "ExecuteTime": {
     "end_time": "2023-05-08T13:36:20.452805500Z",
     "start_time": "2023-05-08T13:36:20.408085400Z"
    }
   }
  },
  {
   "cell_type": "code",
   "execution_count": 3,
   "outputs": [],
   "source": [],
   "metadata": {
    "collapsed": false,
    "ExecuteTime": {
     "end_time": "2023-05-08T13:36:20.464895100Z",
     "start_time": "2023-05-08T13:36:20.422935500Z"
    }
   }
  },
  {
   "cell_type": "code",
   "execution_count": 142,
   "outputs": [],
   "source": [
    "# for all files in the instances folder make a graph and get information such as mean, std, min, max\n",
    "\n",
    "\n",
    "for f in files:\n",
    "    problem = tsplib95.load('Instances/' + f)\n",
    "    graph = problem.get_graph()\n",
    "    dist_matrix = nx.to_numpy_matrix(graph)\n",
    "\n",
    "    # get the number of nodes\n",
    "    n = len(graph.nodes)\n",
    "\n",
    "    # get the number of edges\n",
    "    m = len(graph.edges)\n",
    "\n",
    "    # get the ratio of nodes to edges and vice versa\n",
    "    ratio1 = n/m\n",
    "    ratio2 = m/n\n",
    "    # get the density of the graph\n",
    "    density = nx.density(graph)\n",
    "\n",
    "    # get the min, max, mean, median, Q25, Q75, std, var of the distances\n",
    "    emin = np.min(dist_matrix)\n",
    "    emax = np.max(dist_matrix)\n",
    "\n",
    "    mean = np.mean(dist_matrix)\n",
    "\n",
    "\n",
    "    #Q25 = np.quantile(dist_matrix, 0.25)\n",
    "    #Q75 = np.quantile(dist_matrix, 0.75)\n",
    "    std = np.std(dist_matrix)\n",
    "\n",
    "    var = np.var(dist_matrix)\n",
    "\n",
    "\n",
    "    # add the information to the dict\n",
    "    datadict['file'].append(f)\n",
    "    datadict['n'].append(n)\n",
    "    datadict['m'].append(m)\n",
    "    datadict['ratio1'].append(ratio1)\n",
    "    datadict['ratio2'].append(ratio2)\n",
    "    datadict['density'].append(density)\n",
    "    datadict['min'].append(emin)\n",
    "    datadict['max'].append(emax)\n",
    "    datadict['mean'].append(mean)\n",
    "\n",
    "    #datadict['Q25'].append(Q25)\n",
    "    #datadict['Q75'].append(Q75)\n",
    "    datadict['std'].append(std)\n",
    "    datadict['var'].append(var)\n",
    "\n",
    "\n"
   ],
   "metadata": {
    "collapsed": false,
    "ExecuteTime": {
     "start_time": "2023-05-04T14:01:02.245904Z",
     "end_time": "2023-05-04T14:01:03.183116Z"
    }
   }
  },
  {
   "cell_type": "code",
   "execution_count": 143,
   "outputs": [
    {
     "data": {
      "text/plain": "             file    n     m    ratio1  ratio2   density  min      max  \\\n0       att48.tsp   48  1176  0.040816    24.5  1.042553  0.0   2662.0   \n1    berlin52.tsp   52  1378  0.037736    26.5  1.039216  0.0   1716.0   \n2    brazil58.tsp   58  1711  0.033898    29.5  1.035088  0.0   8700.0   \n3     burma14.tsp   14   105  0.133333     7.5  1.153846  1.0   1261.0   \n4   dantzig42.tsp   42   903  0.046512    21.5  1.048780  0.0    192.0   \n5      eil101.tsp  101  5151  0.019608    51.0  1.020000  0.0     92.0   \n6       eil51.tsp   51  1326  0.038462    26.0  1.040000  0.0     86.0   \n7       eil76.tsp   76  2926  0.025974    38.5  1.026667  0.0     85.0   \n8         f10.tsp   10    55  0.181818     5.5  1.222222  0.0   2550.0   \n9        gr48.tsp   48  1176  0.040816    24.5  1.042553  0.0   1083.0   \n10       gr96.tsp   96  4656  0.020619    48.5  1.021053  1.0   9850.0   \n11       hk48.tsp   48  1176  0.040816    24.5  1.042553  0.0   2734.0   \n12    kroA100.tsp  100  5050  0.019802    50.5  1.020202  0.0   4150.0   \n13    kroB100.tsp  100  5050  0.019802    50.5  1.020202  0.0   4167.0   \n14    kroC100.tsp  100  5050  0.019802    50.5  1.020202  0.0   4187.0   \n15    kroD100.tsp  100  5050  0.019802    50.5  1.020202  0.0   4028.0   \n16    kroE100.tsp  100  5050  0.019802    50.5  1.020202  0.0   4138.0   \n17     lin105.tsp  105  5565  0.018868    53.0  1.019231  0.0   3189.0   \n18      pr107.tsp  107  5778  0.018519    54.0  1.018868  0.0  10691.0   \n19       pr76.tsp   76  2926  0.025974    38.5  1.026667  0.0  22674.0   \n20      rat99.tsp   99  4950  0.020000    50.0  1.020408  0.0    218.0   \n21      rd100.tsp  100  5050  0.019802    50.5  1.020202  0.0   1334.0   \n22       st70.tsp   70  2485  0.028169    35.5  1.028986  0.0    129.0   \n23    swiss42.tsp   42  1764  0.023810    42.0  1.024390  0.0    323.0   \n\n           mean          std           var  \n0   1017.559896   627.598414  3.938798e+05  \n1    564.188609   345.722052  1.195237e+05  \n2   2094.914388  1426.139588  2.033874e+06  \n3    442.612245   272.511473  7.426250e+04  \n4     72.295918    43.481585  1.890648e+03  \n5     33.580237    16.613751  2.760167e+02  \n6     31.760861    15.586857  2.429501e+02  \n7     32.759349    16.107539  2.594528e+02  \n8   1105.700000   737.133265  5.433655e+05  \n9    428.766493   219.692229  4.826468e+04  \n10  3821.365234  1984.491419  3.938206e+06  \n11  1001.548611   592.269902  3.507836e+05  \n12  1693.593400   927.201422  8.597025e+05  \n13  1670.666800   923.712493  8.532448e+05  \n14  1683.547800   921.835399  8.497805e+05  \n15  1614.793000   877.992638  7.708711e+05  \n16  1714.832800   944.728761  8.925124e+05  \n17  1166.136961   677.372319  4.588333e+05  \n18  5353.732204  3134.151604  9.822906e+06  \n19  7459.237535  3982.505724  1.586035e+07  \n20    84.137333    47.326182  2.239767e+03  \n21   550.105000   267.281077  7.143917e+04  \n22    51.508163    24.994320  6.247161e+02  \n23   112.379819    60.449654  3.654161e+03  ",
      "text/html": "<div>\n<style scoped>\n    .dataframe tbody tr th:only-of-type {\n        vertical-align: middle;\n    }\n\n    .dataframe tbody tr th {\n        vertical-align: top;\n    }\n\n    .dataframe thead th {\n        text-align: right;\n    }\n</style>\n<table border=\"1\" class=\"dataframe\">\n  <thead>\n    <tr style=\"text-align: right;\">\n      <th></th>\n      <th>file</th>\n      <th>n</th>\n      <th>m</th>\n      <th>ratio1</th>\n      <th>ratio2</th>\n      <th>density</th>\n      <th>min</th>\n      <th>max</th>\n      <th>mean</th>\n      <th>std</th>\n      <th>var</th>\n    </tr>\n  </thead>\n  <tbody>\n    <tr>\n      <th>0</th>\n      <td>att48.tsp</td>\n      <td>48</td>\n      <td>1176</td>\n      <td>0.040816</td>\n      <td>24.5</td>\n      <td>1.042553</td>\n      <td>0.0</td>\n      <td>2662.0</td>\n      <td>1017.559896</td>\n      <td>627.598414</td>\n      <td>3.938798e+05</td>\n    </tr>\n    <tr>\n      <th>1</th>\n      <td>berlin52.tsp</td>\n      <td>52</td>\n      <td>1378</td>\n      <td>0.037736</td>\n      <td>26.5</td>\n      <td>1.039216</td>\n      <td>0.0</td>\n      <td>1716.0</td>\n      <td>564.188609</td>\n      <td>345.722052</td>\n      <td>1.195237e+05</td>\n    </tr>\n    <tr>\n      <th>2</th>\n      <td>brazil58.tsp</td>\n      <td>58</td>\n      <td>1711</td>\n      <td>0.033898</td>\n      <td>29.5</td>\n      <td>1.035088</td>\n      <td>0.0</td>\n      <td>8700.0</td>\n      <td>2094.914388</td>\n      <td>1426.139588</td>\n      <td>2.033874e+06</td>\n    </tr>\n    <tr>\n      <th>3</th>\n      <td>burma14.tsp</td>\n      <td>14</td>\n      <td>105</td>\n      <td>0.133333</td>\n      <td>7.5</td>\n      <td>1.153846</td>\n      <td>1.0</td>\n      <td>1261.0</td>\n      <td>442.612245</td>\n      <td>272.511473</td>\n      <td>7.426250e+04</td>\n    </tr>\n    <tr>\n      <th>4</th>\n      <td>dantzig42.tsp</td>\n      <td>42</td>\n      <td>903</td>\n      <td>0.046512</td>\n      <td>21.5</td>\n      <td>1.048780</td>\n      <td>0.0</td>\n      <td>192.0</td>\n      <td>72.295918</td>\n      <td>43.481585</td>\n      <td>1.890648e+03</td>\n    </tr>\n    <tr>\n      <th>5</th>\n      <td>eil101.tsp</td>\n      <td>101</td>\n      <td>5151</td>\n      <td>0.019608</td>\n      <td>51.0</td>\n      <td>1.020000</td>\n      <td>0.0</td>\n      <td>92.0</td>\n      <td>33.580237</td>\n      <td>16.613751</td>\n      <td>2.760167e+02</td>\n    </tr>\n    <tr>\n      <th>6</th>\n      <td>eil51.tsp</td>\n      <td>51</td>\n      <td>1326</td>\n      <td>0.038462</td>\n      <td>26.0</td>\n      <td>1.040000</td>\n      <td>0.0</td>\n      <td>86.0</td>\n      <td>31.760861</td>\n      <td>15.586857</td>\n      <td>2.429501e+02</td>\n    </tr>\n    <tr>\n      <th>7</th>\n      <td>eil76.tsp</td>\n      <td>76</td>\n      <td>2926</td>\n      <td>0.025974</td>\n      <td>38.5</td>\n      <td>1.026667</td>\n      <td>0.0</td>\n      <td>85.0</td>\n      <td>32.759349</td>\n      <td>16.107539</td>\n      <td>2.594528e+02</td>\n    </tr>\n    <tr>\n      <th>8</th>\n      <td>f10.tsp</td>\n      <td>10</td>\n      <td>55</td>\n      <td>0.181818</td>\n      <td>5.5</td>\n      <td>1.222222</td>\n      <td>0.0</td>\n      <td>2550.0</td>\n      <td>1105.700000</td>\n      <td>737.133265</td>\n      <td>5.433655e+05</td>\n    </tr>\n    <tr>\n      <th>9</th>\n      <td>gr48.tsp</td>\n      <td>48</td>\n      <td>1176</td>\n      <td>0.040816</td>\n      <td>24.5</td>\n      <td>1.042553</td>\n      <td>0.0</td>\n      <td>1083.0</td>\n      <td>428.766493</td>\n      <td>219.692229</td>\n      <td>4.826468e+04</td>\n    </tr>\n    <tr>\n      <th>10</th>\n      <td>gr96.tsp</td>\n      <td>96</td>\n      <td>4656</td>\n      <td>0.020619</td>\n      <td>48.5</td>\n      <td>1.021053</td>\n      <td>1.0</td>\n      <td>9850.0</td>\n      <td>3821.365234</td>\n      <td>1984.491419</td>\n      <td>3.938206e+06</td>\n    </tr>\n    <tr>\n      <th>11</th>\n      <td>hk48.tsp</td>\n      <td>48</td>\n      <td>1176</td>\n      <td>0.040816</td>\n      <td>24.5</td>\n      <td>1.042553</td>\n      <td>0.0</td>\n      <td>2734.0</td>\n      <td>1001.548611</td>\n      <td>592.269902</td>\n      <td>3.507836e+05</td>\n    </tr>\n    <tr>\n      <th>12</th>\n      <td>kroA100.tsp</td>\n      <td>100</td>\n      <td>5050</td>\n      <td>0.019802</td>\n      <td>50.5</td>\n      <td>1.020202</td>\n      <td>0.0</td>\n      <td>4150.0</td>\n      <td>1693.593400</td>\n      <td>927.201422</td>\n      <td>8.597025e+05</td>\n    </tr>\n    <tr>\n      <th>13</th>\n      <td>kroB100.tsp</td>\n      <td>100</td>\n      <td>5050</td>\n      <td>0.019802</td>\n      <td>50.5</td>\n      <td>1.020202</td>\n      <td>0.0</td>\n      <td>4167.0</td>\n      <td>1670.666800</td>\n      <td>923.712493</td>\n      <td>8.532448e+05</td>\n    </tr>\n    <tr>\n      <th>14</th>\n      <td>kroC100.tsp</td>\n      <td>100</td>\n      <td>5050</td>\n      <td>0.019802</td>\n      <td>50.5</td>\n      <td>1.020202</td>\n      <td>0.0</td>\n      <td>4187.0</td>\n      <td>1683.547800</td>\n      <td>921.835399</td>\n      <td>8.497805e+05</td>\n    </tr>\n    <tr>\n      <th>15</th>\n      <td>kroD100.tsp</td>\n      <td>100</td>\n      <td>5050</td>\n      <td>0.019802</td>\n      <td>50.5</td>\n      <td>1.020202</td>\n      <td>0.0</td>\n      <td>4028.0</td>\n      <td>1614.793000</td>\n      <td>877.992638</td>\n      <td>7.708711e+05</td>\n    </tr>\n    <tr>\n      <th>16</th>\n      <td>kroE100.tsp</td>\n      <td>100</td>\n      <td>5050</td>\n      <td>0.019802</td>\n      <td>50.5</td>\n      <td>1.020202</td>\n      <td>0.0</td>\n      <td>4138.0</td>\n      <td>1714.832800</td>\n      <td>944.728761</td>\n      <td>8.925124e+05</td>\n    </tr>\n    <tr>\n      <th>17</th>\n      <td>lin105.tsp</td>\n      <td>105</td>\n      <td>5565</td>\n      <td>0.018868</td>\n      <td>53.0</td>\n      <td>1.019231</td>\n      <td>0.0</td>\n      <td>3189.0</td>\n      <td>1166.136961</td>\n      <td>677.372319</td>\n      <td>4.588333e+05</td>\n    </tr>\n    <tr>\n      <th>18</th>\n      <td>pr107.tsp</td>\n      <td>107</td>\n      <td>5778</td>\n      <td>0.018519</td>\n      <td>54.0</td>\n      <td>1.018868</td>\n      <td>0.0</td>\n      <td>10691.0</td>\n      <td>5353.732204</td>\n      <td>3134.151604</td>\n      <td>9.822906e+06</td>\n    </tr>\n    <tr>\n      <th>19</th>\n      <td>pr76.tsp</td>\n      <td>76</td>\n      <td>2926</td>\n      <td>0.025974</td>\n      <td>38.5</td>\n      <td>1.026667</td>\n      <td>0.0</td>\n      <td>22674.0</td>\n      <td>7459.237535</td>\n      <td>3982.505724</td>\n      <td>1.586035e+07</td>\n    </tr>\n    <tr>\n      <th>20</th>\n      <td>rat99.tsp</td>\n      <td>99</td>\n      <td>4950</td>\n      <td>0.020000</td>\n      <td>50.0</td>\n      <td>1.020408</td>\n      <td>0.0</td>\n      <td>218.0</td>\n      <td>84.137333</td>\n      <td>47.326182</td>\n      <td>2.239767e+03</td>\n    </tr>\n    <tr>\n      <th>21</th>\n      <td>rd100.tsp</td>\n      <td>100</td>\n      <td>5050</td>\n      <td>0.019802</td>\n      <td>50.5</td>\n      <td>1.020202</td>\n      <td>0.0</td>\n      <td>1334.0</td>\n      <td>550.105000</td>\n      <td>267.281077</td>\n      <td>7.143917e+04</td>\n    </tr>\n    <tr>\n      <th>22</th>\n      <td>st70.tsp</td>\n      <td>70</td>\n      <td>2485</td>\n      <td>0.028169</td>\n      <td>35.5</td>\n      <td>1.028986</td>\n      <td>0.0</td>\n      <td>129.0</td>\n      <td>51.508163</td>\n      <td>24.994320</td>\n      <td>6.247161e+02</td>\n    </tr>\n    <tr>\n      <th>23</th>\n      <td>swiss42.tsp</td>\n      <td>42</td>\n      <td>1764</td>\n      <td>0.023810</td>\n      <td>42.0</td>\n      <td>1.024390</td>\n      <td>0.0</td>\n      <td>323.0</td>\n      <td>112.379819</td>\n      <td>60.449654</td>\n      <td>3.654161e+03</td>\n    </tr>\n  </tbody>\n</table>\n</div>"
     },
     "execution_count": 143,
     "metadata": {},
     "output_type": "execute_result"
    }
   ],
   "source": [
    "# turn the dict into a dataframe\n",
    "df = pd.DataFrame.from_dict(datadict)\n",
    "df"
   ],
   "metadata": {
    "collapsed": false,
    "ExecuteTime": {
     "start_time": "2023-05-04T14:01:03.183116Z",
     "end_time": "2023-05-04T14:01:03.198121Z"
    }
   }
  },
  {
   "cell_type": "code",
   "execution_count": 144,
   "outputs": [
    {
     "data": {
      "text/plain": "             file    n     m    ratio1  ratio2   density  min      max  \\\n0       att48.tsp   48  1176  0.040816    24.5  1.042553  0.0   2662.0   \n1    berlin52.tsp   52  1378  0.037736    26.5  1.039216  0.0   1716.0   \n2    brazil58.tsp   58  1711  0.033898    29.5  1.035088  0.0   8700.0   \n3     burma14.tsp   14   105  0.133333     7.5  1.153846  1.0   1261.0   \n4   dantzig42.tsp   42   903  0.046512    21.5  1.048780  0.0    192.0   \n5      eil101.tsp  101  5151  0.019608    51.0  1.020000  0.0     92.0   \n6       eil51.tsp   51  1326  0.038462    26.0  1.040000  0.0     86.0   \n7       eil76.tsp   76  2926  0.025974    38.5  1.026667  0.0     85.0   \n8         f10.tsp   10    55  0.181818     5.5  1.222222  0.0   2550.0   \n9        gr48.tsp   48  1176  0.040816    24.5  1.042553  0.0   1083.0   \n10       gr96.tsp   96  4656  0.020619    48.5  1.021053  1.0   9850.0   \n11       hk48.tsp   48  1176  0.040816    24.5  1.042553  0.0   2734.0   \n12    kroA100.tsp  100  5050  0.019802    50.5  1.020202  0.0   4150.0   \n13    kroB100.tsp  100  5050  0.019802    50.5  1.020202  0.0   4167.0   \n14    kroC100.tsp  100  5050  0.019802    50.5  1.020202  0.0   4187.0   \n15    kroD100.tsp  100  5050  0.019802    50.5  1.020202  0.0   4028.0   \n16    kroE100.tsp  100  5050  0.019802    50.5  1.020202  0.0   4138.0   \n17     lin105.tsp  105  5565  0.018868    53.0  1.019231  0.0   3189.0   \n18      pr107.tsp  107  5778  0.018519    54.0  1.018868  0.0  10691.0   \n19       pr76.tsp   76  2926  0.025974    38.5  1.026667  0.0  22674.0   \n20      rat99.tsp   99  4950  0.020000    50.0  1.020408  0.0    218.0   \n21      rd100.tsp  100  5050  0.019802    50.5  1.020202  0.0   1334.0   \n22       st70.tsp   70  2485  0.028169    35.5  1.028986  0.0    129.0   \n23    swiss42.tsp   42  1764  0.023810    42.0  1.024390  0.0    323.0   \n\n           mean          std           var  gils  \n0   1017.559896   627.598414  3.938798e+05     0  \n1    564.188609   345.722052  1.195237e+05     0  \n2   2094.914388  1426.139588  2.033874e+06     0  \n3    442.612245   272.511473  7.426250e+04     0  \n4     72.295918    43.481585  1.890648e+03     0  \n5     33.580237    16.613751  2.760167e+02     0  \n6     31.760861    15.586857  2.429501e+02     0  \n7     32.759349    16.107539  2.594528e+02     0  \n8   1105.700000   737.133265  5.433655e+05     0  \n9    428.766493   219.692229  4.826468e+04     0  \n10  3821.365234  1984.491419  3.938206e+06     0  \n11  1001.548611   592.269902  3.507836e+05     0  \n12  1693.593400   927.201422  8.597025e+05     0  \n13  1670.666800   923.712493  8.532448e+05     0  \n14  1683.547800   921.835399  8.497805e+05     0  \n15  1614.793000   877.992638  7.708711e+05     0  \n16  1714.832800   944.728761  8.925124e+05     0  \n17  1166.136961   677.372319  4.588333e+05     0  \n18  5353.732204  3134.151604  9.822906e+06     0  \n19  7459.237535  3982.505724  1.586035e+07     0  \n20    84.137333    47.326182  2.239767e+03     0  \n21   550.105000   267.281077  7.143917e+04     0  \n22    51.508163    24.994320  6.247161e+02     0  \n23   112.379819    60.449654  3.654161e+03     0  ",
      "text/html": "<div>\n<style scoped>\n    .dataframe tbody tr th:only-of-type {\n        vertical-align: middle;\n    }\n\n    .dataframe tbody tr th {\n        vertical-align: top;\n    }\n\n    .dataframe thead th {\n        text-align: right;\n    }\n</style>\n<table border=\"1\" class=\"dataframe\">\n  <thead>\n    <tr style=\"text-align: right;\">\n      <th></th>\n      <th>file</th>\n      <th>n</th>\n      <th>m</th>\n      <th>ratio1</th>\n      <th>ratio2</th>\n      <th>density</th>\n      <th>min</th>\n      <th>max</th>\n      <th>mean</th>\n      <th>std</th>\n      <th>var</th>\n      <th>gils</th>\n    </tr>\n  </thead>\n  <tbody>\n    <tr>\n      <th>0</th>\n      <td>att48.tsp</td>\n      <td>48</td>\n      <td>1176</td>\n      <td>0.040816</td>\n      <td>24.5</td>\n      <td>1.042553</td>\n      <td>0.0</td>\n      <td>2662.0</td>\n      <td>1017.559896</td>\n      <td>627.598414</td>\n      <td>3.938798e+05</td>\n      <td>0</td>\n    </tr>\n    <tr>\n      <th>1</th>\n      <td>berlin52.tsp</td>\n      <td>52</td>\n      <td>1378</td>\n      <td>0.037736</td>\n      <td>26.5</td>\n      <td>1.039216</td>\n      <td>0.0</td>\n      <td>1716.0</td>\n      <td>564.188609</td>\n      <td>345.722052</td>\n      <td>1.195237e+05</td>\n      <td>0</td>\n    </tr>\n    <tr>\n      <th>2</th>\n      <td>brazil58.tsp</td>\n      <td>58</td>\n      <td>1711</td>\n      <td>0.033898</td>\n      <td>29.5</td>\n      <td>1.035088</td>\n      <td>0.0</td>\n      <td>8700.0</td>\n      <td>2094.914388</td>\n      <td>1426.139588</td>\n      <td>2.033874e+06</td>\n      <td>0</td>\n    </tr>\n    <tr>\n      <th>3</th>\n      <td>burma14.tsp</td>\n      <td>14</td>\n      <td>105</td>\n      <td>0.133333</td>\n      <td>7.5</td>\n      <td>1.153846</td>\n      <td>1.0</td>\n      <td>1261.0</td>\n      <td>442.612245</td>\n      <td>272.511473</td>\n      <td>7.426250e+04</td>\n      <td>0</td>\n    </tr>\n    <tr>\n      <th>4</th>\n      <td>dantzig42.tsp</td>\n      <td>42</td>\n      <td>903</td>\n      <td>0.046512</td>\n      <td>21.5</td>\n      <td>1.048780</td>\n      <td>0.0</td>\n      <td>192.0</td>\n      <td>72.295918</td>\n      <td>43.481585</td>\n      <td>1.890648e+03</td>\n      <td>0</td>\n    </tr>\n    <tr>\n      <th>5</th>\n      <td>eil101.tsp</td>\n      <td>101</td>\n      <td>5151</td>\n      <td>0.019608</td>\n      <td>51.0</td>\n      <td>1.020000</td>\n      <td>0.0</td>\n      <td>92.0</td>\n      <td>33.580237</td>\n      <td>16.613751</td>\n      <td>2.760167e+02</td>\n      <td>0</td>\n    </tr>\n    <tr>\n      <th>6</th>\n      <td>eil51.tsp</td>\n      <td>51</td>\n      <td>1326</td>\n      <td>0.038462</td>\n      <td>26.0</td>\n      <td>1.040000</td>\n      <td>0.0</td>\n      <td>86.0</td>\n      <td>31.760861</td>\n      <td>15.586857</td>\n      <td>2.429501e+02</td>\n      <td>0</td>\n    </tr>\n    <tr>\n      <th>7</th>\n      <td>eil76.tsp</td>\n      <td>76</td>\n      <td>2926</td>\n      <td>0.025974</td>\n      <td>38.5</td>\n      <td>1.026667</td>\n      <td>0.0</td>\n      <td>85.0</td>\n      <td>32.759349</td>\n      <td>16.107539</td>\n      <td>2.594528e+02</td>\n      <td>0</td>\n    </tr>\n    <tr>\n      <th>8</th>\n      <td>f10.tsp</td>\n      <td>10</td>\n      <td>55</td>\n      <td>0.181818</td>\n      <td>5.5</td>\n      <td>1.222222</td>\n      <td>0.0</td>\n      <td>2550.0</td>\n      <td>1105.700000</td>\n      <td>737.133265</td>\n      <td>5.433655e+05</td>\n      <td>0</td>\n    </tr>\n    <tr>\n      <th>9</th>\n      <td>gr48.tsp</td>\n      <td>48</td>\n      <td>1176</td>\n      <td>0.040816</td>\n      <td>24.5</td>\n      <td>1.042553</td>\n      <td>0.0</td>\n      <td>1083.0</td>\n      <td>428.766493</td>\n      <td>219.692229</td>\n      <td>4.826468e+04</td>\n      <td>0</td>\n    </tr>\n    <tr>\n      <th>10</th>\n      <td>gr96.tsp</td>\n      <td>96</td>\n      <td>4656</td>\n      <td>0.020619</td>\n      <td>48.5</td>\n      <td>1.021053</td>\n      <td>1.0</td>\n      <td>9850.0</td>\n      <td>3821.365234</td>\n      <td>1984.491419</td>\n      <td>3.938206e+06</td>\n      <td>0</td>\n    </tr>\n    <tr>\n      <th>11</th>\n      <td>hk48.tsp</td>\n      <td>48</td>\n      <td>1176</td>\n      <td>0.040816</td>\n      <td>24.5</td>\n      <td>1.042553</td>\n      <td>0.0</td>\n      <td>2734.0</td>\n      <td>1001.548611</td>\n      <td>592.269902</td>\n      <td>3.507836e+05</td>\n      <td>0</td>\n    </tr>\n    <tr>\n      <th>12</th>\n      <td>kroA100.tsp</td>\n      <td>100</td>\n      <td>5050</td>\n      <td>0.019802</td>\n      <td>50.5</td>\n      <td>1.020202</td>\n      <td>0.0</td>\n      <td>4150.0</td>\n      <td>1693.593400</td>\n      <td>927.201422</td>\n      <td>8.597025e+05</td>\n      <td>0</td>\n    </tr>\n    <tr>\n      <th>13</th>\n      <td>kroB100.tsp</td>\n      <td>100</td>\n      <td>5050</td>\n      <td>0.019802</td>\n      <td>50.5</td>\n      <td>1.020202</td>\n      <td>0.0</td>\n      <td>4167.0</td>\n      <td>1670.666800</td>\n      <td>923.712493</td>\n      <td>8.532448e+05</td>\n      <td>0</td>\n    </tr>\n    <tr>\n      <th>14</th>\n      <td>kroC100.tsp</td>\n      <td>100</td>\n      <td>5050</td>\n      <td>0.019802</td>\n      <td>50.5</td>\n      <td>1.020202</td>\n      <td>0.0</td>\n      <td>4187.0</td>\n      <td>1683.547800</td>\n      <td>921.835399</td>\n      <td>8.497805e+05</td>\n      <td>0</td>\n    </tr>\n    <tr>\n      <th>15</th>\n      <td>kroD100.tsp</td>\n      <td>100</td>\n      <td>5050</td>\n      <td>0.019802</td>\n      <td>50.5</td>\n      <td>1.020202</td>\n      <td>0.0</td>\n      <td>4028.0</td>\n      <td>1614.793000</td>\n      <td>877.992638</td>\n      <td>7.708711e+05</td>\n      <td>0</td>\n    </tr>\n    <tr>\n      <th>16</th>\n      <td>kroE100.tsp</td>\n      <td>100</td>\n      <td>5050</td>\n      <td>0.019802</td>\n      <td>50.5</td>\n      <td>1.020202</td>\n      <td>0.0</td>\n      <td>4138.0</td>\n      <td>1714.832800</td>\n      <td>944.728761</td>\n      <td>8.925124e+05</td>\n      <td>0</td>\n    </tr>\n    <tr>\n      <th>17</th>\n      <td>lin105.tsp</td>\n      <td>105</td>\n      <td>5565</td>\n      <td>0.018868</td>\n      <td>53.0</td>\n      <td>1.019231</td>\n      <td>0.0</td>\n      <td>3189.0</td>\n      <td>1166.136961</td>\n      <td>677.372319</td>\n      <td>4.588333e+05</td>\n      <td>0</td>\n    </tr>\n    <tr>\n      <th>18</th>\n      <td>pr107.tsp</td>\n      <td>107</td>\n      <td>5778</td>\n      <td>0.018519</td>\n      <td>54.0</td>\n      <td>1.018868</td>\n      <td>0.0</td>\n      <td>10691.0</td>\n      <td>5353.732204</td>\n      <td>3134.151604</td>\n      <td>9.822906e+06</td>\n      <td>0</td>\n    </tr>\n    <tr>\n      <th>19</th>\n      <td>pr76.tsp</td>\n      <td>76</td>\n      <td>2926</td>\n      <td>0.025974</td>\n      <td>38.5</td>\n      <td>1.026667</td>\n      <td>0.0</td>\n      <td>22674.0</td>\n      <td>7459.237535</td>\n      <td>3982.505724</td>\n      <td>1.586035e+07</td>\n      <td>0</td>\n    </tr>\n    <tr>\n      <th>20</th>\n      <td>rat99.tsp</td>\n      <td>99</td>\n      <td>4950</td>\n      <td>0.020000</td>\n      <td>50.0</td>\n      <td>1.020408</td>\n      <td>0.0</td>\n      <td>218.0</td>\n      <td>84.137333</td>\n      <td>47.326182</td>\n      <td>2.239767e+03</td>\n      <td>0</td>\n    </tr>\n    <tr>\n      <th>21</th>\n      <td>rd100.tsp</td>\n      <td>100</td>\n      <td>5050</td>\n      <td>0.019802</td>\n      <td>50.5</td>\n      <td>1.020202</td>\n      <td>0.0</td>\n      <td>1334.0</td>\n      <td>550.105000</td>\n      <td>267.281077</td>\n      <td>7.143917e+04</td>\n      <td>0</td>\n    </tr>\n    <tr>\n      <th>22</th>\n      <td>st70.tsp</td>\n      <td>70</td>\n      <td>2485</td>\n      <td>0.028169</td>\n      <td>35.5</td>\n      <td>1.028986</td>\n      <td>0.0</td>\n      <td>129.0</td>\n      <td>51.508163</td>\n      <td>24.994320</td>\n      <td>6.247161e+02</td>\n      <td>0</td>\n    </tr>\n    <tr>\n      <th>23</th>\n      <td>swiss42.tsp</td>\n      <td>42</td>\n      <td>1764</td>\n      <td>0.023810</td>\n      <td>42.0</td>\n      <td>1.024390</td>\n      <td>0.0</td>\n      <td>323.0</td>\n      <td>112.379819</td>\n      <td>60.449654</td>\n      <td>3.654161e+03</td>\n      <td>0</td>\n    </tr>\n  </tbody>\n</table>\n</div>"
     },
     "execution_count": 144,
     "metadata": {},
     "output_type": "execute_result"
    }
   ],
   "source": [
    "# new binary column called gils that I will fill manually\n",
    "df['gils'] = 0\n",
    "df"
   ],
   "metadata": {
    "collapsed": false,
    "ExecuteTime": {
     "start_time": "2023-05-04T14:01:03.199120Z",
     "end_time": "2023-05-04T14:01:03.276903Z"
    }
   }
  },
  {
   "cell_type": "code",
   "execution_count": 145,
   "outputs": [],
   "source": [
    "# set gils to 1 in the dantzig42 row\n",
    "# df.loc[df['file'] == 'eil101.tsp', 'gils'] = 1"
   ],
   "metadata": {
    "collapsed": false,
    "ExecuteTime": {
     "start_time": "2023-05-04T14:01:03.232127Z",
     "end_time": "2023-05-04T14:01:03.285906Z"
    }
   }
  },
  {
   "cell_type": "code",
   "execution_count": 146,
   "outputs": [
    {
     "data": {
      "text/plain": "             file    n     m    ratio1  ratio2   density  min      max  \\\n0       att48.tsp   48  1176  0.040816    24.5  1.042553  0.0   2662.0   \n1    berlin52.tsp   52  1378  0.037736    26.5  1.039216  0.0   1716.0   \n2    brazil58.tsp   58  1711  0.033898    29.5  1.035088  0.0   8700.0   \n3     burma14.tsp   14   105  0.133333     7.5  1.153846  1.0   1261.0   \n4   dantzig42.tsp   42   903  0.046512    21.5  1.048780  0.0    192.0   \n5      eil101.tsp  101  5151  0.019608    51.0  1.020000  0.0     92.0   \n6       eil51.tsp   51  1326  0.038462    26.0  1.040000  0.0     86.0   \n7       eil76.tsp   76  2926  0.025974    38.5  1.026667  0.0     85.0   \n8         f10.tsp   10    55  0.181818     5.5  1.222222  0.0   2550.0   \n9        gr48.tsp   48  1176  0.040816    24.5  1.042553  0.0   1083.0   \n10       gr96.tsp   96  4656  0.020619    48.5  1.021053  1.0   9850.0   \n11       hk48.tsp   48  1176  0.040816    24.5  1.042553  0.0   2734.0   \n12    kroA100.tsp  100  5050  0.019802    50.5  1.020202  0.0   4150.0   \n13    kroB100.tsp  100  5050  0.019802    50.5  1.020202  0.0   4167.0   \n14    kroC100.tsp  100  5050  0.019802    50.5  1.020202  0.0   4187.0   \n15    kroD100.tsp  100  5050  0.019802    50.5  1.020202  0.0   4028.0   \n16    kroE100.tsp  100  5050  0.019802    50.5  1.020202  0.0   4138.0   \n17     lin105.tsp  105  5565  0.018868    53.0  1.019231  0.0   3189.0   \n18      pr107.tsp  107  5778  0.018519    54.0  1.018868  0.0  10691.0   \n19       pr76.tsp   76  2926  0.025974    38.5  1.026667  0.0  22674.0   \n20      rat99.tsp   99  4950  0.020000    50.0  1.020408  0.0    218.0   \n21      rd100.tsp  100  5050  0.019802    50.5  1.020202  0.0   1334.0   \n22       st70.tsp   70  2485  0.028169    35.5  1.028986  0.0    129.0   \n23    swiss42.tsp   42  1764  0.023810    42.0  1.024390  0.0    323.0   \n\n           mean          std           var  gils  \n0   1017.559896   627.598414  3.938798e+05     0  \n1    564.188609   345.722052  1.195237e+05     0  \n2   2094.914388  1426.139588  2.033874e+06     0  \n3    442.612245   272.511473  7.426250e+04     0  \n4     72.295918    43.481585  1.890648e+03     0  \n5     33.580237    16.613751  2.760167e+02     0  \n6     31.760861    15.586857  2.429501e+02     0  \n7     32.759349    16.107539  2.594528e+02     0  \n8   1105.700000   737.133265  5.433655e+05     0  \n9    428.766493   219.692229  4.826468e+04     0  \n10  3821.365234  1984.491419  3.938206e+06     0  \n11  1001.548611   592.269902  3.507836e+05     0  \n12  1693.593400   927.201422  8.597025e+05     0  \n13  1670.666800   923.712493  8.532448e+05     0  \n14  1683.547800   921.835399  8.497805e+05     0  \n15  1614.793000   877.992638  7.708711e+05     0  \n16  1714.832800   944.728761  8.925124e+05     0  \n17  1166.136961   677.372319  4.588333e+05     0  \n18  5353.732204  3134.151604  9.822906e+06     0  \n19  7459.237535  3982.505724  1.586035e+07     0  \n20    84.137333    47.326182  2.239767e+03     0  \n21   550.105000   267.281077  7.143917e+04     0  \n22    51.508163    24.994320  6.247161e+02     0  \n23   112.379819    60.449654  3.654161e+03     0  ",
      "text/html": "<div>\n<style scoped>\n    .dataframe tbody tr th:only-of-type {\n        vertical-align: middle;\n    }\n\n    .dataframe tbody tr th {\n        vertical-align: top;\n    }\n\n    .dataframe thead th {\n        text-align: right;\n    }\n</style>\n<table border=\"1\" class=\"dataframe\">\n  <thead>\n    <tr style=\"text-align: right;\">\n      <th></th>\n      <th>file</th>\n      <th>n</th>\n      <th>m</th>\n      <th>ratio1</th>\n      <th>ratio2</th>\n      <th>density</th>\n      <th>min</th>\n      <th>max</th>\n      <th>mean</th>\n      <th>std</th>\n      <th>var</th>\n      <th>gils</th>\n    </tr>\n  </thead>\n  <tbody>\n    <tr>\n      <th>0</th>\n      <td>att48.tsp</td>\n      <td>48</td>\n      <td>1176</td>\n      <td>0.040816</td>\n      <td>24.5</td>\n      <td>1.042553</td>\n      <td>0.0</td>\n      <td>2662.0</td>\n      <td>1017.559896</td>\n      <td>627.598414</td>\n      <td>3.938798e+05</td>\n      <td>0</td>\n    </tr>\n    <tr>\n      <th>1</th>\n      <td>berlin52.tsp</td>\n      <td>52</td>\n      <td>1378</td>\n      <td>0.037736</td>\n      <td>26.5</td>\n      <td>1.039216</td>\n      <td>0.0</td>\n      <td>1716.0</td>\n      <td>564.188609</td>\n      <td>345.722052</td>\n      <td>1.195237e+05</td>\n      <td>0</td>\n    </tr>\n    <tr>\n      <th>2</th>\n      <td>brazil58.tsp</td>\n      <td>58</td>\n      <td>1711</td>\n      <td>0.033898</td>\n      <td>29.5</td>\n      <td>1.035088</td>\n      <td>0.0</td>\n      <td>8700.0</td>\n      <td>2094.914388</td>\n      <td>1426.139588</td>\n      <td>2.033874e+06</td>\n      <td>0</td>\n    </tr>\n    <tr>\n      <th>3</th>\n      <td>burma14.tsp</td>\n      <td>14</td>\n      <td>105</td>\n      <td>0.133333</td>\n      <td>7.5</td>\n      <td>1.153846</td>\n      <td>1.0</td>\n      <td>1261.0</td>\n      <td>442.612245</td>\n      <td>272.511473</td>\n      <td>7.426250e+04</td>\n      <td>0</td>\n    </tr>\n    <tr>\n      <th>4</th>\n      <td>dantzig42.tsp</td>\n      <td>42</td>\n      <td>903</td>\n      <td>0.046512</td>\n      <td>21.5</td>\n      <td>1.048780</td>\n      <td>0.0</td>\n      <td>192.0</td>\n      <td>72.295918</td>\n      <td>43.481585</td>\n      <td>1.890648e+03</td>\n      <td>0</td>\n    </tr>\n    <tr>\n      <th>5</th>\n      <td>eil101.tsp</td>\n      <td>101</td>\n      <td>5151</td>\n      <td>0.019608</td>\n      <td>51.0</td>\n      <td>1.020000</td>\n      <td>0.0</td>\n      <td>92.0</td>\n      <td>33.580237</td>\n      <td>16.613751</td>\n      <td>2.760167e+02</td>\n      <td>0</td>\n    </tr>\n    <tr>\n      <th>6</th>\n      <td>eil51.tsp</td>\n      <td>51</td>\n      <td>1326</td>\n      <td>0.038462</td>\n      <td>26.0</td>\n      <td>1.040000</td>\n      <td>0.0</td>\n      <td>86.0</td>\n      <td>31.760861</td>\n      <td>15.586857</td>\n      <td>2.429501e+02</td>\n      <td>0</td>\n    </tr>\n    <tr>\n      <th>7</th>\n      <td>eil76.tsp</td>\n      <td>76</td>\n      <td>2926</td>\n      <td>0.025974</td>\n      <td>38.5</td>\n      <td>1.026667</td>\n      <td>0.0</td>\n      <td>85.0</td>\n      <td>32.759349</td>\n      <td>16.107539</td>\n      <td>2.594528e+02</td>\n      <td>0</td>\n    </tr>\n    <tr>\n      <th>8</th>\n      <td>f10.tsp</td>\n      <td>10</td>\n      <td>55</td>\n      <td>0.181818</td>\n      <td>5.5</td>\n      <td>1.222222</td>\n      <td>0.0</td>\n      <td>2550.0</td>\n      <td>1105.700000</td>\n      <td>737.133265</td>\n      <td>5.433655e+05</td>\n      <td>0</td>\n    </tr>\n    <tr>\n      <th>9</th>\n      <td>gr48.tsp</td>\n      <td>48</td>\n      <td>1176</td>\n      <td>0.040816</td>\n      <td>24.5</td>\n      <td>1.042553</td>\n      <td>0.0</td>\n      <td>1083.0</td>\n      <td>428.766493</td>\n      <td>219.692229</td>\n      <td>4.826468e+04</td>\n      <td>0</td>\n    </tr>\n    <tr>\n      <th>10</th>\n      <td>gr96.tsp</td>\n      <td>96</td>\n      <td>4656</td>\n      <td>0.020619</td>\n      <td>48.5</td>\n      <td>1.021053</td>\n      <td>1.0</td>\n      <td>9850.0</td>\n      <td>3821.365234</td>\n      <td>1984.491419</td>\n      <td>3.938206e+06</td>\n      <td>0</td>\n    </tr>\n    <tr>\n      <th>11</th>\n      <td>hk48.tsp</td>\n      <td>48</td>\n      <td>1176</td>\n      <td>0.040816</td>\n      <td>24.5</td>\n      <td>1.042553</td>\n      <td>0.0</td>\n      <td>2734.0</td>\n      <td>1001.548611</td>\n      <td>592.269902</td>\n      <td>3.507836e+05</td>\n      <td>0</td>\n    </tr>\n    <tr>\n      <th>12</th>\n      <td>kroA100.tsp</td>\n      <td>100</td>\n      <td>5050</td>\n      <td>0.019802</td>\n      <td>50.5</td>\n      <td>1.020202</td>\n      <td>0.0</td>\n      <td>4150.0</td>\n      <td>1693.593400</td>\n      <td>927.201422</td>\n      <td>8.597025e+05</td>\n      <td>0</td>\n    </tr>\n    <tr>\n      <th>13</th>\n      <td>kroB100.tsp</td>\n      <td>100</td>\n      <td>5050</td>\n      <td>0.019802</td>\n      <td>50.5</td>\n      <td>1.020202</td>\n      <td>0.0</td>\n      <td>4167.0</td>\n      <td>1670.666800</td>\n      <td>923.712493</td>\n      <td>8.532448e+05</td>\n      <td>0</td>\n    </tr>\n    <tr>\n      <th>14</th>\n      <td>kroC100.tsp</td>\n      <td>100</td>\n      <td>5050</td>\n      <td>0.019802</td>\n      <td>50.5</td>\n      <td>1.020202</td>\n      <td>0.0</td>\n      <td>4187.0</td>\n      <td>1683.547800</td>\n      <td>921.835399</td>\n      <td>8.497805e+05</td>\n      <td>0</td>\n    </tr>\n    <tr>\n      <th>15</th>\n      <td>kroD100.tsp</td>\n      <td>100</td>\n      <td>5050</td>\n      <td>0.019802</td>\n      <td>50.5</td>\n      <td>1.020202</td>\n      <td>0.0</td>\n      <td>4028.0</td>\n      <td>1614.793000</td>\n      <td>877.992638</td>\n      <td>7.708711e+05</td>\n      <td>0</td>\n    </tr>\n    <tr>\n      <th>16</th>\n      <td>kroE100.tsp</td>\n      <td>100</td>\n      <td>5050</td>\n      <td>0.019802</td>\n      <td>50.5</td>\n      <td>1.020202</td>\n      <td>0.0</td>\n      <td>4138.0</td>\n      <td>1714.832800</td>\n      <td>944.728761</td>\n      <td>8.925124e+05</td>\n      <td>0</td>\n    </tr>\n    <tr>\n      <th>17</th>\n      <td>lin105.tsp</td>\n      <td>105</td>\n      <td>5565</td>\n      <td>0.018868</td>\n      <td>53.0</td>\n      <td>1.019231</td>\n      <td>0.0</td>\n      <td>3189.0</td>\n      <td>1166.136961</td>\n      <td>677.372319</td>\n      <td>4.588333e+05</td>\n      <td>0</td>\n    </tr>\n    <tr>\n      <th>18</th>\n      <td>pr107.tsp</td>\n      <td>107</td>\n      <td>5778</td>\n      <td>0.018519</td>\n      <td>54.0</td>\n      <td>1.018868</td>\n      <td>0.0</td>\n      <td>10691.0</td>\n      <td>5353.732204</td>\n      <td>3134.151604</td>\n      <td>9.822906e+06</td>\n      <td>0</td>\n    </tr>\n    <tr>\n      <th>19</th>\n      <td>pr76.tsp</td>\n      <td>76</td>\n      <td>2926</td>\n      <td>0.025974</td>\n      <td>38.5</td>\n      <td>1.026667</td>\n      <td>0.0</td>\n      <td>22674.0</td>\n      <td>7459.237535</td>\n      <td>3982.505724</td>\n      <td>1.586035e+07</td>\n      <td>0</td>\n    </tr>\n    <tr>\n      <th>20</th>\n      <td>rat99.tsp</td>\n      <td>99</td>\n      <td>4950</td>\n      <td>0.020000</td>\n      <td>50.0</td>\n      <td>1.020408</td>\n      <td>0.0</td>\n      <td>218.0</td>\n      <td>84.137333</td>\n      <td>47.326182</td>\n      <td>2.239767e+03</td>\n      <td>0</td>\n    </tr>\n    <tr>\n      <th>21</th>\n      <td>rd100.tsp</td>\n      <td>100</td>\n      <td>5050</td>\n      <td>0.019802</td>\n      <td>50.5</td>\n      <td>1.020202</td>\n      <td>0.0</td>\n      <td>1334.0</td>\n      <td>550.105000</td>\n      <td>267.281077</td>\n      <td>7.143917e+04</td>\n      <td>0</td>\n    </tr>\n    <tr>\n      <th>22</th>\n      <td>st70.tsp</td>\n      <td>70</td>\n      <td>2485</td>\n      <td>0.028169</td>\n      <td>35.5</td>\n      <td>1.028986</td>\n      <td>0.0</td>\n      <td>129.0</td>\n      <td>51.508163</td>\n      <td>24.994320</td>\n      <td>6.247161e+02</td>\n      <td>0</td>\n    </tr>\n    <tr>\n      <th>23</th>\n      <td>swiss42.tsp</td>\n      <td>42</td>\n      <td>1764</td>\n      <td>0.023810</td>\n      <td>42.0</td>\n      <td>1.024390</td>\n      <td>0.0</td>\n      <td>323.0</td>\n      <td>112.379819</td>\n      <td>60.449654</td>\n      <td>3.654161e+03</td>\n      <td>0</td>\n    </tr>\n  </tbody>\n</table>\n</div>"
     },
     "execution_count": 146,
     "metadata": {},
     "output_type": "execute_result"
    }
   ],
   "source": [
    "df"
   ],
   "metadata": {
    "collapsed": false,
    "ExecuteTime": {
     "start_time": "2023-05-04T14:01:03.247136Z",
     "end_time": "2023-05-04T14:01:03.286907Z"
    }
   }
  },
  {
   "cell_type": "code",
   "execution_count": 147,
   "outputs": [],
   "source": [
    "# save the dataframe as a csv\n",
    "# df.to_csv('data.csv', index=False)"
   ],
   "metadata": {
    "collapsed": false,
    "ExecuteTime": {
     "start_time": "2023-05-04T14:01:03.264140Z",
     "end_time": "2023-05-04T14:01:03.286907Z"
    }
   }
  },
  {
   "cell_type": "code",
   "execution_count": 148,
   "outputs": [],
   "source": [
    "# train a model on the data that predicts gils\n"
   ],
   "metadata": {
    "collapsed": false,
    "ExecuteTime": {
     "start_time": "2023-05-04T14:01:03.278904Z",
     "end_time": "2023-05-04T14:01:03.323915Z"
    }
   }
  },
  {
   "cell_type": "code",
   "execution_count": 149,
   "outputs": [
    {
     "data": {
      "text/plain": "             file    n     m    ratio1  ratio2   density  min      max  \\\n0       att48.tsp   48  1176  0.040816    24.5  1.042553  0.0   2662.0   \n1    berlin52.tsp   52  1378  0.037736    26.5  1.039216  0.0   1716.0   \n2    brazil58.tsp   58  1711  0.033898    29.5  1.035088  0.0   8700.0   \n3     burma14.tsp   14   105  0.133333     7.5  1.153846  1.0   1261.0   \n4   dantzig42.tsp   42   903  0.046512    21.5  1.048780  0.0    192.0   \n5      eil101.tsp  101  5151  0.019608    51.0  1.020000  0.0     92.0   \n6       eil51.tsp   51  1326  0.038462    26.0  1.040000  0.0     86.0   \n7       eil76.tsp   76  2926  0.025974    38.5  1.026667  0.0     85.0   \n8         f10.tsp   10    55  0.181818     5.5  1.222222  0.0   2550.0   \n9        gr48.tsp   48  1176  0.040816    24.5  1.042553  0.0   1083.0   \n10       gr96.tsp   96  4656  0.020619    48.5  1.021053  1.0   9850.0   \n11       hk48.tsp   48  1176  0.040816    24.5  1.042553  0.0   2734.0   \n12    kroA100.tsp  100  5050  0.019802    50.5  1.020202  0.0   4150.0   \n13    kroB100.tsp  100  5050  0.019802    50.5  1.020202  0.0   4167.0   \n14    kroC100.tsp  100  5050  0.019802    50.5  1.020202  0.0   4187.0   \n15    kroD100.tsp  100  5050  0.019802    50.5  1.020202  0.0   4028.0   \n16    kroE100.tsp  100  5050  0.019802    50.5  1.020202  0.0   4138.0   \n17     lin105.tsp  105  5565  0.018868    53.0  1.019231  0.0   3189.0   \n18      pr107.tsp  107  5778  0.018519    54.0  1.018868  0.0  10691.0   \n19       pr76.tsp   76  2926  0.025974    38.5  1.026667  0.0  22674.0   \n20      rat99.tsp   99  4950  0.020000    50.0  1.020408  0.0    218.0   \n21      rd100.tsp  100  5050  0.019802    50.5  1.020202  0.0   1334.0   \n22       st70.tsp   70  2485  0.028169    35.5  1.028986  0.0    129.0   \n23    swiss42.tsp   42  1764  0.023810    42.0  1.024390  0.0    323.0   \n\n           mean          std           var  gils  \n0   1017.559896   627.598414  3.938798e+05     1  \n1    564.188609   345.722052  1.195237e+05     1  \n2   2094.914388  1426.139588  2.033874e+06     0  \n3    442.612245   272.511473  7.426250e+04     0  \n4     72.295918    43.481585  1.890648e+03     1  \n5     33.580237    16.613751  2.760167e+02     1  \n6     31.760861    15.586857  2.429501e+02     1  \n7     32.759349    16.107539  2.594528e+02     0  \n8   1105.700000   737.133265  5.433655e+05     0  \n9    428.766493   219.692229  4.826468e+04     1  \n10  3821.365234  1984.491419  3.938206e+06     0  \n11  1001.548611   592.269902  3.507836e+05     1  \n12  1693.593400   927.201422  8.597025e+05     0  \n13  1670.666800   923.712493  8.532448e+05     0  \n14  1683.547800   921.835399  8.497805e+05     0  \n15  1614.793000   877.992638  7.708711e+05     0  \n16  1714.832800   944.728761  8.925124e+05     0  \n17  1166.136961   677.372319  4.588333e+05     0  \n18  5353.732204  3134.151604  9.822906e+06     0  \n19  7459.237535  3982.505724  1.586035e+07     0  \n20    84.137333    47.326182  2.239767e+03     0  \n21   550.105000   267.281077  7.143917e+04     0  \n22    51.508163    24.994320  6.247161e+02     1  \n23   112.379819    60.449654  3.654161e+03     0  ",
      "text/html": "<div>\n<style scoped>\n    .dataframe tbody tr th:only-of-type {\n        vertical-align: middle;\n    }\n\n    .dataframe tbody tr th {\n        vertical-align: top;\n    }\n\n    .dataframe thead th {\n        text-align: right;\n    }\n</style>\n<table border=\"1\" class=\"dataframe\">\n  <thead>\n    <tr style=\"text-align: right;\">\n      <th></th>\n      <th>file</th>\n      <th>n</th>\n      <th>m</th>\n      <th>ratio1</th>\n      <th>ratio2</th>\n      <th>density</th>\n      <th>min</th>\n      <th>max</th>\n      <th>mean</th>\n      <th>std</th>\n      <th>var</th>\n      <th>gils</th>\n    </tr>\n  </thead>\n  <tbody>\n    <tr>\n      <th>0</th>\n      <td>att48.tsp</td>\n      <td>48</td>\n      <td>1176</td>\n      <td>0.040816</td>\n      <td>24.5</td>\n      <td>1.042553</td>\n      <td>0.0</td>\n      <td>2662.0</td>\n      <td>1017.559896</td>\n      <td>627.598414</td>\n      <td>3.938798e+05</td>\n      <td>1</td>\n    </tr>\n    <tr>\n      <th>1</th>\n      <td>berlin52.tsp</td>\n      <td>52</td>\n      <td>1378</td>\n      <td>0.037736</td>\n      <td>26.5</td>\n      <td>1.039216</td>\n      <td>0.0</td>\n      <td>1716.0</td>\n      <td>564.188609</td>\n      <td>345.722052</td>\n      <td>1.195237e+05</td>\n      <td>1</td>\n    </tr>\n    <tr>\n      <th>2</th>\n      <td>brazil58.tsp</td>\n      <td>58</td>\n      <td>1711</td>\n      <td>0.033898</td>\n      <td>29.5</td>\n      <td>1.035088</td>\n      <td>0.0</td>\n      <td>8700.0</td>\n      <td>2094.914388</td>\n      <td>1426.139588</td>\n      <td>2.033874e+06</td>\n      <td>0</td>\n    </tr>\n    <tr>\n      <th>3</th>\n      <td>burma14.tsp</td>\n      <td>14</td>\n      <td>105</td>\n      <td>0.133333</td>\n      <td>7.5</td>\n      <td>1.153846</td>\n      <td>1.0</td>\n      <td>1261.0</td>\n      <td>442.612245</td>\n      <td>272.511473</td>\n      <td>7.426250e+04</td>\n      <td>0</td>\n    </tr>\n    <tr>\n      <th>4</th>\n      <td>dantzig42.tsp</td>\n      <td>42</td>\n      <td>903</td>\n      <td>0.046512</td>\n      <td>21.5</td>\n      <td>1.048780</td>\n      <td>0.0</td>\n      <td>192.0</td>\n      <td>72.295918</td>\n      <td>43.481585</td>\n      <td>1.890648e+03</td>\n      <td>1</td>\n    </tr>\n    <tr>\n      <th>5</th>\n      <td>eil101.tsp</td>\n      <td>101</td>\n      <td>5151</td>\n      <td>0.019608</td>\n      <td>51.0</td>\n      <td>1.020000</td>\n      <td>0.0</td>\n      <td>92.0</td>\n      <td>33.580237</td>\n      <td>16.613751</td>\n      <td>2.760167e+02</td>\n      <td>1</td>\n    </tr>\n    <tr>\n      <th>6</th>\n      <td>eil51.tsp</td>\n      <td>51</td>\n      <td>1326</td>\n      <td>0.038462</td>\n      <td>26.0</td>\n      <td>1.040000</td>\n      <td>0.0</td>\n      <td>86.0</td>\n      <td>31.760861</td>\n      <td>15.586857</td>\n      <td>2.429501e+02</td>\n      <td>1</td>\n    </tr>\n    <tr>\n      <th>7</th>\n      <td>eil76.tsp</td>\n      <td>76</td>\n      <td>2926</td>\n      <td>0.025974</td>\n      <td>38.5</td>\n      <td>1.026667</td>\n      <td>0.0</td>\n      <td>85.0</td>\n      <td>32.759349</td>\n      <td>16.107539</td>\n      <td>2.594528e+02</td>\n      <td>0</td>\n    </tr>\n    <tr>\n      <th>8</th>\n      <td>f10.tsp</td>\n      <td>10</td>\n      <td>55</td>\n      <td>0.181818</td>\n      <td>5.5</td>\n      <td>1.222222</td>\n      <td>0.0</td>\n      <td>2550.0</td>\n      <td>1105.700000</td>\n      <td>737.133265</td>\n      <td>5.433655e+05</td>\n      <td>0</td>\n    </tr>\n    <tr>\n      <th>9</th>\n      <td>gr48.tsp</td>\n      <td>48</td>\n      <td>1176</td>\n      <td>0.040816</td>\n      <td>24.5</td>\n      <td>1.042553</td>\n      <td>0.0</td>\n      <td>1083.0</td>\n      <td>428.766493</td>\n      <td>219.692229</td>\n      <td>4.826468e+04</td>\n      <td>1</td>\n    </tr>\n    <tr>\n      <th>10</th>\n      <td>gr96.tsp</td>\n      <td>96</td>\n      <td>4656</td>\n      <td>0.020619</td>\n      <td>48.5</td>\n      <td>1.021053</td>\n      <td>1.0</td>\n      <td>9850.0</td>\n      <td>3821.365234</td>\n      <td>1984.491419</td>\n      <td>3.938206e+06</td>\n      <td>0</td>\n    </tr>\n    <tr>\n      <th>11</th>\n      <td>hk48.tsp</td>\n      <td>48</td>\n      <td>1176</td>\n      <td>0.040816</td>\n      <td>24.5</td>\n      <td>1.042553</td>\n      <td>0.0</td>\n      <td>2734.0</td>\n      <td>1001.548611</td>\n      <td>592.269902</td>\n      <td>3.507836e+05</td>\n      <td>1</td>\n    </tr>\n    <tr>\n      <th>12</th>\n      <td>kroA100.tsp</td>\n      <td>100</td>\n      <td>5050</td>\n      <td>0.019802</td>\n      <td>50.5</td>\n      <td>1.020202</td>\n      <td>0.0</td>\n      <td>4150.0</td>\n      <td>1693.593400</td>\n      <td>927.201422</td>\n      <td>8.597025e+05</td>\n      <td>0</td>\n    </tr>\n    <tr>\n      <th>13</th>\n      <td>kroB100.tsp</td>\n      <td>100</td>\n      <td>5050</td>\n      <td>0.019802</td>\n      <td>50.5</td>\n      <td>1.020202</td>\n      <td>0.0</td>\n      <td>4167.0</td>\n      <td>1670.666800</td>\n      <td>923.712493</td>\n      <td>8.532448e+05</td>\n      <td>0</td>\n    </tr>\n    <tr>\n      <th>14</th>\n      <td>kroC100.tsp</td>\n      <td>100</td>\n      <td>5050</td>\n      <td>0.019802</td>\n      <td>50.5</td>\n      <td>1.020202</td>\n      <td>0.0</td>\n      <td>4187.0</td>\n      <td>1683.547800</td>\n      <td>921.835399</td>\n      <td>8.497805e+05</td>\n      <td>0</td>\n    </tr>\n    <tr>\n      <th>15</th>\n      <td>kroD100.tsp</td>\n      <td>100</td>\n      <td>5050</td>\n      <td>0.019802</td>\n      <td>50.5</td>\n      <td>1.020202</td>\n      <td>0.0</td>\n      <td>4028.0</td>\n      <td>1614.793000</td>\n      <td>877.992638</td>\n      <td>7.708711e+05</td>\n      <td>0</td>\n    </tr>\n    <tr>\n      <th>16</th>\n      <td>kroE100.tsp</td>\n      <td>100</td>\n      <td>5050</td>\n      <td>0.019802</td>\n      <td>50.5</td>\n      <td>1.020202</td>\n      <td>0.0</td>\n      <td>4138.0</td>\n      <td>1714.832800</td>\n      <td>944.728761</td>\n      <td>8.925124e+05</td>\n      <td>0</td>\n    </tr>\n    <tr>\n      <th>17</th>\n      <td>lin105.tsp</td>\n      <td>105</td>\n      <td>5565</td>\n      <td>0.018868</td>\n      <td>53.0</td>\n      <td>1.019231</td>\n      <td>0.0</td>\n      <td>3189.0</td>\n      <td>1166.136961</td>\n      <td>677.372319</td>\n      <td>4.588333e+05</td>\n      <td>0</td>\n    </tr>\n    <tr>\n      <th>18</th>\n      <td>pr107.tsp</td>\n      <td>107</td>\n      <td>5778</td>\n      <td>0.018519</td>\n      <td>54.0</td>\n      <td>1.018868</td>\n      <td>0.0</td>\n      <td>10691.0</td>\n      <td>5353.732204</td>\n      <td>3134.151604</td>\n      <td>9.822906e+06</td>\n      <td>0</td>\n    </tr>\n    <tr>\n      <th>19</th>\n      <td>pr76.tsp</td>\n      <td>76</td>\n      <td>2926</td>\n      <td>0.025974</td>\n      <td>38.5</td>\n      <td>1.026667</td>\n      <td>0.0</td>\n      <td>22674.0</td>\n      <td>7459.237535</td>\n      <td>3982.505724</td>\n      <td>1.586035e+07</td>\n      <td>0</td>\n    </tr>\n    <tr>\n      <th>20</th>\n      <td>rat99.tsp</td>\n      <td>99</td>\n      <td>4950</td>\n      <td>0.020000</td>\n      <td>50.0</td>\n      <td>1.020408</td>\n      <td>0.0</td>\n      <td>218.0</td>\n      <td>84.137333</td>\n      <td>47.326182</td>\n      <td>2.239767e+03</td>\n      <td>0</td>\n    </tr>\n    <tr>\n      <th>21</th>\n      <td>rd100.tsp</td>\n      <td>100</td>\n      <td>5050</td>\n      <td>0.019802</td>\n      <td>50.5</td>\n      <td>1.020202</td>\n      <td>0.0</td>\n      <td>1334.0</td>\n      <td>550.105000</td>\n      <td>267.281077</td>\n      <td>7.143917e+04</td>\n      <td>0</td>\n    </tr>\n    <tr>\n      <th>22</th>\n      <td>st70.tsp</td>\n      <td>70</td>\n      <td>2485</td>\n      <td>0.028169</td>\n      <td>35.5</td>\n      <td>1.028986</td>\n      <td>0.0</td>\n      <td>129.0</td>\n      <td>51.508163</td>\n      <td>24.994320</td>\n      <td>6.247161e+02</td>\n      <td>1</td>\n    </tr>\n    <tr>\n      <th>23</th>\n      <td>swiss42.tsp</td>\n      <td>42</td>\n      <td>1764</td>\n      <td>0.023810</td>\n      <td>42.0</td>\n      <td>1.024390</td>\n      <td>0.0</td>\n      <td>323.0</td>\n      <td>112.379819</td>\n      <td>60.449654</td>\n      <td>3.654161e+03</td>\n      <td>0</td>\n    </tr>\n  </tbody>\n</table>\n</div>"
     },
     "execution_count": 149,
     "metadata": {},
     "output_type": "execute_result"
    }
   ],
   "source": [
    "# get the data\n",
    "df = pd.read_csv('data.csv')\n",
    "df"
   ],
   "metadata": {
    "collapsed": false,
    "ExecuteTime": {
     "start_time": "2023-05-04T14:01:03.295908Z",
     "end_time": "2023-05-04T14:01:03.346920Z"
    }
   }
  },
  {
   "cell_type": "code",
   "execution_count": 150,
   "outputs": [],
   "source": [
    "# get the features\n",
    "X = df[['n', 'm', 'ratio1', 'ratio2', 'density', 'min', 'max', 'mean', 'std', 'var']]\n",
    "y = df['gils']\n",
    "\n"
   ],
   "metadata": {
    "collapsed": false,
    "ExecuteTime": {
     "start_time": "2023-05-04T14:01:03.326916Z",
     "end_time": "2023-05-04T14:01:03.371925Z"
    }
   }
  },
  {
   "cell_type": "code",
   "execution_count": 151,
   "outputs": [],
   "source": [
    "# train test split\n",
    "from sklearn.model_selection import train_test_split\n",
    "X_train, X_test, y_train, y_test = train_test_split(X, y)\n",
    "\n"
   ],
   "metadata": {
    "collapsed": false,
    "ExecuteTime": {
     "start_time": "2023-05-04T14:01:03.344920Z",
     "end_time": "2023-05-04T14:01:03.396931Z"
    }
   }
  },
  {
   "cell_type": "code",
   "execution_count": 152,
   "outputs": [
    {
     "data": {
      "text/plain": "RandomForestClassifier()",
      "text/html": "<style>#sk-container-id-4 {color: black;background-color: white;}#sk-container-id-4 pre{padding: 0;}#sk-container-id-4 div.sk-toggleable {background-color: white;}#sk-container-id-4 label.sk-toggleable__label {cursor: pointer;display: block;width: 100%;margin-bottom: 0;padding: 0.3em;box-sizing: border-box;text-align: center;}#sk-container-id-4 label.sk-toggleable__label-arrow:before {content: \"▸\";float: left;margin-right: 0.25em;color: #696969;}#sk-container-id-4 label.sk-toggleable__label-arrow:hover:before {color: black;}#sk-container-id-4 div.sk-estimator:hover label.sk-toggleable__label-arrow:before {color: black;}#sk-container-id-4 div.sk-toggleable__content {max-height: 0;max-width: 0;overflow: hidden;text-align: left;background-color: #f0f8ff;}#sk-container-id-4 div.sk-toggleable__content pre {margin: 0.2em;color: black;border-radius: 0.25em;background-color: #f0f8ff;}#sk-container-id-4 input.sk-toggleable__control:checked~div.sk-toggleable__content {max-height: 200px;max-width: 100%;overflow: auto;}#sk-container-id-4 input.sk-toggleable__control:checked~label.sk-toggleable__label-arrow:before {content: \"▾\";}#sk-container-id-4 div.sk-estimator input.sk-toggleable__control:checked~label.sk-toggleable__label {background-color: #d4ebff;}#sk-container-id-4 div.sk-label input.sk-toggleable__control:checked~label.sk-toggleable__label {background-color: #d4ebff;}#sk-container-id-4 input.sk-hidden--visually {border: 0;clip: rect(1px 1px 1px 1px);clip: rect(1px, 1px, 1px, 1px);height: 1px;margin: -1px;overflow: hidden;padding: 0;position: absolute;width: 1px;}#sk-container-id-4 div.sk-estimator {font-family: monospace;background-color: #f0f8ff;border: 1px dotted black;border-radius: 0.25em;box-sizing: border-box;margin-bottom: 0.5em;}#sk-container-id-4 div.sk-estimator:hover {background-color: #d4ebff;}#sk-container-id-4 div.sk-parallel-item::after {content: \"\";width: 100%;border-bottom: 1px solid gray;flex-grow: 1;}#sk-container-id-4 div.sk-label:hover label.sk-toggleable__label {background-color: #d4ebff;}#sk-container-id-4 div.sk-serial::before {content: \"\";position: absolute;border-left: 1px solid gray;box-sizing: border-box;top: 0;bottom: 0;left: 50%;z-index: 0;}#sk-container-id-4 div.sk-serial {display: flex;flex-direction: column;align-items: center;background-color: white;padding-right: 0.2em;padding-left: 0.2em;position: relative;}#sk-container-id-4 div.sk-item {position: relative;z-index: 1;}#sk-container-id-4 div.sk-parallel {display: flex;align-items: stretch;justify-content: center;background-color: white;position: relative;}#sk-container-id-4 div.sk-item::before, #sk-container-id-4 div.sk-parallel-item::before {content: \"\";position: absolute;border-left: 1px solid gray;box-sizing: border-box;top: 0;bottom: 0;left: 50%;z-index: -1;}#sk-container-id-4 div.sk-parallel-item {display: flex;flex-direction: column;z-index: 1;position: relative;background-color: white;}#sk-container-id-4 div.sk-parallel-item:first-child::after {align-self: flex-end;width: 50%;}#sk-container-id-4 div.sk-parallel-item:last-child::after {align-self: flex-start;width: 50%;}#sk-container-id-4 div.sk-parallel-item:only-child::after {width: 0;}#sk-container-id-4 div.sk-dashed-wrapped {border: 1px dashed gray;margin: 0 0.4em 0.5em 0.4em;box-sizing: border-box;padding-bottom: 0.4em;background-color: white;}#sk-container-id-4 div.sk-label label {font-family: monospace;font-weight: bold;display: inline-block;line-height: 1.2em;}#sk-container-id-4 div.sk-label-container {text-align: center;}#sk-container-id-4 div.sk-container {/* jupyter's `normalize.less` sets `[hidden] { display: none; }` but bootstrap.min.css set `[hidden] { display: none !important; }` so we also need the `!important` here to be able to override the default hidden behavior on the sphinx rendered scikit-learn.org. See: https://github.com/scikit-learn/scikit-learn/issues/21755 */display: inline-block !important;position: relative;}#sk-container-id-4 div.sk-text-repr-fallback {display: none;}</style><div id=\"sk-container-id-4\" class=\"sk-top-container\"><div class=\"sk-text-repr-fallback\"><pre>RandomForestClassifier()</pre><b>In a Jupyter environment, please rerun this cell to show the HTML representation or trust the notebook. <br />On GitHub, the HTML representation is unable to render, please try loading this page with nbviewer.org.</b></div><div class=\"sk-container\" hidden><div class=\"sk-item\"><div class=\"sk-estimator sk-toggleable\"><input class=\"sk-toggleable__control sk-hidden--visually\" id=\"sk-estimator-id-4\" type=\"checkbox\" checked><label for=\"sk-estimator-id-4\" class=\"sk-toggleable__label sk-toggleable__label-arrow\">RandomForestClassifier</label><div class=\"sk-toggleable__content\"><pre>RandomForestClassifier()</pre></div></div></div></div></div>"
     },
     "execution_count": 152,
     "metadata": {},
     "output_type": "execute_result"
    }
   ],
   "source": [
    "# train a random forest\n",
    "from sklearn.ensemble import RandomForestClassifier\n",
    "rf = RandomForestClassifier()\n",
    "rf.fit(X_train, y_train)\n",
    "\n"
   ],
   "metadata": {
    "collapsed": false,
    "ExecuteTime": {
     "start_time": "2023-05-04T14:01:03.358923Z",
     "end_time": "2023-05-04T14:01:03.458945Z"
    }
   }
  },
  {
   "cell_type": "code",
   "execution_count": 153,
   "outputs": [],
   "source": [
    "# get the predictions\n",
    "y_pred = rf.predict(X_test)\n",
    "\n"
   ],
   "metadata": {
    "collapsed": false,
    "ExecuteTime": {
     "start_time": "2023-05-04T14:01:03.452943Z",
     "end_time": "2023-05-04T14:01:03.473949Z"
    }
   }
  },
  {
   "cell_type": "code",
   "execution_count": 154,
   "outputs": [
    {
     "data": {
      "text/plain": "0.6666666666666666"
     },
     "execution_count": 154,
     "metadata": {},
     "output_type": "execute_result"
    }
   ],
   "source": [
    "# get the accuracy\n",
    "from sklearn.metrics import accuracy_score\n",
    "accuracy_score(y_test, y_pred)\n"
   ],
   "metadata": {
    "collapsed": false,
    "ExecuteTime": {
     "start_time": "2023-05-04T14:01:03.468948Z",
     "end_time": "2023-05-04T14:01:03.512959Z"
    }
   }
  },
  {
   "cell_type": "code",
   "execution_count": 155,
   "outputs": [
    {
     "data": {
      "text/plain": "(3, 0, 2, 1)"
     },
     "execution_count": 155,
     "metadata": {},
     "output_type": "execute_result"
    }
   ],
   "source": [
    "# get the confusion matrix\n",
    "from sklearn.metrics import confusion_matrix\n",
    "tn, fp, fn, tp = confusion_matrix(y_test, y_pred).ravel()\n",
    "(tn, fp, fn, tp)"
   ],
   "metadata": {
    "collapsed": false,
    "ExecuteTime": {
     "start_time": "2023-05-04T14:01:03.484951Z",
     "end_time": "2023-05-04T14:01:03.528516Z"
    }
   }
  },
  {
   "cell_type": "code",
   "execution_count": 156,
   "outputs": [],
   "source": [
    "# predict the entire dataset\n",
    "y_pred = rf.predict(X)\n"
   ],
   "metadata": {
    "collapsed": false,
    "ExecuteTime": {
     "start_time": "2023-05-04T14:01:03.501955Z",
     "end_time": "2023-05-04T14:01:03.536518Z"
    }
   }
  },
  {
   "cell_type": "code",
   "execution_count": 157,
   "outputs": [
    {
     "data": {
      "text/plain": "0.9166666666666666"
     },
     "execution_count": 157,
     "metadata": {},
     "output_type": "execute_result"
    }
   ],
   "source": [
    "# get the accuracy\n",
    "accuracy_score(y, y_pred)\n"
   ],
   "metadata": {
    "collapsed": false,
    "ExecuteTime": {
     "start_time": "2023-05-04T14:01:03.514959Z",
     "end_time": "2023-05-04T14:01:03.536518Z"
    }
   }
  },
  {
   "cell_type": "code",
   "execution_count": 158,
   "outputs": [
    {
     "data": {
      "text/plain": "(16, 0, 2, 6)"
     },
     "execution_count": 158,
     "metadata": {},
     "output_type": "execute_result"
    }
   ],
   "source": [
    "# get the confusion matrix\n",
    "tn, fp, fn, tp = confusion_matrix(y, y_pred).ravel()\n",
    "(tn, fp, fn, tp)"
   ],
   "metadata": {
    "collapsed": false,
    "ExecuteTime": {
     "start_time": "2023-05-04T14:01:03.530517Z",
     "end_time": "2023-05-04T14:01:03.574526Z"
    }
   }
  },
  {
   "cell_type": "code",
   "execution_count": 159,
   "outputs": [
    {
     "name": "stderr",
     "output_type": "stream",
     "text": [
      "C:\\Users\\User\\anaconda3\\lib\\site-packages\\sklearn\\linear_model\\_logistic.py:458: ConvergenceWarning: lbfgs failed to converge (status=1):\n",
      "STOP: TOTAL NO. of ITERATIONS REACHED LIMIT.\n",
      "\n",
      "Increase the number of iterations (max_iter) or scale the data as shown in:\n",
      "    https://scikit-learn.org/stable/modules/preprocessing.html\n",
      "Please also refer to the documentation for alternative solver options:\n",
      "    https://scikit-learn.org/stable/modules/linear_model.html#logistic-regression\n",
      "  n_iter_i = _check_optimize_result(\n"
     ]
    },
    {
     "data": {
      "text/plain": "LogisticRegression()",
      "text/html": "<style>#sk-container-id-5 {color: black;background-color: white;}#sk-container-id-5 pre{padding: 0;}#sk-container-id-5 div.sk-toggleable {background-color: white;}#sk-container-id-5 label.sk-toggleable__label {cursor: pointer;display: block;width: 100%;margin-bottom: 0;padding: 0.3em;box-sizing: border-box;text-align: center;}#sk-container-id-5 label.sk-toggleable__label-arrow:before {content: \"▸\";float: left;margin-right: 0.25em;color: #696969;}#sk-container-id-5 label.sk-toggleable__label-arrow:hover:before {color: black;}#sk-container-id-5 div.sk-estimator:hover label.sk-toggleable__label-arrow:before {color: black;}#sk-container-id-5 div.sk-toggleable__content {max-height: 0;max-width: 0;overflow: hidden;text-align: left;background-color: #f0f8ff;}#sk-container-id-5 div.sk-toggleable__content pre {margin: 0.2em;color: black;border-radius: 0.25em;background-color: #f0f8ff;}#sk-container-id-5 input.sk-toggleable__control:checked~div.sk-toggleable__content {max-height: 200px;max-width: 100%;overflow: auto;}#sk-container-id-5 input.sk-toggleable__control:checked~label.sk-toggleable__label-arrow:before {content: \"▾\";}#sk-container-id-5 div.sk-estimator input.sk-toggleable__control:checked~label.sk-toggleable__label {background-color: #d4ebff;}#sk-container-id-5 div.sk-label input.sk-toggleable__control:checked~label.sk-toggleable__label {background-color: #d4ebff;}#sk-container-id-5 input.sk-hidden--visually {border: 0;clip: rect(1px 1px 1px 1px);clip: rect(1px, 1px, 1px, 1px);height: 1px;margin: -1px;overflow: hidden;padding: 0;position: absolute;width: 1px;}#sk-container-id-5 div.sk-estimator {font-family: monospace;background-color: #f0f8ff;border: 1px dotted black;border-radius: 0.25em;box-sizing: border-box;margin-bottom: 0.5em;}#sk-container-id-5 div.sk-estimator:hover {background-color: #d4ebff;}#sk-container-id-5 div.sk-parallel-item::after {content: \"\";width: 100%;border-bottom: 1px solid gray;flex-grow: 1;}#sk-container-id-5 div.sk-label:hover label.sk-toggleable__label {background-color: #d4ebff;}#sk-container-id-5 div.sk-serial::before {content: \"\";position: absolute;border-left: 1px solid gray;box-sizing: border-box;top: 0;bottom: 0;left: 50%;z-index: 0;}#sk-container-id-5 div.sk-serial {display: flex;flex-direction: column;align-items: center;background-color: white;padding-right: 0.2em;padding-left: 0.2em;position: relative;}#sk-container-id-5 div.sk-item {position: relative;z-index: 1;}#sk-container-id-5 div.sk-parallel {display: flex;align-items: stretch;justify-content: center;background-color: white;position: relative;}#sk-container-id-5 div.sk-item::before, #sk-container-id-5 div.sk-parallel-item::before {content: \"\";position: absolute;border-left: 1px solid gray;box-sizing: border-box;top: 0;bottom: 0;left: 50%;z-index: -1;}#sk-container-id-5 div.sk-parallel-item {display: flex;flex-direction: column;z-index: 1;position: relative;background-color: white;}#sk-container-id-5 div.sk-parallel-item:first-child::after {align-self: flex-end;width: 50%;}#sk-container-id-5 div.sk-parallel-item:last-child::after {align-self: flex-start;width: 50%;}#sk-container-id-5 div.sk-parallel-item:only-child::after {width: 0;}#sk-container-id-5 div.sk-dashed-wrapped {border: 1px dashed gray;margin: 0 0.4em 0.5em 0.4em;box-sizing: border-box;padding-bottom: 0.4em;background-color: white;}#sk-container-id-5 div.sk-label label {font-family: monospace;font-weight: bold;display: inline-block;line-height: 1.2em;}#sk-container-id-5 div.sk-label-container {text-align: center;}#sk-container-id-5 div.sk-container {/* jupyter's `normalize.less` sets `[hidden] { display: none; }` but bootstrap.min.css set `[hidden] { display: none !important; }` so we also need the `!important` here to be able to override the default hidden behavior on the sphinx rendered scikit-learn.org. See: https://github.com/scikit-learn/scikit-learn/issues/21755 */display: inline-block !important;position: relative;}#sk-container-id-5 div.sk-text-repr-fallback {display: none;}</style><div id=\"sk-container-id-5\" class=\"sk-top-container\"><div class=\"sk-text-repr-fallback\"><pre>LogisticRegression()</pre><b>In a Jupyter environment, please rerun this cell to show the HTML representation or trust the notebook. <br />On GitHub, the HTML representation is unable to render, please try loading this page with nbviewer.org.</b></div><div class=\"sk-container\" hidden><div class=\"sk-item\"><div class=\"sk-estimator sk-toggleable\"><input class=\"sk-toggleable__control sk-hidden--visually\" id=\"sk-estimator-id-5\" type=\"checkbox\" checked><label for=\"sk-estimator-id-5\" class=\"sk-toggleable__label sk-toggleable__label-arrow\">LogisticRegression</label><div class=\"sk-toggleable__content\"><pre>LogisticRegression()</pre></div></div></div></div></div>"
     },
     "execution_count": 159,
     "metadata": {},
     "output_type": "execute_result"
    }
   ],
   "source": [
    "# now train a logistic regression\n",
    "from sklearn.linear_model import LogisticRegression\n",
    "lr = LogisticRegression()\n",
    "lr.fit(X_train, y_train)\n"
   ],
   "metadata": {
    "collapsed": false,
    "ExecuteTime": {
     "start_time": "2023-05-04T14:22:43.395929Z",
     "end_time": "2023-05-04T14:22:43.441940Z"
    }
   }
  },
  {
   "cell_type": "code",
   "execution_count": 160,
   "outputs": [],
   "source": [
    "# get the predictions\n",
    "y_pred = lr.predict(X_test)\n"
   ],
   "metadata": {
    "collapsed": false,
    "ExecuteTime": {
     "start_time": "2023-05-04T14:22:50.902835Z",
     "end_time": "2023-05-04T14:22:50.915838Z"
    }
   }
  },
  {
   "cell_type": "code",
   "execution_count": 161,
   "outputs": [
    {
     "data": {
      "text/plain": "0.8333333333333334"
     },
     "execution_count": 161,
     "metadata": {},
     "output_type": "execute_result"
    }
   ],
   "source": [
    "# get the accuracy\n",
    "accuracy_score(y_test, y_pred)"
   ],
   "metadata": {
    "collapsed": false,
    "ExecuteTime": {
     "start_time": "2023-05-04T14:22:53.655890Z",
     "end_time": "2023-05-04T14:22:53.673893Z"
    }
   }
  },
  {
   "cell_type": "code",
   "execution_count": 163,
   "outputs": [
    {
     "data": {
      "text/plain": "(3, 0, 1, 2)"
     },
     "execution_count": 163,
     "metadata": {},
     "output_type": "execute_result"
    }
   ],
   "source": [
    "# get the confusion matrix\n",
    "\n",
    "tn, fp, fn, tp = confusion_matrix(y_test, y_pred).ravel()\n",
    "(tn, fp, fn, tp)"
   ],
   "metadata": {
    "collapsed": false,
    "ExecuteTime": {
     "start_time": "2023-05-04T14:23:08.014156Z",
     "end_time": "2023-05-04T14:23:08.030136Z"
    }
   }
  },
  {
   "cell_type": "code",
   "execution_count": 164,
   "outputs": [],
   "source": [
    "#get the predictions for the entire dataset\n",
    "y_pred = lr.predict(X)\n"
   ],
   "metadata": {
    "collapsed": false,
    "ExecuteTime": {
     "start_time": "2023-05-04T14:23:16.679698Z",
     "end_time": "2023-05-04T14:23:16.694702Z"
    }
   }
  },
  {
   "cell_type": "code",
   "execution_count": 165,
   "outputs": [
    {
     "data": {
      "text/plain": "0.9166666666666666"
     },
     "execution_count": 165,
     "metadata": {},
     "output_type": "execute_result"
    }
   ],
   "source": [
    "# get the accuracy\n",
    "accuracy_score(y, y_pred)"
   ],
   "metadata": {
    "collapsed": false,
    "ExecuteTime": {
     "start_time": "2023-05-04T14:23:19.529655Z",
     "end_time": "2023-05-04T14:23:19.555186Z"
    }
   }
  },
  {
   "cell_type": "code",
   "execution_count": 166,
   "outputs": [],
   "source": [
    "# get the confusion matrix"
   ],
   "metadata": {
    "collapsed": false,
    "ExecuteTime": {
     "start_time": "2023-05-04T14:23:21.120950Z",
     "end_time": "2023-05-04T14:23:21.131952Z"
    }
   }
  },
  {
   "cell_type": "code",
   "execution_count": 167,
   "outputs": [
    {
     "data": {
      "text/plain": "(15, 1, 1, 7)"
     },
     "execution_count": 167,
     "metadata": {},
     "output_type": "execute_result"
    }
   ],
   "source": [
    "tn, fp, fn, tp = confusion_matrix(y, y_pred).ravel()\n",
    "(tn, fp, fn, tp)"
   ],
   "metadata": {
    "collapsed": false,
    "ExecuteTime": {
     "start_time": "2023-05-04T14:23:24.817860Z",
     "end_time": "2023-05-04T14:23:24.829862Z"
    }
   }
  },
  {
   "cell_type": "code",
   "execution_count": 168,
   "outputs": [
    {
     "data": {
      "text/plain": "<Figure size 640x480 with 1 Axes>",
      "image/png": "[encoded data removed]"
     },
     "metadata": {},
     "output_type": "display_data"
    }
   ],
   "source": [
    "# display the logistic regression\n",
    "import matplotlib.pyplot as plt\n",
    "plt.barh(X.columns, lr.coef_[0])\n",
    "plt.show()"
   ],
   "metadata": {
    "collapsed": false,
    "ExecuteTime": {
     "start_time": "2023-05-04T14:23:48.470868Z",
     "end_time": "2023-05-04T14:23:48.937462Z"
    }
   }
  },
  {
   "cell_type": "code",
   "execution_count": 169,
   "outputs": [
    {
     "data": {
      "text/plain": "<Figure size 640x480 with 1 Axes>",
      "image/png": "[encoded data removed]"
     },
     "metadata": {},
     "output_type": "display_data"
    }
   ],
   "source": [
    "# display the random forest\n",
    "plt.barh(X.columns, rf.feature_importances_)\n",
    "plt.show()"
   ],
   "metadata": {
    "collapsed": false,
    "ExecuteTime": {
     "start_time": "2023-05-04T14:24:00.860824Z",
     "end_time": "2023-05-04T14:24:00.958846Z"
    }
   }
  },
  {
   "cell_type": "code",
   "execution_count": null,
   "outputs": [],
   "source": [],
   "metadata": {
    "collapsed": false
   }
  }
 ],
 "metadata": {
  "kernelspec": {
   "display_name": "Python 3",
   "language": "python",
   "name": "python3"
  },
  "language_info": {
   "codemirror_mode": {
    "name": "ipython",
    "version": 2
   },
   "file_extension": ".py",
   "mimetype": "text/x-python",
   "name": "python",
   "nbconvert_exporter": "python",
   "pygments_lexer": "ipython2",
   "version": "2.7.6"
  }
 },
 "nbformat": 4,
 "nbformat_minor": 0
}
