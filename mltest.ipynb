{
 "cells": [
  {
   "cell_type": "code",
   "execution_count": 1,
   "metadata": {
    "collapsed": true,
    "ExecuteTime": {
     "end_time": "2023-05-27T12:42:49.355167500Z",
     "start_time": "2023-05-27T12:42:48.023423200Z"
    }
   },
   "outputs": [],
   "source": [
    "import numpy as np\n",
    "\n",
    "import tsplib95\n",
    "import networkx as nx\n",
    "\n",
    "import os\n",
    "import pandas as pd\n",
    "import gilsrvnd\n",
    "import DBMEA\n",
    "import grasp\n",
    "\n",
    "from sklearn.ensemble import RandomForestClassifier\n",
    "from sklearn.model_selection import train_test_split\n",
    "from sklearn.metrics import accuracy_score, confusion_matrix\n",
    "from sklearn.linear_model import LogisticRegression\n",
    "\n"
   ]
  },
  {
   "cell_type": "code",
   "execution_count": 2,
   "outputs": [
    {
     "data": {
      "text/plain": "['line_100_0.tsp',\n 'line_100_1.tsp',\n 'line_100_2.tsp',\n 'line_100_3.tsp',\n 'line_100_4.tsp',\n 'line_100_5.tsp',\n 'line_100_6.tsp',\n 'line_100_7.tsp',\n 'line_100_8.tsp',\n 'line_100_9.tsp',\n 'line_10_0.tsp',\n 'line_10_1.tsp',\n 'line_10_2.tsp',\n 'line_10_3.tsp',\n 'line_10_4.tsp',\n 'line_10_5.tsp',\n 'line_10_6.tsp',\n 'line_10_7.tsp',\n 'line_10_8.tsp',\n 'line_10_9.tsp',\n 'line_20_0.tsp',\n 'line_20_1.tsp',\n 'line_20_2.tsp',\n 'line_20_3.tsp',\n 'line_20_4.tsp',\n 'line_20_5.tsp',\n 'line_20_6.tsp',\n 'line_20_7.tsp',\n 'line_20_8.tsp',\n 'line_20_9.tsp',\n 'line_30_0.tsp',\n 'line_30_1.tsp',\n 'line_30_2.tsp',\n 'line_30_3.tsp',\n 'line_30_4.tsp',\n 'line_30_5.tsp',\n 'line_30_6.tsp',\n 'line_30_7.tsp',\n 'line_30_8.tsp',\n 'line_30_9.tsp',\n 'line_40_0.tsp',\n 'line_40_1.tsp',\n 'line_40_2.tsp',\n 'line_40_3.tsp',\n 'line_40_4.tsp',\n 'line_40_5.tsp',\n 'line_40_6.tsp',\n 'line_40_7.tsp',\n 'line_40_8.tsp',\n 'line_40_9.tsp',\n 'line_50_0.tsp',\n 'line_50_1.tsp',\n 'line_50_2.tsp',\n 'line_50_3.tsp',\n 'line_50_4.tsp',\n 'line_50_5.tsp',\n 'line_50_6.tsp',\n 'line_50_7.tsp',\n 'line_50_8.tsp',\n 'line_50_9.tsp',\n 'line_60_0.tsp',\n 'line_60_1.tsp',\n 'line_60_2.tsp',\n 'line_60_3.tsp',\n 'line_60_4.tsp',\n 'line_60_5.tsp',\n 'line_60_6.tsp',\n 'line_60_7.tsp',\n 'line_60_8.tsp',\n 'line_60_9.tsp',\n 'line_70_0.tsp',\n 'line_70_1.tsp',\n 'line_70_2.tsp',\n 'line_70_3.tsp',\n 'line_70_4.tsp',\n 'line_70_5.tsp',\n 'line_70_6.tsp',\n 'line_70_7.tsp',\n 'line_70_8.tsp',\n 'line_70_9.tsp',\n 'line_80_0.tsp',\n 'line_80_1.tsp',\n 'line_80_2.tsp',\n 'line_80_3.tsp',\n 'line_80_4.tsp',\n 'line_80_5.tsp',\n 'line_80_6.tsp',\n 'line_80_7.tsp',\n 'line_80_8.tsp',\n 'line_80_9.tsp',\n 'line_90_0.tsp',\n 'line_90_1.tsp',\n 'line_90_2.tsp',\n 'line_90_3.tsp',\n 'line_90_4.tsp',\n 'line_90_5.tsp',\n 'line_90_6.tsp',\n 'line_90_7.tsp',\n 'line_90_8.tsp',\n 'line_90_9.tsp']"
     },
     "execution_count": 2,
     "metadata": {},
     "output_type": "execute_result"
    }
   ],
   "source": [
    "# get all files from the instances folder\n",
    "files = os.listdir('instances')"
   ],
   "metadata": {
    "collapsed": false,
    "ExecuteTime": {
     "end_time": "2023-05-27T12:42:49.361726600Z",
     "start_time": "2023-05-27T12:42:49.356672900Z"
    }
   }
  },
  {
   "cell_type": "code",
   "execution_count": 3,
   "outputs": [],
   "source": [
    "# create a dict that will be turned into a dataframe later the keys should be:\n",
    "# file, n, m, ratio1, ratio2, density, min, max, mean, median, Q25, Q75, std, var\n",
    "datadict = {'file': [], 'n': [], 'm': [], 'ratio1': [], 'ratio2': [], 'density': [], 'min': [], 'max': [], 'mean': [], 'std': [], 'var': []}"
   ],
   "metadata": {
    "collapsed": false,
    "ExecuteTime": {
     "end_time": "2023-05-27T12:42:50.993834400Z",
     "start_time": "2023-05-27T12:42:50.990821500Z"
    }
   }
  },
  {
   "cell_type": "code",
   "execution_count": 4,
   "outputs": [
    {
     "name": "stdout",
     "output_type": "stream",
     "text": [
      "line_100_0.tsp done\n",
      "line_100_1.tsp done\n",
      "line_100_2.tsp done\n",
      "line_100_3.tsp done\n",
      "line_100_4.tsp done\n",
      "line_100_5.tsp done\n",
      "line_100_6.tsp done\n",
      "line_100_7.tsp done\n",
      "line_100_8.tsp done\n",
      "line_100_9.tsp done\n",
      "line_10_0.tsp done\n",
      "line_10_1.tsp done\n",
      "line_10_2.tsp done\n",
      "line_10_3.tsp done\n",
      "line_10_4.tsp done\n",
      "line_10_5.tsp done\n",
      "line_10_6.tsp done\n",
      "line_10_7.tsp done\n",
      "line_10_8.tsp done\n",
      "line_10_9.tsp done\n",
      "line_20_0.tsp done\n",
      "line_20_1.tsp done\n",
      "line_20_2.tsp done\n",
      "line_20_3.tsp done\n",
      "line_20_4.tsp done\n",
      "line_20_5.tsp done\n",
      "line_20_6.tsp done\n",
      "line_20_7.tsp done\n",
      "line_20_8.tsp done\n",
      "line_20_9.tsp done\n",
      "line_30_0.tsp done\n",
      "line_30_1.tsp done\n",
      "line_30_2.tsp done\n",
      "line_30_3.tsp done\n",
      "line_30_4.tsp done\n",
      "line_30_5.tsp done\n",
      "line_30_6.tsp done\n",
      "line_30_7.tsp done\n",
      "line_30_8.tsp done\n",
      "line_30_9.tsp done\n",
      "line_40_0.tsp done\n",
      "line_40_1.tsp done\n",
      "line_40_2.tsp done\n",
      "line_40_3.tsp done\n",
      "line_40_4.tsp done\n",
      "line_40_5.tsp done\n",
      "line_40_6.tsp done\n",
      "line_40_7.tsp done\n",
      "line_40_8.tsp done\n",
      "line_40_9.tsp done\n",
      "line_50_0.tsp done\n",
      "line_50_1.tsp done\n",
      "line_50_2.tsp done\n",
      "line_50_3.tsp done\n",
      "line_50_4.tsp done\n",
      "line_50_5.tsp done\n",
      "line_50_6.tsp done\n",
      "line_50_7.tsp done\n",
      "line_50_8.tsp done\n",
      "line_50_9.tsp done\n",
      "line_60_0.tsp done\n",
      "line_60_1.tsp done\n",
      "line_60_2.tsp done\n",
      "line_60_3.tsp done\n",
      "line_60_4.tsp done\n",
      "line_60_5.tsp done\n",
      "line_60_6.tsp done\n",
      "line_60_7.tsp done\n",
      "line_60_8.tsp done\n",
      "line_60_9.tsp done\n",
      "line_70_0.tsp done\n",
      "line_70_1.tsp done\n",
      "line_70_2.tsp done\n",
      "line_70_3.tsp done\n",
      "line_70_4.tsp done\n",
      "line_70_5.tsp done\n",
      "line_70_6.tsp done\n",
      "line_70_7.tsp done\n",
      "line_70_8.tsp done\n",
      "line_70_9.tsp done\n",
      "line_80_0.tsp done\n",
      "line_80_1.tsp done\n",
      "line_80_2.tsp done\n",
      "line_80_3.tsp done\n",
      "line_80_4.tsp done\n",
      "line_80_5.tsp done\n",
      "line_80_6.tsp done\n",
      "line_80_7.tsp done\n",
      "line_80_8.tsp done\n",
      "line_80_9.tsp done\n",
      "line_90_0.tsp done\n",
      "line_90_1.tsp done\n",
      "line_90_2.tsp done\n",
      "line_90_3.tsp done\n",
      "line_90_4.tsp done\n",
      "line_90_5.tsp done\n",
      "line_90_6.tsp done\n",
      "line_90_7.tsp done\n",
      "line_90_8.tsp done\n",
      "line_90_9.tsp done\n"
     ]
    }
   ],
   "source": [
    "# for all files in the instances folder make a graph and get information such as mean, std, min, max\n",
    "for f in files:\n",
    "    problem = tsplib95.load('Instances/' + f)\n",
    "    graph = problem.get_graph()\n",
    "    dist_matrix = nx.to_numpy_matrix(graph)\n",
    "\n",
    "    # get the number of nodes\n",
    "    n = len(graph.nodes)\n",
    "\n",
    "    # get the number of edges\n",
    "    m = len(graph.edges)\n",
    "\n",
    "    # get the ratio of nodes to edges and vice versa\n",
    "    ratio1 = n/m\n",
    "    ratio2 = m/n\n",
    "    # get the density of the graph\n",
    "    density = nx.density(graph)\n",
    "\n",
    "    # get the min, max, mean, median, Q25, Q75, std, var of the distances\n",
    "    emin = np.min(dist_matrix)\n",
    "    emax = np.max(dist_matrix)\n",
    "\n",
    "    mean = np.mean(dist_matrix)\n",
    "\n",
    "\n",
    "    #Q25 = np.quantile(dist_matrix, 0.25)\n",
    "    #Q75 = np.quantile(dist_matrix, 0.75)\n",
    "    std = np.std(dist_matrix)\n",
    "\n",
    "    var = np.var(dist_matrix)\n",
    "\n",
    "\n",
    "    # add the information to the dict\n",
    "    datadict['file'].append(f)\n",
    "    datadict['n'].append(n)\n",
    "    datadict['m'].append(m)\n",
    "    datadict['ratio1'].append(ratio1)\n",
    "    datadict['ratio2'].append(ratio2)\n",
    "    datadict['density'].append(density)\n",
    "    datadict['min'].append(emin)\n",
    "    datadict['max'].append(emax)\n",
    "    datadict['mean'].append(mean)\n",
    "\n",
    "    #datadict['Q25'].append(Q25)\n",
    "    #datadict['Q75'].append(Q75)\n",
    "    datadict['std'].append(std)\n",
    "    datadict['var'].append(var)\n",
    "\n",
    "    print(f'{f} done')\n"
   ],
   "metadata": {
    "collapsed": false,
    "ExecuteTime": {
     "end_time": "2023-05-27T12:42:53.913556300Z",
     "start_time": "2023-05-27T12:42:52.229403600Z"
    }
   }
  },
  {
   "cell_type": "code",
   "execution_count": 5,
   "outputs": [
    {
     "data": {
      "text/plain": "              file    n     m    ratio1  ratio2   density  min    max   \n0   line_100_0.tsp  100  5050  0.019802    50.5  1.020202  0.0  997.0  \\\n1   line_100_1.tsp  100  5050  0.019802    50.5  1.020202  0.0  989.0   \n2   line_100_2.tsp  100  5050  0.019802    50.5  1.020202  0.0  978.0   \n3   line_100_3.tsp  100  5050  0.019802    50.5  1.020202  0.0  980.0   \n4   line_100_4.tsp  100  5050  0.019802    50.5  1.020202  0.0  983.0   \n..             ...  ...   ...       ...     ...       ...  ...    ...   \n95   line_90_5.tsp   90  4095  0.021978    45.5  1.022472  0.0  889.0   \n96   line_90_6.tsp   90  4095  0.021978    45.5  1.022472  0.0  888.0   \n97   line_90_7.tsp   90  4095  0.021978    45.5  1.022472  0.0  862.0   \n98   line_90_8.tsp   90  4095  0.021978    45.5  1.022472  0.0  889.0   \n99   line_90_9.tsp   90  4095  0.021978    45.5  1.022472  0.0  875.0   \n\n          mean         std           var  \n0   360.837000  258.203016  66668.797631  \n1   333.304800  237.244690  56285.043097  \n2   342.882000  246.103891  60567.125276  \n3   319.054400  227.943525  51958.250641  \n4   356.094400  253.851952  64440.813489  \n..         ...         ...           ...  \n95  319.538272  226.908988  51487.689029  \n96  297.687407  211.917802  44909.154632  \n97  249.932840  181.712429  33019.406847  \n98  316.810123  226.894830  51481.263947  \n99  293.470864  209.501121  43890.719768  \n\n[100 rows x 11 columns]",
      "text/html": "<div>\n<style scoped>\n    .dataframe tbody tr th:only-of-type {\n        vertical-align: middle;\n    }\n\n    .dataframe tbody tr th {\n        vertical-align: top;\n    }\n\n    .dataframe thead th {\n        text-align: right;\n    }\n</style>\n<table border=\"1\" class=\"dataframe\">\n  <thead>\n    <tr style=\"text-align: right;\">\n      <th></th>\n      <th>file</th>\n      <th>n</th>\n      <th>m</th>\n      <th>ratio1</th>\n      <th>ratio2</th>\n      <th>density</th>\n      <th>min</th>\n      <th>max</th>\n      <th>mean</th>\n      <th>std</th>\n      <th>var</th>\n    </tr>\n  </thead>\n  <tbody>\n    <tr>\n      <th>0</th>\n      <td>line_100_0.tsp</td>\n      <td>100</td>\n      <td>5050</td>\n      <td>0.019802</td>\n      <td>50.5</td>\n      <td>1.020202</td>\n      <td>0.0</td>\n      <td>997.0</td>\n      <td>360.837000</td>\n      <td>258.203016</td>\n      <td>66668.797631</td>\n    </tr>\n    <tr>\n      <th>1</th>\n      <td>line_100_1.tsp</td>\n      <td>100</td>\n      <td>5050</td>\n      <td>0.019802</td>\n      <td>50.5</td>\n      <td>1.020202</td>\n      <td>0.0</td>\n      <td>989.0</td>\n      <td>333.304800</td>\n      <td>237.244690</td>\n      <td>56285.043097</td>\n    </tr>\n    <tr>\n      <th>2</th>\n      <td>line_100_2.tsp</td>\n      <td>100</td>\n      <td>5050</td>\n      <td>0.019802</td>\n      <td>50.5</td>\n      <td>1.020202</td>\n      <td>0.0</td>\n      <td>978.0</td>\n      <td>342.882000</td>\n      <td>246.103891</td>\n      <td>60567.125276</td>\n    </tr>\n    <tr>\n      <th>3</th>\n      <td>line_100_3.tsp</td>\n      <td>100</td>\n      <td>5050</td>\n      <td>0.019802</td>\n      <td>50.5</td>\n      <td>1.020202</td>\n      <td>0.0</td>\n      <td>980.0</td>\n      <td>319.054400</td>\n      <td>227.943525</td>\n      <td>51958.250641</td>\n    </tr>\n    <tr>\n      <th>4</th>\n      <td>line_100_4.tsp</td>\n      <td>100</td>\n      <td>5050</td>\n      <td>0.019802</td>\n      <td>50.5</td>\n      <td>1.020202</td>\n      <td>0.0</td>\n      <td>983.0</td>\n      <td>356.094400</td>\n      <td>253.851952</td>\n      <td>64440.813489</td>\n    </tr>\n    <tr>\n      <th>...</th>\n      <td>...</td>\n      <td>...</td>\n      <td>...</td>\n      <td>...</td>\n      <td>...</td>\n      <td>...</td>\n      <td>...</td>\n      <td>...</td>\n      <td>...</td>\n      <td>...</td>\n      <td>...</td>\n    </tr>\n    <tr>\n      <th>95</th>\n      <td>line_90_5.tsp</td>\n      <td>90</td>\n      <td>4095</td>\n      <td>0.021978</td>\n      <td>45.5</td>\n      <td>1.022472</td>\n      <td>0.0</td>\n      <td>889.0</td>\n      <td>319.538272</td>\n      <td>226.908988</td>\n      <td>51487.689029</td>\n    </tr>\n    <tr>\n      <th>96</th>\n      <td>line_90_6.tsp</td>\n      <td>90</td>\n      <td>4095</td>\n      <td>0.021978</td>\n      <td>45.5</td>\n      <td>1.022472</td>\n      <td>0.0</td>\n      <td>888.0</td>\n      <td>297.687407</td>\n      <td>211.917802</td>\n      <td>44909.154632</td>\n    </tr>\n    <tr>\n      <th>97</th>\n      <td>line_90_7.tsp</td>\n      <td>90</td>\n      <td>4095</td>\n      <td>0.021978</td>\n      <td>45.5</td>\n      <td>1.022472</td>\n      <td>0.0</td>\n      <td>862.0</td>\n      <td>249.932840</td>\n      <td>181.712429</td>\n      <td>33019.406847</td>\n    </tr>\n    <tr>\n      <th>98</th>\n      <td>line_90_8.tsp</td>\n      <td>90</td>\n      <td>4095</td>\n      <td>0.021978</td>\n      <td>45.5</td>\n      <td>1.022472</td>\n      <td>0.0</td>\n      <td>889.0</td>\n      <td>316.810123</td>\n      <td>226.894830</td>\n      <td>51481.263947</td>\n    </tr>\n    <tr>\n      <th>99</th>\n      <td>line_90_9.tsp</td>\n      <td>90</td>\n      <td>4095</td>\n      <td>0.021978</td>\n      <td>45.5</td>\n      <td>1.022472</td>\n      <td>0.0</td>\n      <td>875.0</td>\n      <td>293.470864</td>\n      <td>209.501121</td>\n      <td>43890.719768</td>\n    </tr>\n  </tbody>\n</table>\n<p>100 rows × 11 columns</p>\n</div>"
     },
     "execution_count": 5,
     "metadata": {},
     "output_type": "execute_result"
    }
   ],
   "source": [
    "# turn the dict into a dataframe\n",
    "df = pd.DataFrame.from_dict(datadict)\n",
    "df"
   ],
   "metadata": {
    "collapsed": false,
    "ExecuteTime": {
     "end_time": "2023-05-27T12:42:54.621901Z",
     "start_time": "2023-05-27T12:42:54.606826200Z"
    }
   }
  },
  {
   "cell_type": "code",
   "execution_count": 6,
   "outputs": [],
   "source": [
    "# add columns for the algorithms GRASP, GILS and DBMEA\n",
    "df['GILS_cost'] = 0\n",
    "df['GILS_time'] = 0\n",
    "df['GRASP_cost'] = 0\n",
    "df['GRASP_time'] = 0\n",
    "df['DBMEA_cost'] = 0\n",
    "df['DBMEA_time'] = 0"
   ],
   "metadata": {
    "collapsed": false,
    "ExecuteTime": {
     "end_time": "2023-05-27T12:43:05.404579300Z",
     "start_time": "2023-05-27T12:43:05.395256300Z"
    }
   }
  },
  {
   "cell_type": "code",
   "execution_count": 7,
   "outputs": [
    {
     "data": {
      "text/plain": "              file    n     m    ratio1  ratio2   density  min    max   \n0   line_100_0.tsp  100  5050  0.019802    50.5  1.020202  0.0  997.0  \\\n1   line_100_1.tsp  100  5050  0.019802    50.5  1.020202  0.0  989.0   \n2   line_100_2.tsp  100  5050  0.019802    50.5  1.020202  0.0  978.0   \n3   line_100_3.tsp  100  5050  0.019802    50.5  1.020202  0.0  980.0   \n4   line_100_4.tsp  100  5050  0.019802    50.5  1.020202  0.0  983.0   \n..             ...  ...   ...       ...     ...       ...  ...    ...   \n95   line_90_5.tsp   90  4095  0.021978    45.5  1.022472  0.0  889.0   \n96   line_90_6.tsp   90  4095  0.021978    45.5  1.022472  0.0  888.0   \n97   line_90_7.tsp   90  4095  0.021978    45.5  1.022472  0.0  862.0   \n98   line_90_8.tsp   90  4095  0.021978    45.5  1.022472  0.0  889.0   \n99   line_90_9.tsp   90  4095  0.021978    45.5  1.022472  0.0  875.0   \n\n          mean         std           var  GILS_cost  GILS_time  GRASP_cost   \n0   360.837000  258.203016  66668.797631          0          0           0  \\\n1   333.304800  237.244690  56285.043097          0          0           0   \n2   342.882000  246.103891  60567.125276          0          0           0   \n3   319.054400  227.943525  51958.250641          0          0           0   \n4   356.094400  253.851952  64440.813489          0          0           0   \n..         ...         ...           ...        ...        ...         ...   \n95  319.538272  226.908988  51487.689029          0          0           0   \n96  297.687407  211.917802  44909.154632          0          0           0   \n97  249.932840  181.712429  33019.406847          0          0           0   \n98  316.810123  226.894830  51481.263947          0          0           0   \n99  293.470864  209.501121  43890.719768          0          0           0   \n\n    GRASP_time  DBMEA_cost  DBMEA_time  \n0            0           0           0  \n1            0           0           0  \n2            0           0           0  \n3            0           0           0  \n4            0           0           0  \n..         ...         ...         ...  \n95           0           0           0  \n96           0           0           0  \n97           0           0           0  \n98           0           0           0  \n99           0           0           0  \n\n[100 rows x 17 columns]",
      "text/html": "<div>\n<style scoped>\n    .dataframe tbody tr th:only-of-type {\n        vertical-align: middle;\n    }\n\n    .dataframe tbody tr th {\n        vertical-align: top;\n    }\n\n    .dataframe thead th {\n        text-align: right;\n    }\n</style>\n<table border=\"1\" class=\"dataframe\">\n  <thead>\n    <tr style=\"text-align: right;\">\n      <th></th>\n      <th>file</th>\n      <th>n</th>\n      <th>m</th>\n      <th>ratio1</th>\n      <th>ratio2</th>\n      <th>density</th>\n      <th>min</th>\n      <th>max</th>\n      <th>mean</th>\n      <th>std</th>\n      <th>var</th>\n      <th>GILS_cost</th>\n      <th>GILS_time</th>\n      <th>GRASP_cost</th>\n      <th>GRASP_time</th>\n      <th>DBMEA_cost</th>\n      <th>DBMEA_time</th>\n    </tr>\n  </thead>\n  <tbody>\n    <tr>\n      <th>0</th>\n      <td>line_100_0.tsp</td>\n      <td>100</td>\n      <td>5050</td>\n      <td>0.019802</td>\n      <td>50.5</td>\n      <td>1.020202</td>\n      <td>0.0</td>\n      <td>997.0</td>\n      <td>360.837000</td>\n      <td>258.203016</td>\n      <td>66668.797631</td>\n      <td>0</td>\n      <td>0</td>\n      <td>0</td>\n      <td>0</td>\n      <td>0</td>\n      <td>0</td>\n    </tr>\n    <tr>\n      <th>1</th>\n      <td>line_100_1.tsp</td>\n      <td>100</td>\n      <td>5050</td>\n      <td>0.019802</td>\n      <td>50.5</td>\n      <td>1.020202</td>\n      <td>0.0</td>\n      <td>989.0</td>\n      <td>333.304800</td>\n      <td>237.244690</td>\n      <td>56285.043097</td>\n      <td>0</td>\n      <td>0</td>\n      <td>0</td>\n      <td>0</td>\n      <td>0</td>\n      <td>0</td>\n    </tr>\n    <tr>\n      <th>2</th>\n      <td>line_100_2.tsp</td>\n      <td>100</td>\n      <td>5050</td>\n      <td>0.019802</td>\n      <td>50.5</td>\n      <td>1.020202</td>\n      <td>0.0</td>\n      <td>978.0</td>\n      <td>342.882000</td>\n      <td>246.103891</td>\n      <td>60567.125276</td>\n      <td>0</td>\n      <td>0</td>\n      <td>0</td>\n      <td>0</td>\n      <td>0</td>\n      <td>0</td>\n    </tr>\n    <tr>\n      <th>3</th>\n      <td>line_100_3.tsp</td>\n      <td>100</td>\n      <td>5050</td>\n      <td>0.019802</td>\n      <td>50.5</td>\n      <td>1.020202</td>\n      <td>0.0</td>\n      <td>980.0</td>\n      <td>319.054400</td>\n      <td>227.943525</td>\n      <td>51958.250641</td>\n      <td>0</td>\n      <td>0</td>\n      <td>0</td>\n      <td>0</td>\n      <td>0</td>\n      <td>0</td>\n    </tr>\n    <tr>\n      <th>4</th>\n      <td>line_100_4.tsp</td>\n      <td>100</td>\n      <td>5050</td>\n      <td>0.019802</td>\n      <td>50.5</td>\n      <td>1.020202</td>\n      <td>0.0</td>\n      <td>983.0</td>\n      <td>356.094400</td>\n      <td>253.851952</td>\n      <td>64440.813489</td>\n      <td>0</td>\n      <td>0</td>\n      <td>0</td>\n      <td>0</td>\n      <td>0</td>\n      <td>0</td>\n    </tr>\n    <tr>\n      <th>...</th>\n      <td>...</td>\n      <td>...</td>\n      <td>...</td>\n      <td>...</td>\n      <td>...</td>\n      <td>...</td>\n      <td>...</td>\n      <td>...</td>\n      <td>...</td>\n      <td>...</td>\n      <td>...</td>\n      <td>...</td>\n      <td>...</td>\n      <td>...</td>\n      <td>...</td>\n      <td>...</td>\n      <td>...</td>\n    </tr>\n    <tr>\n      <th>95</th>\n      <td>line_90_5.tsp</td>\n      <td>90</td>\n      <td>4095</td>\n      <td>0.021978</td>\n      <td>45.5</td>\n      <td>1.022472</td>\n      <td>0.0</td>\n      <td>889.0</td>\n      <td>319.538272</td>\n      <td>226.908988</td>\n      <td>51487.689029</td>\n      <td>0</td>\n      <td>0</td>\n      <td>0</td>\n      <td>0</td>\n      <td>0</td>\n      <td>0</td>\n    </tr>\n    <tr>\n      <th>96</th>\n      <td>line_90_6.tsp</td>\n      <td>90</td>\n      <td>4095</td>\n      <td>0.021978</td>\n      <td>45.5</td>\n      <td>1.022472</td>\n      <td>0.0</td>\n      <td>888.0</td>\n      <td>297.687407</td>\n      <td>211.917802</td>\n      <td>44909.154632</td>\n      <td>0</td>\n      <td>0</td>\n      <td>0</td>\n      <td>0</td>\n      <td>0</td>\n      <td>0</td>\n    </tr>\n    <tr>\n      <th>97</th>\n      <td>line_90_7.tsp</td>\n      <td>90</td>\n      <td>4095</td>\n      <td>0.021978</td>\n      <td>45.5</td>\n      <td>1.022472</td>\n      <td>0.0</td>\n      <td>862.0</td>\n      <td>249.932840</td>\n      <td>181.712429</td>\n      <td>33019.406847</td>\n      <td>0</td>\n      <td>0</td>\n      <td>0</td>\n      <td>0</td>\n      <td>0</td>\n      <td>0</td>\n    </tr>\n    <tr>\n      <th>98</th>\n      <td>line_90_8.tsp</td>\n      <td>90</td>\n      <td>4095</td>\n      <td>0.021978</td>\n      <td>45.5</td>\n      <td>1.022472</td>\n      <td>0.0</td>\n      <td>889.0</td>\n      <td>316.810123</td>\n      <td>226.894830</td>\n      <td>51481.263947</td>\n      <td>0</td>\n      <td>0</td>\n      <td>0</td>\n      <td>0</td>\n      <td>0</td>\n      <td>0</td>\n    </tr>\n    <tr>\n      <th>99</th>\n      <td>line_90_9.tsp</td>\n      <td>90</td>\n      <td>4095</td>\n      <td>0.021978</td>\n      <td>45.5</td>\n      <td>1.022472</td>\n      <td>0.0</td>\n      <td>875.0</td>\n      <td>293.470864</td>\n      <td>209.501121</td>\n      <td>43890.719768</td>\n      <td>0</td>\n      <td>0</td>\n      <td>0</td>\n      <td>0</td>\n      <td>0</td>\n      <td>0</td>\n    </tr>\n  </tbody>\n</table>\n<p>100 rows × 17 columns</p>\n</div>"
     },
     "execution_count": 7,
     "metadata": {},
     "output_type": "execute_result"
    }
   ],
   "source": [
    "df"
   ],
   "metadata": {
    "collapsed": false,
    "ExecuteTime": {
     "end_time": "2023-05-27T12:43:06.332547800Z",
     "start_time": "2023-05-27T12:43:06.330035700Z"
    }
   }
  },
  {
   "cell_type": "code",
   "execution_count": 10,
   "outputs": [],
   "source": [
    "# create a function that can be used via df.apply that runs the 3 algorithmms on the given file from the row\n",
    "\n",
    "def benchmark(row):\n",
    "    # get the file\n",
    "    f = row['file']\n",
    "    f = 'Instances/' + f\n",
    "\n",
    "    _, gils_cost, gils_time = gilsrvnd.run(f)\n",
    "    _, grasp_cost, grasp_time = grasp.run(f)\n",
    "    _, dbmea_cost, dbmea_time = DBMEA.run(f)\n",
    "\n",
    "    # add the results to the dataframe\n",
    "\n",
    "    row['GRASP_cost'] = grasp_cost\n",
    "    row['GRASP_time'] = grasp_time\n",
    "\n",
    "    row['GILS_cost'] = gils_cost\n",
    "    row['GILS_time'] = gils_time\n",
    "    row['DBMEA_cost'] = dbmea_cost\n",
    "    row['DBMEA_time'] = dbmea_time\n",
    "\n",
    "    print(f'{f} done')\n",
    "\n",
    "    return row\n"
   ],
   "metadata": {
    "collapsed": false,
    "ExecuteTime": {
     "end_time": "2023-05-27T12:43:55.219769100Z",
     "start_time": "2023-05-27T12:43:55.215201Z"
    }
   }
  },
  {
   "cell_type": "code",
   "execution_count": 11,
   "outputs": [
    {
     "name": "stdout",
     "output_type": "stream",
     "text": [
      "Instances/line_100_0.tsp done\n",
      "Instances/line_100_1.tsp done\n",
      "Instances/line_100_2.tsp done\n",
      "Instances/line_100_3.tsp done\n",
      "Instances/line_100_4.tsp done\n",
      "Instances/line_100_5.tsp done\n",
      "Instances/line_100_6.tsp done\n",
      "Instances/line_100_7.tsp done\n",
      "Instances/line_100_8.tsp done\n",
      "Instances/line_100_9.tsp done\n",
      "Instances/line_10_0.tsp done\n",
      "Instances/line_10_1.tsp done\n",
      "Instances/line_10_2.tsp done\n",
      "Instances/line_10_3.tsp done\n",
      "Instances/line_10_4.tsp done\n",
      "Instances/line_10_5.tsp done\n",
      "Instances/line_10_6.tsp done\n",
      "Instances/line_10_7.tsp done\n",
      "Instances/line_10_8.tsp done\n",
      "Instances/line_10_9.tsp done\n",
      "Instances/line_20_0.tsp done\n",
      "Instances/line_20_1.tsp done\n",
      "Instances/line_20_2.tsp done\n",
      "Instances/line_20_3.tsp done\n",
      "Instances/line_20_4.tsp done\n",
      "Instances/line_20_5.tsp done\n",
      "Instances/line_20_6.tsp done\n",
      "Instances/line_20_7.tsp done\n",
      "Instances/line_20_8.tsp done\n",
      "Instances/line_20_9.tsp done\n",
      "Instances/line_30_0.tsp done\n",
      "Instances/line_30_1.tsp done\n",
      "Instances/line_30_2.tsp done\n",
      "Instances/line_30_3.tsp done\n",
      "Instances/line_30_4.tsp done\n",
      "Instances/line_30_5.tsp done\n",
      "Instances/line_30_6.tsp done\n",
      "Instances/line_30_7.tsp done\n",
      "Instances/line_30_8.tsp done\n",
      "Instances/line_30_9.tsp done\n",
      "Instances/line_40_0.tsp done\n",
      "Instances/line_40_1.tsp done\n",
      "Instances/line_40_2.tsp done\n",
      "Instances/line_40_3.tsp done\n",
      "Instances/line_40_4.tsp done\n",
      "Instances/line_40_5.tsp done\n",
      "Instances/line_40_6.tsp done\n",
      "Instances/line_40_7.tsp done\n",
      "Instances/line_40_8.tsp done\n",
      "Instances/line_40_9.tsp done\n",
      "Instances/line_50_0.tsp done\n",
      "Instances/line_50_1.tsp done\n",
      "Instances/line_50_2.tsp done\n",
      "Instances/line_50_3.tsp done\n",
      "Instances/line_50_4.tsp done\n",
      "Instances/line_50_5.tsp done\n",
      "Instances/line_50_6.tsp done\n",
      "Instances/line_50_7.tsp done\n",
      "Instances/line_50_8.tsp done\n",
      "Instances/line_50_9.tsp done\n",
      "Instances/line_60_0.tsp done\n",
      "Instances/line_60_1.tsp done\n",
      "Instances/line_60_2.tsp done\n",
      "Instances/line_60_3.tsp done\n",
      "Instances/line_60_4.tsp done\n",
      "Instances/line_60_5.tsp done\n",
      "Instances/line_60_6.tsp done\n",
      "Instances/line_60_7.tsp done\n",
      "Instances/line_60_8.tsp done\n",
      "Instances/line_60_9.tsp done\n",
      "Instances/line_70_0.tsp done\n",
      "Instances/line_70_1.tsp done\n",
      "Instances/line_70_2.tsp done\n",
      "Instances/line_70_3.tsp done\n",
      "Instances/line_70_4.tsp done\n",
      "Instances/line_70_5.tsp done\n",
      "Instances/line_70_6.tsp done\n",
      "Instances/line_70_7.tsp done\n",
      "Instances/line_70_8.tsp done\n",
      "Instances/line_70_9.tsp done\n",
      "Instances/line_80_0.tsp done\n",
      "Instances/line_80_1.tsp done\n",
      "Instances/line_80_2.tsp done\n",
      "Instances/line_80_3.tsp done\n",
      "Instances/line_80_4.tsp done\n",
      "Instances/line_80_5.tsp done\n",
      "Instances/line_80_6.tsp done\n",
      "Instances/line_80_7.tsp done\n",
      "Instances/line_80_8.tsp done\n",
      "Instances/line_80_9.tsp done\n",
      "Instances/line_90_0.tsp done\n",
      "Instances/line_90_1.tsp done\n",
      "Instances/line_90_2.tsp done\n",
      "Instances/line_90_3.tsp done\n",
      "Instances/line_90_4.tsp done\n",
      "Instances/line_90_5.tsp done\n",
      "Instances/line_90_6.tsp done\n",
      "Instances/line_90_7.tsp done\n",
      "Instances/line_90_8.tsp done\n",
      "Instances/line_90_9.tsp done\n"
     ]
    }
   ],
   "source": [
    "# run the benchmark function on all rows\n",
    "df = df.apply(benchmark, axis=1)\n"
   ],
   "metadata": {
    "collapsed": false,
    "ExecuteTime": {
     "end_time": "2023-05-27T13:30:44.003738100Z",
     "start_time": "2023-05-27T12:43:55.854845600Z"
    }
   }
  },
  {
   "cell_type": "code",
   "execution_count": 12,
   "outputs": [],
   "source": [
    "# save the dataframe as a csv\n",
    "#df.to_csv('data_line.csv', index=False)\n",
    "#matrix = df.copy()\n",
    "#c = [\"GILS_cost\", \"GRASP_cost\", \"DBMEA_cost\"]\n",
    "#matrix[c] = matrix[c].apply(lambda x: pd.to_numeric(x, errors='coerce'))\n",
    "\n",
    "#matrix['Min_val'] = matrix[c].min(axis=1)\n",
    "#matrix['Min_col'] = matrix[c].idxmin(axis=1)\n",
    "#save the dataframe as a csv\n",
    "#matrix.to_csv('matrix_line.csv', index=False)"
   ],
   "metadata": {
    "collapsed": false,
    "ExecuteTime": {
     "end_time": "2023-05-27T13:31:12.971227900Z",
     "start_time": "2023-05-27T13:31:12.958052800Z"
    }
   }
  },
  {
   "cell_type": "code",
   "execution_count": 18,
   "outputs": [
    {
     "data": {
      "text/plain": "              file   n     m    ratio1  ratio2   density  min     max   \n0        att48.tsp  48  1176  0.040816    24.5  1.042553  0.0  2662.0  \\\n1     berlin52.tsp  52  1378  0.037736    26.5  1.039216  0.0  1716.0   \n2     brazil58.tsp  58  1711  0.033898    29.5  1.035088  0.0  8700.0   \n3      burma14.tsp  14   105  0.133333     7.5  1.153846  1.0  1261.0   \n4    dantzig42.tsp  42   903  0.046512    21.5  1.048780  0.0   192.0   \n..             ...  ..   ...       ...     ...       ...  ...     ...   \n335  line_90_5.tsp  90  4095  0.021978    45.5  1.022472  0.0   889.0   \n336  line_90_6.tsp  90  4095  0.021978    45.5  1.022472  0.0   888.0   \n337  line_90_7.tsp  90  4095  0.021978    45.5  1.022472  0.0   862.0   \n338  line_90_8.tsp  90  4095  0.021978    45.5  1.022472  0.0   889.0   \n339  line_90_9.tsp  90  4095  0.021978    45.5  1.022472  0.0   875.0   \n\n            mean          std           var  GILS_cost  GILS_time  GRASP_cost   \n0    1017.559896   627.598414  3.938798e+05   226229.0   6.474685    301702.0  \\\n1     564.188609   345.722052  1.195237e+05   145419.0   6.054587    191072.0   \n2    2094.914388  1426.139588  2.033874e+06   532454.0   8.013889    709540.0   \n3     442.612245   272.511473  7.426250e+04    16457.0   0.156218     18393.0   \n4      72.295918    43.481585  1.890648e+03    12392.0   2.579336     14523.0   \n..           ...          ...           ...        ...        ...         ...   \n335   319.538272   226.908988  5.148769e+04    55730.0  35.477098    157350.0   \n336   297.687407   211.917802  4.490915e+04    48884.0  30.191444    128976.0   \n337   249.932840   181.712429  3.301941e+04    51464.0  28.821121    124368.0   \n338   316.810123   226.894830  5.148126e+04    60845.0  28.282006    123373.0   \n339   293.470864   209.501121  4.389072e+04    60959.0  29.666181    118075.0   \n\n     GRASP_time  DBMEA_cost  DBMEA_time   Min_val     Min_col  \n0      0.026019    207771.0    5.288543  207771.0  DBMEA_cost  \n1      0.031533    143278.0    5.374160  143278.0  DBMEA_cost  \n2      0.043413    535150.0    9.045840  532454.0   GILS_cost  \n3      0.001000     16457.0    0.082072   16457.0   GILS_cost  \n4      0.016044     12256.0    3.325098   12256.0  DBMEA_cost  \n..          ...         ...         ...       ...         ...  \n335    0.233857     57558.0   36.326975   55730.0   GILS_cost  \n336    0.232372     45916.0   37.348990   45916.0  DBMEA_cost  \n337    0.232510     49038.0   44.483338   49038.0  DBMEA_cost  \n338    0.231058     65825.0   39.745050   60845.0   GILS_cost  \n339    0.229949     58315.0   44.563938   58315.0  DBMEA_cost  \n\n[340 rows x 19 columns]",
      "text/html": "<div>\n<style scoped>\n    .dataframe tbody tr th:only-of-type {\n        vertical-align: middle;\n    }\n\n    .dataframe tbody tr th {\n        vertical-align: top;\n    }\n\n    .dataframe thead th {\n        text-align: right;\n    }\n</style>\n<table border=\"1\" class=\"dataframe\">\n  <thead>\n    <tr style=\"text-align: right;\">\n      <th></th>\n      <th>file</th>\n      <th>n</th>\n      <th>m</th>\n      <th>ratio1</th>\n      <th>ratio2</th>\n      <th>density</th>\n      <th>min</th>\n      <th>max</th>\n      <th>mean</th>\n      <th>std</th>\n      <th>var</th>\n      <th>GILS_cost</th>\n      <th>GILS_time</th>\n      <th>GRASP_cost</th>\n      <th>GRASP_time</th>\n      <th>DBMEA_cost</th>\n      <th>DBMEA_time</th>\n      <th>Min_val</th>\n      <th>Min_col</th>\n    </tr>\n  </thead>\n  <tbody>\n    <tr>\n      <th>0</th>\n      <td>att48.tsp</td>\n      <td>48</td>\n      <td>1176</td>\n      <td>0.040816</td>\n      <td>24.5</td>\n      <td>1.042553</td>\n      <td>0.0</td>\n      <td>2662.0</td>\n      <td>1017.559896</td>\n      <td>627.598414</td>\n      <td>3.938798e+05</td>\n      <td>226229.0</td>\n      <td>6.474685</td>\n      <td>301702.0</td>\n      <td>0.026019</td>\n      <td>207771.0</td>\n      <td>5.288543</td>\n      <td>207771.0</td>\n      <td>DBMEA_cost</td>\n    </tr>\n    <tr>\n      <th>1</th>\n      <td>berlin52.tsp</td>\n      <td>52</td>\n      <td>1378</td>\n      <td>0.037736</td>\n      <td>26.5</td>\n      <td>1.039216</td>\n      <td>0.0</td>\n      <td>1716.0</td>\n      <td>564.188609</td>\n      <td>345.722052</td>\n      <td>1.195237e+05</td>\n      <td>145419.0</td>\n      <td>6.054587</td>\n      <td>191072.0</td>\n      <td>0.031533</td>\n      <td>143278.0</td>\n      <td>5.374160</td>\n      <td>143278.0</td>\n      <td>DBMEA_cost</td>\n    </tr>\n    <tr>\n      <th>2</th>\n      <td>brazil58.tsp</td>\n      <td>58</td>\n      <td>1711</td>\n      <td>0.033898</td>\n      <td>29.5</td>\n      <td>1.035088</td>\n      <td>0.0</td>\n      <td>8700.0</td>\n      <td>2094.914388</td>\n      <td>1426.139588</td>\n      <td>2.033874e+06</td>\n      <td>532454.0</td>\n      <td>8.013889</td>\n      <td>709540.0</td>\n      <td>0.043413</td>\n      <td>535150.0</td>\n      <td>9.045840</td>\n      <td>532454.0</td>\n      <td>GILS_cost</td>\n    </tr>\n    <tr>\n      <th>3</th>\n      <td>burma14.tsp</td>\n      <td>14</td>\n      <td>105</td>\n      <td>0.133333</td>\n      <td>7.5</td>\n      <td>1.153846</td>\n      <td>1.0</td>\n      <td>1261.0</td>\n      <td>442.612245</td>\n      <td>272.511473</td>\n      <td>7.426250e+04</td>\n      <td>16457.0</td>\n      <td>0.156218</td>\n      <td>18393.0</td>\n      <td>0.001000</td>\n      <td>16457.0</td>\n      <td>0.082072</td>\n      <td>16457.0</td>\n      <td>GILS_cost</td>\n    </tr>\n    <tr>\n      <th>4</th>\n      <td>dantzig42.tsp</td>\n      <td>42</td>\n      <td>903</td>\n      <td>0.046512</td>\n      <td>21.5</td>\n      <td>1.048780</td>\n      <td>0.0</td>\n      <td>192.0</td>\n      <td>72.295918</td>\n      <td>43.481585</td>\n      <td>1.890648e+03</td>\n      <td>12392.0</td>\n      <td>2.579336</td>\n      <td>14523.0</td>\n      <td>0.016044</td>\n      <td>12256.0</td>\n      <td>3.325098</td>\n      <td>12256.0</td>\n      <td>DBMEA_cost</td>\n    </tr>\n    <tr>\n      <th>...</th>\n      <td>...</td>\n      <td>...</td>\n      <td>...</td>\n      <td>...</td>\n      <td>...</td>\n      <td>...</td>\n      <td>...</td>\n      <td>...</td>\n      <td>...</td>\n      <td>...</td>\n      <td>...</td>\n      <td>...</td>\n      <td>...</td>\n      <td>...</td>\n      <td>...</td>\n      <td>...</td>\n      <td>...</td>\n      <td>...</td>\n      <td>...</td>\n    </tr>\n    <tr>\n      <th>335</th>\n      <td>line_90_5.tsp</td>\n      <td>90</td>\n      <td>4095</td>\n      <td>0.021978</td>\n      <td>45.5</td>\n      <td>1.022472</td>\n      <td>0.0</td>\n      <td>889.0</td>\n      <td>319.538272</td>\n      <td>226.908988</td>\n      <td>5.148769e+04</td>\n      <td>55730.0</td>\n      <td>35.477098</td>\n      <td>157350.0</td>\n      <td>0.233857</td>\n      <td>57558.0</td>\n      <td>36.326975</td>\n      <td>55730.0</td>\n      <td>GILS_cost</td>\n    </tr>\n    <tr>\n      <th>336</th>\n      <td>line_90_6.tsp</td>\n      <td>90</td>\n      <td>4095</td>\n      <td>0.021978</td>\n      <td>45.5</td>\n      <td>1.022472</td>\n      <td>0.0</td>\n      <td>888.0</td>\n      <td>297.687407</td>\n      <td>211.917802</td>\n      <td>4.490915e+04</td>\n      <td>48884.0</td>\n      <td>30.191444</td>\n      <td>128976.0</td>\n      <td>0.232372</td>\n      <td>45916.0</td>\n      <td>37.348990</td>\n      <td>45916.0</td>\n      <td>DBMEA_cost</td>\n    </tr>\n    <tr>\n      <th>337</th>\n      <td>line_90_7.tsp</td>\n      <td>90</td>\n      <td>4095</td>\n      <td>0.021978</td>\n      <td>45.5</td>\n      <td>1.022472</td>\n      <td>0.0</td>\n      <td>862.0</td>\n      <td>249.932840</td>\n      <td>181.712429</td>\n      <td>3.301941e+04</td>\n      <td>51464.0</td>\n      <td>28.821121</td>\n      <td>124368.0</td>\n      <td>0.232510</td>\n      <td>49038.0</td>\n      <td>44.483338</td>\n      <td>49038.0</td>\n      <td>DBMEA_cost</td>\n    </tr>\n    <tr>\n      <th>338</th>\n      <td>line_90_8.tsp</td>\n      <td>90</td>\n      <td>4095</td>\n      <td>0.021978</td>\n      <td>45.5</td>\n      <td>1.022472</td>\n      <td>0.0</td>\n      <td>889.0</td>\n      <td>316.810123</td>\n      <td>226.894830</td>\n      <td>5.148126e+04</td>\n      <td>60845.0</td>\n      <td>28.282006</td>\n      <td>123373.0</td>\n      <td>0.231058</td>\n      <td>65825.0</td>\n      <td>39.745050</td>\n      <td>60845.0</td>\n      <td>GILS_cost</td>\n    </tr>\n    <tr>\n      <th>339</th>\n      <td>line_90_9.tsp</td>\n      <td>90</td>\n      <td>4095</td>\n      <td>0.021978</td>\n      <td>45.5</td>\n      <td>1.022472</td>\n      <td>0.0</td>\n      <td>875.0</td>\n      <td>293.470864</td>\n      <td>209.501121</td>\n      <td>4.389072e+04</td>\n      <td>60959.0</td>\n      <td>29.666181</td>\n      <td>118075.0</td>\n      <td>0.229949</td>\n      <td>58315.0</td>\n      <td>44.563938</td>\n      <td>58315.0</td>\n      <td>DBMEA_cost</td>\n    </tr>\n  </tbody>\n</table>\n<p>340 rows × 19 columns</p>\n</div>"
     },
     "execution_count": 18,
     "metadata": {},
     "output_type": "execute_result"
    }
   ],
   "source": [
    "# train a model on the data that predicts gils\n",
    "# get the data\n",
    "df = pd.read_csv('matrix_all.csv')\n",
    "df"
   ],
   "metadata": {
    "collapsed": false,
    "ExecuteTime": {
     "end_time": "2023-05-27T13:36:16.622107900Z",
     "start_time": "2023-05-27T13:36:16.594070600Z"
    }
   }
  },
  {
   "cell_type": "code",
   "execution_count": 16,
   "outputs": [
    {
     "data": {
      "text/plain": "             file   n     m    ratio1  ratio2   density  min     max   \n0       att48.tsp  48  1176  0.040816    24.5  1.042553  0.0  2662.0  \\\n1    berlin52.tsp  52  1378  0.037736    26.5  1.039216  0.0  1716.0   \n2    brazil58.tsp  58  1711  0.033898    29.5  1.035088  0.0  8700.0   \n3     burma14.tsp  14   105  0.133333     7.5  1.153846  1.0  1261.0   \n4   dantzig42.tsp  42   903  0.046512    21.5  1.048780  0.0   192.0   \n..            ...  ..   ...       ...     ...       ...  ...     ...   \n95  line_90_5.tsp  90  4095  0.021978    45.5  1.022472  0.0   889.0   \n96  line_90_6.tsp  90  4095  0.021978    45.5  1.022472  0.0   888.0   \n97  line_90_7.tsp  90  4095  0.021978    45.5  1.022472  0.0   862.0   \n98  line_90_8.tsp  90  4095  0.021978    45.5  1.022472  0.0   889.0   \n99  line_90_9.tsp  90  4095  0.021978    45.5  1.022472  0.0   875.0   \n\n           mean          std           var  GILS_cost  GILS_time  GRASP_cost   \n0   1017.559896   627.598414  3.938798e+05   226229.0   6.474685    301702.0  \\\n1    564.188609   345.722052  1.195237e+05   145419.0   6.054587    191072.0   \n2   2094.914388  1426.139588  2.033874e+06   532454.0   8.013889    709540.0   \n3    442.612245   272.511473  7.426250e+04    16457.0   0.156218     18393.0   \n4     72.295918    43.481585  1.890648e+03    12392.0   2.579336     14523.0   \n..          ...          ...           ...        ...        ...         ...   \n95   319.538272   226.908988  5.148769e+04    55730.0  35.477098    157350.0   \n96   297.687407   211.917802  4.490915e+04    48884.0  30.191444    128976.0   \n97   249.932840   181.712429  3.301941e+04    51464.0  28.821121    124368.0   \n98   316.810123   226.894830  5.148126e+04    60845.0  28.282006    123373.0   \n99   293.470864   209.501121  4.389072e+04    60959.0  29.666181    118075.0   \n\n    GRASP_time  DBMEA_cost  DBMEA_time   Min_val     Min_col  \n0     0.026019    207771.0    5.288543  207771.0  DBMEA_cost  \n1     0.031533    143278.0    5.374160  143278.0  DBMEA_cost  \n2     0.043413    535150.0    9.045840  532454.0   GILS_cost  \n3     0.001000     16457.0    0.082072   16457.0   GILS_cost  \n4     0.016044     12256.0    3.325098   12256.0  DBMEA_cost  \n..         ...         ...         ...       ...         ...  \n95    0.233857     57558.0   36.326975   55730.0   GILS_cost  \n96    0.232372     45916.0   37.348990   45916.0  DBMEA_cost  \n97    0.232510     49038.0   44.483338   49038.0  DBMEA_cost  \n98    0.231058     65825.0   39.745050   60845.0   GILS_cost  \n99    0.229949     58315.0   44.563938   58315.0  DBMEA_cost  \n\n[340 rows x 19 columns]",
      "text/html": "<div>\n<style scoped>\n    .dataframe tbody tr th:only-of-type {\n        vertical-align: middle;\n    }\n\n    .dataframe tbody tr th {\n        vertical-align: top;\n    }\n\n    .dataframe thead th {\n        text-align: right;\n    }\n</style>\n<table border=\"1\" class=\"dataframe\">\n  <thead>\n    <tr style=\"text-align: right;\">\n      <th></th>\n      <th>file</th>\n      <th>n</th>\n      <th>m</th>\n      <th>ratio1</th>\n      <th>ratio2</th>\n      <th>density</th>\n      <th>min</th>\n      <th>max</th>\n      <th>mean</th>\n      <th>std</th>\n      <th>var</th>\n      <th>GILS_cost</th>\n      <th>GILS_time</th>\n      <th>GRASP_cost</th>\n      <th>GRASP_time</th>\n      <th>DBMEA_cost</th>\n      <th>DBMEA_time</th>\n      <th>Min_val</th>\n      <th>Min_col</th>\n    </tr>\n  </thead>\n  <tbody>\n    <tr>\n      <th>0</th>\n      <td>att48.tsp</td>\n      <td>48</td>\n      <td>1176</td>\n      <td>0.040816</td>\n      <td>24.5</td>\n      <td>1.042553</td>\n      <td>0.0</td>\n      <td>2662.0</td>\n      <td>1017.559896</td>\n      <td>627.598414</td>\n      <td>3.938798e+05</td>\n      <td>226229.0</td>\n      <td>6.474685</td>\n      <td>301702.0</td>\n      <td>0.026019</td>\n      <td>207771.0</td>\n      <td>5.288543</td>\n      <td>207771.0</td>\n      <td>DBMEA_cost</td>\n    </tr>\n    <tr>\n      <th>1</th>\n      <td>berlin52.tsp</td>\n      <td>52</td>\n      <td>1378</td>\n      <td>0.037736</td>\n      <td>26.5</td>\n      <td>1.039216</td>\n      <td>0.0</td>\n      <td>1716.0</td>\n      <td>564.188609</td>\n      <td>345.722052</td>\n      <td>1.195237e+05</td>\n      <td>145419.0</td>\n      <td>6.054587</td>\n      <td>191072.0</td>\n      <td>0.031533</td>\n      <td>143278.0</td>\n      <td>5.374160</td>\n      <td>143278.0</td>\n      <td>DBMEA_cost</td>\n    </tr>\n    <tr>\n      <th>2</th>\n      <td>brazil58.tsp</td>\n      <td>58</td>\n      <td>1711</td>\n      <td>0.033898</td>\n      <td>29.5</td>\n      <td>1.035088</td>\n      <td>0.0</td>\n      <td>8700.0</td>\n      <td>2094.914388</td>\n      <td>1426.139588</td>\n      <td>2.033874e+06</td>\n      <td>532454.0</td>\n      <td>8.013889</td>\n      <td>709540.0</td>\n      <td>0.043413</td>\n      <td>535150.0</td>\n      <td>9.045840</td>\n      <td>532454.0</td>\n      <td>GILS_cost</td>\n    </tr>\n    <tr>\n      <th>3</th>\n      <td>burma14.tsp</td>\n      <td>14</td>\n      <td>105</td>\n      <td>0.133333</td>\n      <td>7.5</td>\n      <td>1.153846</td>\n      <td>1.0</td>\n      <td>1261.0</td>\n      <td>442.612245</td>\n      <td>272.511473</td>\n      <td>7.426250e+04</td>\n      <td>16457.0</td>\n      <td>0.156218</td>\n      <td>18393.0</td>\n      <td>0.001000</td>\n      <td>16457.0</td>\n      <td>0.082072</td>\n      <td>16457.0</td>\n      <td>GILS_cost</td>\n    </tr>\n    <tr>\n      <th>4</th>\n      <td>dantzig42.tsp</td>\n      <td>42</td>\n      <td>903</td>\n      <td>0.046512</td>\n      <td>21.5</td>\n      <td>1.048780</td>\n      <td>0.0</td>\n      <td>192.0</td>\n      <td>72.295918</td>\n      <td>43.481585</td>\n      <td>1.890648e+03</td>\n      <td>12392.0</td>\n      <td>2.579336</td>\n      <td>14523.0</td>\n      <td>0.016044</td>\n      <td>12256.0</td>\n      <td>3.325098</td>\n      <td>12256.0</td>\n      <td>DBMEA_cost</td>\n    </tr>\n    <tr>\n      <th>...</th>\n      <td>...</td>\n      <td>...</td>\n      <td>...</td>\n      <td>...</td>\n      <td>...</td>\n      <td>...</td>\n      <td>...</td>\n      <td>...</td>\n      <td>...</td>\n      <td>...</td>\n      <td>...</td>\n      <td>...</td>\n      <td>...</td>\n      <td>...</td>\n      <td>...</td>\n      <td>...</td>\n      <td>...</td>\n      <td>...</td>\n      <td>...</td>\n    </tr>\n    <tr>\n      <th>95</th>\n      <td>line_90_5.tsp</td>\n      <td>90</td>\n      <td>4095</td>\n      <td>0.021978</td>\n      <td>45.5</td>\n      <td>1.022472</td>\n      <td>0.0</td>\n      <td>889.0</td>\n      <td>319.538272</td>\n      <td>226.908988</td>\n      <td>5.148769e+04</td>\n      <td>55730.0</td>\n      <td>35.477098</td>\n      <td>157350.0</td>\n      <td>0.233857</td>\n      <td>57558.0</td>\n      <td>36.326975</td>\n      <td>55730.0</td>\n      <td>GILS_cost</td>\n    </tr>\n    <tr>\n      <th>96</th>\n      <td>line_90_6.tsp</td>\n      <td>90</td>\n      <td>4095</td>\n      <td>0.021978</td>\n      <td>45.5</td>\n      <td>1.022472</td>\n      <td>0.0</td>\n      <td>888.0</td>\n      <td>297.687407</td>\n      <td>211.917802</td>\n      <td>4.490915e+04</td>\n      <td>48884.0</td>\n      <td>30.191444</td>\n      <td>128976.0</td>\n      <td>0.232372</td>\n      <td>45916.0</td>\n      <td>37.348990</td>\n      <td>45916.0</td>\n      <td>DBMEA_cost</td>\n    </tr>\n    <tr>\n      <th>97</th>\n      <td>line_90_7.tsp</td>\n      <td>90</td>\n      <td>4095</td>\n      <td>0.021978</td>\n      <td>45.5</td>\n      <td>1.022472</td>\n      <td>0.0</td>\n      <td>862.0</td>\n      <td>249.932840</td>\n      <td>181.712429</td>\n      <td>3.301941e+04</td>\n      <td>51464.0</td>\n      <td>28.821121</td>\n      <td>124368.0</td>\n      <td>0.232510</td>\n      <td>49038.0</td>\n      <td>44.483338</td>\n      <td>49038.0</td>\n      <td>DBMEA_cost</td>\n    </tr>\n    <tr>\n      <th>98</th>\n      <td>line_90_8.tsp</td>\n      <td>90</td>\n      <td>4095</td>\n      <td>0.021978</td>\n      <td>45.5</td>\n      <td>1.022472</td>\n      <td>0.0</td>\n      <td>889.0</td>\n      <td>316.810123</td>\n      <td>226.894830</td>\n      <td>5.148126e+04</td>\n      <td>60845.0</td>\n      <td>28.282006</td>\n      <td>123373.0</td>\n      <td>0.231058</td>\n      <td>65825.0</td>\n      <td>39.745050</td>\n      <td>60845.0</td>\n      <td>GILS_cost</td>\n    </tr>\n    <tr>\n      <th>99</th>\n      <td>line_90_9.tsp</td>\n      <td>90</td>\n      <td>4095</td>\n      <td>0.021978</td>\n      <td>45.5</td>\n      <td>1.022472</td>\n      <td>0.0</td>\n      <td>875.0</td>\n      <td>293.470864</td>\n      <td>209.501121</td>\n      <td>4.389072e+04</td>\n      <td>60959.0</td>\n      <td>29.666181</td>\n      <td>118075.0</td>\n      <td>0.229949</td>\n      <td>58315.0</td>\n      <td>44.563938</td>\n      <td>58315.0</td>\n      <td>DBMEA_cost</td>\n    </tr>\n  </tbody>\n</table>\n<p>340 rows × 19 columns</p>\n</div>"
     },
     "execution_count": 16,
     "metadata": {},
     "output_type": "execute_result"
    }
   ],
   "source": [
    "# concat df and df2\n",
    "#df = pd.concat([df, df2])\n"
   ],
   "metadata": {
    "collapsed": false,
    "ExecuteTime": {
     "end_time": "2023-05-27T13:34:04.734642200Z",
     "start_time": "2023-05-27T13:34:04.720048300Z"
    }
   }
  },
  {
   "cell_type": "code",
   "execution_count": 19,
   "outputs": [
    {
     "data": {
      "text/plain": "Min_col\nDBMEA_cost    186\nGILS_cost     154\nName: count, dtype: int64"
     },
     "execution_count": 19,
     "metadata": {},
     "output_type": "execute_result"
    }
   ],
   "source": [
    "# check value counts\n",
    "df['Min_col'].value_counts()"
   ],
   "metadata": {
    "collapsed": false,
    "ExecuteTime": {
     "end_time": "2023-05-27T13:36:39.694344Z",
     "start_time": "2023-05-27T13:36:39.685256800Z"
    }
   }
  },
  {
   "cell_type": "code",
   "execution_count": 20,
   "outputs": [],
   "source": [
    "# get the features\n",
    "X = df[['n', 'm', 'ratio1', 'ratio2', 'density', 'min', 'max', 'mean', 'std', 'var']]\n",
    "y = df['Min_col']\n",
    "\n"
   ],
   "metadata": {
    "collapsed": false,
    "ExecuteTime": {
     "end_time": "2023-05-27T13:36:48.516712900Z",
     "start_time": "2023-05-27T13:36:48.509387600Z"
    }
   }
  },
  {
   "cell_type": "code",
   "execution_count": 21,
   "outputs": [],
   "source": [
    "# train test split\n",
    "\n",
    "\n",
    "X_train, X_test, y_train, y_test = train_test_split(X, y)\n",
    "\n"
   ],
   "metadata": {
    "collapsed": false,
    "ExecuteTime": {
     "end_time": "2023-05-27T13:36:50.366386800Z",
     "start_time": "2023-05-27T13:36:50.357360600Z"
    }
   }
  },
  {
   "cell_type": "code",
   "execution_count": 22,
   "outputs": [
    {
     "data": {
      "text/plain": "RandomForestClassifier()",
      "text/html": "<style>#sk-container-id-1 {color: black;background-color: white;}#sk-container-id-1 pre{padding: 0;}#sk-container-id-1 div.sk-toggleable {background-color: white;}#sk-container-id-1 label.sk-toggleable__label {cursor: pointer;display: block;width: 100%;margin-bottom: 0;padding: 0.3em;box-sizing: border-box;text-align: center;}#sk-container-id-1 label.sk-toggleable__label-arrow:before {content: \"▸\";float: left;margin-right: 0.25em;color: #696969;}#sk-container-id-1 label.sk-toggleable__label-arrow:hover:before {color: black;}#sk-container-id-1 div.sk-estimator:hover label.sk-toggleable__label-arrow:before {color: black;}#sk-container-id-1 div.sk-toggleable__content {max-height: 0;max-width: 0;overflow: hidden;text-align: left;background-color: #f0f8ff;}#sk-container-id-1 div.sk-toggleable__content pre {margin: 0.2em;color: black;border-radius: 0.25em;background-color: #f0f8ff;}#sk-container-id-1 input.sk-toggleable__control:checked~div.sk-toggleable__content {max-height: 200px;max-width: 100%;overflow: auto;}#sk-container-id-1 input.sk-toggleable__control:checked~label.sk-toggleable__label-arrow:before {content: \"▾\";}#sk-container-id-1 div.sk-estimator input.sk-toggleable__control:checked~label.sk-toggleable__label {background-color: #d4ebff;}#sk-container-id-1 div.sk-label input.sk-toggleable__control:checked~label.sk-toggleable__label {background-color: #d4ebff;}#sk-container-id-1 input.sk-hidden--visually {border: 0;clip: rect(1px 1px 1px 1px);clip: rect(1px, 1px, 1px, 1px);height: 1px;margin: -1px;overflow: hidden;padding: 0;position: absolute;width: 1px;}#sk-container-id-1 div.sk-estimator {font-family: monospace;background-color: #f0f8ff;border: 1px dotted black;border-radius: 0.25em;box-sizing: border-box;margin-bottom: 0.5em;}#sk-container-id-1 div.sk-estimator:hover {background-color: #d4ebff;}#sk-container-id-1 div.sk-parallel-item::after {content: \"\";width: 100%;border-bottom: 1px solid gray;flex-grow: 1;}#sk-container-id-1 div.sk-label:hover label.sk-toggleable__label {background-color: #d4ebff;}#sk-container-id-1 div.sk-serial::before {content: \"\";position: absolute;border-left: 1px solid gray;box-sizing: border-box;top: 0;bottom: 0;left: 50%;z-index: 0;}#sk-container-id-1 div.sk-serial {display: flex;flex-direction: column;align-items: center;background-color: white;padding-right: 0.2em;padding-left: 0.2em;position: relative;}#sk-container-id-1 div.sk-item {position: relative;z-index: 1;}#sk-container-id-1 div.sk-parallel {display: flex;align-items: stretch;justify-content: center;background-color: white;position: relative;}#sk-container-id-1 div.sk-item::before, #sk-container-id-1 div.sk-parallel-item::before {content: \"\";position: absolute;border-left: 1px solid gray;box-sizing: border-box;top: 0;bottom: 0;left: 50%;z-index: -1;}#sk-container-id-1 div.sk-parallel-item {display: flex;flex-direction: column;z-index: 1;position: relative;background-color: white;}#sk-container-id-1 div.sk-parallel-item:first-child::after {align-self: flex-end;width: 50%;}#sk-container-id-1 div.sk-parallel-item:last-child::after {align-self: flex-start;width: 50%;}#sk-container-id-1 div.sk-parallel-item:only-child::after {width: 0;}#sk-container-id-1 div.sk-dashed-wrapped {border: 1px dashed gray;margin: 0 0.4em 0.5em 0.4em;box-sizing: border-box;padding-bottom: 0.4em;background-color: white;}#sk-container-id-1 div.sk-label label {font-family: monospace;font-weight: bold;display: inline-block;line-height: 1.2em;}#sk-container-id-1 div.sk-label-container {text-align: center;}#sk-container-id-1 div.sk-container {/* jupyter's `normalize.less` sets `[hidden] { display: none; }` but bootstrap.min.css set `[hidden] { display: none !important; }` so we also need the `!important` here to be able to override the default hidden behavior on the sphinx rendered scikit-learn.org. See: https://github.com/scikit-learn/scikit-learn/issues/21755 */display: inline-block !important;position: relative;}#sk-container-id-1 div.sk-text-repr-fallback {display: none;}</style><div id=\"sk-container-id-1\" class=\"sk-top-container\"><div class=\"sk-text-repr-fallback\"><pre>RandomForestClassifier()</pre><b>In a Jupyter environment, please rerun this cell to show the HTML representation or trust the notebook. <br />On GitHub, the HTML representation is unable to render, please try loading this page with nbviewer.org.</b></div><div class=\"sk-container\" hidden><div class=\"sk-item\"><div class=\"sk-estimator sk-toggleable\"><input class=\"sk-toggleable__control sk-hidden--visually\" id=\"sk-estimator-id-1\" type=\"checkbox\" checked><label for=\"sk-estimator-id-1\" class=\"sk-toggleable__label sk-toggleable__label-arrow\">RandomForestClassifier</label><div class=\"sk-toggleable__content\"><pre>RandomForestClassifier()</pre></div></div></div></div></div>"
     },
     "execution_count": 22,
     "metadata": {},
     "output_type": "execute_result"
    }
   ],
   "source": [
    "# train a random forest\n",
    "\n",
    "rf = RandomForestClassifier()\n",
    "rf.fit(X_train, y_train)\n",
    "\n"
   ],
   "metadata": {
    "collapsed": false,
    "ExecuteTime": {
     "end_time": "2023-05-27T13:36:50.863500100Z",
     "start_time": "2023-05-27T13:36:50.762385700Z"
    }
   }
  },
  {
   "cell_type": "code",
   "execution_count": 23,
   "outputs": [],
   "source": [
    "# get the predictions\n",
    "y_pred = rf.predict(X_test)\n",
    "\n"
   ],
   "metadata": {
    "collapsed": false,
    "ExecuteTime": {
     "end_time": "2023-05-27T13:36:51.450809700Z",
     "start_time": "2023-05-27T13:36:51.439848500Z"
    }
   }
  },
  {
   "cell_type": "code",
   "execution_count": 24,
   "outputs": [
    {
     "data": {
      "text/plain": "0.5176470588235295"
     },
     "execution_count": 24,
     "metadata": {},
     "output_type": "execute_result"
    }
   ],
   "source": [
    "# get the accuracy\n",
    "accuracy_score(y_test, y_pred)\n"
   ],
   "metadata": {
    "collapsed": false,
    "ExecuteTime": {
     "end_time": "2023-05-27T13:36:52.015352100Z",
     "start_time": "2023-05-27T13:36:52.011539200Z"
    }
   }
  },
  {
   "cell_type": "code",
   "execution_count": 25,
   "outputs": [
    {
     "data": {
      "text/plain": "(25, 22, 19, 19)"
     },
     "execution_count": 25,
     "metadata": {},
     "output_type": "execute_result"
    }
   ],
   "source": [
    "# get the confusion matrix\n",
    "\n",
    "tn, fp, fn, tp = confusion_matrix(y_test, y_pred).ravel()\n",
    "(tn, fp, fn, tp)"
   ],
   "metadata": {
    "collapsed": false,
    "ExecuteTime": {
     "end_time": "2023-05-27T13:36:52.349194800Z",
     "start_time": "2023-05-27T13:36:52.332210100Z"
    }
   }
  },
  {
   "cell_type": "code",
   "execution_count": 26,
   "outputs": [],
   "source": [
    "# predict the entire dataset\n",
    "y_pred = rf.predict(X)\n"
   ],
   "metadata": {
    "collapsed": false,
    "ExecuteTime": {
     "end_time": "2023-05-27T13:36:53.900807900Z",
     "start_time": "2023-05-27T13:36:53.889116900Z"
    }
   }
  },
  {
   "cell_type": "code",
   "execution_count": 27,
   "outputs": [
    {
     "data": {
      "text/plain": "0.8794117647058823"
     },
     "execution_count": 27,
     "metadata": {},
     "output_type": "execute_result"
    }
   ],
   "source": [
    "# get the accuracy\n",
    "accuracy_score(y, y_pred)\n"
   ],
   "metadata": {
    "collapsed": false,
    "ExecuteTime": {
     "end_time": "2023-05-27T13:36:54.715319600Z",
     "start_time": "2023-05-27T13:36:54.709828100Z"
    }
   }
  },
  {
   "cell_type": "code",
   "execution_count": 28,
   "outputs": [
    {
     "data": {
      "text/plain": "(164, 22, 19, 135)"
     },
     "execution_count": 28,
     "metadata": {},
     "output_type": "execute_result"
    }
   ],
   "source": [
    "# get the confusion matrix\n",
    "tn, fp, fn, tp = confusion_matrix(y, y_pred).ravel()\n",
    "(tn, fp, fn, tp)"
   ],
   "metadata": {
    "collapsed": false,
    "ExecuteTime": {
     "end_time": "2023-05-27T13:36:55.026107900Z",
     "start_time": "2023-05-27T13:36:55.020814200Z"
    }
   }
  },
  {
   "cell_type": "code",
   "execution_count": 29,
   "outputs": [
    {
     "data": {
      "text/plain": "LogisticRegression()",
      "text/html": "<style>#sk-container-id-2 {color: black;background-color: white;}#sk-container-id-2 pre{padding: 0;}#sk-container-id-2 div.sk-toggleable {background-color: white;}#sk-container-id-2 label.sk-toggleable__label {cursor: pointer;display: block;width: 100%;margin-bottom: 0;padding: 0.3em;box-sizing: border-box;text-align: center;}#sk-container-id-2 label.sk-toggleable__label-arrow:before {content: \"▸\";float: left;margin-right: 0.25em;color: #696969;}#sk-container-id-2 label.sk-toggleable__label-arrow:hover:before {color: black;}#sk-container-id-2 div.sk-estimator:hover label.sk-toggleable__label-arrow:before {color: black;}#sk-container-id-2 div.sk-toggleable__content {max-height: 0;max-width: 0;overflow: hidden;text-align: left;background-color: #f0f8ff;}#sk-container-id-2 div.sk-toggleable__content pre {margin: 0.2em;color: black;border-radius: 0.25em;background-color: #f0f8ff;}#sk-container-id-2 input.sk-toggleable__control:checked~div.sk-toggleable__content {max-height: 200px;max-width: 100%;overflow: auto;}#sk-container-id-2 input.sk-toggleable__control:checked~label.sk-toggleable__label-arrow:before {content: \"▾\";}#sk-container-id-2 div.sk-estimator input.sk-toggleable__control:checked~label.sk-toggleable__label {background-color: #d4ebff;}#sk-container-id-2 div.sk-label input.sk-toggleable__control:checked~label.sk-toggleable__label {background-color: #d4ebff;}#sk-container-id-2 input.sk-hidden--visually {border: 0;clip: rect(1px 1px 1px 1px);clip: rect(1px, 1px, 1px, 1px);height: 1px;margin: -1px;overflow: hidden;padding: 0;position: absolute;width: 1px;}#sk-container-id-2 div.sk-estimator {font-family: monospace;background-color: #f0f8ff;border: 1px dotted black;border-radius: 0.25em;box-sizing: border-box;margin-bottom: 0.5em;}#sk-container-id-2 div.sk-estimator:hover {background-color: #d4ebff;}#sk-container-id-2 div.sk-parallel-item::after {content: \"\";width: 100%;border-bottom: 1px solid gray;flex-grow: 1;}#sk-container-id-2 div.sk-label:hover label.sk-toggleable__label {background-color: #d4ebff;}#sk-container-id-2 div.sk-serial::before {content: \"\";position: absolute;border-left: 1px solid gray;box-sizing: border-box;top: 0;bottom: 0;left: 50%;z-index: 0;}#sk-container-id-2 div.sk-serial {display: flex;flex-direction: column;align-items: center;background-color: white;padding-right: 0.2em;padding-left: 0.2em;position: relative;}#sk-container-id-2 div.sk-item {position: relative;z-index: 1;}#sk-container-id-2 div.sk-parallel {display: flex;align-items: stretch;justify-content: center;background-color: white;position: relative;}#sk-container-id-2 div.sk-item::before, #sk-container-id-2 div.sk-parallel-item::before {content: \"\";position: absolute;border-left: 1px solid gray;box-sizing: border-box;top: 0;bottom: 0;left: 50%;z-index: -1;}#sk-container-id-2 div.sk-parallel-item {display: flex;flex-direction: column;z-index: 1;position: relative;background-color: white;}#sk-container-id-2 div.sk-parallel-item:first-child::after {align-self: flex-end;width: 50%;}#sk-container-id-2 div.sk-parallel-item:last-child::after {align-self: flex-start;width: 50%;}#sk-container-id-2 div.sk-parallel-item:only-child::after {width: 0;}#sk-container-id-2 div.sk-dashed-wrapped {border: 1px dashed gray;margin: 0 0.4em 0.5em 0.4em;box-sizing: border-box;padding-bottom: 0.4em;background-color: white;}#sk-container-id-2 div.sk-label label {font-family: monospace;font-weight: bold;display: inline-block;line-height: 1.2em;}#sk-container-id-2 div.sk-label-container {text-align: center;}#sk-container-id-2 div.sk-container {/* jupyter's `normalize.less` sets `[hidden] { display: none; }` but bootstrap.min.css set `[hidden] { display: none !important; }` so we also need the `!important` here to be able to override the default hidden behavior on the sphinx rendered scikit-learn.org. See: https://github.com/scikit-learn/scikit-learn/issues/21755 */display: inline-block !important;position: relative;}#sk-container-id-2 div.sk-text-repr-fallback {display: none;}</style><div id=\"sk-container-id-2\" class=\"sk-top-container\"><div class=\"sk-text-repr-fallback\"><pre>LogisticRegression()</pre><b>In a Jupyter environment, please rerun this cell to show the HTML representation or trust the notebook. <br />On GitHub, the HTML representation is unable to render, please try loading this page with nbviewer.org.</b></div><div class=\"sk-container\" hidden><div class=\"sk-item\"><div class=\"sk-estimator sk-toggleable\"><input class=\"sk-toggleable__control sk-hidden--visually\" id=\"sk-estimator-id-2\" type=\"checkbox\" checked><label for=\"sk-estimator-id-2\" class=\"sk-toggleable__label sk-toggleable__label-arrow\">LogisticRegression</label><div class=\"sk-toggleable__content\"><pre>LogisticRegression()</pre></div></div></div></div></div>"
     },
     "execution_count": 29,
     "metadata": {},
     "output_type": "execute_result"
    }
   ],
   "source": [
    "# now train a logistic regression\n",
    "\n",
    "lr = LogisticRegression()\n",
    "lr.fit(X_train, y_train)\n"
   ],
   "metadata": {
    "collapsed": false,
    "ExecuteTime": {
     "end_time": "2023-05-27T13:37:17.636378500Z",
     "start_time": "2023-05-27T13:37:17.626754800Z"
    }
   }
  },
  {
   "cell_type": "code",
   "execution_count": 30,
   "outputs": [],
   "source": [
    "# get the predictions\n",
    "y_pred = lr.predict(X_test)\n"
   ],
   "metadata": {
    "collapsed": false,
    "ExecuteTime": {
     "end_time": "2023-05-27T13:37:18.700311300Z",
     "start_time": "2023-05-27T13:37:18.694743200Z"
    }
   }
  },
  {
   "cell_type": "code",
   "execution_count": 31,
   "outputs": [
    {
     "data": {
      "text/plain": "0.4470588235294118"
     },
     "execution_count": 31,
     "metadata": {},
     "output_type": "execute_result"
    }
   ],
   "source": [
    "# get the accuracy\n",
    "accuracy_score(y_test, y_pred)"
   ],
   "metadata": {
    "collapsed": false,
    "ExecuteTime": {
     "end_time": "2023-05-27T13:37:18.981029600Z",
     "start_time": "2023-05-27T13:37:18.969370700Z"
    }
   }
  },
  {
   "cell_type": "code",
   "execution_count": 32,
   "outputs": [
    {
     "data": {
      "text/plain": "(0, 47, 0, 38)"
     },
     "execution_count": 32,
     "metadata": {},
     "output_type": "execute_result"
    }
   ],
   "source": [
    "# get the confusion matrix\n",
    "\n",
    "tn, fp, fn, tp = confusion_matrix(y_test, y_pred).ravel()\n",
    "(tn, fp, fn, tp)"
   ],
   "metadata": {
    "collapsed": false,
    "ExecuteTime": {
     "end_time": "2023-05-27T13:37:19.271431400Z",
     "start_time": "2023-05-27T13:37:19.266398400Z"
    }
   }
  },
  {
   "cell_type": "code",
   "execution_count": 33,
   "outputs": [],
   "source": [
    "#get the predictions for the entire dataset\n",
    "y_pred = lr.predict(X)\n"
   ],
   "metadata": {
    "collapsed": false,
    "ExecuteTime": {
     "end_time": "2023-05-27T13:37:19.891096100Z",
     "start_time": "2023-05-27T13:37:19.886214700Z"
    }
   }
  },
  {
   "cell_type": "code",
   "execution_count": 34,
   "outputs": [
    {
     "data": {
      "text/plain": "0.45294117647058824"
     },
     "execution_count": 34,
     "metadata": {},
     "output_type": "execute_result"
    }
   ],
   "source": [
    "# get the accuracy\n",
    "accuracy_score(y, y_pred)"
   ],
   "metadata": {
    "collapsed": false,
    "ExecuteTime": {
     "end_time": "2023-05-27T13:37:20.197613600Z",
     "start_time": "2023-05-27T13:37:20.195104900Z"
    }
   }
  },
  {
   "cell_type": "code",
   "execution_count": 35,
   "outputs": [],
   "source": [
    "# get the confusion matrix"
   ],
   "metadata": {
    "collapsed": false,
    "ExecuteTime": {
     "end_time": "2023-05-27T13:37:20.762951500Z",
     "start_time": "2023-05-27T13:37:20.759944400Z"
    }
   }
  },
  {
   "cell_type": "code",
   "execution_count": 36,
   "outputs": [
    {
     "data": {
      "text/plain": "(0, 186, 0, 154)"
     },
     "execution_count": 36,
     "metadata": {},
     "output_type": "execute_result"
    }
   ],
   "source": [
    "tn, fp, fn, tp = confusion_matrix(y, y_pred).ravel()\n",
    "(tn, fp, fn, tp)"
   ],
   "metadata": {
    "collapsed": false,
    "ExecuteTime": {
     "end_time": "2023-05-27T13:37:21.389057700Z",
     "start_time": "2023-05-27T13:37:21.384752700Z"
    }
   }
  },
  {
   "cell_type": "code",
   "execution_count": 37,
   "outputs": [
    {
     "data": {
      "text/plain": "<Figure size 640x480 with 1 Axes>",
      "image/png": "[encoded data removed]"
     },
     "metadata": {},
     "output_type": "display_data"
    }
   ],
   "source": [
    "# display the logistic regression\n",
    "import matplotlib.pyplot as plt\n",
    "plt.barh(X.columns, lr.coef_[0])\n",
    "plt.show()"
   ],
   "metadata": {
    "collapsed": false,
    "ExecuteTime": {
     "end_time": "2023-05-27T13:37:57.777780800Z",
     "start_time": "2023-05-27T13:37:57.692182800Z"
    }
   }
  },
  {
   "cell_type": "code",
   "execution_count": 38,
   "outputs": [
    {
     "data": {
      "text/plain": "<Figure size 640x480 with 1 Axes>",
      "image/png": "[encoded data removed]"
     },
     "metadata": {},
     "output_type": "display_data"
    }
   ],
   "source": [
    "# display the random forest\n",
    "plt.barh(X.columns, rf.feature_importances_)\n",
    "plt.show()"
   ],
   "metadata": {
    "collapsed": false,
    "ExecuteTime": {
     "end_time": "2023-05-27T13:37:58.438889400Z",
     "start_time": "2023-05-27T13:37:58.359194Z"
    }
   }
  },
  {
   "cell_type": "code",
   "execution_count": null,
   "outputs": [],
   "source": [],
   "metadata": {
    "collapsed": false
   }
  }
 ],
 "metadata": {
  "kernelspec": {
   "display_name": "Python 3",
   "language": "python",
   "name": "python3"
  },
  "language_info": {
   "codemirror_mode": {
    "name": "ipython",
    "version": 2
   },
   "file_extension": ".py",
   "mimetype": "text/x-python",
   "name": "python",
   "nbconvert_exporter": "python",
   "pygments_lexer": "ipython2",
   "version": "2.7.6"
  }
 },
 "nbformat": 4,
 "nbformat_minor": 0
}
