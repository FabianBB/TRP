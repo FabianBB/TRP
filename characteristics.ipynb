{
 "cells": [
  {
   "cell_type": "code",
   "execution_count": 1,
   "metadata": {
    "collapsed": true,
    "ExecuteTime": {
     "end_time": "2023-05-28T22:57:47.303233700Z",
     "start_time": "2023-05-28T22:57:46.349040900Z"
    }
   },
   "outputs": [],
   "source": [
    "import numpy as np\n",
    "\n",
    "import tsplib95\n",
    "import networkx as nx\n",
    "\n",
    "import os\n",
    "import pandas as pd\n",
    "import gilsrvnd\n",
    "import DBMEA\n",
    "import grasp\n",
    "\n",
    "from sklearn.ensemble import RandomForestClassifier\n",
    "from sklearn.model_selection import train_test_split\n",
    "from sklearn.metrics import accuracy_score, confusion_matrix\n",
    "from sklearn.linear_model import LogisticRegression\n",
    "from networkx.algorithms.approximation import christofides\n",
    "\n",
    "import matplotlib.pyplot as plt\n",
    "\n",
    "from sklearn.metrics import classification_report"
   ]
  },
  {
   "cell_type": "code",
   "execution_count": 2,
   "outputs": [
    {
     "data": {
      "text/plain": "              file   n     m    ratio1  ratio2   density  min     max   \n0        att48.tsp  48  1176  0.040816    24.5  1.042553  0.0  2662.0  \\\n1     berlin52.tsp  52  1378  0.037736    26.5  1.039216  0.0  1716.0   \n2     brazil58.tsp  58  1711  0.033898    29.5  1.035088  0.0  8700.0   \n3      burma14.tsp  14   105  0.133333     7.5  1.153846  1.0  1261.0   \n4    dantzig42.tsp  42   903  0.046512    21.5  1.048780  0.0   192.0   \n..             ...  ..   ...       ...     ...       ...  ...     ...   \n335  line_90_5.tsp  90  4095  0.021978    45.5  1.022472  0.0   889.0   \n336  line_90_6.tsp  90  4095  0.021978    45.5  1.022472  0.0   888.0   \n337  line_90_7.tsp  90  4095  0.021978    45.5  1.022472  0.0   862.0   \n338  line_90_8.tsp  90  4095  0.021978    45.5  1.022472  0.0   889.0   \n339  line_90_9.tsp  90  4095  0.021978    45.5  1.022472  0.0   875.0   \n\n            mean          std           var  GILS_cost  GILS_time  GRASP_cost   \n0    1017.559896   627.598414  3.938798e+05   226229.0   6.474685    301702.0  \\\n1     564.188609   345.722052  1.195237e+05   145419.0   6.054587    191072.0   \n2    2094.914388  1426.139588  2.033874e+06   532454.0   8.013889    709540.0   \n3     442.612245   272.511473  7.426250e+04    16457.0   0.156218     18393.0   \n4      72.295918    43.481585  1.890648e+03    12392.0   2.579336     14523.0   \n..           ...          ...           ...        ...        ...         ...   \n335   319.538272   226.908988  5.148769e+04    55730.0  35.477098    157350.0   \n336   297.687407   211.917802  4.490915e+04    48884.0  30.191444    128976.0   \n337   249.932840   181.712429  3.301941e+04    51464.0  28.821121    124368.0   \n338   316.810123   226.894830  5.148126e+04    60845.0  28.282006    123373.0   \n339   293.470864   209.501121  4.389072e+04    60959.0  29.666181    118075.0   \n\n     GRASP_time  DBMEA_cost  DBMEA_time  Min_val  Min_col  min_method  \n0      0.026019    207771.0    5.288543        0      NaN  DBMEA_cost  \n1      0.031533    143278.0    5.374160        0      NaN  DBMEA_cost  \n2      0.043413    535150.0    9.045840        0      NaN   GILS_cost  \n3      0.001000     16457.0    0.082072        0      NaN  GRASP_time  \n4      0.016044     12256.0    3.325098        0      NaN  DBMEA_cost  \n..          ...         ...         ...      ...      ...         ...  \n335    0.233857     57558.0   36.326975        0      NaN   GILS_cost  \n336    0.232372     45916.0   37.348990        0      NaN  DBMEA_cost  \n337    0.232510     49038.0   44.483338        0      NaN  DBMEA_cost  \n338    0.231058     65825.0   39.745050        0      NaN   GILS_cost  \n339    0.229949     58315.0   44.563938        0      NaN  DBMEA_cost  \n\n[340 rows x 20 columns]",
      "text/html": "<div>\n<style scoped>\n    .dataframe tbody tr th:only-of-type {\n        vertical-align: middle;\n    }\n\n    .dataframe tbody tr th {\n        vertical-align: top;\n    }\n\n    .dataframe thead th {\n        text-align: right;\n    }\n</style>\n<table border=\"1\" class=\"dataframe\">\n  <thead>\n    <tr style=\"text-align: right;\">\n      <th></th>\n      <th>file</th>\n      <th>n</th>\n      <th>m</th>\n      <th>ratio1</th>\n      <th>ratio2</th>\n      <th>density</th>\n      <th>min</th>\n      <th>max</th>\n      <th>mean</th>\n      <th>std</th>\n      <th>var</th>\n      <th>GILS_cost</th>\n      <th>GILS_time</th>\n      <th>GRASP_cost</th>\n      <th>GRASP_time</th>\n      <th>DBMEA_cost</th>\n      <th>DBMEA_time</th>\n      <th>Min_val</th>\n      <th>Min_col</th>\n      <th>min_method</th>\n    </tr>\n  </thead>\n  <tbody>\n    <tr>\n      <th>0</th>\n      <td>att48.tsp</td>\n      <td>48</td>\n      <td>1176</td>\n      <td>0.040816</td>\n      <td>24.5</td>\n      <td>1.042553</td>\n      <td>0.0</td>\n      <td>2662.0</td>\n      <td>1017.559896</td>\n      <td>627.598414</td>\n      <td>3.938798e+05</td>\n      <td>226229.0</td>\n      <td>6.474685</td>\n      <td>301702.0</td>\n      <td>0.026019</td>\n      <td>207771.0</td>\n      <td>5.288543</td>\n      <td>0</td>\n      <td>NaN</td>\n      <td>DBMEA_cost</td>\n    </tr>\n    <tr>\n      <th>1</th>\n      <td>berlin52.tsp</td>\n      <td>52</td>\n      <td>1378</td>\n      <td>0.037736</td>\n      <td>26.5</td>\n      <td>1.039216</td>\n      <td>0.0</td>\n      <td>1716.0</td>\n      <td>564.188609</td>\n      <td>345.722052</td>\n      <td>1.195237e+05</td>\n      <td>145419.0</td>\n      <td>6.054587</td>\n      <td>191072.0</td>\n      <td>0.031533</td>\n      <td>143278.0</td>\n      <td>5.374160</td>\n      <td>0</td>\n      <td>NaN</td>\n      <td>DBMEA_cost</td>\n    </tr>\n    <tr>\n      <th>2</th>\n      <td>brazil58.tsp</td>\n      <td>58</td>\n      <td>1711</td>\n      <td>0.033898</td>\n      <td>29.5</td>\n      <td>1.035088</td>\n      <td>0.0</td>\n      <td>8700.0</td>\n      <td>2094.914388</td>\n      <td>1426.139588</td>\n      <td>2.033874e+06</td>\n      <td>532454.0</td>\n      <td>8.013889</td>\n      <td>709540.0</td>\n      <td>0.043413</td>\n      <td>535150.0</td>\n      <td>9.045840</td>\n      <td>0</td>\n      <td>NaN</td>\n      <td>GILS_cost</td>\n    </tr>\n    <tr>\n      <th>3</th>\n      <td>burma14.tsp</td>\n      <td>14</td>\n      <td>105</td>\n      <td>0.133333</td>\n      <td>7.5</td>\n      <td>1.153846</td>\n      <td>1.0</td>\n      <td>1261.0</td>\n      <td>442.612245</td>\n      <td>272.511473</td>\n      <td>7.426250e+04</td>\n      <td>16457.0</td>\n      <td>0.156218</td>\n      <td>18393.0</td>\n      <td>0.001000</td>\n      <td>16457.0</td>\n      <td>0.082072</td>\n      <td>0</td>\n      <td>NaN</td>\n      <td>GRASP_time</td>\n    </tr>\n    <tr>\n      <th>4</th>\n      <td>dantzig42.tsp</td>\n      <td>42</td>\n      <td>903</td>\n      <td>0.046512</td>\n      <td>21.5</td>\n      <td>1.048780</td>\n      <td>0.0</td>\n      <td>192.0</td>\n      <td>72.295918</td>\n      <td>43.481585</td>\n      <td>1.890648e+03</td>\n      <td>12392.0</td>\n      <td>2.579336</td>\n      <td>14523.0</td>\n      <td>0.016044</td>\n      <td>12256.0</td>\n      <td>3.325098</td>\n      <td>0</td>\n      <td>NaN</td>\n      <td>DBMEA_cost</td>\n    </tr>\n    <tr>\n      <th>...</th>\n      <td>...</td>\n      <td>...</td>\n      <td>...</td>\n      <td>...</td>\n      <td>...</td>\n      <td>...</td>\n      <td>...</td>\n      <td>...</td>\n      <td>...</td>\n      <td>...</td>\n      <td>...</td>\n      <td>...</td>\n      <td>...</td>\n      <td>...</td>\n      <td>...</td>\n      <td>...</td>\n      <td>...</td>\n      <td>...</td>\n      <td>...</td>\n      <td>...</td>\n    </tr>\n    <tr>\n      <th>335</th>\n      <td>line_90_5.tsp</td>\n      <td>90</td>\n      <td>4095</td>\n      <td>0.021978</td>\n      <td>45.5</td>\n      <td>1.022472</td>\n      <td>0.0</td>\n      <td>889.0</td>\n      <td>319.538272</td>\n      <td>226.908988</td>\n      <td>5.148769e+04</td>\n      <td>55730.0</td>\n      <td>35.477098</td>\n      <td>157350.0</td>\n      <td>0.233857</td>\n      <td>57558.0</td>\n      <td>36.326975</td>\n      <td>0</td>\n      <td>NaN</td>\n      <td>GILS_cost</td>\n    </tr>\n    <tr>\n      <th>336</th>\n      <td>line_90_6.tsp</td>\n      <td>90</td>\n      <td>4095</td>\n      <td>0.021978</td>\n      <td>45.5</td>\n      <td>1.022472</td>\n      <td>0.0</td>\n      <td>888.0</td>\n      <td>297.687407</td>\n      <td>211.917802</td>\n      <td>4.490915e+04</td>\n      <td>48884.0</td>\n      <td>30.191444</td>\n      <td>128976.0</td>\n      <td>0.232372</td>\n      <td>45916.0</td>\n      <td>37.348990</td>\n      <td>0</td>\n      <td>NaN</td>\n      <td>DBMEA_cost</td>\n    </tr>\n    <tr>\n      <th>337</th>\n      <td>line_90_7.tsp</td>\n      <td>90</td>\n      <td>4095</td>\n      <td>0.021978</td>\n      <td>45.5</td>\n      <td>1.022472</td>\n      <td>0.0</td>\n      <td>862.0</td>\n      <td>249.932840</td>\n      <td>181.712429</td>\n      <td>3.301941e+04</td>\n      <td>51464.0</td>\n      <td>28.821121</td>\n      <td>124368.0</td>\n      <td>0.232510</td>\n      <td>49038.0</td>\n      <td>44.483338</td>\n      <td>0</td>\n      <td>NaN</td>\n      <td>DBMEA_cost</td>\n    </tr>\n    <tr>\n      <th>338</th>\n      <td>line_90_8.tsp</td>\n      <td>90</td>\n      <td>4095</td>\n      <td>0.021978</td>\n      <td>45.5</td>\n      <td>1.022472</td>\n      <td>0.0</td>\n      <td>889.0</td>\n      <td>316.810123</td>\n      <td>226.894830</td>\n      <td>5.148126e+04</td>\n      <td>60845.0</td>\n      <td>28.282006</td>\n      <td>123373.0</td>\n      <td>0.231058</td>\n      <td>65825.0</td>\n      <td>39.745050</td>\n      <td>0</td>\n      <td>NaN</td>\n      <td>GILS_cost</td>\n    </tr>\n    <tr>\n      <th>339</th>\n      <td>line_90_9.tsp</td>\n      <td>90</td>\n      <td>4095</td>\n      <td>0.021978</td>\n      <td>45.5</td>\n      <td>1.022472</td>\n      <td>0.0</td>\n      <td>875.0</td>\n      <td>293.470864</td>\n      <td>209.501121</td>\n      <td>4.389072e+04</td>\n      <td>60959.0</td>\n      <td>29.666181</td>\n      <td>118075.0</td>\n      <td>0.229949</td>\n      <td>58315.0</td>\n      <td>44.563938</td>\n      <td>0</td>\n      <td>NaN</td>\n      <td>DBMEA_cost</td>\n    </tr>\n  </tbody>\n</table>\n<p>340 rows × 20 columns</p>\n</div>"
     },
     "execution_count": 2,
     "metadata": {},
     "output_type": "execute_result"
    }
   ],
   "source": [
    "# load matrix_good.csv\n",
    "df = pd.read_csv('matrix_good.csv')\n",
    "df"
   ],
   "metadata": {
    "collapsed": false,
    "ExecuteTime": {
     "end_time": "2023-05-28T22:57:47.325398800Z",
     "start_time": "2023-05-28T22:57:47.303233700Z"
    }
   }
  },
  {
   "cell_type": "code",
   "execution_count": 3,
   "outputs": [
    {
     "data": {
      "text/plain": "              file  GILS_cost  DBMEA_cost  GRASP_cost  GILS_time  DBMEA_time   \n0        att48.tsp   226229.0    207771.0    301702.0   6.474685    5.288543  \\\n1     berlin52.tsp   145419.0    143278.0    191072.0   6.054587    5.374160   \n2     brazil58.tsp   532454.0    535150.0    709540.0   8.013889    9.045840   \n3      burma14.tsp    16457.0     16457.0     18393.0   0.156218    0.082072   \n4    dantzig42.tsp    12392.0     12256.0     14523.0   2.579336    3.325098   \n..             ...        ...         ...         ...        ...         ...   \n335  line_90_5.tsp    55730.0     57558.0    157350.0  35.477098   36.326975   \n336  line_90_6.tsp    48884.0     45916.0    128976.0  30.191444   37.348990   \n337  line_90_7.tsp    51464.0     49038.0    124368.0  28.821121   44.483338   \n338  line_90_8.tsp    60845.0     65825.0    123373.0  28.282006   39.745050   \n339  line_90_9.tsp    60959.0     58315.0    118075.0  29.666181   44.563938   \n\n     GRASP_time  min_method  \n0      0.026019  DBMEA_cost  \n1      0.031533  DBMEA_cost  \n2      0.043413   GILS_cost  \n3      0.001000  GRASP_time  \n4      0.016044  DBMEA_cost  \n..          ...         ...  \n335    0.233857   GILS_cost  \n336    0.232372  DBMEA_cost  \n337    0.232510  DBMEA_cost  \n338    0.231058   GILS_cost  \n339    0.229949  DBMEA_cost  \n\n[340 rows x 8 columns]",
      "text/html": "<div>\n<style scoped>\n    .dataframe tbody tr th:only-of-type {\n        vertical-align: middle;\n    }\n\n    .dataframe tbody tr th {\n        vertical-align: top;\n    }\n\n    .dataframe thead th {\n        text-align: right;\n    }\n</style>\n<table border=\"1\" class=\"dataframe\">\n  <thead>\n    <tr style=\"text-align: right;\">\n      <th></th>\n      <th>file</th>\n      <th>GILS_cost</th>\n      <th>DBMEA_cost</th>\n      <th>GRASP_cost</th>\n      <th>GILS_time</th>\n      <th>DBMEA_time</th>\n      <th>GRASP_time</th>\n      <th>min_method</th>\n    </tr>\n  </thead>\n  <tbody>\n    <tr>\n      <th>0</th>\n      <td>att48.tsp</td>\n      <td>226229.0</td>\n      <td>207771.0</td>\n      <td>301702.0</td>\n      <td>6.474685</td>\n      <td>5.288543</td>\n      <td>0.026019</td>\n      <td>DBMEA_cost</td>\n    </tr>\n    <tr>\n      <th>1</th>\n      <td>berlin52.tsp</td>\n      <td>145419.0</td>\n      <td>143278.0</td>\n      <td>191072.0</td>\n      <td>6.054587</td>\n      <td>5.374160</td>\n      <td>0.031533</td>\n      <td>DBMEA_cost</td>\n    </tr>\n    <tr>\n      <th>2</th>\n      <td>brazil58.tsp</td>\n      <td>532454.0</td>\n      <td>535150.0</td>\n      <td>709540.0</td>\n      <td>8.013889</td>\n      <td>9.045840</td>\n      <td>0.043413</td>\n      <td>GILS_cost</td>\n    </tr>\n    <tr>\n      <th>3</th>\n      <td>burma14.tsp</td>\n      <td>16457.0</td>\n      <td>16457.0</td>\n      <td>18393.0</td>\n      <td>0.156218</td>\n      <td>0.082072</td>\n      <td>0.001000</td>\n      <td>GRASP_time</td>\n    </tr>\n    <tr>\n      <th>4</th>\n      <td>dantzig42.tsp</td>\n      <td>12392.0</td>\n      <td>12256.0</td>\n      <td>14523.0</td>\n      <td>2.579336</td>\n      <td>3.325098</td>\n      <td>0.016044</td>\n      <td>DBMEA_cost</td>\n    </tr>\n    <tr>\n      <th>...</th>\n      <td>...</td>\n      <td>...</td>\n      <td>...</td>\n      <td>...</td>\n      <td>...</td>\n      <td>...</td>\n      <td>...</td>\n      <td>...</td>\n    </tr>\n    <tr>\n      <th>335</th>\n      <td>line_90_5.tsp</td>\n      <td>55730.0</td>\n      <td>57558.0</td>\n      <td>157350.0</td>\n      <td>35.477098</td>\n      <td>36.326975</td>\n      <td>0.233857</td>\n      <td>GILS_cost</td>\n    </tr>\n    <tr>\n      <th>336</th>\n      <td>line_90_6.tsp</td>\n      <td>48884.0</td>\n      <td>45916.0</td>\n      <td>128976.0</td>\n      <td>30.191444</td>\n      <td>37.348990</td>\n      <td>0.232372</td>\n      <td>DBMEA_cost</td>\n    </tr>\n    <tr>\n      <th>337</th>\n      <td>line_90_7.tsp</td>\n      <td>51464.0</td>\n      <td>49038.0</td>\n      <td>124368.0</td>\n      <td>28.821121</td>\n      <td>44.483338</td>\n      <td>0.232510</td>\n      <td>DBMEA_cost</td>\n    </tr>\n    <tr>\n      <th>338</th>\n      <td>line_90_8.tsp</td>\n      <td>60845.0</td>\n      <td>65825.0</td>\n      <td>123373.0</td>\n      <td>28.282006</td>\n      <td>39.745050</td>\n      <td>0.231058</td>\n      <td>GILS_cost</td>\n    </tr>\n    <tr>\n      <th>339</th>\n      <td>line_90_9.tsp</td>\n      <td>60959.0</td>\n      <td>58315.0</td>\n      <td>118075.0</td>\n      <td>29.666181</td>\n      <td>44.563938</td>\n      <td>0.229949</td>\n      <td>DBMEA_cost</td>\n    </tr>\n  </tbody>\n</table>\n<p>340 rows × 8 columns</p>\n</div>"
     },
     "execution_count": 3,
     "metadata": {},
     "output_type": "execute_result"
    }
   ],
   "source": [
    "# select the columns file, GILS_cost, DBMEA_cost, GRASP_cost, GILS_time, DBMEA_time, GRASP_time, min_method\n",
    "df = df[['file', 'GILS_cost', 'DBMEA_cost', 'GRASP_cost', 'GILS_time', 'DBMEA_time', 'GRASP_time', 'min_method']]\n",
    "df"
   ],
   "metadata": {
    "collapsed": false,
    "ExecuteTime": {
     "end_time": "2023-05-28T22:57:47.347159200Z",
     "start_time": "2023-05-28T22:57:47.324398600Z"
    }
   }
  },
  {
   "cell_type": "code",
   "execution_count": 4,
   "outputs": [
    {
     "data": {
      "text/plain": "array(['att48.tsp', 'berlin52.tsp', 'brazil58.tsp', 'burma14.tsp',\n       'dantzig42.tsp', 'eil101.tsp', 'eil51.tsp', 'eil76.tsp',\n       'gr48.tsp', 'gr96.tsp', 'hk48.tsp', 'kroA100.tsp', 'kroB100.tsp',\n       'kroC100.tsp', 'kroD100.tsp', 'kroE100.tsp', 'lin105.tsp',\n       'mod_att48.tsp', 'mod_berlin52.tsp', 'mod_burma14.tsp',\n       'mod_eil101.tsp', 'mod_eil51.tsp', 'mod_eil76.tsp', 'mod_gr96.tsp',\n       'mod_kroA100.tsp', 'mod_kroB100.tsp', 'mod_kroC100.tsp',\n       'mod_kroD100.tsp', 'mod_kroE100.tsp', 'mod_lin105.tsp',\n       'mod_pr107.tsp', 'mod_pr76.tsp', 'mod_rat99.tsp', 'mod_st70.tsp',\n       'pr107.tsp', 'pr76.tsp', 'random_100_0.tsp', 'random_100_1.tsp',\n       'random_100_2.tsp', 'random_100_3.tsp', 'random_100_4.tsp',\n       'random_100_5.tsp', 'random_100_6.tsp', 'random_100_7.tsp',\n       'random_100_8.tsp', 'random_100_9.tsp', 'random_10_0.tsp',\n       'random_10_1.tsp', 'random_10_2.tsp', 'random_10_3.tsp',\n       'random_10_4.tsp', 'random_10_5.tsp', 'random_10_6.tsp',\n       'random_10_7.tsp', 'random_10_8.tsp', 'random_10_9.tsp',\n       'random_20_0.tsp', 'random_20_1.tsp', 'random_20_2.tsp',\n       'random_20_3.tsp', 'random_20_4.tsp', 'random_20_5.tsp',\n       'random_20_6.tsp', 'random_20_7.tsp', 'random_20_8.tsp',\n       'random_20_9.tsp', 'random_30_0.tsp', 'random_30_1.tsp',\n       'random_30_2.tsp', 'random_30_3.tsp', 'random_30_4.tsp',\n       'random_30_5.tsp', 'random_30_6.tsp', 'random_30_7.tsp',\n       'random_30_8.tsp', 'random_30_9.tsp', 'random_40_0.tsp',\n       'random_40_1.tsp', 'random_40_2.tsp', 'random_40_3.tsp',\n       'random_40_4.tsp', 'random_40_5.tsp', 'random_40_6.tsp',\n       'random_40_7.tsp', 'random_40_8.tsp', 'random_40_9.tsp',\n       'random_50_0.tsp', 'random_50_1.tsp', 'random_50_2.tsp',\n       'random_50_3.tsp', 'random_50_4.tsp', 'random_50_5.tsp',\n       'random_50_6.tsp', 'random_50_7.tsp', 'random_50_8.tsp',\n       'random_50_9.tsp', 'random_60_0.tsp', 'random_60_1.tsp',\n       'random_60_2.tsp', 'random_60_3.tsp', 'random_60_4.tsp',\n       'random_60_5.tsp', 'random_60_6.tsp', 'random_60_7.tsp',\n       'random_60_8.tsp', 'random_60_9.tsp', 'random_70_0.tsp',\n       'random_70_1.tsp', 'random_70_2.tsp', 'random_70_3.tsp',\n       'random_70_4.tsp', 'random_70_5.tsp', 'random_70_6.tsp',\n       'random_70_7.tsp', 'random_70_8.tsp', 'random_70_9.tsp',\n       'random_80_0.tsp', 'random_80_1.tsp', 'random_80_2.tsp',\n       'random_80_3.tsp', 'random_80_4.tsp', 'random_80_5.tsp',\n       'random_80_6.tsp', 'random_80_7.tsp', 'random_80_8.tsp',\n       'random_80_9.tsp', 'random_90_0.tsp', 'random_90_1.tsp',\n       'random_90_2.tsp', 'random_90_3.tsp', 'random_90_4.tsp',\n       'random_90_5.tsp', 'random_90_6.tsp', 'random_90_7.tsp',\n       'random_90_8.tsp', 'random_90_9.tsp', 'rat99.tsp', 'rd100.tsp',\n       'st70.tsp', 'swiss42.tsp', 'bip_100_0.tsp', 'bip_100_1.tsp',\n       'bip_100_2.tsp', 'bip_100_3.tsp', 'bip_100_4.tsp', 'bip_100_5.tsp',\n       'bip_100_6.tsp', 'bip_100_7.tsp', 'bip_100_8.tsp', 'bip_100_9.tsp',\n       'bip_10_0.tsp', 'bip_10_1.tsp', 'bip_10_2.tsp', 'bip_10_3.tsp',\n       'bip_10_4.tsp', 'bip_10_5.tsp', 'bip_10_6.tsp', 'bip_10_7.tsp',\n       'bip_10_8.tsp', 'bip_10_9.tsp', 'bip_20_0.tsp', 'bip_20_1.tsp',\n       'bip_20_2.tsp', 'bip_20_3.tsp', 'bip_20_4.tsp', 'bip_20_5.tsp',\n       'bip_20_6.tsp', 'bip_20_7.tsp', 'bip_20_8.tsp', 'bip_20_9.tsp',\n       'bip_30_0.tsp', 'bip_30_1.tsp', 'bip_30_2.tsp', 'bip_30_3.tsp',\n       'bip_30_4.tsp', 'bip_30_5.tsp', 'bip_30_6.tsp', 'bip_30_7.tsp',\n       'bip_30_8.tsp', 'bip_30_9.tsp', 'bip_40_0.tsp', 'bip_40_1.tsp',\n       'bip_40_2.tsp', 'bip_40_3.tsp', 'bip_40_4.tsp', 'bip_40_5.tsp',\n       'bip_40_6.tsp', 'bip_40_7.tsp', 'bip_40_8.tsp', 'bip_40_9.tsp',\n       'bip_50_0.tsp', 'bip_50_1.tsp', 'bip_50_2.tsp', 'bip_50_3.tsp',\n       'bip_50_4.tsp', 'bip_50_5.tsp', 'bip_50_6.tsp', 'bip_50_7.tsp',\n       'bip_50_8.tsp', 'bip_50_9.tsp', 'bip_60_0.tsp', 'bip_60_1.tsp',\n       'bip_60_2.tsp', 'bip_60_3.tsp', 'bip_60_4.tsp', 'bip_60_5.tsp',\n       'bip_60_6.tsp', 'bip_60_7.tsp', 'bip_60_8.tsp', 'bip_60_9.tsp',\n       'bip_70_0.tsp', 'bip_70_1.tsp', 'bip_70_2.tsp', 'bip_70_3.tsp',\n       'bip_70_4.tsp', 'bip_70_5.tsp', 'bip_70_6.tsp', 'bip_70_7.tsp',\n       'bip_70_8.tsp', 'bip_70_9.tsp', 'bip_80_0.tsp', 'bip_80_1.tsp',\n       'bip_80_2.tsp', 'bip_80_3.tsp', 'bip_80_4.tsp', 'bip_80_5.tsp',\n       'bip_80_6.tsp', 'bip_80_7.tsp', 'bip_80_8.tsp', 'bip_80_9.tsp',\n       'bip_90_0.tsp', 'bip_90_1.tsp', 'bip_90_2.tsp', 'bip_90_3.tsp',\n       'bip_90_4.tsp', 'bip_90_5.tsp', 'bip_90_6.tsp', 'bip_90_7.tsp',\n       'bip_90_8.tsp', 'bip_90_9.tsp', 'line_100_0.tsp', 'line_100_1.tsp',\n       'line_100_2.tsp', 'line_100_3.tsp', 'line_100_4.tsp',\n       'line_100_5.tsp', 'line_100_6.tsp', 'line_100_7.tsp',\n       'line_100_8.tsp', 'line_100_9.tsp', 'line_10_0.tsp',\n       'line_10_1.tsp', 'line_10_2.tsp', 'line_10_3.tsp', 'line_10_4.tsp',\n       'line_10_5.tsp', 'line_10_6.tsp', 'line_10_7.tsp', 'line_10_8.tsp',\n       'line_10_9.tsp', 'line_20_0.tsp', 'line_20_1.tsp', 'line_20_2.tsp',\n       'line_20_3.tsp', 'line_20_4.tsp', 'line_20_5.tsp', 'line_20_6.tsp',\n       'line_20_7.tsp', 'line_20_8.tsp', 'line_20_9.tsp', 'line_30_0.tsp',\n       'line_30_1.tsp', 'line_30_2.tsp', 'line_30_3.tsp', 'line_30_4.tsp',\n       'line_30_5.tsp', 'line_30_6.tsp', 'line_30_7.tsp', 'line_30_8.tsp',\n       'line_30_9.tsp', 'line_40_0.tsp', 'line_40_1.tsp', 'line_40_2.tsp',\n       'line_40_3.tsp', 'line_40_4.tsp', 'line_40_5.tsp', 'line_40_6.tsp',\n       'line_40_7.tsp', 'line_40_8.tsp', 'line_40_9.tsp', 'line_50_0.tsp',\n       'line_50_1.tsp', 'line_50_2.tsp', 'line_50_3.tsp', 'line_50_4.tsp',\n       'line_50_5.tsp', 'line_50_6.tsp', 'line_50_7.tsp', 'line_50_8.tsp',\n       'line_50_9.tsp', 'line_60_0.tsp', 'line_60_1.tsp', 'line_60_2.tsp',\n       'line_60_3.tsp', 'line_60_4.tsp', 'line_60_5.tsp', 'line_60_6.tsp',\n       'line_60_7.tsp', 'line_60_8.tsp', 'line_60_9.tsp', 'line_70_0.tsp',\n       'line_70_1.tsp', 'line_70_2.tsp', 'line_70_3.tsp', 'line_70_4.tsp',\n       'line_70_5.tsp', 'line_70_6.tsp', 'line_70_7.tsp', 'line_70_8.tsp',\n       'line_70_9.tsp', 'line_80_0.tsp', 'line_80_1.tsp', 'line_80_2.tsp',\n       'line_80_3.tsp', 'line_80_4.tsp', 'line_80_5.tsp', 'line_80_6.tsp',\n       'line_80_7.tsp', 'line_80_8.tsp', 'line_80_9.tsp', 'line_90_0.tsp',\n       'line_90_1.tsp', 'line_90_2.tsp', 'line_90_3.tsp', 'line_90_4.tsp',\n       'line_90_5.tsp', 'line_90_6.tsp', 'line_90_7.tsp', 'line_90_8.tsp',\n       'line_90_9.tsp'], dtype=object)"
     },
     "execution_count": 4,
     "metadata": {},
     "output_type": "execute_result"
    }
   ],
   "source": [
    "# get unique file names\n",
    "files = df['file'].unique()\n",
    "files"
   ],
   "metadata": {
    "collapsed": false,
    "ExecuteTime": {
     "end_time": "2023-05-28T22:57:47.348159500Z",
     "start_time": "2023-05-28T22:57:47.332373900Z"
    }
   }
  },
  {
   "cell_type": "code",
   "execution_count": 9,
   "outputs": [],
   "source": [
    "# create dict for all the characterstics\n",
    "characteristics = {\"file\":[], \"n\": [], \"m\": [], \"ratio1\": [], \"ratio2\": [], \"density\": [], \"avg_clustering\": [], \"mst_size\": [], \"tsp_approx\":[],\n",
    "                   \"edge_min\": [], \"edge_max\": [], \"edge_mean\": [], \"edge_std\": [], \"edge_var\": [], \"edge_q25\": [], \"edge_q75\": [],\n",
    "                   \"between_min\": [], \"between_max\": [], \"between_mean\": [], \"between_std\": [], \"between_var\": [], \"between_q25\": [], \"between_q75\": [],\n",
    "                   \"closeness_min\": [], \"closeness_max\": [], \"closeness_mean\": [], \"closeness_std\": [], \"closeness_var\": [], \"closeness_q25\": [], \"closeness_q75\": []}"
   ],
   "metadata": {
    "collapsed": false,
    "ExecuteTime": {
     "end_time": "2023-05-28T22:59:08.698332400Z",
     "start_time": "2023-05-28T22:59:08.690825900Z"
    }
   }
  },
  {
   "cell_type": "code",
   "execution_count": 10,
   "outputs": [],
   "source": [
    "def tspCost(graph, dist_matrix):\n",
    "    t = christofides(graph)\n",
    "    # remove last index of t\n",
    "    t = [x - 1 for x in t]\n",
    "    t.pop()\n",
    "    t = list(t)\n",
    "\n",
    "    cost = sum((len(t) - i - 1) * dist_matrix[t[i], t[i + 1]] for i in range(len(t) - 1))\n",
    "    return cost"
   ],
   "metadata": {
    "collapsed": false,
    "ExecuteTime": {
     "end_time": "2023-05-28T22:59:09.229520500Z",
     "start_time": "2023-05-28T22:59:09.219999800Z"
    }
   }
  },
  {
   "cell_type": "code",
   "execution_count": 11,
   "outputs": [
    {
     "name": "stdout",
     "output_type": "stream",
     "text": [
      "att48.tsp done\n",
      "berlin52.tsp done\n",
      "brazil58.tsp done\n",
      "burma14.tsp done\n",
      "dantzig42.tsp done\n",
      "eil101.tsp done\n",
      "eil51.tsp done\n",
      "eil76.tsp done\n",
      "gr48.tsp done\n",
      "gr96.tsp done\n",
      "hk48.tsp done\n",
      "kroA100.tsp done\n",
      "kroB100.tsp done\n",
      "kroC100.tsp done\n",
      "kroD100.tsp done\n",
      "kroE100.tsp done\n",
      "lin105.tsp done\n",
      "mod_att48.tsp done\n",
      "mod_berlin52.tsp done\n",
      "mod_burma14.tsp done\n",
      "mod_eil101.tsp done\n",
      "mod_eil51.tsp done\n",
      "mod_eil76.tsp done\n",
      "mod_gr96.tsp done\n",
      "mod_kroA100.tsp done\n",
      "mod_kroB100.tsp done\n",
      "mod_kroC100.tsp done\n",
      "mod_kroD100.tsp done\n",
      "mod_kroE100.tsp done\n",
      "mod_lin105.tsp done\n",
      "mod_pr107.tsp done\n",
      "mod_pr76.tsp done\n",
      "mod_rat99.tsp done\n",
      "mod_st70.tsp done\n",
      "pr107.tsp done\n",
      "pr76.tsp done\n",
      "random_100_0.tsp done\n",
      "random_100_1.tsp done\n",
      "random_100_2.tsp done\n",
      "random_100_3.tsp done\n",
      "random_100_4.tsp done\n",
      "random_100_5.tsp done\n",
      "random_100_6.tsp done\n",
      "random_100_7.tsp done\n",
      "random_100_8.tsp done\n",
      "random_100_9.tsp done\n",
      "random_10_0.tsp done\n",
      "random_10_1.tsp done\n",
      "random_10_2.tsp done\n",
      "random_10_3.tsp done\n",
      "random_10_4.tsp done\n",
      "random_10_5.tsp done\n",
      "random_10_6.tsp done\n",
      "random_10_7.tsp done\n",
      "random_10_8.tsp done\n",
      "random_10_9.tsp done\n",
      "random_20_0.tsp done\n",
      "random_20_1.tsp done\n",
      "random_20_2.tsp done\n",
      "random_20_3.tsp done\n",
      "random_20_4.tsp done\n",
      "random_20_5.tsp done\n",
      "random_20_6.tsp done\n",
      "random_20_7.tsp done\n",
      "random_20_8.tsp done\n",
      "random_20_9.tsp done\n",
      "random_30_0.tsp done\n",
      "random_30_1.tsp done\n",
      "random_30_2.tsp done\n",
      "random_30_3.tsp done\n",
      "random_30_4.tsp done\n",
      "random_30_5.tsp done\n",
      "random_30_6.tsp done\n",
      "random_30_7.tsp done\n",
      "random_30_8.tsp done\n",
      "random_30_9.tsp done\n",
      "random_40_0.tsp done\n",
      "random_40_1.tsp done\n",
      "random_40_2.tsp done\n",
      "random_40_3.tsp done\n",
      "random_40_4.tsp done\n",
      "random_40_5.tsp done\n",
      "random_40_6.tsp done\n",
      "random_40_7.tsp done\n",
      "random_40_8.tsp done\n",
      "random_40_9.tsp done\n",
      "random_50_0.tsp done\n",
      "random_50_1.tsp done\n",
      "random_50_2.tsp done\n",
      "random_50_3.tsp done\n",
      "random_50_4.tsp done\n",
      "random_50_5.tsp done\n",
      "random_50_6.tsp done\n",
      "random_50_7.tsp done\n",
      "random_50_8.tsp done\n",
      "random_50_9.tsp done\n",
      "random_60_0.tsp done\n",
      "random_60_1.tsp done\n",
      "random_60_2.tsp done\n",
      "random_60_3.tsp done\n",
      "random_60_4.tsp done\n",
      "random_60_5.tsp done\n",
      "random_60_6.tsp done\n",
      "random_60_7.tsp done\n",
      "random_60_8.tsp done\n",
      "random_60_9.tsp done\n",
      "random_70_0.tsp done\n",
      "random_70_1.tsp done\n",
      "random_70_2.tsp done\n",
      "random_70_3.tsp done\n",
      "random_70_4.tsp done\n",
      "random_70_5.tsp done\n",
      "random_70_6.tsp done\n",
      "random_70_7.tsp done\n",
      "random_70_8.tsp done\n",
      "random_70_9.tsp done\n",
      "random_80_0.tsp done\n",
      "random_80_1.tsp done\n",
      "random_80_2.tsp done\n",
      "random_80_3.tsp done\n",
      "random_80_4.tsp done\n",
      "random_80_5.tsp done\n",
      "random_80_6.tsp done\n",
      "random_80_7.tsp done\n",
      "random_80_8.tsp done\n",
      "random_80_9.tsp done\n",
      "random_90_0.tsp done\n",
      "random_90_1.tsp done\n",
      "random_90_2.tsp done\n",
      "random_90_3.tsp done\n",
      "random_90_4.tsp done\n",
      "random_90_5.tsp done\n",
      "random_90_6.tsp done\n",
      "random_90_7.tsp done\n",
      "random_90_8.tsp done\n",
      "random_90_9.tsp done\n",
      "rat99.tsp done\n",
      "rd100.tsp done\n",
      "st70.tsp done\n",
      "bip_100_0.tsp done\n",
      "bip_100_1.tsp done\n",
      "bip_100_2.tsp done\n",
      "bip_100_3.tsp done\n",
      "bip_100_4.tsp done\n",
      "bip_100_5.tsp done\n",
      "bip_100_6.tsp done\n",
      "bip_100_7.tsp done\n",
      "bip_100_8.tsp done\n",
      "bip_100_9.tsp done\n",
      "bip_10_0.tsp done\n",
      "bip_10_1.tsp done\n",
      "bip_10_2.tsp done\n",
      "bip_10_3.tsp done\n",
      "bip_10_4.tsp done\n",
      "bip_10_5.tsp done\n",
      "bip_10_6.tsp done\n",
      "bip_10_7.tsp done\n",
      "bip_10_8.tsp done\n",
      "bip_10_9.tsp done\n",
      "bip_20_0.tsp done\n",
      "bip_20_1.tsp done\n",
      "bip_20_2.tsp done\n",
      "bip_20_3.tsp done\n",
      "bip_20_4.tsp done\n",
      "bip_20_5.tsp done\n",
      "bip_20_6.tsp done\n",
      "bip_20_7.tsp done\n",
      "bip_20_8.tsp done\n",
      "bip_20_9.tsp done\n",
      "bip_30_0.tsp done\n",
      "bip_30_1.tsp done\n",
      "bip_30_2.tsp done\n",
      "bip_30_3.tsp done\n",
      "bip_30_4.tsp done\n",
      "bip_30_5.tsp done\n",
      "bip_30_6.tsp done\n",
      "bip_30_7.tsp done\n",
      "bip_30_8.tsp done\n",
      "bip_30_9.tsp done\n",
      "bip_40_0.tsp done\n",
      "bip_40_1.tsp done\n",
      "bip_40_2.tsp done\n",
      "bip_40_3.tsp done\n",
      "bip_40_4.tsp done\n",
      "bip_40_5.tsp done\n",
      "bip_40_6.tsp done\n",
      "bip_40_7.tsp done\n",
      "bip_40_8.tsp done\n",
      "bip_40_9.tsp done\n",
      "bip_50_0.tsp done\n",
      "bip_50_1.tsp done\n",
      "bip_50_2.tsp done\n",
      "bip_50_3.tsp done\n",
      "bip_50_4.tsp done\n",
      "bip_50_5.tsp done\n",
      "bip_50_6.tsp done\n",
      "bip_50_7.tsp done\n",
      "bip_50_8.tsp done\n",
      "bip_50_9.tsp done\n",
      "bip_60_0.tsp done\n",
      "bip_60_1.tsp done\n",
      "bip_60_2.tsp done\n",
      "bip_60_3.tsp done\n",
      "bip_60_4.tsp done\n",
      "bip_60_5.tsp done\n",
      "bip_60_6.tsp done\n",
      "bip_60_7.tsp done\n",
      "bip_60_8.tsp done\n",
      "bip_60_9.tsp done\n",
      "bip_70_0.tsp done\n",
      "bip_70_1.tsp done\n",
      "bip_70_2.tsp done\n",
      "bip_70_3.tsp done\n",
      "bip_70_4.tsp done\n",
      "bip_70_5.tsp done\n",
      "bip_70_6.tsp done\n",
      "bip_70_7.tsp done\n",
      "bip_70_8.tsp done\n",
      "bip_70_9.tsp done\n",
      "bip_80_0.tsp done\n",
      "bip_80_1.tsp done\n",
      "bip_80_2.tsp done\n",
      "bip_80_3.tsp done\n",
      "bip_80_4.tsp done\n",
      "bip_80_5.tsp done\n",
      "bip_80_6.tsp done\n",
      "bip_80_7.tsp done\n",
      "bip_80_8.tsp done\n",
      "bip_80_9.tsp done\n",
      "bip_90_0.tsp done\n",
      "bip_90_1.tsp done\n",
      "bip_90_2.tsp done\n",
      "bip_90_3.tsp done\n",
      "bip_90_4.tsp done\n",
      "bip_90_5.tsp done\n",
      "bip_90_6.tsp done\n",
      "bip_90_7.tsp done\n",
      "bip_90_8.tsp done\n",
      "bip_90_9.tsp done\n",
      "line_100_0.tsp done\n",
      "line_100_1.tsp done\n",
      "line_100_2.tsp done\n",
      "line_100_3.tsp done\n",
      "line_100_4.tsp done\n",
      "line_100_5.tsp done\n",
      "line_100_6.tsp done\n",
      "line_100_7.tsp done\n",
      "line_100_8.tsp done\n",
      "line_100_9.tsp done\n",
      "line_10_0.tsp done\n",
      "line_10_1.tsp done\n",
      "line_10_2.tsp done\n",
      "line_10_3.tsp done\n",
      "line_10_4.tsp done\n",
      "line_10_5.tsp done\n",
      "line_10_6.tsp done\n",
      "line_10_7.tsp done\n",
      "line_10_8.tsp done\n",
      "line_10_9.tsp done\n",
      "line_20_0.tsp done\n",
      "line_20_1.tsp done\n",
      "line_20_2.tsp done\n",
      "line_20_3.tsp done\n",
      "line_20_4.tsp done\n",
      "line_20_5.tsp done\n",
      "line_20_6.tsp done\n",
      "line_20_7.tsp done\n",
      "line_20_8.tsp done\n",
      "line_20_9.tsp done\n",
      "line_30_0.tsp done\n",
      "line_30_1.tsp done\n",
      "line_30_2.tsp done\n",
      "line_30_3.tsp done\n",
      "line_30_4.tsp done\n",
      "line_30_5.tsp done\n",
      "line_30_6.tsp done\n",
      "line_30_7.tsp done\n",
      "line_30_8.tsp done\n",
      "line_30_9.tsp done\n",
      "line_40_0.tsp done\n",
      "line_40_1.tsp done\n",
      "line_40_2.tsp done\n",
      "line_40_3.tsp done\n",
      "line_40_4.tsp done\n",
      "line_40_5.tsp done\n",
      "line_40_6.tsp done\n",
      "line_40_7.tsp done\n",
      "line_40_8.tsp done\n",
      "line_40_9.tsp done\n",
      "line_50_0.tsp done\n",
      "line_50_1.tsp done\n",
      "line_50_2.tsp done\n",
      "line_50_3.tsp done\n",
      "line_50_4.tsp done\n",
      "line_50_5.tsp done\n",
      "line_50_6.tsp done\n",
      "line_50_7.tsp done\n",
      "line_50_8.tsp done\n",
      "line_50_9.tsp done\n",
      "line_60_0.tsp done\n",
      "line_60_1.tsp done\n",
      "line_60_2.tsp done\n",
      "line_60_3.tsp done\n",
      "line_60_4.tsp done\n",
      "line_60_5.tsp done\n",
      "line_60_6.tsp done\n",
      "line_60_7.tsp done\n",
      "line_60_8.tsp done\n",
      "line_60_9.tsp done\n",
      "line_70_0.tsp done\n",
      "line_70_1.tsp done\n",
      "line_70_2.tsp done\n",
      "line_70_3.tsp done\n",
      "line_70_4.tsp done\n",
      "line_70_5.tsp done\n",
      "line_70_6.tsp done\n",
      "line_70_7.tsp done\n",
      "line_70_8.tsp done\n",
      "line_70_9.tsp done\n",
      "line_80_0.tsp done\n",
      "line_80_1.tsp done\n",
      "line_80_2.tsp done\n",
      "line_80_3.tsp done\n",
      "line_80_4.tsp done\n",
      "line_80_5.tsp done\n",
      "line_80_6.tsp done\n",
      "line_80_7.tsp done\n",
      "line_80_8.tsp done\n",
      "line_80_9.tsp done\n",
      "line_90_0.tsp done\n",
      "line_90_1.tsp done\n",
      "line_90_2.tsp done\n",
      "line_90_3.tsp done\n",
      "line_90_4.tsp done\n",
      "line_90_5.tsp done\n",
      "line_90_6.tsp done\n",
      "line_90_7.tsp done\n",
      "line_90_8.tsp done\n",
      "line_90_9.tsp done\n"
     ]
    }
   ],
   "source": [
    "for f in files:\n",
    "\n",
    "    if f == \"swiss42.tsp\":\n",
    "        continue\n",
    "\n",
    "    problem = tsplib95.load('Instances/' + f)\n",
    "    graph = problem.get_graph()\n",
    "    dist_matrix = nx.to_numpy_matrix(graph)\n",
    "    dist_array = nx.to_numpy_array(graph)\n",
    "\n",
    "    n = len(graph.nodes)\n",
    "\n",
    "    # get the number of edges\n",
    "    m = len(graph.edges)\n",
    "\n",
    "    # get the ratio of nodes to edges and vice versa\n",
    "    ratio1 = n/m\n",
    "    ratio2 = m/n\n",
    "    # get the density of the graph\n",
    "    density = nx.density(graph)\n",
    "\n",
    "    # edge cost statistics\n",
    "    edge_min = np.min(dist_matrix)\n",
    "    edge_max = np.max(dist_matrix)\n",
    "    edge_mean = np.mean(dist_matrix)\n",
    "    edge_std = np.std(dist_matrix)\n",
    "    edge_var = np.var(dist_matrix)\n",
    "    edge_q25 = np.quantile(dist_array, 0.25)\n",
    "    edge_q75 = np.quantile(dist_array, 0.75)\n",
    "\n",
    "    # local clustering statistics\n",
    "    avg_clustering = nx.average_clustering(graph, weight='weight')\n",
    "\n",
    "    # minimum spanning tree size\n",
    "    mst = nx.minimum_spanning_tree(graph, weight='weight')\n",
    "    mst_size = len(mst.edges)\n",
    "    tsp_approx = tspCost(graph, dist_matrix)\n",
    "\n",
    "    # betweenness centrality statistics\n",
    "    between = nx.betweenness_centrality(graph, weight='weight')\n",
    "    between_min = np.min(list(between.values()))\n",
    "    between_max = np.max(list(between.values()))\n",
    "    between_mean = np.mean(list(between.values()))\n",
    "    between_std = np.std(list(between.values()))\n",
    "    between_var = np.var(list(between.values()))\n",
    "    between_q25 = np.quantile(list(between.values()), 0.25)\n",
    "    between_q75 = np.quantile(list(between.values()), 0.75)\n",
    "\n",
    "    # closeness centrality statistics\n",
    "    closeness = nx.closeness_centrality(graph, distance='weight')\n",
    "    closeness_min = np.min(list(closeness.values()))\n",
    "    closeness_max = np.max(list(closeness.values()))\n",
    "    closeness_mean = np.mean(list(closeness.values()))\n",
    "    closeness_std = np.std(list(closeness.values()))\n",
    "    closeness_var = np.var(list(closeness.values()))\n",
    "    closeness_q25 = np.quantile(list(closeness.values()), 0.25)\n",
    "    closeness_q75 = np.quantile(list(closeness.values()), 0.75)\n",
    "\n",
    "    # add information to the dictionary\n",
    "    characteristics[\"file\"].append(f)\n",
    "    characteristics[\"n\"].append(n)\n",
    "    characteristics[\"m\"].append(m)\n",
    "    characteristics[\"ratio1\"].append(ratio1)\n",
    "    characteristics[\"ratio2\"].append(ratio2)\n",
    "    characteristics[\"density\"].append(density)\n",
    "    characteristics[\"avg_clustering\"].append(avg_clustering)\n",
    "    characteristics[\"mst_size\"].append(mst_size)\n",
    "    characteristics[\"tsp_approx\"].append(tsp_approx)\n",
    "    characteristics[\"edge_min\"].append(edge_min)\n",
    "    characteristics[\"edge_max\"].append(edge_max)\n",
    "    characteristics[\"edge_mean\"].append(edge_mean)\n",
    "    characteristics[\"edge_std\"].append(edge_std)\n",
    "    characteristics[\"edge_var\"].append(edge_var)\n",
    "    characteristics[\"edge_q25\"].append(edge_q25)\n",
    "    characteristics[\"edge_q75\"].append(edge_q75)\n",
    "    characteristics[\"between_min\"].append(between_min)\n",
    "    characteristics[\"between_max\"].append(between_max)\n",
    "    characteristics[\"between_mean\"].append(between_mean)\n",
    "    characteristics[\"between_std\"].append(between_std)\n",
    "    characteristics[\"between_var\"].append(between_var)\n",
    "    characteristics[\"between_q25\"].append(between_q25)\n",
    "    characteristics[\"between_q75\"].append(between_q75)\n",
    "    characteristics[\"closeness_min\"].append(closeness_min)\n",
    "    characteristics[\"closeness_max\"].append(closeness_max)\n",
    "    characteristics[\"closeness_mean\"].append(closeness_mean)\n",
    "    characteristics[\"closeness_std\"].append(closeness_std)\n",
    "    characteristics[\"closeness_var\"].append(closeness_var)\n",
    "    characteristics[\"closeness_q25\"].append(closeness_q25)\n",
    "    characteristics[\"closeness_q75\"].append(closeness_q75)\n",
    "\n",
    "    print(f'{f} done')\n",
    "\n"
   ],
   "metadata": {
    "collapsed": false,
    "ExecuteTime": {
     "end_time": "2023-05-28T23:00:59.971614Z",
     "start_time": "2023-05-28T22:59:09.785561700Z"
    }
   }
  },
  {
   "cell_type": "code",
   "execution_count": 12,
   "outputs": [
    {
     "data": {
      "text/plain": "              file   n     m    ratio1  ratio2   density  avg_clustering   \n0        att48.tsp  48  1176  0.040816    24.5  1.042553        0.345227  \\\n1     berlin52.tsp  52  1378  0.037736    26.5  1.039216        0.301939   \n2     brazil58.tsp  58  1711  0.033898    29.5  1.035088        0.213223   \n3      burma14.tsp  14   105  0.133333     7.5  1.153846        0.341466   \n4    dantzig42.tsp  42   903  0.046512    21.5  1.048780        0.346021   \n..             ...  ..   ...       ...     ...       ...             ...   \n334  line_90_5.tsp  90  4095  0.021978    45.5  1.022472        0.288284   \n335  line_90_6.tsp  90  4095  0.021978    45.5  1.022472        0.269990   \n336  line_90_7.tsp  90  4095  0.021978    45.5  1.022472        0.238308   \n337  line_90_8.tsp  90  4095  0.021978    45.5  1.022472        0.282686   \n338  line_90_9.tsp  90  4095  0.021978    45.5  1.022472        0.271018   \n\n     mst_size  tsp_approx  edge_min  ...  between_var  between_q25   \n0          47    333391.0       0.0  ...     0.000008     0.022051  \\\n1          51    209005.0       0.0  ...     0.000065     0.021686   \n2          57   3344980.0       0.0  ...     0.000591     0.020050   \n3          13     24377.0       1.0  ...     0.000097     0.000000   \n4          41     14880.0       0.0  ...     0.000788     0.033226   \n..        ...         ...       ...  ...          ...          ...   \n334        89     69594.0       0.0  ...     0.000435     0.050520   \n335        89     43838.0       0.0  ...     0.000730     0.049839   \n336        89     82432.0       0.0  ...     0.000393     0.048856   \n337        89     84499.0       0.0  ...     0.000680     0.049190   \n338        89     59535.0       0.0  ...     0.000496     0.050290   \n\n     between_q75  closeness_min  closeness_max  closeness_mean  closeness_std   \n0       0.026965       0.000574       0.001325        0.001012       0.000205  \\\n1       0.032662       0.000919       0.002555        0.001893       0.000507   \n2       0.042040       0.000201       0.000736        0.000562       0.000145   \n3       0.006410       0.001313       0.002677        0.002193       0.000407   \n4       0.062177       0.008369       0.019061        0.014587       0.003118   \n..           ...            ...            ...             ...            ...   \n334     0.072751       0.002192       0.004113        0.003227       0.000642   \n335     0.071527       0.002220       0.004410        0.003481       0.000709   \n336     0.069497       0.002238       0.005424        0.004240       0.000992   \n337     0.072960       0.002171       0.004137        0.003256       0.000649   \n338     0.073379       0.002201       0.004579        0.003559       0.000797   \n\n     closeness_var  closeness_q25  closeness_q75  \n0     4.221718e-08       0.000889       0.001191  \n1     2.566472e-07       0.001447       0.002371  \n2     2.104825e-08       0.000458       0.000692  \n3     1.654824e-07       0.002048       0.002518  \n4     9.721282e-06       0.011758       0.016824  \n..             ...            ...            ...  \n334   4.123292e-07       0.002620       0.003881  \n335   5.026715e-07       0.002873       0.004060  \n336   9.846681e-07       0.003531       0.005157  \n337   4.205608e-07       0.002625       0.003914  \n338   6.358799e-07       0.002814       0.004375  \n\n[339 rows x 30 columns]",
      "text/html": "<div>\n<style scoped>\n    .dataframe tbody tr th:only-of-type {\n        vertical-align: middle;\n    }\n\n    .dataframe tbody tr th {\n        vertical-align: top;\n    }\n\n    .dataframe thead th {\n        text-align: right;\n    }\n</style>\n<table border=\"1\" class=\"dataframe\">\n  <thead>\n    <tr style=\"text-align: right;\">\n      <th></th>\n      <th>file</th>\n      <th>n</th>\n      <th>m</th>\n      <th>ratio1</th>\n      <th>ratio2</th>\n      <th>density</th>\n      <th>avg_clustering</th>\n      <th>mst_size</th>\n      <th>tsp_approx</th>\n      <th>edge_min</th>\n      <th>...</th>\n      <th>between_var</th>\n      <th>between_q25</th>\n      <th>between_q75</th>\n      <th>closeness_min</th>\n      <th>closeness_max</th>\n      <th>closeness_mean</th>\n      <th>closeness_std</th>\n      <th>closeness_var</th>\n      <th>closeness_q25</th>\n      <th>closeness_q75</th>\n    </tr>\n  </thead>\n  <tbody>\n    <tr>\n      <th>0</th>\n      <td>att48.tsp</td>\n      <td>48</td>\n      <td>1176</td>\n      <td>0.040816</td>\n      <td>24.5</td>\n      <td>1.042553</td>\n      <td>0.345227</td>\n      <td>47</td>\n      <td>333391.0</td>\n      <td>0.0</td>\n      <td>...</td>\n      <td>0.000008</td>\n      <td>0.022051</td>\n      <td>0.026965</td>\n      <td>0.000574</td>\n      <td>0.001325</td>\n      <td>0.001012</td>\n      <td>0.000205</td>\n      <td>4.221718e-08</td>\n      <td>0.000889</td>\n      <td>0.001191</td>\n    </tr>\n    <tr>\n      <th>1</th>\n      <td>berlin52.tsp</td>\n      <td>52</td>\n      <td>1378</td>\n      <td>0.037736</td>\n      <td>26.5</td>\n      <td>1.039216</td>\n      <td>0.301939</td>\n      <td>51</td>\n      <td>209005.0</td>\n      <td>0.0</td>\n      <td>...</td>\n      <td>0.000065</td>\n      <td>0.021686</td>\n      <td>0.032662</td>\n      <td>0.000919</td>\n      <td>0.002555</td>\n      <td>0.001893</td>\n      <td>0.000507</td>\n      <td>2.566472e-07</td>\n      <td>0.001447</td>\n      <td>0.002371</td>\n    </tr>\n    <tr>\n      <th>2</th>\n      <td>brazil58.tsp</td>\n      <td>58</td>\n      <td>1711</td>\n      <td>0.033898</td>\n      <td>29.5</td>\n      <td>1.035088</td>\n      <td>0.213223</td>\n      <td>57</td>\n      <td>3344980.0</td>\n      <td>0.0</td>\n      <td>...</td>\n      <td>0.000591</td>\n      <td>0.020050</td>\n      <td>0.042040</td>\n      <td>0.000201</td>\n      <td>0.000736</td>\n      <td>0.000562</td>\n      <td>0.000145</td>\n      <td>2.104825e-08</td>\n      <td>0.000458</td>\n      <td>0.000692</td>\n    </tr>\n    <tr>\n      <th>3</th>\n      <td>burma14.tsp</td>\n      <td>14</td>\n      <td>105</td>\n      <td>0.133333</td>\n      <td>7.5</td>\n      <td>1.153846</td>\n      <td>0.341466</td>\n      <td>13</td>\n      <td>24377.0</td>\n      <td>1.0</td>\n      <td>...</td>\n      <td>0.000097</td>\n      <td>0.000000</td>\n      <td>0.006410</td>\n      <td>0.001313</td>\n      <td>0.002677</td>\n      <td>0.002193</td>\n      <td>0.000407</td>\n      <td>1.654824e-07</td>\n      <td>0.002048</td>\n      <td>0.002518</td>\n    </tr>\n    <tr>\n      <th>4</th>\n      <td>dantzig42.tsp</td>\n      <td>42</td>\n      <td>903</td>\n      <td>0.046512</td>\n      <td>21.5</td>\n      <td>1.048780</td>\n      <td>0.346021</td>\n      <td>41</td>\n      <td>14880.0</td>\n      <td>0.0</td>\n      <td>...</td>\n      <td>0.000788</td>\n      <td>0.033226</td>\n      <td>0.062177</td>\n      <td>0.008369</td>\n      <td>0.019061</td>\n      <td>0.014587</td>\n      <td>0.003118</td>\n      <td>9.721282e-06</td>\n      <td>0.011758</td>\n      <td>0.016824</td>\n    </tr>\n    <tr>\n      <th>...</th>\n      <td>...</td>\n      <td>...</td>\n      <td>...</td>\n      <td>...</td>\n      <td>...</td>\n      <td>...</td>\n      <td>...</td>\n      <td>...</td>\n      <td>...</td>\n      <td>...</td>\n      <td>...</td>\n      <td>...</td>\n      <td>...</td>\n      <td>...</td>\n      <td>...</td>\n      <td>...</td>\n      <td>...</td>\n      <td>...</td>\n      <td>...</td>\n      <td>...</td>\n      <td>...</td>\n    </tr>\n    <tr>\n      <th>334</th>\n      <td>line_90_5.tsp</td>\n      <td>90</td>\n      <td>4095</td>\n      <td>0.021978</td>\n      <td>45.5</td>\n      <td>1.022472</td>\n      <td>0.288284</td>\n      <td>89</td>\n      <td>69594.0</td>\n      <td>0.0</td>\n      <td>...</td>\n      <td>0.000435</td>\n      <td>0.050520</td>\n      <td>0.072751</td>\n      <td>0.002192</td>\n      <td>0.004113</td>\n      <td>0.003227</td>\n      <td>0.000642</td>\n      <td>4.123292e-07</td>\n      <td>0.002620</td>\n      <td>0.003881</td>\n    </tr>\n    <tr>\n      <th>335</th>\n      <td>line_90_6.tsp</td>\n      <td>90</td>\n      <td>4095</td>\n      <td>0.021978</td>\n      <td>45.5</td>\n      <td>1.022472</td>\n      <td>0.269990</td>\n      <td>89</td>\n      <td>43838.0</td>\n      <td>0.0</td>\n      <td>...</td>\n      <td>0.000730</td>\n      <td>0.049839</td>\n      <td>0.071527</td>\n      <td>0.002220</td>\n      <td>0.004410</td>\n      <td>0.003481</td>\n      <td>0.000709</td>\n      <td>5.026715e-07</td>\n      <td>0.002873</td>\n      <td>0.004060</td>\n    </tr>\n    <tr>\n      <th>336</th>\n      <td>line_90_7.tsp</td>\n      <td>90</td>\n      <td>4095</td>\n      <td>0.021978</td>\n      <td>45.5</td>\n      <td>1.022472</td>\n      <td>0.238308</td>\n      <td>89</td>\n      <td>82432.0</td>\n      <td>0.0</td>\n      <td>...</td>\n      <td>0.000393</td>\n      <td>0.048856</td>\n      <td>0.069497</td>\n      <td>0.002238</td>\n      <td>0.005424</td>\n      <td>0.004240</td>\n      <td>0.000992</td>\n      <td>9.846681e-07</td>\n      <td>0.003531</td>\n      <td>0.005157</td>\n    </tr>\n    <tr>\n      <th>337</th>\n      <td>line_90_8.tsp</td>\n      <td>90</td>\n      <td>4095</td>\n      <td>0.021978</td>\n      <td>45.5</td>\n      <td>1.022472</td>\n      <td>0.282686</td>\n      <td>89</td>\n      <td>84499.0</td>\n      <td>0.0</td>\n      <td>...</td>\n      <td>0.000680</td>\n      <td>0.049190</td>\n      <td>0.072960</td>\n      <td>0.002171</td>\n      <td>0.004137</td>\n      <td>0.003256</td>\n      <td>0.000649</td>\n      <td>4.205608e-07</td>\n      <td>0.002625</td>\n      <td>0.003914</td>\n    </tr>\n    <tr>\n      <th>338</th>\n      <td>line_90_9.tsp</td>\n      <td>90</td>\n      <td>4095</td>\n      <td>0.021978</td>\n      <td>45.5</td>\n      <td>1.022472</td>\n      <td>0.271018</td>\n      <td>89</td>\n      <td>59535.0</td>\n      <td>0.0</td>\n      <td>...</td>\n      <td>0.000496</td>\n      <td>0.050290</td>\n      <td>0.073379</td>\n      <td>0.002201</td>\n      <td>0.004579</td>\n      <td>0.003559</td>\n      <td>0.000797</td>\n      <td>6.358799e-07</td>\n      <td>0.002814</td>\n      <td>0.004375</td>\n    </tr>\n  </tbody>\n</table>\n<p>339 rows × 30 columns</p>\n</div>"
     },
     "execution_count": 12,
     "metadata": {},
     "output_type": "execute_result"
    }
   ],
   "source": [
    "chars = pd.DataFrame.from_dict(characteristics)\n",
    "chars"
   ],
   "metadata": {
    "collapsed": false,
    "ExecuteTime": {
     "end_time": "2023-05-28T23:01:31.049645400Z",
     "start_time": "2023-05-28T23:01:31.033234600Z"
    }
   }
  },
  {
   "cell_type": "code",
   "execution_count": 13,
   "outputs": [
    {
     "data": {
      "text/plain": "              file  GILS_cost  DBMEA_cost  GRASP_cost  GILS_time  DBMEA_time   \n0        att48.tsp   226229.0    207771.0    301702.0   6.474685    5.288543  \\\n1     berlin52.tsp   145419.0    143278.0    191072.0   6.054587    5.374160   \n2     brazil58.tsp   532454.0    535150.0    709540.0   8.013889    9.045840   \n3      burma14.tsp    16457.0     16457.0     18393.0   0.156218    0.082072   \n4    dantzig42.tsp    12392.0     12256.0     14523.0   2.579336    3.325098   \n..             ...        ...         ...         ...        ...         ...   \n335  line_90_5.tsp    55730.0     57558.0    157350.0  35.477098   36.326975   \n336  line_90_6.tsp    48884.0     45916.0    128976.0  30.191444   37.348990   \n337  line_90_7.tsp    51464.0     49038.0    124368.0  28.821121   44.483338   \n338  line_90_8.tsp    60845.0     65825.0    123373.0  28.282006   39.745050   \n339  line_90_9.tsp    60959.0     58315.0    118075.0  29.666181   44.563938   \n\n     GRASP_time  min_method  \n0      0.026019  DBMEA_cost  \n1      0.031533  DBMEA_cost  \n2      0.043413   GILS_cost  \n3      0.001000  GRASP_time  \n4      0.016044  DBMEA_cost  \n..          ...         ...  \n335    0.233857   GILS_cost  \n336    0.232372  DBMEA_cost  \n337    0.232510  DBMEA_cost  \n338    0.231058   GILS_cost  \n339    0.229949  DBMEA_cost  \n\n[340 rows x 8 columns]",
      "text/html": "<div>\n<style scoped>\n    .dataframe tbody tr th:only-of-type {\n        vertical-align: middle;\n    }\n\n    .dataframe tbody tr th {\n        vertical-align: top;\n    }\n\n    .dataframe thead th {\n        text-align: right;\n    }\n</style>\n<table border=\"1\" class=\"dataframe\">\n  <thead>\n    <tr style=\"text-align: right;\">\n      <th></th>\n      <th>file</th>\n      <th>GILS_cost</th>\n      <th>DBMEA_cost</th>\n      <th>GRASP_cost</th>\n      <th>GILS_time</th>\n      <th>DBMEA_time</th>\n      <th>GRASP_time</th>\n      <th>min_method</th>\n    </tr>\n  </thead>\n  <tbody>\n    <tr>\n      <th>0</th>\n      <td>att48.tsp</td>\n      <td>226229.0</td>\n      <td>207771.0</td>\n      <td>301702.0</td>\n      <td>6.474685</td>\n      <td>5.288543</td>\n      <td>0.026019</td>\n      <td>DBMEA_cost</td>\n    </tr>\n    <tr>\n      <th>1</th>\n      <td>berlin52.tsp</td>\n      <td>145419.0</td>\n      <td>143278.0</td>\n      <td>191072.0</td>\n      <td>6.054587</td>\n      <td>5.374160</td>\n      <td>0.031533</td>\n      <td>DBMEA_cost</td>\n    </tr>\n    <tr>\n      <th>2</th>\n      <td>brazil58.tsp</td>\n      <td>532454.0</td>\n      <td>535150.0</td>\n      <td>709540.0</td>\n      <td>8.013889</td>\n      <td>9.045840</td>\n      <td>0.043413</td>\n      <td>GILS_cost</td>\n    </tr>\n    <tr>\n      <th>3</th>\n      <td>burma14.tsp</td>\n      <td>16457.0</td>\n      <td>16457.0</td>\n      <td>18393.0</td>\n      <td>0.156218</td>\n      <td>0.082072</td>\n      <td>0.001000</td>\n      <td>GRASP_time</td>\n    </tr>\n    <tr>\n      <th>4</th>\n      <td>dantzig42.tsp</td>\n      <td>12392.0</td>\n      <td>12256.0</td>\n      <td>14523.0</td>\n      <td>2.579336</td>\n      <td>3.325098</td>\n      <td>0.016044</td>\n      <td>DBMEA_cost</td>\n    </tr>\n    <tr>\n      <th>...</th>\n      <td>...</td>\n      <td>...</td>\n      <td>...</td>\n      <td>...</td>\n      <td>...</td>\n      <td>...</td>\n      <td>...</td>\n      <td>...</td>\n    </tr>\n    <tr>\n      <th>335</th>\n      <td>line_90_5.tsp</td>\n      <td>55730.0</td>\n      <td>57558.0</td>\n      <td>157350.0</td>\n      <td>35.477098</td>\n      <td>36.326975</td>\n      <td>0.233857</td>\n      <td>GILS_cost</td>\n    </tr>\n    <tr>\n      <th>336</th>\n      <td>line_90_6.tsp</td>\n      <td>48884.0</td>\n      <td>45916.0</td>\n      <td>128976.0</td>\n      <td>30.191444</td>\n      <td>37.348990</td>\n      <td>0.232372</td>\n      <td>DBMEA_cost</td>\n    </tr>\n    <tr>\n      <th>337</th>\n      <td>line_90_7.tsp</td>\n      <td>51464.0</td>\n      <td>49038.0</td>\n      <td>124368.0</td>\n      <td>28.821121</td>\n      <td>44.483338</td>\n      <td>0.232510</td>\n      <td>DBMEA_cost</td>\n    </tr>\n    <tr>\n      <th>338</th>\n      <td>line_90_8.tsp</td>\n      <td>60845.0</td>\n      <td>65825.0</td>\n      <td>123373.0</td>\n      <td>28.282006</td>\n      <td>39.745050</td>\n      <td>0.231058</td>\n      <td>GILS_cost</td>\n    </tr>\n    <tr>\n      <th>339</th>\n      <td>line_90_9.tsp</td>\n      <td>60959.0</td>\n      <td>58315.0</td>\n      <td>118075.0</td>\n      <td>29.666181</td>\n      <td>44.563938</td>\n      <td>0.229949</td>\n      <td>DBMEA_cost</td>\n    </tr>\n  </tbody>\n</table>\n<p>340 rows × 8 columns</p>\n</div>"
     },
     "execution_count": 13,
     "metadata": {},
     "output_type": "execute_result"
    }
   ],
   "source": [
    "df"
   ],
   "metadata": {
    "collapsed": false,
    "ExecuteTime": {
     "end_time": "2023-05-28T23:01:53.009802500Z",
     "start_time": "2023-05-28T23:01:52.997514600Z"
    }
   }
  },
  {
   "cell_type": "code",
   "execution_count": 14,
   "outputs": [
    {
     "data": {
      "text/plain": "              file  GILS_cost  DBMEA_cost  GRASP_cost  GILS_time  DBMEA_time   \n0        att48.tsp   226229.0    207771.0    301702.0   6.474685    5.288543  \\\n1     berlin52.tsp   145419.0    143278.0    191072.0   6.054587    5.374160   \n2     brazil58.tsp   532454.0    535150.0    709540.0   8.013889    9.045840   \n3      burma14.tsp    16457.0     16457.0     18393.0   0.156218    0.082072   \n4    dantzig42.tsp    12392.0     12256.0     14523.0   2.579336    3.325098   \n..             ...        ...         ...         ...        ...         ...   \n334  line_90_5.tsp    55730.0     57558.0    157350.0  35.477098   36.326975   \n335  line_90_6.tsp    48884.0     45916.0    128976.0  30.191444   37.348990   \n336  line_90_7.tsp    51464.0     49038.0    124368.0  28.821121   44.483338   \n337  line_90_8.tsp    60845.0     65825.0    123373.0  28.282006   39.745050   \n338  line_90_9.tsp    60959.0     58315.0    118075.0  29.666181   44.563938   \n\n     GRASP_time  min_method   n     m  ...  between_var  between_q25   \n0      0.026019  DBMEA_cost  48  1176  ...     0.000008     0.022051  \\\n1      0.031533  DBMEA_cost  52  1378  ...     0.000065     0.021686   \n2      0.043413   GILS_cost  58  1711  ...     0.000591     0.020050   \n3      0.001000  GRASP_time  14   105  ...     0.000097     0.000000   \n4      0.016044  DBMEA_cost  42   903  ...     0.000788     0.033226   \n..          ...         ...  ..   ...  ...          ...          ...   \n334    0.233857   GILS_cost  90  4095  ...     0.000435     0.050520   \n335    0.232372  DBMEA_cost  90  4095  ...     0.000730     0.049839   \n336    0.232510  DBMEA_cost  90  4095  ...     0.000393     0.048856   \n337    0.231058   GILS_cost  90  4095  ...     0.000680     0.049190   \n338    0.229949  DBMEA_cost  90  4095  ...     0.000496     0.050290   \n\n     between_q75  closeness_min  closeness_max  closeness_mean  closeness_std   \n0       0.026965       0.000574       0.001325        0.001012       0.000205  \\\n1       0.032662       0.000919       0.002555        0.001893       0.000507   \n2       0.042040       0.000201       0.000736        0.000562       0.000145   \n3       0.006410       0.001313       0.002677        0.002193       0.000407   \n4       0.062177       0.008369       0.019061        0.014587       0.003118   \n..           ...            ...            ...             ...            ...   \n334     0.072751       0.002192       0.004113        0.003227       0.000642   \n335     0.071527       0.002220       0.004410        0.003481       0.000709   \n336     0.069497       0.002238       0.005424        0.004240       0.000992   \n337     0.072960       0.002171       0.004137        0.003256       0.000649   \n338     0.073379       0.002201       0.004579        0.003559       0.000797   \n\n     closeness_var  closeness_q25  closeness_q75  \n0     4.221718e-08       0.000889       0.001191  \n1     2.566472e-07       0.001447       0.002371  \n2     2.104825e-08       0.000458       0.000692  \n3     1.654824e-07       0.002048       0.002518  \n4     9.721282e-06       0.011758       0.016824  \n..             ...            ...            ...  \n334   4.123292e-07       0.002620       0.003881  \n335   5.026715e-07       0.002873       0.004060  \n336   9.846681e-07       0.003531       0.005157  \n337   4.205608e-07       0.002625       0.003914  \n338   6.358799e-07       0.002814       0.004375  \n\n[339 rows x 37 columns]",
      "text/html": "<div>\n<style scoped>\n    .dataframe tbody tr th:only-of-type {\n        vertical-align: middle;\n    }\n\n    .dataframe tbody tr th {\n        vertical-align: top;\n    }\n\n    .dataframe thead th {\n        text-align: right;\n    }\n</style>\n<table border=\"1\" class=\"dataframe\">\n  <thead>\n    <tr style=\"text-align: right;\">\n      <th></th>\n      <th>file</th>\n      <th>GILS_cost</th>\n      <th>DBMEA_cost</th>\n      <th>GRASP_cost</th>\n      <th>GILS_time</th>\n      <th>DBMEA_time</th>\n      <th>GRASP_time</th>\n      <th>min_method</th>\n      <th>n</th>\n      <th>m</th>\n      <th>...</th>\n      <th>between_var</th>\n      <th>between_q25</th>\n      <th>between_q75</th>\n      <th>closeness_min</th>\n      <th>closeness_max</th>\n      <th>closeness_mean</th>\n      <th>closeness_std</th>\n      <th>closeness_var</th>\n      <th>closeness_q25</th>\n      <th>closeness_q75</th>\n    </tr>\n  </thead>\n  <tbody>\n    <tr>\n      <th>0</th>\n      <td>att48.tsp</td>\n      <td>226229.0</td>\n      <td>207771.0</td>\n      <td>301702.0</td>\n      <td>6.474685</td>\n      <td>5.288543</td>\n      <td>0.026019</td>\n      <td>DBMEA_cost</td>\n      <td>48</td>\n      <td>1176</td>\n      <td>...</td>\n      <td>0.000008</td>\n      <td>0.022051</td>\n      <td>0.026965</td>\n      <td>0.000574</td>\n      <td>0.001325</td>\n      <td>0.001012</td>\n      <td>0.000205</td>\n      <td>4.221718e-08</td>\n      <td>0.000889</td>\n      <td>0.001191</td>\n    </tr>\n    <tr>\n      <th>1</th>\n      <td>berlin52.tsp</td>\n      <td>145419.0</td>\n      <td>143278.0</td>\n      <td>191072.0</td>\n      <td>6.054587</td>\n      <td>5.374160</td>\n      <td>0.031533</td>\n      <td>DBMEA_cost</td>\n      <td>52</td>\n      <td>1378</td>\n      <td>...</td>\n      <td>0.000065</td>\n      <td>0.021686</td>\n      <td>0.032662</td>\n      <td>0.000919</td>\n      <td>0.002555</td>\n      <td>0.001893</td>\n      <td>0.000507</td>\n      <td>2.566472e-07</td>\n      <td>0.001447</td>\n      <td>0.002371</td>\n    </tr>\n    <tr>\n      <th>2</th>\n      <td>brazil58.tsp</td>\n      <td>532454.0</td>\n      <td>535150.0</td>\n      <td>709540.0</td>\n      <td>8.013889</td>\n      <td>9.045840</td>\n      <td>0.043413</td>\n      <td>GILS_cost</td>\n      <td>58</td>\n      <td>1711</td>\n      <td>...</td>\n      <td>0.000591</td>\n      <td>0.020050</td>\n      <td>0.042040</td>\n      <td>0.000201</td>\n      <td>0.000736</td>\n      <td>0.000562</td>\n      <td>0.000145</td>\n      <td>2.104825e-08</td>\n      <td>0.000458</td>\n      <td>0.000692</td>\n    </tr>\n    <tr>\n      <th>3</th>\n      <td>burma14.tsp</td>\n      <td>16457.0</td>\n      <td>16457.0</td>\n      <td>18393.0</td>\n      <td>0.156218</td>\n      <td>0.082072</td>\n      <td>0.001000</td>\n      <td>GRASP_time</td>\n      <td>14</td>\n      <td>105</td>\n      <td>...</td>\n      <td>0.000097</td>\n      <td>0.000000</td>\n      <td>0.006410</td>\n      <td>0.001313</td>\n      <td>0.002677</td>\n      <td>0.002193</td>\n      <td>0.000407</td>\n      <td>1.654824e-07</td>\n      <td>0.002048</td>\n      <td>0.002518</td>\n    </tr>\n    <tr>\n      <th>4</th>\n      <td>dantzig42.tsp</td>\n      <td>12392.0</td>\n      <td>12256.0</td>\n      <td>14523.0</td>\n      <td>2.579336</td>\n      <td>3.325098</td>\n      <td>0.016044</td>\n      <td>DBMEA_cost</td>\n      <td>42</td>\n      <td>903</td>\n      <td>...</td>\n      <td>0.000788</td>\n      <td>0.033226</td>\n      <td>0.062177</td>\n      <td>0.008369</td>\n      <td>0.019061</td>\n      <td>0.014587</td>\n      <td>0.003118</td>\n      <td>9.721282e-06</td>\n      <td>0.011758</td>\n      <td>0.016824</td>\n    </tr>\n    <tr>\n      <th>...</th>\n      <td>...</td>\n      <td>...</td>\n      <td>...</td>\n      <td>...</td>\n      <td>...</td>\n      <td>...</td>\n      <td>...</td>\n      <td>...</td>\n      <td>...</td>\n      <td>...</td>\n      <td>...</td>\n      <td>...</td>\n      <td>...</td>\n      <td>...</td>\n      <td>...</td>\n      <td>...</td>\n      <td>...</td>\n      <td>...</td>\n      <td>...</td>\n      <td>...</td>\n      <td>...</td>\n    </tr>\n    <tr>\n      <th>334</th>\n      <td>line_90_5.tsp</td>\n      <td>55730.0</td>\n      <td>57558.0</td>\n      <td>157350.0</td>\n      <td>35.477098</td>\n      <td>36.326975</td>\n      <td>0.233857</td>\n      <td>GILS_cost</td>\n      <td>90</td>\n      <td>4095</td>\n      <td>...</td>\n      <td>0.000435</td>\n      <td>0.050520</td>\n      <td>0.072751</td>\n      <td>0.002192</td>\n      <td>0.004113</td>\n      <td>0.003227</td>\n      <td>0.000642</td>\n      <td>4.123292e-07</td>\n      <td>0.002620</td>\n      <td>0.003881</td>\n    </tr>\n    <tr>\n      <th>335</th>\n      <td>line_90_6.tsp</td>\n      <td>48884.0</td>\n      <td>45916.0</td>\n      <td>128976.0</td>\n      <td>30.191444</td>\n      <td>37.348990</td>\n      <td>0.232372</td>\n      <td>DBMEA_cost</td>\n      <td>90</td>\n      <td>4095</td>\n      <td>...</td>\n      <td>0.000730</td>\n      <td>0.049839</td>\n      <td>0.071527</td>\n      <td>0.002220</td>\n      <td>0.004410</td>\n      <td>0.003481</td>\n      <td>0.000709</td>\n      <td>5.026715e-07</td>\n      <td>0.002873</td>\n      <td>0.004060</td>\n    </tr>\n    <tr>\n      <th>336</th>\n      <td>line_90_7.tsp</td>\n      <td>51464.0</td>\n      <td>49038.0</td>\n      <td>124368.0</td>\n      <td>28.821121</td>\n      <td>44.483338</td>\n      <td>0.232510</td>\n      <td>DBMEA_cost</td>\n      <td>90</td>\n      <td>4095</td>\n      <td>...</td>\n      <td>0.000393</td>\n      <td>0.048856</td>\n      <td>0.069497</td>\n      <td>0.002238</td>\n      <td>0.005424</td>\n      <td>0.004240</td>\n      <td>0.000992</td>\n      <td>9.846681e-07</td>\n      <td>0.003531</td>\n      <td>0.005157</td>\n    </tr>\n    <tr>\n      <th>337</th>\n      <td>line_90_8.tsp</td>\n      <td>60845.0</td>\n      <td>65825.0</td>\n      <td>123373.0</td>\n      <td>28.282006</td>\n      <td>39.745050</td>\n      <td>0.231058</td>\n      <td>GILS_cost</td>\n      <td>90</td>\n      <td>4095</td>\n      <td>...</td>\n      <td>0.000680</td>\n      <td>0.049190</td>\n      <td>0.072960</td>\n      <td>0.002171</td>\n      <td>0.004137</td>\n      <td>0.003256</td>\n      <td>0.000649</td>\n      <td>4.205608e-07</td>\n      <td>0.002625</td>\n      <td>0.003914</td>\n    </tr>\n    <tr>\n      <th>338</th>\n      <td>line_90_9.tsp</td>\n      <td>60959.0</td>\n      <td>58315.0</td>\n      <td>118075.0</td>\n      <td>29.666181</td>\n      <td>44.563938</td>\n      <td>0.229949</td>\n      <td>DBMEA_cost</td>\n      <td>90</td>\n      <td>4095</td>\n      <td>...</td>\n      <td>0.000496</td>\n      <td>0.050290</td>\n      <td>0.073379</td>\n      <td>0.002201</td>\n      <td>0.004579</td>\n      <td>0.003559</td>\n      <td>0.000797</td>\n      <td>6.358799e-07</td>\n      <td>0.002814</td>\n      <td>0.004375</td>\n    </tr>\n  </tbody>\n</table>\n<p>339 rows × 37 columns</p>\n</div>"
     },
     "execution_count": 14,
     "metadata": {},
     "output_type": "execute_result"
    }
   ],
   "source": [
    "# merge the two dataframes on filename\n",
    "df2 = pd.merge(df, chars, on='file')\n",
    "df2"
   ],
   "metadata": {
    "collapsed": false,
    "ExecuteTime": {
     "end_time": "2023-05-28T23:01:55.649214700Z",
     "start_time": "2023-05-28T23:01:55.632107100Z"
    }
   }
  },
  {
   "cell_type": "code",
   "execution_count": 15,
   "outputs": [
    {
     "data": {
      "text/plain": "min_method\nDBMEA_cost    186\nGILS_cost     120\nGRASP_time     33\nName: count, dtype: int64"
     },
     "execution_count": 15,
     "metadata": {},
     "output_type": "execute_result"
    }
   ],
   "source": [
    "df2.min_method.value_counts()"
   ],
   "metadata": {
    "collapsed": false,
    "ExecuteTime": {
     "end_time": "2023-05-28T23:02:31.173550700Z",
     "start_time": "2023-05-28T23:02:31.158531500Z"
    }
   }
  },
  {
   "cell_type": "code",
   "execution_count": 16,
   "outputs": [],
   "source": [
    "# save df2 to csv\n",
    "df2.to_csv('matrix_final.csv', index=False)"
   ],
   "metadata": {
    "collapsed": false,
    "ExecuteTime": {
     "end_time": "2023-05-28T23:02:45.878025600Z",
     "start_time": "2023-05-28T23:02:45.863334500Z"
    }
   }
  },
  {
   "cell_type": "code",
   "execution_count": 17,
   "outputs": [],
   "source": [
    "# train a classifier to predict the min_method\n"
   ],
   "metadata": {
    "collapsed": false,
    "ExecuteTime": {
     "end_time": "2023-05-28T23:02:46.818573200Z",
     "start_time": "2023-05-28T23:02:46.805056Z"
    }
   }
  },
  {
   "cell_type": "code",
   "execution_count": 18,
   "outputs": [
    {
     "data": {
      "text/plain": "              file  GILS_cost  DBMEA_cost  GRASP_cost  GILS_time  DBMEA_time   \n0        att48.tsp   226229.0    207771.0    301702.0   6.474685    5.288543  \\\n1     berlin52.tsp   145419.0    143278.0    191072.0   6.054587    5.374160   \n2     brazil58.tsp   532454.0    535150.0    709540.0   8.013889    9.045840   \n3      burma14.tsp    16457.0     16457.0     18393.0   0.156218    0.082072   \n4    dantzig42.tsp    12392.0     12256.0     14523.0   2.579336    3.325098   \n..             ...        ...         ...         ...        ...         ...   \n334  line_90_5.tsp    55730.0     57558.0    157350.0  35.477098   36.326975   \n335  line_90_6.tsp    48884.0     45916.0    128976.0  30.191444   37.348990   \n336  line_90_7.tsp    51464.0     49038.0    124368.0  28.821121   44.483338   \n337  line_90_8.tsp    60845.0     65825.0    123373.0  28.282006   39.745050   \n338  line_90_9.tsp    60959.0     58315.0    118075.0  29.666181   44.563938   \n\n     GRASP_time  min_method   n     m  ...  between_var  between_q25   \n0      0.026019  DBMEA_cost  48  1176  ...     0.000008     0.022051  \\\n1      0.031533  DBMEA_cost  52  1378  ...     0.000065     0.021686   \n2      0.043413   GILS_cost  58  1711  ...     0.000591     0.020050   \n3      0.001000  GRASP_time  14   105  ...     0.000097     0.000000   \n4      0.016044  DBMEA_cost  42   903  ...     0.000788     0.033226   \n..          ...         ...  ..   ...  ...          ...          ...   \n334    0.233857   GILS_cost  90  4095  ...     0.000435     0.050520   \n335    0.232372  DBMEA_cost  90  4095  ...     0.000730     0.049839   \n336    0.232510  DBMEA_cost  90  4095  ...     0.000393     0.048856   \n337    0.231058   GILS_cost  90  4095  ...     0.000680     0.049190   \n338    0.229949  DBMEA_cost  90  4095  ...     0.000496     0.050290   \n\n     between_q75  closeness_min  closeness_max  closeness_mean  closeness_std   \n0       0.026965       0.000574       0.001325        0.001012       0.000205  \\\n1       0.032662       0.000919       0.002555        0.001893       0.000507   \n2       0.042040       0.000201       0.000736        0.000562       0.000145   \n3       0.006410       0.001313       0.002677        0.002193       0.000407   \n4       0.062177       0.008369       0.019061        0.014587       0.003118   \n..           ...            ...            ...             ...            ...   \n334     0.072751       0.002192       0.004113        0.003227       0.000642   \n335     0.071527       0.002220       0.004410        0.003481       0.000709   \n336     0.069497       0.002238       0.005424        0.004240       0.000992   \n337     0.072960       0.002171       0.004137        0.003256       0.000649   \n338     0.073379       0.002201       0.004579        0.003559       0.000797   \n\n     closeness_var  closeness_q25  closeness_q75  \n0     4.221718e-08       0.000889       0.001191  \n1     2.566472e-07       0.001447       0.002371  \n2     2.104825e-08       0.000458       0.000692  \n3     1.654824e-07       0.002048       0.002518  \n4     9.721282e-06       0.011758       0.016824  \n..             ...            ...            ...  \n334   4.123292e-07       0.002620       0.003881  \n335   5.026715e-07       0.002873       0.004060  \n336   9.846681e-07       0.003531       0.005157  \n337   4.205608e-07       0.002625       0.003914  \n338   6.358799e-07       0.002814       0.004375  \n\n[339 rows x 37 columns]",
      "text/html": "<div>\n<style scoped>\n    .dataframe tbody tr th:only-of-type {\n        vertical-align: middle;\n    }\n\n    .dataframe tbody tr th {\n        vertical-align: top;\n    }\n\n    .dataframe thead th {\n        text-align: right;\n    }\n</style>\n<table border=\"1\" class=\"dataframe\">\n  <thead>\n    <tr style=\"text-align: right;\">\n      <th></th>\n      <th>file</th>\n      <th>GILS_cost</th>\n      <th>DBMEA_cost</th>\n      <th>GRASP_cost</th>\n      <th>GILS_time</th>\n      <th>DBMEA_time</th>\n      <th>GRASP_time</th>\n      <th>min_method</th>\n      <th>n</th>\n      <th>m</th>\n      <th>...</th>\n      <th>between_var</th>\n      <th>between_q25</th>\n      <th>between_q75</th>\n      <th>closeness_min</th>\n      <th>closeness_max</th>\n      <th>closeness_mean</th>\n      <th>closeness_std</th>\n      <th>closeness_var</th>\n      <th>closeness_q25</th>\n      <th>closeness_q75</th>\n    </tr>\n  </thead>\n  <tbody>\n    <tr>\n      <th>0</th>\n      <td>att48.tsp</td>\n      <td>226229.0</td>\n      <td>207771.0</td>\n      <td>301702.0</td>\n      <td>6.474685</td>\n      <td>5.288543</td>\n      <td>0.026019</td>\n      <td>DBMEA_cost</td>\n      <td>48</td>\n      <td>1176</td>\n      <td>...</td>\n      <td>0.000008</td>\n      <td>0.022051</td>\n      <td>0.026965</td>\n      <td>0.000574</td>\n      <td>0.001325</td>\n      <td>0.001012</td>\n      <td>0.000205</td>\n      <td>4.221718e-08</td>\n      <td>0.000889</td>\n      <td>0.001191</td>\n    </tr>\n    <tr>\n      <th>1</th>\n      <td>berlin52.tsp</td>\n      <td>145419.0</td>\n      <td>143278.0</td>\n      <td>191072.0</td>\n      <td>6.054587</td>\n      <td>5.374160</td>\n      <td>0.031533</td>\n      <td>DBMEA_cost</td>\n      <td>52</td>\n      <td>1378</td>\n      <td>...</td>\n      <td>0.000065</td>\n      <td>0.021686</td>\n      <td>0.032662</td>\n      <td>0.000919</td>\n      <td>0.002555</td>\n      <td>0.001893</td>\n      <td>0.000507</td>\n      <td>2.566472e-07</td>\n      <td>0.001447</td>\n      <td>0.002371</td>\n    </tr>\n    <tr>\n      <th>2</th>\n      <td>brazil58.tsp</td>\n      <td>532454.0</td>\n      <td>535150.0</td>\n      <td>709540.0</td>\n      <td>8.013889</td>\n      <td>9.045840</td>\n      <td>0.043413</td>\n      <td>GILS_cost</td>\n      <td>58</td>\n      <td>1711</td>\n      <td>...</td>\n      <td>0.000591</td>\n      <td>0.020050</td>\n      <td>0.042040</td>\n      <td>0.000201</td>\n      <td>0.000736</td>\n      <td>0.000562</td>\n      <td>0.000145</td>\n      <td>2.104825e-08</td>\n      <td>0.000458</td>\n      <td>0.000692</td>\n    </tr>\n    <tr>\n      <th>3</th>\n      <td>burma14.tsp</td>\n      <td>16457.0</td>\n      <td>16457.0</td>\n      <td>18393.0</td>\n      <td>0.156218</td>\n      <td>0.082072</td>\n      <td>0.001000</td>\n      <td>GRASP_time</td>\n      <td>14</td>\n      <td>105</td>\n      <td>...</td>\n      <td>0.000097</td>\n      <td>0.000000</td>\n      <td>0.006410</td>\n      <td>0.001313</td>\n      <td>0.002677</td>\n      <td>0.002193</td>\n      <td>0.000407</td>\n      <td>1.654824e-07</td>\n      <td>0.002048</td>\n      <td>0.002518</td>\n    </tr>\n    <tr>\n      <th>4</th>\n      <td>dantzig42.tsp</td>\n      <td>12392.0</td>\n      <td>12256.0</td>\n      <td>14523.0</td>\n      <td>2.579336</td>\n      <td>3.325098</td>\n      <td>0.016044</td>\n      <td>DBMEA_cost</td>\n      <td>42</td>\n      <td>903</td>\n      <td>...</td>\n      <td>0.000788</td>\n      <td>0.033226</td>\n      <td>0.062177</td>\n      <td>0.008369</td>\n      <td>0.019061</td>\n      <td>0.014587</td>\n      <td>0.003118</td>\n      <td>9.721282e-06</td>\n      <td>0.011758</td>\n      <td>0.016824</td>\n    </tr>\n    <tr>\n      <th>...</th>\n      <td>...</td>\n      <td>...</td>\n      <td>...</td>\n      <td>...</td>\n      <td>...</td>\n      <td>...</td>\n      <td>...</td>\n      <td>...</td>\n      <td>...</td>\n      <td>...</td>\n      <td>...</td>\n      <td>...</td>\n      <td>...</td>\n      <td>...</td>\n      <td>...</td>\n      <td>...</td>\n      <td>...</td>\n      <td>...</td>\n      <td>...</td>\n      <td>...</td>\n      <td>...</td>\n    </tr>\n    <tr>\n      <th>334</th>\n      <td>line_90_5.tsp</td>\n      <td>55730.0</td>\n      <td>57558.0</td>\n      <td>157350.0</td>\n      <td>35.477098</td>\n      <td>36.326975</td>\n      <td>0.233857</td>\n      <td>GILS_cost</td>\n      <td>90</td>\n      <td>4095</td>\n      <td>...</td>\n      <td>0.000435</td>\n      <td>0.050520</td>\n      <td>0.072751</td>\n      <td>0.002192</td>\n      <td>0.004113</td>\n      <td>0.003227</td>\n      <td>0.000642</td>\n      <td>4.123292e-07</td>\n      <td>0.002620</td>\n      <td>0.003881</td>\n    </tr>\n    <tr>\n      <th>335</th>\n      <td>line_90_6.tsp</td>\n      <td>48884.0</td>\n      <td>45916.0</td>\n      <td>128976.0</td>\n      <td>30.191444</td>\n      <td>37.348990</td>\n      <td>0.232372</td>\n      <td>DBMEA_cost</td>\n      <td>90</td>\n      <td>4095</td>\n      <td>...</td>\n      <td>0.000730</td>\n      <td>0.049839</td>\n      <td>0.071527</td>\n      <td>0.002220</td>\n      <td>0.004410</td>\n      <td>0.003481</td>\n      <td>0.000709</td>\n      <td>5.026715e-07</td>\n      <td>0.002873</td>\n      <td>0.004060</td>\n    </tr>\n    <tr>\n      <th>336</th>\n      <td>line_90_7.tsp</td>\n      <td>51464.0</td>\n      <td>49038.0</td>\n      <td>124368.0</td>\n      <td>28.821121</td>\n      <td>44.483338</td>\n      <td>0.232510</td>\n      <td>DBMEA_cost</td>\n      <td>90</td>\n      <td>4095</td>\n      <td>...</td>\n      <td>0.000393</td>\n      <td>0.048856</td>\n      <td>0.069497</td>\n      <td>0.002238</td>\n      <td>0.005424</td>\n      <td>0.004240</td>\n      <td>0.000992</td>\n      <td>9.846681e-07</td>\n      <td>0.003531</td>\n      <td>0.005157</td>\n    </tr>\n    <tr>\n      <th>337</th>\n      <td>line_90_8.tsp</td>\n      <td>60845.0</td>\n      <td>65825.0</td>\n      <td>123373.0</td>\n      <td>28.282006</td>\n      <td>39.745050</td>\n      <td>0.231058</td>\n      <td>GILS_cost</td>\n      <td>90</td>\n      <td>4095</td>\n      <td>...</td>\n      <td>0.000680</td>\n      <td>0.049190</td>\n      <td>0.072960</td>\n      <td>0.002171</td>\n      <td>0.004137</td>\n      <td>0.003256</td>\n      <td>0.000649</td>\n      <td>4.205608e-07</td>\n      <td>0.002625</td>\n      <td>0.003914</td>\n    </tr>\n    <tr>\n      <th>338</th>\n      <td>line_90_9.tsp</td>\n      <td>60959.0</td>\n      <td>58315.0</td>\n      <td>118075.0</td>\n      <td>29.666181</td>\n      <td>44.563938</td>\n      <td>0.229949</td>\n      <td>DBMEA_cost</td>\n      <td>90</td>\n      <td>4095</td>\n      <td>...</td>\n      <td>0.000496</td>\n      <td>0.050290</td>\n      <td>0.073379</td>\n      <td>0.002201</td>\n      <td>0.004579</td>\n      <td>0.003559</td>\n      <td>0.000797</td>\n      <td>6.358799e-07</td>\n      <td>0.002814</td>\n      <td>0.004375</td>\n    </tr>\n  </tbody>\n</table>\n<p>339 rows × 37 columns</p>\n</div>"
     },
     "execution_count": 18,
     "metadata": {},
     "output_type": "execute_result"
    }
   ],
   "source": [
    "# get the data\n",
    "df2 = pd.read_csv('matrix_final.csv')\n",
    "df2"
   ],
   "metadata": {
    "collapsed": false,
    "ExecuteTime": {
     "end_time": "2023-05-28T23:02:50.178451300Z",
     "start_time": "2023-05-28T23:02:50.151839300Z"
    }
   }
  },
  {
   "cell_type": "code",
   "execution_count": 19,
   "outputs": [],
   "source": [
    "# get the features\n",
    "X = df2.drop(['file', 'min_method', \"GILS_cost\", \"GILS_time\", \"GRASP_cost\", \"GRASP_time\", \"DBMEA_cost\", \"DBMEA_time\"], axis=1)\n",
    "y = df2['min_method']\n"
   ],
   "metadata": {
    "collapsed": false,
    "ExecuteTime": {
     "end_time": "2023-05-28T23:02:54.518114800Z",
     "start_time": "2023-05-28T23:02:54.501760600Z"
    }
   }
  },
  {
   "cell_type": "code",
   "execution_count": 21,
   "outputs": [],
   "source": [
    "# split the data\n",
    "X_train, X_test, y_train, y_test = train_test_split(X, y, test_size=0.3, random_state=42)\n"
   ],
   "metadata": {
    "collapsed": false,
    "ExecuteTime": {
     "end_time": "2023-05-28T23:03:10.043965200Z",
     "start_time": "2023-05-28T23:03:10.033173Z"
    }
   }
  },
  {
   "cell_type": "code",
   "execution_count": 22,
   "outputs": [
    {
     "data": {
      "text/plain": "RandomForestClassifier()",
      "text/html": "<style>#sk-container-id-1 {color: black;background-color: white;}#sk-container-id-1 pre{padding: 0;}#sk-container-id-1 div.sk-toggleable {background-color: white;}#sk-container-id-1 label.sk-toggleable__label {cursor: pointer;display: block;width: 100%;margin-bottom: 0;padding: 0.3em;box-sizing: border-box;text-align: center;}#sk-container-id-1 label.sk-toggleable__label-arrow:before {content: \"▸\";float: left;margin-right: 0.25em;color: #696969;}#sk-container-id-1 label.sk-toggleable__label-arrow:hover:before {color: black;}#sk-container-id-1 div.sk-estimator:hover label.sk-toggleable__label-arrow:before {color: black;}#sk-container-id-1 div.sk-toggleable__content {max-height: 0;max-width: 0;overflow: hidden;text-align: left;background-color: #f0f8ff;}#sk-container-id-1 div.sk-toggleable__content pre {margin: 0.2em;color: black;border-radius: 0.25em;background-color: #f0f8ff;}#sk-container-id-1 input.sk-toggleable__control:checked~div.sk-toggleable__content {max-height: 200px;max-width: 100%;overflow: auto;}#sk-container-id-1 input.sk-toggleable__control:checked~label.sk-toggleable__label-arrow:before {content: \"▾\";}#sk-container-id-1 div.sk-estimator input.sk-toggleable__control:checked~label.sk-toggleable__label {background-color: #d4ebff;}#sk-container-id-1 div.sk-label input.sk-toggleable__control:checked~label.sk-toggleable__label {background-color: #d4ebff;}#sk-container-id-1 input.sk-hidden--visually {border: 0;clip: rect(1px 1px 1px 1px);clip: rect(1px, 1px, 1px, 1px);height: 1px;margin: -1px;overflow: hidden;padding: 0;position: absolute;width: 1px;}#sk-container-id-1 div.sk-estimator {font-family: monospace;background-color: #f0f8ff;border: 1px dotted black;border-radius: 0.25em;box-sizing: border-box;margin-bottom: 0.5em;}#sk-container-id-1 div.sk-estimator:hover {background-color: #d4ebff;}#sk-container-id-1 div.sk-parallel-item::after {content: \"\";width: 100%;border-bottom: 1px solid gray;flex-grow: 1;}#sk-container-id-1 div.sk-label:hover label.sk-toggleable__label {background-color: #d4ebff;}#sk-container-id-1 div.sk-serial::before {content: \"\";position: absolute;border-left: 1px solid gray;box-sizing: border-box;top: 0;bottom: 0;left: 50%;z-index: 0;}#sk-container-id-1 div.sk-serial {display: flex;flex-direction: column;align-items: center;background-color: white;padding-right: 0.2em;padding-left: 0.2em;position: relative;}#sk-container-id-1 div.sk-item {position: relative;z-index: 1;}#sk-container-id-1 div.sk-parallel {display: flex;align-items: stretch;justify-content: center;background-color: white;position: relative;}#sk-container-id-1 div.sk-item::before, #sk-container-id-1 div.sk-parallel-item::before {content: \"\";position: absolute;border-left: 1px solid gray;box-sizing: border-box;top: 0;bottom: 0;left: 50%;z-index: -1;}#sk-container-id-1 div.sk-parallel-item {display: flex;flex-direction: column;z-index: 1;position: relative;background-color: white;}#sk-container-id-1 div.sk-parallel-item:first-child::after {align-self: flex-end;width: 50%;}#sk-container-id-1 div.sk-parallel-item:last-child::after {align-self: flex-start;width: 50%;}#sk-container-id-1 div.sk-parallel-item:only-child::after {width: 0;}#sk-container-id-1 div.sk-dashed-wrapped {border: 1px dashed gray;margin: 0 0.4em 0.5em 0.4em;box-sizing: border-box;padding-bottom: 0.4em;background-color: white;}#sk-container-id-1 div.sk-label label {font-family: monospace;font-weight: bold;display: inline-block;line-height: 1.2em;}#sk-container-id-1 div.sk-label-container {text-align: center;}#sk-container-id-1 div.sk-container {/* jupyter's `normalize.less` sets `[hidden] { display: none; }` but bootstrap.min.css set `[hidden] { display: none !important; }` so we also need the `!important` here to be able to override the default hidden behavior on the sphinx rendered scikit-learn.org. See: https://github.com/scikit-learn/scikit-learn/issues/21755 */display: inline-block !important;position: relative;}#sk-container-id-1 div.sk-text-repr-fallback {display: none;}</style><div id=\"sk-container-id-1\" class=\"sk-top-container\"><div class=\"sk-text-repr-fallback\"><pre>RandomForestClassifier()</pre><b>In a Jupyter environment, please rerun this cell to show the HTML representation or trust the notebook. <br />On GitHub, the HTML representation is unable to render, please try loading this page with nbviewer.org.</b></div><div class=\"sk-container\" hidden><div class=\"sk-item\"><div class=\"sk-estimator sk-toggleable\"><input class=\"sk-toggleable__control sk-hidden--visually\" id=\"sk-estimator-id-1\" type=\"checkbox\" checked><label for=\"sk-estimator-id-1\" class=\"sk-toggleable__label sk-toggleable__label-arrow\">RandomForestClassifier</label><div class=\"sk-toggleable__content\"><pre>RandomForestClassifier()</pre></div></div></div></div></div>"
     },
     "execution_count": 22,
     "metadata": {},
     "output_type": "execute_result"
    }
   ],
   "source": [
    "# train the classifier\n",
    "clf = RandomForestClassifier()\n",
    "clf.fit(X_train, y_train)\n"
   ],
   "metadata": {
    "collapsed": false,
    "ExecuteTime": {
     "end_time": "2023-05-28T23:03:10.637044400Z",
     "start_time": "2023-05-28T23:03:10.518012400Z"
    }
   }
  },
  {
   "cell_type": "code",
   "execution_count": 23,
   "outputs": [],
   "source": [
    "# get the predictions\n",
    "y_pred = clf.predict(X_test)\n"
   ],
   "metadata": {
    "collapsed": false,
    "ExecuteTime": {
     "end_time": "2023-05-28T23:03:11.739678400Z",
     "start_time": "2023-05-28T23:03:11.728562500Z"
    }
   }
  },
  {
   "cell_type": "code",
   "execution_count": 24,
   "outputs": [
    {
     "data": {
      "text/plain": "0.5980392156862745"
     },
     "execution_count": 24,
     "metadata": {},
     "output_type": "execute_result"
    }
   ],
   "source": [
    "# get the accuracy\n",
    "accuracy_score(y_test, y_pred)"
   ],
   "metadata": {
    "collapsed": false,
    "ExecuteTime": {
     "end_time": "2023-05-28T23:03:13.320095200Z",
     "start_time": "2023-05-28T23:03:13.309306500Z"
    }
   }
  },
  {
   "cell_type": "code",
   "execution_count": 25,
   "outputs": [
    {
     "data": {
      "text/plain": "array([[41, 21,  2],\n       [13, 14,  2],\n       [ 1,  2,  6]], dtype=int64)"
     },
     "execution_count": 25,
     "metadata": {},
     "output_type": "execute_result"
    }
   ],
   "source": [
    "# get the confusion matrix\n",
    "confusion_matrix(y_test, y_pred)"
   ],
   "metadata": {
    "collapsed": false,
    "ExecuteTime": {
     "end_time": "2023-05-28T23:03:14.315579600Z",
     "start_time": "2023-05-28T23:03:14.301326300Z"
    }
   }
  },
  {
   "cell_type": "code",
   "execution_count": 26,
   "outputs": [
    {
     "name": "stdout",
     "output_type": "stream",
     "text": [
      "              precision    recall  f1-score   support\n",
      "\n",
      "  DBMEA_cost       0.75      0.64      0.69        64\n",
      "   GILS_cost       0.38      0.48      0.42        29\n",
      "  GRASP_time       0.60      0.67      0.63         9\n",
      "\n",
      "    accuracy                           0.60       102\n",
      "   macro avg       0.57      0.60      0.58       102\n",
      "weighted avg       0.63      0.60      0.61       102\n",
      "\n"
     ]
    }
   ],
   "source": [
    "# get the classification report\n",
    "print(classification_report(y_test, y_pred))"
   ],
   "metadata": {
    "collapsed": false,
    "ExecuteTime": {
     "end_time": "2023-05-28T23:03:15.778199900Z",
     "start_time": "2023-05-28T23:03:15.768550300Z"
    }
   }
  },
  {
   "cell_type": "code",
   "execution_count": 31,
   "outputs": [
    {
     "data": {
      "text/plain": "                importance\nbetween_q25       0.061629\ntsp_approx        0.061198\nbetween_mean      0.058622\nbetween_q75       0.057403\navg_clustering    0.049619\ndensity           0.048625\nbetween_max       0.039240\nbetween_std       0.036947\nm                 0.035831\nratio2            0.034066\ncloseness_q75     0.033873\nbetween_var       0.033656\nmst_size          0.033071\nn                 0.032560\ncloseness_max     0.031871\nedge_var          0.031504\ncloseness_mean    0.030798\nedge_std          0.030530\ncloseness_q25     0.030420\nedge_mean         0.029813\ncloseness_min     0.029782\ncloseness_std     0.029779\nedge_q25          0.028966\nedge_q75          0.027719\nedge_max          0.027204\nbetween_min       0.025490\nratio1            0.020354\ncloseness_var     0.009430\nedge_min          0.000000",
      "text/html": "<div>\n<style scoped>\n    .dataframe tbody tr th:only-of-type {\n        vertical-align: middle;\n    }\n\n    .dataframe tbody tr th {\n        vertical-align: top;\n    }\n\n    .dataframe thead th {\n        text-align: right;\n    }\n</style>\n<table border=\"1\" class=\"dataframe\">\n  <thead>\n    <tr style=\"text-align: right;\">\n      <th></th>\n      <th>importance</th>\n    </tr>\n  </thead>\n  <tbody>\n    <tr>\n      <th>between_q25</th>\n      <td>0.061629</td>\n    </tr>\n    <tr>\n      <th>tsp_approx</th>\n      <td>0.061198</td>\n    </tr>\n    <tr>\n      <th>between_mean</th>\n      <td>0.058622</td>\n    </tr>\n    <tr>\n      <th>between_q75</th>\n      <td>0.057403</td>\n    </tr>\n    <tr>\n      <th>avg_clustering</th>\n      <td>0.049619</td>\n    </tr>\n    <tr>\n      <th>density</th>\n      <td>0.048625</td>\n    </tr>\n    <tr>\n      <th>between_max</th>\n      <td>0.039240</td>\n    </tr>\n    <tr>\n      <th>between_std</th>\n      <td>0.036947</td>\n    </tr>\n    <tr>\n      <th>m</th>\n      <td>0.035831</td>\n    </tr>\n    <tr>\n      <th>ratio2</th>\n      <td>0.034066</td>\n    </tr>\n    <tr>\n      <th>closeness_q75</th>\n      <td>0.033873</td>\n    </tr>\n    <tr>\n      <th>between_var</th>\n      <td>0.033656</td>\n    </tr>\n    <tr>\n      <th>mst_size</th>\n      <td>0.033071</td>\n    </tr>\n    <tr>\n      <th>n</th>\n      <td>0.032560</td>\n    </tr>\n    <tr>\n      <th>closeness_max</th>\n      <td>0.031871</td>\n    </tr>\n    <tr>\n      <th>edge_var</th>\n      <td>0.031504</td>\n    </tr>\n    <tr>\n      <th>closeness_mean</th>\n      <td>0.030798</td>\n    </tr>\n    <tr>\n      <th>edge_std</th>\n      <td>0.030530</td>\n    </tr>\n    <tr>\n      <th>closeness_q25</th>\n      <td>0.030420</td>\n    </tr>\n    <tr>\n      <th>edge_mean</th>\n      <td>0.029813</td>\n    </tr>\n    <tr>\n      <th>closeness_min</th>\n      <td>0.029782</td>\n    </tr>\n    <tr>\n      <th>closeness_std</th>\n      <td>0.029779</td>\n    </tr>\n    <tr>\n      <th>edge_q25</th>\n      <td>0.028966</td>\n    </tr>\n    <tr>\n      <th>edge_q75</th>\n      <td>0.027719</td>\n    </tr>\n    <tr>\n      <th>edge_max</th>\n      <td>0.027204</td>\n    </tr>\n    <tr>\n      <th>between_min</th>\n      <td>0.025490</td>\n    </tr>\n    <tr>\n      <th>ratio1</th>\n      <td>0.020354</td>\n    </tr>\n    <tr>\n      <th>closeness_var</th>\n      <td>0.009430</td>\n    </tr>\n    <tr>\n      <th>edge_min</th>\n      <td>0.000000</td>\n    </tr>\n  </tbody>\n</table>\n</div>"
     },
     "execution_count": 31,
     "metadata": {},
     "output_type": "execute_result"
    }
   ],
   "source": [
    "# rank the features by importance\n",
    "feature_importances = pd.DataFrame(clf.feature_importances_,\n",
    "                                   index = X_train.columns,\n",
    "                                    columns=['importance']).sort_values('importance', ascending=False)\n",
    "# plot the features\n",
    "plt.barh(feature_importances.index, feature_importances.importance)\n",
    "plt.show()\n"
   ],
   "metadata": {
    "collapsed": false,
    "ExecuteTime": {
     "end_time": "2023-05-28T23:04:52.596552200Z",
     "start_time": "2023-05-28T23:04:52.581740100Z"
    }
   }
  },
  {
   "cell_type": "code",
   "execution_count": null,
   "outputs": [],
   "source": [],
   "metadata": {
    "collapsed": false
   }
  }
 ],
 "metadata": {
  "kernelspec": {
   "display_name": "Python 3",
   "language": "python",
   "name": "python3"
  },
  "language_info": {
   "codemirror_mode": {
    "name": "ipython",
    "version": 2
   },
   "file_extension": ".py",
   "mimetype": "text/x-python",
   "name": "python",
   "nbconvert_exporter": "python",
   "pygments_lexer": "ipython2",
   "version": "2.7.6"
  }
 },
 "nbformat": 4,
 "nbformat_minor": 0
}
