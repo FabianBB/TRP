{
 "cells": [
  {
   "cell_type": "code",
   "execution_count": 1,
   "metadata": {
    "collapsed": true,
    "ExecuteTime": {
     "end_time": "2023-06-12T16:57:59.338327200Z",
     "start_time": "2023-06-12T16:57:58.294471400Z"
    }
   },
   "outputs": [],
   "source": [
    "import numpy as np\n",
    "\n",
    "import tsplib95\n",
    "import networkx as nx\n",
    "\n",
    "import os\n",
    "import pandas as pd\n",
    "import gilsrvnd\n",
    "import DBMEA\n",
    "import grasp\n",
    "\n",
    "from sklearn.ensemble import RandomForestClassifier\n",
    "from sklearn.model_selection import train_test_split\n",
    "from sklearn.metrics import accuracy_score, confusion_matrix\n",
    "from sklearn.linear_model import LogisticRegression\n",
    "from networkx.algorithms.approximation import christofides\n",
    "\n",
    "import matplotlib.pyplot as plt\n",
    "\n",
    "from sklearn.metrics import classification_report"
   ]
  },
  {
   "cell_type": "code",
   "execution_count": 1,
   "outputs": [],
   "source": [],
   "metadata": {
    "collapsed": false,
    "ExecuteTime": {
     "end_time": "2023-06-12T16:57:59.341169400Z",
     "start_time": "2023-06-12T16:57:59.339654500Z"
    }
   }
  },
  {
   "cell_type": "code",
   "execution_count": 2,
   "outputs": [
    {
     "data": {
      "text/plain": "['DBMEA_21_4.tsp',\n 'DBMEA_22_1.tsp',\n 'DBMEA_22_15.tsp',\n 'DBMEA_25_2.tsp',\n 'DBMEA_26_12.tsp',\n 'DBMEA_27_12.tsp',\n 'DBMEA_28_12.tsp',\n 'DBMEA_28_15.tsp',\n 'DBMEA_29_7.tsp',\n 'DBMEA_31_18.tsp',\n 'DBMEA_31_7.tsp',\n 'DBMEA_34_4.tsp',\n 'DBMEA_41_12.tsp',\n 'DBMEA_41_14.tsp',\n 'DBMEA_41_6.tsp',\n 'DBMEA_41_8.tsp',\n 'DBMEA_42_9.tsp',\n 'DBMEA_43_1.tsp',\n 'DBMEA_43_2.tsp',\n 'DBMEA_44_12.tsp',\n 'DBMEA_46_3.tsp',\n 'DBMEA_46_5.tsp',\n 'DBMEA_49_14.tsp',\n 'DBMEA_50_14.tsp',\n 'DBMEA_50_9.tsp',\n 'DBMEA_53_0.tsp',\n 'DBMEA_54_7.tsp',\n 'DBMEA_58_19.tsp',\n 'DBMEA_61_8.tsp',\n 'DBMEA_62_17.tsp',\n 'DBMEA_63_4.tsp',\n 'DBMEA_64_18.tsp',\n 'DBMEA_68_13.tsp',\n 'DBMEA_71_4.tsp',\n 'DBMEA_73_19.tsp',\n 'DBMEA_74_13.tsp',\n 'DBMEA_75_10.tsp',\n 'DBMEA_76_10.tsp',\n 'DBMEA_77_9.tsp',\n 'DBMEA_83_14.tsp',\n 'DBMEA_85_0.tsp',\n 'DBMEA_85_11.tsp',\n 'DBMEA_85_6.tsp',\n 'DBMEA_87_15.tsp',\n 'DBMEA_91_4.tsp',\n 'DBMEA_93_14.tsp',\n 'DBMEA_93_4.tsp',\n 'DBMEA_95_11.tsp',\n 'DBMEA_96_15.tsp',\n 'DBMEA_96_4.tsp',\n 'GILS_20_2.tsp',\n 'GILS_21_11.tsp',\n 'GILS_24_14.tsp',\n 'GILS_25_16.tsp',\n 'GILS_27_9.tsp',\n 'GILS_29_14.tsp',\n 'GILS_31_5.tsp',\n 'GILS_33_6.tsp',\n 'GILS_37_1.tsp',\n 'GILS_37_3.tsp',\n 'GILS_38_18.tsp',\n 'GILS_39_14.tsp',\n 'GILS_40_15.tsp',\n 'GILS_41_9.tsp',\n 'GILS_42_0.tsp',\n 'GILS_43_5.tsp',\n 'GILS_44_2.tsp',\n 'GILS_45_12.tsp',\n 'GILS_45_18.tsp',\n 'GILS_45_19.tsp',\n 'GILS_49_1.tsp',\n 'GILS_50_0.tsp',\n 'GILS_50_10.tsp',\n 'GILS_51_7.tsp',\n 'GILS_53_3.tsp',\n 'GILS_55_12.tsp',\n 'GILS_55_5.tsp',\n 'GILS_55_6.tsp',\n 'GILS_56_11.tsp',\n 'GILS_61_11.tsp',\n 'GILS_61_3.tsp',\n 'GILS_62_1.tsp',\n 'GILS_65_11.tsp',\n 'GILS_67_9.tsp',\n 'GILS_70_5.tsp',\n 'GILS_71_14.tsp',\n 'GILS_73_0.tsp',\n 'GILS_74_14.tsp',\n 'GILS_81_13.tsp',\n 'GILS_84_17.tsp',\n 'GILS_84_8.tsp',\n 'GILS_88_7.tsp',\n 'GILS_90_17.tsp',\n 'GILS_92_10.tsp',\n 'GILS_92_6.tsp',\n 'GILS_93_2.tsp',\n 'GILS_95_16.tsp',\n 'GILS_95_5.tsp',\n 'GILS_97_12.tsp',\n 'GILS_98_14.tsp']"
     },
     "execution_count": 2,
     "metadata": {},
     "output_type": "execute_result"
    }
   ],
   "source": [
    "# get all files in Instances folder\n",
    "files = os.listdir(\"newdifficult\")\n",
    "files"
   ],
   "metadata": {
    "collapsed": false,
    "ExecuteTime": {
     "end_time": "2023-06-12T16:57:59.346827900Z",
     "start_time": "2023-06-12T16:57:59.342169900Z"
    }
   }
  },
  {
   "cell_type": "code",
   "execution_count": 3,
   "outputs": [],
   "source": [
    "# create dict for all the characterstics\n",
    "characteristics = {\"file\":[], \"n\": [], \"m\": [], \"ratio1\": [], \"ratio2\": [], \"density\": [], \"avg_clustering\": [], \"mst_size\": [], \"tsp_approx\":[],\n",
    "                   \"edge_min\": [], \"edge_max\": [], \"edge_mean\": [], \"edge_std\": [], \"edge_var\": [], \"edge_q25\": [], \"edge_q75\": [],\n",
    "                   \"between_min\": [], \"between_max\": [], \"between_mean\": [], \"between_std\": [], \"between_var\": [], \"between_q25\": [], \"between_q75\": [],\n",
    "                   \"closeness_min\": [], \"closeness_max\": [], \"closeness_mean\": [], \"closeness_std\": [], \"closeness_var\": [], \"closeness_q25\": [], \"closeness_q75\": []}"
   ],
   "metadata": {
    "collapsed": false,
    "ExecuteTime": {
     "end_time": "2023-06-12T16:57:59.350992600Z",
     "start_time": "2023-06-12T16:57:59.349483Z"
    }
   }
  },
  {
   "cell_type": "code",
   "execution_count": 4,
   "outputs": [],
   "source": [
    "def tspCost(graph, dist_matrix):\n",
    "    t = christofides(graph)\n",
    "    # remove last index of t\n",
    "    t = [x - 1 for x in t]\n",
    "    t.pop()\n",
    "    t = list(t)\n",
    "\n",
    "    cost = sum((len(t) - i - 1) * dist_matrix[t[i], t[i + 1]] for i in range(len(t) - 1))\n",
    "    return cost"
   ],
   "metadata": {
    "collapsed": false,
    "ExecuteTime": {
     "end_time": "2023-06-12T16:57:59.357959600Z",
     "start_time": "2023-06-12T16:57:59.351992900Z"
    }
   }
  },
  {
   "cell_type": "code",
   "execution_count": 6,
   "outputs": [
    {
     "name": "stdout",
     "output_type": "stream",
     "text": [
      "DBMEA_21_4.tsp done\n",
      "DBMEA_22_1.tsp done\n",
      "DBMEA_22_15.tsp done\n",
      "DBMEA_25_2.tsp done\n",
      "DBMEA_26_12.tsp done\n",
      "DBMEA_27_12.tsp done\n",
      "DBMEA_28_12.tsp done\n",
      "DBMEA_28_15.tsp done\n",
      "DBMEA_29_7.tsp done\n",
      "DBMEA_31_18.tsp done\n",
      "DBMEA_31_7.tsp done\n",
      "DBMEA_34_4.tsp done\n",
      "DBMEA_41_12.tsp done\n",
      "DBMEA_41_14.tsp done\n",
      "DBMEA_41_6.tsp done\n",
      "DBMEA_41_8.tsp done\n",
      "DBMEA_42_9.tsp done\n",
      "DBMEA_43_1.tsp done\n",
      "DBMEA_43_2.tsp done\n",
      "DBMEA_44_12.tsp done\n",
      "DBMEA_46_3.tsp done\n",
      "DBMEA_46_5.tsp done\n",
      "DBMEA_49_14.tsp done\n",
      "DBMEA_50_14.tsp done\n",
      "DBMEA_50_9.tsp done\n",
      "DBMEA_53_0.tsp done\n",
      "DBMEA_54_7.tsp done\n",
      "DBMEA_58_19.tsp done\n",
      "DBMEA_61_8.tsp done\n",
      "DBMEA_62_17.tsp done\n",
      "DBMEA_63_4.tsp done\n",
      "DBMEA_64_18.tsp done\n",
      "DBMEA_68_13.tsp done\n",
      "DBMEA_71_4.tsp done\n",
      "DBMEA_73_19.tsp done\n",
      "DBMEA_74_13.tsp done\n",
      "DBMEA_75_10.tsp done\n",
      "DBMEA_76_10.tsp done\n",
      "DBMEA_77_9.tsp done\n",
      "DBMEA_83_14.tsp done\n",
      "DBMEA_85_0.tsp done\n",
      "DBMEA_85_11.tsp done\n",
      "DBMEA_85_6.tsp done\n",
      "DBMEA_87_15.tsp done\n",
      "DBMEA_91_4.tsp done\n",
      "DBMEA_93_14.tsp done\n",
      "DBMEA_93_4.tsp done\n",
      "DBMEA_95_11.tsp done\n",
      "DBMEA_96_15.tsp done\n",
      "DBMEA_96_4.tsp done\n",
      "GILS_20_2.tsp done\n",
      "GILS_21_11.tsp done\n",
      "GILS_24_14.tsp done\n",
      "GILS_25_16.tsp done\n",
      "GILS_27_9.tsp done\n",
      "GILS_29_14.tsp done\n",
      "GILS_31_5.tsp done\n",
      "GILS_33_6.tsp done\n",
      "GILS_37_1.tsp done\n",
      "GILS_37_3.tsp done\n",
      "GILS_38_18.tsp done\n",
      "GILS_39_14.tsp done\n",
      "GILS_40_15.tsp done\n",
      "GILS_41_9.tsp done\n",
      "GILS_42_0.tsp done\n",
      "GILS_43_5.tsp done\n",
      "GILS_44_2.tsp done\n",
      "GILS_45_12.tsp done\n",
      "GILS_45_18.tsp done\n",
      "GILS_45_19.tsp done\n",
      "GILS_49_1.tsp done\n",
      "GILS_50_0.tsp done\n",
      "GILS_50_10.tsp done\n",
      "GILS_51_7.tsp done\n",
      "GILS_53_3.tsp done\n",
      "GILS_55_12.tsp done\n",
      "GILS_55_5.tsp done\n",
      "GILS_55_6.tsp done\n",
      "GILS_56_11.tsp done\n",
      "GILS_61_11.tsp done\n",
      "GILS_61_3.tsp done\n",
      "GILS_62_1.tsp done\n",
      "GILS_65_11.tsp done\n",
      "GILS_67_9.tsp done\n",
      "GILS_70_5.tsp done\n",
      "GILS_71_14.tsp done\n",
      "GILS_73_0.tsp done\n",
      "GILS_74_14.tsp done\n",
      "GILS_81_13.tsp done\n",
      "GILS_84_17.tsp done\n",
      "GILS_84_8.tsp done\n",
      "GILS_88_7.tsp done\n",
      "GILS_90_17.tsp done\n",
      "GILS_92_10.tsp done\n",
      "GILS_92_6.tsp done\n",
      "GILS_93_2.tsp done\n",
      "GILS_95_16.tsp done\n",
      "GILS_95_5.tsp done\n",
      "GILS_97_12.tsp done\n",
      "GILS_98_14.tsp done\n"
     ]
    }
   ],
   "source": [
    "for f in files:\n",
    "\n",
    "    if f == \"swiss42.tsp\":\n",
    "        continue\n",
    "\n",
    "    problem = tsplib95.load('newdifficult/' + f)\n",
    "    graph = problem.get_graph()\n",
    "    dist_matrix = nx.to_numpy_matrix(graph)\n",
    "    dist_array = nx.to_numpy_array(graph)\n",
    "\n",
    "    n = len(graph.nodes)\n",
    "\n",
    "    # get the number of edges\n",
    "    m = len(graph.edges)\n",
    "\n",
    "    # get the ratio of nodes to edges and vice versa\n",
    "    ratio1 = n/m\n",
    "    ratio2 = m/n\n",
    "    # get the density of the graph\n",
    "    density = nx.density(graph)\n",
    "\n",
    "    # edge cost statistics\n",
    "    edge_min = np.min(dist_matrix)\n",
    "    edge_max = np.max(dist_matrix)\n",
    "    edge_mean = np.mean(dist_matrix)\n",
    "    edge_std = np.std(dist_matrix)\n",
    "    edge_var = np.var(dist_matrix)\n",
    "    edge_q25 = np.quantile(dist_array, 0.25)\n",
    "    edge_q75 = np.quantile(dist_array, 0.75)\n",
    "\n",
    "    # local clustering statistics\n",
    "    avg_clustering = nx.average_clustering(graph, weight='weight')\n",
    "\n",
    "    # minimum spanning tree size\n",
    "    mst = nx.minimum_spanning_tree(graph, weight='weight')\n",
    "    mst_size = len(mst.edges)\n",
    "    tsp_approx = tspCost(graph, dist_matrix)\n",
    "\n",
    "    # betweenness centrality statistics\n",
    "    between = nx.betweenness_centrality(graph, weight='weight')\n",
    "    between_min = np.min(list(between.values()))\n",
    "    between_max = np.max(list(between.values()))\n",
    "    between_mean = np.mean(list(between.values()))\n",
    "    between_std = np.std(list(between.values()))\n",
    "    between_var = np.var(list(between.values()))\n",
    "    between_q25 = np.quantile(list(between.values()), 0.25)\n",
    "    between_q75 = np.quantile(list(between.values()), 0.75)\n",
    "\n",
    "    # closeness centrality statistics\n",
    "    closeness = nx.closeness_centrality(graph, distance='weight')\n",
    "    closeness_min = np.min(list(closeness.values()))\n",
    "    closeness_max = np.max(list(closeness.values()))\n",
    "    closeness_mean = np.mean(list(closeness.values()))\n",
    "    closeness_std = np.std(list(closeness.values()))\n",
    "    closeness_var = np.var(list(closeness.values()))\n",
    "    closeness_q25 = np.quantile(list(closeness.values()), 0.25)\n",
    "    closeness_q75 = np.quantile(list(closeness.values()), 0.75)\n",
    "\n",
    "    # add information to the dictionary\n",
    "    characteristics[\"file\"].append(f)\n",
    "    characteristics[\"n\"].append(n)\n",
    "    characteristics[\"m\"].append(m)\n",
    "    characteristics[\"ratio1\"].append(ratio1)\n",
    "    characteristics[\"ratio2\"].append(ratio2)\n",
    "    characteristics[\"density\"].append(density)\n",
    "    characteristics[\"avg_clustering\"].append(avg_clustering)\n",
    "    characteristics[\"mst_size\"].append(mst_size)\n",
    "    characteristics[\"tsp_approx\"].append(tsp_approx)\n",
    "    characteristics[\"edge_min\"].append(edge_min)\n",
    "    characteristics[\"edge_max\"].append(edge_max)\n",
    "    characteristics[\"edge_mean\"].append(edge_mean)\n",
    "    characteristics[\"edge_std\"].append(edge_std)\n",
    "    characteristics[\"edge_var\"].append(edge_var)\n",
    "    characteristics[\"edge_q25\"].append(edge_q25)\n",
    "    characteristics[\"edge_q75\"].append(edge_q75)\n",
    "    characteristics[\"between_min\"].append(between_min)\n",
    "    characteristics[\"between_max\"].append(between_max)\n",
    "    characteristics[\"between_mean\"].append(between_mean)\n",
    "    characteristics[\"between_std\"].append(between_std)\n",
    "    characteristics[\"between_var\"].append(between_var)\n",
    "    characteristics[\"between_q25\"].append(between_q25)\n",
    "    characteristics[\"between_q75\"].append(between_q75)\n",
    "    characteristics[\"closeness_min\"].append(closeness_min)\n",
    "    characteristics[\"closeness_max\"].append(closeness_max)\n",
    "    characteristics[\"closeness_mean\"].append(closeness_mean)\n",
    "    characteristics[\"closeness_std\"].append(closeness_std)\n",
    "    characteristics[\"closeness_var\"].append(closeness_var)\n",
    "    characteristics[\"closeness_q25\"].append(closeness_q25)\n",
    "    characteristics[\"closeness_q75\"].append(closeness_q75)\n",
    "\n",
    "    print(f'{f} done')\n",
    "\n"
   ],
   "metadata": {
    "collapsed": false,
    "ExecuteTime": {
     "end_time": "2023-06-12T16:58:53.934172100Z",
     "start_time": "2023-06-12T16:58:27.090826100Z"
    }
   }
  },
  {
   "cell_type": "code",
   "execution_count": 7,
   "outputs": [
    {
     "data": {
      "text/plain": "               file   n     m    ratio1  ratio2   density  avg_clustering   \n0    DBMEA_21_4.tsp  21   231  0.090909    11.0  1.100000        0.410978  \\\n1    DBMEA_22_1.tsp  22   253  0.086957    11.5  1.095238        0.410231   \n2   DBMEA_22_15.tsp  22   253  0.086957    11.5  1.095238        0.367077   \n3    DBMEA_25_2.tsp  25   325  0.076923    13.0  1.083333        0.428445   \n4   DBMEA_26_12.tsp  26   351  0.074074    13.5  1.080000        0.441006   \n..              ...  ..   ...       ...     ...       ...             ...   \n95    GILS_93_2.tsp  93  4371  0.021277    47.0  1.021739        0.393550   \n96   GILS_95_16.tsp  95  4560  0.020833    48.0  1.021277        0.386529   \n97    GILS_95_5.tsp  95  4560  0.020833    48.0  1.021277        0.376426   \n98   GILS_97_12.tsp  97  4753  0.020408    49.0  1.020833        0.386491   \n99   GILS_98_14.tsp  98  4851  0.020202    49.5  1.020619        0.390661   \n\n    mst_size  tsp_approx  edge_min  ...  between_var  between_q25   \n0         20    205335.0       0.0  ...     0.000023     0.052632  \\\n1         21    240658.0       0.0  ...     0.000033     0.050000   \n2         21    227910.0       0.0  ...     0.000025     0.050000   \n3         24    264210.0       0.0  ...     0.000030     0.043478   \n4         25    251036.0       0.0  ...     0.000020     0.041667   \n..       ...         ...       ...  ...          ...          ...   \n95        92   1896193.0       0.0  ...     0.000007     0.011626   \n96        94   1665710.0       0.0  ...     0.000008     0.011674   \n97        94   1938745.0       0.0  ...     0.000007     0.011575   \n98        96   1959628.0       0.0  ...     0.000007     0.011404   \n99        97   2008887.0       0.0  ...     0.000008     0.011126   \n\n    between_q75  closeness_min  closeness_max  closeness_mean  closeness_std   \n0      0.057895       0.000307       0.000626        0.000470       0.000100  \\\n1      0.057540       0.000290       0.000585        0.000443       0.000081   \n2      0.057143       0.000289       0.000615        0.000460       0.000096   \n3      0.050725       0.000337       0.000581        0.000445       0.000072   \n4      0.048194       0.000312       0.000541        0.000416       0.000063   \n..          ...            ...            ...             ...            ...   \n95     0.015944       0.000289       0.000511        0.000390       0.000060   \n96     0.016416       0.000274       0.000535        0.000401       0.000069   \n97     0.015873       0.000274       0.000505        0.000381       0.000060   \n98     0.015399       0.000264       0.000519        0.000392       0.000064   \n99     0.015549       0.000275       0.000518        0.000390       0.000066   \n\n    closeness_var  closeness_q25  closeness_q75  \n0    9.934298e-09       0.000377       0.000563  \n1    6.631258e-09       0.000384       0.000526  \n2    9.183057e-09       0.000394       0.000547  \n3    5.237894e-09       0.000393       0.000508  \n4    3.950803e-09       0.000361       0.000458  \n..            ...            ...            ...  \n95   3.608474e-09       0.000338       0.000436  \n96   4.734754e-09       0.000349       0.000453  \n97   3.574450e-09       0.000336       0.000421  \n98   4.089912e-09       0.000340       0.000435  \n99   4.335323e-09       0.000337       0.000447  \n\n[100 rows x 30 columns]",
      "text/html": "<div>\n<style scoped>\n    .dataframe tbody tr th:only-of-type {\n        vertical-align: middle;\n    }\n\n    .dataframe tbody tr th {\n        vertical-align: top;\n    }\n\n    .dataframe thead th {\n        text-align: right;\n    }\n</style>\n<table border=\"1\" class=\"dataframe\">\n  <thead>\n    <tr style=\"text-align: right;\">\n      <th></th>\n      <th>file</th>\n      <th>n</th>\n      <th>m</th>\n      <th>ratio1</th>\n      <th>ratio2</th>\n      <th>density</th>\n      <th>avg_clustering</th>\n      <th>mst_size</th>\n      <th>tsp_approx</th>\n      <th>edge_min</th>\n      <th>...</th>\n      <th>between_var</th>\n      <th>between_q25</th>\n      <th>between_q75</th>\n      <th>closeness_min</th>\n      <th>closeness_max</th>\n      <th>closeness_mean</th>\n      <th>closeness_std</th>\n      <th>closeness_var</th>\n      <th>closeness_q25</th>\n      <th>closeness_q75</th>\n    </tr>\n  </thead>\n  <tbody>\n    <tr>\n      <th>0</th>\n      <td>DBMEA_21_4.tsp</td>\n      <td>21</td>\n      <td>231</td>\n      <td>0.090909</td>\n      <td>11.0</td>\n      <td>1.100000</td>\n      <td>0.410978</td>\n      <td>20</td>\n      <td>205335.0</td>\n      <td>0.0</td>\n      <td>...</td>\n      <td>0.000023</td>\n      <td>0.052632</td>\n      <td>0.057895</td>\n      <td>0.000307</td>\n      <td>0.000626</td>\n      <td>0.000470</td>\n      <td>0.000100</td>\n      <td>9.934298e-09</td>\n      <td>0.000377</td>\n      <td>0.000563</td>\n    </tr>\n    <tr>\n      <th>1</th>\n      <td>DBMEA_22_1.tsp</td>\n      <td>22</td>\n      <td>253</td>\n      <td>0.086957</td>\n      <td>11.5</td>\n      <td>1.095238</td>\n      <td>0.410231</td>\n      <td>21</td>\n      <td>240658.0</td>\n      <td>0.0</td>\n      <td>...</td>\n      <td>0.000033</td>\n      <td>0.050000</td>\n      <td>0.057540</td>\n      <td>0.000290</td>\n      <td>0.000585</td>\n      <td>0.000443</td>\n      <td>0.000081</td>\n      <td>6.631258e-09</td>\n      <td>0.000384</td>\n      <td>0.000526</td>\n    </tr>\n    <tr>\n      <th>2</th>\n      <td>DBMEA_22_15.tsp</td>\n      <td>22</td>\n      <td>253</td>\n      <td>0.086957</td>\n      <td>11.5</td>\n      <td>1.095238</td>\n      <td>0.367077</td>\n      <td>21</td>\n      <td>227910.0</td>\n      <td>0.0</td>\n      <td>...</td>\n      <td>0.000025</td>\n      <td>0.050000</td>\n      <td>0.057143</td>\n      <td>0.000289</td>\n      <td>0.000615</td>\n      <td>0.000460</td>\n      <td>0.000096</td>\n      <td>9.183057e-09</td>\n      <td>0.000394</td>\n      <td>0.000547</td>\n    </tr>\n    <tr>\n      <th>3</th>\n      <td>DBMEA_25_2.tsp</td>\n      <td>25</td>\n      <td>325</td>\n      <td>0.076923</td>\n      <td>13.0</td>\n      <td>1.083333</td>\n      <td>0.428445</td>\n      <td>24</td>\n      <td>264210.0</td>\n      <td>0.0</td>\n      <td>...</td>\n      <td>0.000030</td>\n      <td>0.043478</td>\n      <td>0.050725</td>\n      <td>0.000337</td>\n      <td>0.000581</td>\n      <td>0.000445</td>\n      <td>0.000072</td>\n      <td>5.237894e-09</td>\n      <td>0.000393</td>\n      <td>0.000508</td>\n    </tr>\n    <tr>\n      <th>4</th>\n      <td>DBMEA_26_12.tsp</td>\n      <td>26</td>\n      <td>351</td>\n      <td>0.074074</td>\n      <td>13.5</td>\n      <td>1.080000</td>\n      <td>0.441006</td>\n      <td>25</td>\n      <td>251036.0</td>\n      <td>0.0</td>\n      <td>...</td>\n      <td>0.000020</td>\n      <td>0.041667</td>\n      <td>0.048194</td>\n      <td>0.000312</td>\n      <td>0.000541</td>\n      <td>0.000416</td>\n      <td>0.000063</td>\n      <td>3.950803e-09</td>\n      <td>0.000361</td>\n      <td>0.000458</td>\n    </tr>\n    <tr>\n      <th>...</th>\n      <td>...</td>\n      <td>...</td>\n      <td>...</td>\n      <td>...</td>\n      <td>...</td>\n      <td>...</td>\n      <td>...</td>\n      <td>...</td>\n      <td>...</td>\n      <td>...</td>\n      <td>...</td>\n      <td>...</td>\n      <td>...</td>\n      <td>...</td>\n      <td>...</td>\n      <td>...</td>\n      <td>...</td>\n      <td>...</td>\n      <td>...</td>\n      <td>...</td>\n      <td>...</td>\n    </tr>\n    <tr>\n      <th>95</th>\n      <td>GILS_93_2.tsp</td>\n      <td>93</td>\n      <td>4371</td>\n      <td>0.021277</td>\n      <td>47.0</td>\n      <td>1.021739</td>\n      <td>0.393550</td>\n      <td>92</td>\n      <td>1896193.0</td>\n      <td>0.0</td>\n      <td>...</td>\n      <td>0.000007</td>\n      <td>0.011626</td>\n      <td>0.015944</td>\n      <td>0.000289</td>\n      <td>0.000511</td>\n      <td>0.000390</td>\n      <td>0.000060</td>\n      <td>3.608474e-09</td>\n      <td>0.000338</td>\n      <td>0.000436</td>\n    </tr>\n    <tr>\n      <th>96</th>\n      <td>GILS_95_16.tsp</td>\n      <td>95</td>\n      <td>4560</td>\n      <td>0.020833</td>\n      <td>48.0</td>\n      <td>1.021277</td>\n      <td>0.386529</td>\n      <td>94</td>\n      <td>1665710.0</td>\n      <td>0.0</td>\n      <td>...</td>\n      <td>0.000008</td>\n      <td>0.011674</td>\n      <td>0.016416</td>\n      <td>0.000274</td>\n      <td>0.000535</td>\n      <td>0.000401</td>\n      <td>0.000069</td>\n      <td>4.734754e-09</td>\n      <td>0.000349</td>\n      <td>0.000453</td>\n    </tr>\n    <tr>\n      <th>97</th>\n      <td>GILS_95_5.tsp</td>\n      <td>95</td>\n      <td>4560</td>\n      <td>0.020833</td>\n      <td>48.0</td>\n      <td>1.021277</td>\n      <td>0.376426</td>\n      <td>94</td>\n      <td>1938745.0</td>\n      <td>0.0</td>\n      <td>...</td>\n      <td>0.000007</td>\n      <td>0.011575</td>\n      <td>0.015873</td>\n      <td>0.000274</td>\n      <td>0.000505</td>\n      <td>0.000381</td>\n      <td>0.000060</td>\n      <td>3.574450e-09</td>\n      <td>0.000336</td>\n      <td>0.000421</td>\n    </tr>\n    <tr>\n      <th>98</th>\n      <td>GILS_97_12.tsp</td>\n      <td>97</td>\n      <td>4753</td>\n      <td>0.020408</td>\n      <td>49.0</td>\n      <td>1.020833</td>\n      <td>0.386491</td>\n      <td>96</td>\n      <td>1959628.0</td>\n      <td>0.0</td>\n      <td>...</td>\n      <td>0.000007</td>\n      <td>0.011404</td>\n      <td>0.015399</td>\n      <td>0.000264</td>\n      <td>0.000519</td>\n      <td>0.000392</td>\n      <td>0.000064</td>\n      <td>4.089912e-09</td>\n      <td>0.000340</td>\n      <td>0.000435</td>\n    </tr>\n    <tr>\n      <th>99</th>\n      <td>GILS_98_14.tsp</td>\n      <td>98</td>\n      <td>4851</td>\n      <td>0.020202</td>\n      <td>49.5</td>\n      <td>1.020619</td>\n      <td>0.390661</td>\n      <td>97</td>\n      <td>2008887.0</td>\n      <td>0.0</td>\n      <td>...</td>\n      <td>0.000008</td>\n      <td>0.011126</td>\n      <td>0.015549</td>\n      <td>0.000275</td>\n      <td>0.000518</td>\n      <td>0.000390</td>\n      <td>0.000066</td>\n      <td>4.335323e-09</td>\n      <td>0.000337</td>\n      <td>0.000447</td>\n    </tr>\n  </tbody>\n</table>\n<p>100 rows × 30 columns</p>\n</div>"
     },
     "execution_count": 7,
     "metadata": {},
     "output_type": "execute_result"
    }
   ],
   "source": [
    "chars = pd.DataFrame.from_dict(characteristics)\n",
    "chars"
   ],
   "metadata": {
    "collapsed": false,
    "ExecuteTime": {
     "end_time": "2023-06-12T16:59:06.466340200Z",
     "start_time": "2023-06-12T16:59:06.434920200Z"
    }
   }
  },
  {
   "cell_type": "code",
   "execution_count": 8,
   "outputs": [],
   "source": [
    "# save chars to csv\n",
    "chars.to_csv('newdiff.csv', index=False)"
   ],
   "metadata": {
    "collapsed": false,
    "ExecuteTime": {
     "end_time": "2023-06-12T16:59:12.354013200Z",
     "start_time": "2023-06-12T16:59:12.332354300Z"
    }
   }
  },
  {
   "cell_type": "code",
   "execution_count": 14,
   "outputs": [
    {
     "data": {
      "text/plain": "              file  GILS_cost  DBMEA_cost  GRASP_cost  GILS_time  DBMEA_time   \n0        att48.tsp   226229.0    207771.0    301702.0   6.474685    5.288543  \\\n1     berlin52.tsp   145419.0    143278.0    191072.0   6.054587    5.374160   \n2     brazil58.tsp   532454.0    535150.0    709540.0   8.013889    9.045840   \n3      burma14.tsp    16457.0     16457.0     18393.0   0.156218    0.082072   \n4    dantzig42.tsp    12392.0     12256.0     14523.0   2.579336    3.325098   \n..             ...        ...         ...         ...        ...         ...   \n334  line_90_5.tsp    55730.0     57558.0    157350.0  35.477098   36.326975   \n335  line_90_6.tsp    48884.0     45916.0    128976.0  30.191444   37.348990   \n336  line_90_7.tsp    51464.0     49038.0    124368.0  28.821121   44.483338   \n337  line_90_8.tsp    60845.0     65825.0    123373.0  28.282006   39.745050   \n338  line_90_9.tsp    60959.0     58315.0    118075.0  29.666181   44.563938   \n\n     GRASP_time  min_method   n     m  ...  between_var  between_q25   \n0      0.026019  DBMEA_cost  48  1176  ...     0.000008     0.022051  \\\n1      0.031533  DBMEA_cost  52  1378  ...     0.000065     0.021686   \n2      0.043413   GILS_cost  58  1711  ...     0.000591     0.020050   \n3      0.001000  GRASP_time  14   105  ...     0.000097     0.000000   \n4      0.016044  DBMEA_cost  42   903  ...     0.000788     0.033226   \n..          ...         ...  ..   ...  ...          ...          ...   \n334    0.233857   GILS_cost  90  4095  ...     0.000435     0.050520   \n335    0.232372  DBMEA_cost  90  4095  ...     0.000730     0.049839   \n336    0.232510  DBMEA_cost  90  4095  ...     0.000393     0.048856   \n337    0.231058   GILS_cost  90  4095  ...     0.000680     0.049190   \n338    0.229949  DBMEA_cost  90  4095  ...     0.000496     0.050290   \n\n     between_q75  closeness_min  closeness_max  closeness_mean  closeness_std   \n0       0.026965       0.000574       0.001325        0.001012       0.000205  \\\n1       0.032662       0.000919       0.002555        0.001893       0.000507   \n2       0.042040       0.000201       0.000736        0.000562       0.000145   \n3       0.006410       0.001313       0.002677        0.002193       0.000407   \n4       0.062177       0.008369       0.019061        0.014587       0.003118   \n..           ...            ...            ...             ...            ...   \n334     0.072751       0.002192       0.004113        0.003227       0.000642   \n335     0.071527       0.002220       0.004410        0.003481       0.000709   \n336     0.069497       0.002238       0.005424        0.004240       0.000992   \n337     0.072960       0.002171       0.004137        0.003256       0.000649   \n338     0.073379       0.002201       0.004579        0.003559       0.000797   \n\n     closeness_var  closeness_q25  closeness_q75  \n0     4.221718e-08       0.000889       0.001191  \n1     2.566472e-07       0.001447       0.002371  \n2     2.104825e-08       0.000458       0.000692  \n3     1.654824e-07       0.002048       0.002518  \n4     9.721282e-06       0.011758       0.016824  \n..             ...            ...            ...  \n334   4.123292e-07       0.002620       0.003881  \n335   5.026715e-07       0.002873       0.004060  \n336   9.846681e-07       0.003531       0.005157  \n337   4.205608e-07       0.002625       0.003914  \n338   6.358799e-07       0.002814       0.004375  \n\n[339 rows x 37 columns]",
      "text/html": "<div>\n<style scoped>\n    .dataframe tbody tr th:only-of-type {\n        vertical-align: middle;\n    }\n\n    .dataframe tbody tr th {\n        vertical-align: top;\n    }\n\n    .dataframe thead th {\n        text-align: right;\n    }\n</style>\n<table border=\"1\" class=\"dataframe\">\n  <thead>\n    <tr style=\"text-align: right;\">\n      <th></th>\n      <th>file</th>\n      <th>GILS_cost</th>\n      <th>DBMEA_cost</th>\n      <th>GRASP_cost</th>\n      <th>GILS_time</th>\n      <th>DBMEA_time</th>\n      <th>GRASP_time</th>\n      <th>min_method</th>\n      <th>n</th>\n      <th>m</th>\n      <th>...</th>\n      <th>between_var</th>\n      <th>between_q25</th>\n      <th>between_q75</th>\n      <th>closeness_min</th>\n      <th>closeness_max</th>\n      <th>closeness_mean</th>\n      <th>closeness_std</th>\n      <th>closeness_var</th>\n      <th>closeness_q25</th>\n      <th>closeness_q75</th>\n    </tr>\n  </thead>\n  <tbody>\n    <tr>\n      <th>0</th>\n      <td>att48.tsp</td>\n      <td>226229.0</td>\n      <td>207771.0</td>\n      <td>301702.0</td>\n      <td>6.474685</td>\n      <td>5.288543</td>\n      <td>0.026019</td>\n      <td>DBMEA_cost</td>\n      <td>48</td>\n      <td>1176</td>\n      <td>...</td>\n      <td>0.000008</td>\n      <td>0.022051</td>\n      <td>0.026965</td>\n      <td>0.000574</td>\n      <td>0.001325</td>\n      <td>0.001012</td>\n      <td>0.000205</td>\n      <td>4.221718e-08</td>\n      <td>0.000889</td>\n      <td>0.001191</td>\n    </tr>\n    <tr>\n      <th>1</th>\n      <td>berlin52.tsp</td>\n      <td>145419.0</td>\n      <td>143278.0</td>\n      <td>191072.0</td>\n      <td>6.054587</td>\n      <td>5.374160</td>\n      <td>0.031533</td>\n      <td>DBMEA_cost</td>\n      <td>52</td>\n      <td>1378</td>\n      <td>...</td>\n      <td>0.000065</td>\n      <td>0.021686</td>\n      <td>0.032662</td>\n      <td>0.000919</td>\n      <td>0.002555</td>\n      <td>0.001893</td>\n      <td>0.000507</td>\n      <td>2.566472e-07</td>\n      <td>0.001447</td>\n      <td>0.002371</td>\n    </tr>\n    <tr>\n      <th>2</th>\n      <td>brazil58.tsp</td>\n      <td>532454.0</td>\n      <td>535150.0</td>\n      <td>709540.0</td>\n      <td>8.013889</td>\n      <td>9.045840</td>\n      <td>0.043413</td>\n      <td>GILS_cost</td>\n      <td>58</td>\n      <td>1711</td>\n      <td>...</td>\n      <td>0.000591</td>\n      <td>0.020050</td>\n      <td>0.042040</td>\n      <td>0.000201</td>\n      <td>0.000736</td>\n      <td>0.000562</td>\n      <td>0.000145</td>\n      <td>2.104825e-08</td>\n      <td>0.000458</td>\n      <td>0.000692</td>\n    </tr>\n    <tr>\n      <th>3</th>\n      <td>burma14.tsp</td>\n      <td>16457.0</td>\n      <td>16457.0</td>\n      <td>18393.0</td>\n      <td>0.156218</td>\n      <td>0.082072</td>\n      <td>0.001000</td>\n      <td>GRASP_time</td>\n      <td>14</td>\n      <td>105</td>\n      <td>...</td>\n      <td>0.000097</td>\n      <td>0.000000</td>\n      <td>0.006410</td>\n      <td>0.001313</td>\n      <td>0.002677</td>\n      <td>0.002193</td>\n      <td>0.000407</td>\n      <td>1.654824e-07</td>\n      <td>0.002048</td>\n      <td>0.002518</td>\n    </tr>\n    <tr>\n      <th>4</th>\n      <td>dantzig42.tsp</td>\n      <td>12392.0</td>\n      <td>12256.0</td>\n      <td>14523.0</td>\n      <td>2.579336</td>\n      <td>3.325098</td>\n      <td>0.016044</td>\n      <td>DBMEA_cost</td>\n      <td>42</td>\n      <td>903</td>\n      <td>...</td>\n      <td>0.000788</td>\n      <td>0.033226</td>\n      <td>0.062177</td>\n      <td>0.008369</td>\n      <td>0.019061</td>\n      <td>0.014587</td>\n      <td>0.003118</td>\n      <td>9.721282e-06</td>\n      <td>0.011758</td>\n      <td>0.016824</td>\n    </tr>\n    <tr>\n      <th>...</th>\n      <td>...</td>\n      <td>...</td>\n      <td>...</td>\n      <td>...</td>\n      <td>...</td>\n      <td>...</td>\n      <td>...</td>\n      <td>...</td>\n      <td>...</td>\n      <td>...</td>\n      <td>...</td>\n      <td>...</td>\n      <td>...</td>\n      <td>...</td>\n      <td>...</td>\n      <td>...</td>\n      <td>...</td>\n      <td>...</td>\n      <td>...</td>\n      <td>...</td>\n      <td>...</td>\n    </tr>\n    <tr>\n      <th>334</th>\n      <td>line_90_5.tsp</td>\n      <td>55730.0</td>\n      <td>57558.0</td>\n      <td>157350.0</td>\n      <td>35.477098</td>\n      <td>36.326975</td>\n      <td>0.233857</td>\n      <td>GILS_cost</td>\n      <td>90</td>\n      <td>4095</td>\n      <td>...</td>\n      <td>0.000435</td>\n      <td>0.050520</td>\n      <td>0.072751</td>\n      <td>0.002192</td>\n      <td>0.004113</td>\n      <td>0.003227</td>\n      <td>0.000642</td>\n      <td>4.123292e-07</td>\n      <td>0.002620</td>\n      <td>0.003881</td>\n    </tr>\n    <tr>\n      <th>335</th>\n      <td>line_90_6.tsp</td>\n      <td>48884.0</td>\n      <td>45916.0</td>\n      <td>128976.0</td>\n      <td>30.191444</td>\n      <td>37.348990</td>\n      <td>0.232372</td>\n      <td>DBMEA_cost</td>\n      <td>90</td>\n      <td>4095</td>\n      <td>...</td>\n      <td>0.000730</td>\n      <td>0.049839</td>\n      <td>0.071527</td>\n      <td>0.002220</td>\n      <td>0.004410</td>\n      <td>0.003481</td>\n      <td>0.000709</td>\n      <td>5.026715e-07</td>\n      <td>0.002873</td>\n      <td>0.004060</td>\n    </tr>\n    <tr>\n      <th>336</th>\n      <td>line_90_7.tsp</td>\n      <td>51464.0</td>\n      <td>49038.0</td>\n      <td>124368.0</td>\n      <td>28.821121</td>\n      <td>44.483338</td>\n      <td>0.232510</td>\n      <td>DBMEA_cost</td>\n      <td>90</td>\n      <td>4095</td>\n      <td>...</td>\n      <td>0.000393</td>\n      <td>0.048856</td>\n      <td>0.069497</td>\n      <td>0.002238</td>\n      <td>0.005424</td>\n      <td>0.004240</td>\n      <td>0.000992</td>\n      <td>9.846681e-07</td>\n      <td>0.003531</td>\n      <td>0.005157</td>\n    </tr>\n    <tr>\n      <th>337</th>\n      <td>line_90_8.tsp</td>\n      <td>60845.0</td>\n      <td>65825.0</td>\n      <td>123373.0</td>\n      <td>28.282006</td>\n      <td>39.745050</td>\n      <td>0.231058</td>\n      <td>GILS_cost</td>\n      <td>90</td>\n      <td>4095</td>\n      <td>...</td>\n      <td>0.000680</td>\n      <td>0.049190</td>\n      <td>0.072960</td>\n      <td>0.002171</td>\n      <td>0.004137</td>\n      <td>0.003256</td>\n      <td>0.000649</td>\n      <td>4.205608e-07</td>\n      <td>0.002625</td>\n      <td>0.003914</td>\n    </tr>\n    <tr>\n      <th>338</th>\n      <td>line_90_9.tsp</td>\n      <td>60959.0</td>\n      <td>58315.0</td>\n      <td>118075.0</td>\n      <td>29.666181</td>\n      <td>44.563938</td>\n      <td>0.229949</td>\n      <td>DBMEA_cost</td>\n      <td>90</td>\n      <td>4095</td>\n      <td>...</td>\n      <td>0.000496</td>\n      <td>0.050290</td>\n      <td>0.073379</td>\n      <td>0.002201</td>\n      <td>0.004579</td>\n      <td>0.003559</td>\n      <td>0.000797</td>\n      <td>6.358799e-07</td>\n      <td>0.002814</td>\n      <td>0.004375</td>\n    </tr>\n  </tbody>\n</table>\n<p>339 rows × 37 columns</p>\n</div>"
     },
     "execution_count": 14,
     "metadata": {},
     "output_type": "execute_result"
    }
   ],
   "source": [
    "# merge the two dataframes on filename\n",
    "df2 = pd.merge(df, chars, on='file')\n",
    "df2"
   ],
   "metadata": {
    "collapsed": false,
    "ExecuteTime": {
     "end_time": "2023-05-28T23:01:55.649214700Z",
     "start_time": "2023-05-28T23:01:55.632107100Z"
    }
   }
  },
  {
   "cell_type": "code",
   "execution_count": 15,
   "outputs": [
    {
     "data": {
      "text/plain": "min_method\nDBMEA_cost    186\nGILS_cost     120\nGRASP_time     33\nName: count, dtype: int64"
     },
     "execution_count": 15,
     "metadata": {},
     "output_type": "execute_result"
    }
   ],
   "source": [
    "df2.min_method.value_counts()"
   ],
   "metadata": {
    "collapsed": false,
    "ExecuteTime": {
     "end_time": "2023-05-28T23:02:31.173550700Z",
     "start_time": "2023-05-28T23:02:31.158531500Z"
    }
   }
  },
  {
   "cell_type": "code",
   "execution_count": 16,
   "outputs": [],
   "source": [
    "# save df2 to csv\n",
    "df2.to_csv('matrix_final.csv', index=False)"
   ],
   "metadata": {
    "collapsed": false,
    "ExecuteTime": {
     "end_time": "2023-05-28T23:02:45.878025600Z",
     "start_time": "2023-05-28T23:02:45.863334500Z"
    }
   }
  },
  {
   "cell_type": "code",
   "execution_count": 17,
   "outputs": [],
   "source": [
    "# train a classifier to predict the min_method\n"
   ],
   "metadata": {
    "collapsed": false,
    "ExecuteTime": {
     "end_time": "2023-05-28T23:02:46.818573200Z",
     "start_time": "2023-05-28T23:02:46.805056Z"
    }
   }
  },
  {
   "cell_type": "code",
   "execution_count": 18,
   "outputs": [
    {
     "data": {
      "text/plain": "              file  GILS_cost  DBMEA_cost  GRASP_cost  GILS_time  DBMEA_time   \n0        att48.tsp   226229.0    207771.0    301702.0   6.474685    5.288543  \\\n1     berlin52.tsp   145419.0    143278.0    191072.0   6.054587    5.374160   \n2     brazil58.tsp   532454.0    535150.0    709540.0   8.013889    9.045840   \n3      burma14.tsp    16457.0     16457.0     18393.0   0.156218    0.082072   \n4    dantzig42.tsp    12392.0     12256.0     14523.0   2.579336    3.325098   \n..             ...        ...         ...         ...        ...         ...   \n334  line_90_5.tsp    55730.0     57558.0    157350.0  35.477098   36.326975   \n335  line_90_6.tsp    48884.0     45916.0    128976.0  30.191444   37.348990   \n336  line_90_7.tsp    51464.0     49038.0    124368.0  28.821121   44.483338   \n337  line_90_8.tsp    60845.0     65825.0    123373.0  28.282006   39.745050   \n338  line_90_9.tsp    60959.0     58315.0    118075.0  29.666181   44.563938   \n\n     GRASP_time  min_method   n     m  ...  between_var  between_q25   \n0      0.026019  DBMEA_cost  48  1176  ...     0.000008     0.022051  \\\n1      0.031533  DBMEA_cost  52  1378  ...     0.000065     0.021686   \n2      0.043413   GILS_cost  58  1711  ...     0.000591     0.020050   \n3      0.001000  GRASP_time  14   105  ...     0.000097     0.000000   \n4      0.016044  DBMEA_cost  42   903  ...     0.000788     0.033226   \n..          ...         ...  ..   ...  ...          ...          ...   \n334    0.233857   GILS_cost  90  4095  ...     0.000435     0.050520   \n335    0.232372  DBMEA_cost  90  4095  ...     0.000730     0.049839   \n336    0.232510  DBMEA_cost  90  4095  ...     0.000393     0.048856   \n337    0.231058   GILS_cost  90  4095  ...     0.000680     0.049190   \n338    0.229949  DBMEA_cost  90  4095  ...     0.000496     0.050290   \n\n     between_q75  closeness_min  closeness_max  closeness_mean  closeness_std   \n0       0.026965       0.000574       0.001325        0.001012       0.000205  \\\n1       0.032662       0.000919       0.002555        0.001893       0.000507   \n2       0.042040       0.000201       0.000736        0.000562       0.000145   \n3       0.006410       0.001313       0.002677        0.002193       0.000407   \n4       0.062177       0.008369       0.019061        0.014587       0.003118   \n..           ...            ...            ...             ...            ...   \n334     0.072751       0.002192       0.004113        0.003227       0.000642   \n335     0.071527       0.002220       0.004410        0.003481       0.000709   \n336     0.069497       0.002238       0.005424        0.004240       0.000992   \n337     0.072960       0.002171       0.004137        0.003256       0.000649   \n338     0.073379       0.002201       0.004579        0.003559       0.000797   \n\n     closeness_var  closeness_q25  closeness_q75  \n0     4.221718e-08       0.000889       0.001191  \n1     2.566472e-07       0.001447       0.002371  \n2     2.104825e-08       0.000458       0.000692  \n3     1.654824e-07       0.002048       0.002518  \n4     9.721282e-06       0.011758       0.016824  \n..             ...            ...            ...  \n334   4.123292e-07       0.002620       0.003881  \n335   5.026715e-07       0.002873       0.004060  \n336   9.846681e-07       0.003531       0.005157  \n337   4.205608e-07       0.002625       0.003914  \n338   6.358799e-07       0.002814       0.004375  \n\n[339 rows x 37 columns]",
      "text/html": "<div>\n<style scoped>\n    .dataframe tbody tr th:only-of-type {\n        vertical-align: middle;\n    }\n\n    .dataframe tbody tr th {\n        vertical-align: top;\n    }\n\n    .dataframe thead th {\n        text-align: right;\n    }\n</style>\n<table border=\"1\" class=\"dataframe\">\n  <thead>\n    <tr style=\"text-align: right;\">\n      <th></th>\n      <th>file</th>\n      <th>GILS_cost</th>\n      <th>DBMEA_cost</th>\n      <th>GRASP_cost</th>\n      <th>GILS_time</th>\n      <th>DBMEA_time</th>\n      <th>GRASP_time</th>\n      <th>min_method</th>\n      <th>n</th>\n      <th>m</th>\n      <th>...</th>\n      <th>between_var</th>\n      <th>between_q25</th>\n      <th>between_q75</th>\n      <th>closeness_min</th>\n      <th>closeness_max</th>\n      <th>closeness_mean</th>\n      <th>closeness_std</th>\n      <th>closeness_var</th>\n      <th>closeness_q25</th>\n      <th>closeness_q75</th>\n    </tr>\n  </thead>\n  <tbody>\n    <tr>\n      <th>0</th>\n      <td>att48.tsp</td>\n      <td>226229.0</td>\n      <td>207771.0</td>\n      <td>301702.0</td>\n      <td>6.474685</td>\n      <td>5.288543</td>\n      <td>0.026019</td>\n      <td>DBMEA_cost</td>\n      <td>48</td>\n      <td>1176</td>\n      <td>...</td>\n      <td>0.000008</td>\n      <td>0.022051</td>\n      <td>0.026965</td>\n      <td>0.000574</td>\n      <td>0.001325</td>\n      <td>0.001012</td>\n      <td>0.000205</td>\n      <td>4.221718e-08</td>\n      <td>0.000889</td>\n      <td>0.001191</td>\n    </tr>\n    <tr>\n      <th>1</th>\n      <td>berlin52.tsp</td>\n      <td>145419.0</td>\n      <td>143278.0</td>\n      <td>191072.0</td>\n      <td>6.054587</td>\n      <td>5.374160</td>\n      <td>0.031533</td>\n      <td>DBMEA_cost</td>\n      <td>52</td>\n      <td>1378</td>\n      <td>...</td>\n      <td>0.000065</td>\n      <td>0.021686</td>\n      <td>0.032662</td>\n      <td>0.000919</td>\n      <td>0.002555</td>\n      <td>0.001893</td>\n      <td>0.000507</td>\n      <td>2.566472e-07</td>\n      <td>0.001447</td>\n      <td>0.002371</td>\n    </tr>\n    <tr>\n      <th>2</th>\n      <td>brazil58.tsp</td>\n      <td>532454.0</td>\n      <td>535150.0</td>\n      <td>709540.0</td>\n      <td>8.013889</td>\n      <td>9.045840</td>\n      <td>0.043413</td>\n      <td>GILS_cost</td>\n      <td>58</td>\n      <td>1711</td>\n      <td>...</td>\n      <td>0.000591</td>\n      <td>0.020050</td>\n      <td>0.042040</td>\n      <td>0.000201</td>\n      <td>0.000736</td>\n      <td>0.000562</td>\n      <td>0.000145</td>\n      <td>2.104825e-08</td>\n      <td>0.000458</td>\n      <td>0.000692</td>\n    </tr>\n    <tr>\n      <th>3</th>\n      <td>burma14.tsp</td>\n      <td>16457.0</td>\n      <td>16457.0</td>\n      <td>18393.0</td>\n      <td>0.156218</td>\n      <td>0.082072</td>\n      <td>0.001000</td>\n      <td>GRASP_time</td>\n      <td>14</td>\n      <td>105</td>\n      <td>...</td>\n      <td>0.000097</td>\n      <td>0.000000</td>\n      <td>0.006410</td>\n      <td>0.001313</td>\n      <td>0.002677</td>\n      <td>0.002193</td>\n      <td>0.000407</td>\n      <td>1.654824e-07</td>\n      <td>0.002048</td>\n      <td>0.002518</td>\n    </tr>\n    <tr>\n      <th>4</th>\n      <td>dantzig42.tsp</td>\n      <td>12392.0</td>\n      <td>12256.0</td>\n      <td>14523.0</td>\n      <td>2.579336</td>\n      <td>3.325098</td>\n      <td>0.016044</td>\n      <td>DBMEA_cost</td>\n      <td>42</td>\n      <td>903</td>\n      <td>...</td>\n      <td>0.000788</td>\n      <td>0.033226</td>\n      <td>0.062177</td>\n      <td>0.008369</td>\n      <td>0.019061</td>\n      <td>0.014587</td>\n      <td>0.003118</td>\n      <td>9.721282e-06</td>\n      <td>0.011758</td>\n      <td>0.016824</td>\n    </tr>\n    <tr>\n      <th>...</th>\n      <td>...</td>\n      <td>...</td>\n      <td>...</td>\n      <td>...</td>\n      <td>...</td>\n      <td>...</td>\n      <td>...</td>\n      <td>...</td>\n      <td>...</td>\n      <td>...</td>\n      <td>...</td>\n      <td>...</td>\n      <td>...</td>\n      <td>...</td>\n      <td>...</td>\n      <td>...</td>\n      <td>...</td>\n      <td>...</td>\n      <td>...</td>\n      <td>...</td>\n      <td>...</td>\n    </tr>\n    <tr>\n      <th>334</th>\n      <td>line_90_5.tsp</td>\n      <td>55730.0</td>\n      <td>57558.0</td>\n      <td>157350.0</td>\n      <td>35.477098</td>\n      <td>36.326975</td>\n      <td>0.233857</td>\n      <td>GILS_cost</td>\n      <td>90</td>\n      <td>4095</td>\n      <td>...</td>\n      <td>0.000435</td>\n      <td>0.050520</td>\n      <td>0.072751</td>\n      <td>0.002192</td>\n      <td>0.004113</td>\n      <td>0.003227</td>\n      <td>0.000642</td>\n      <td>4.123292e-07</td>\n      <td>0.002620</td>\n      <td>0.003881</td>\n    </tr>\n    <tr>\n      <th>335</th>\n      <td>line_90_6.tsp</td>\n      <td>48884.0</td>\n      <td>45916.0</td>\n      <td>128976.0</td>\n      <td>30.191444</td>\n      <td>37.348990</td>\n      <td>0.232372</td>\n      <td>DBMEA_cost</td>\n      <td>90</td>\n      <td>4095</td>\n      <td>...</td>\n      <td>0.000730</td>\n      <td>0.049839</td>\n      <td>0.071527</td>\n      <td>0.002220</td>\n      <td>0.004410</td>\n      <td>0.003481</td>\n      <td>0.000709</td>\n      <td>5.026715e-07</td>\n      <td>0.002873</td>\n      <td>0.004060</td>\n    </tr>\n    <tr>\n      <th>336</th>\n      <td>line_90_7.tsp</td>\n      <td>51464.0</td>\n      <td>49038.0</td>\n      <td>124368.0</td>\n      <td>28.821121</td>\n      <td>44.483338</td>\n      <td>0.232510</td>\n      <td>DBMEA_cost</td>\n      <td>90</td>\n      <td>4095</td>\n      <td>...</td>\n      <td>0.000393</td>\n      <td>0.048856</td>\n      <td>0.069497</td>\n      <td>0.002238</td>\n      <td>0.005424</td>\n      <td>0.004240</td>\n      <td>0.000992</td>\n      <td>9.846681e-07</td>\n      <td>0.003531</td>\n      <td>0.005157</td>\n    </tr>\n    <tr>\n      <th>337</th>\n      <td>line_90_8.tsp</td>\n      <td>60845.0</td>\n      <td>65825.0</td>\n      <td>123373.0</td>\n      <td>28.282006</td>\n      <td>39.745050</td>\n      <td>0.231058</td>\n      <td>GILS_cost</td>\n      <td>90</td>\n      <td>4095</td>\n      <td>...</td>\n      <td>0.000680</td>\n      <td>0.049190</td>\n      <td>0.072960</td>\n      <td>0.002171</td>\n      <td>0.004137</td>\n      <td>0.003256</td>\n      <td>0.000649</td>\n      <td>4.205608e-07</td>\n      <td>0.002625</td>\n      <td>0.003914</td>\n    </tr>\n    <tr>\n      <th>338</th>\n      <td>line_90_9.tsp</td>\n      <td>60959.0</td>\n      <td>58315.0</td>\n      <td>118075.0</td>\n      <td>29.666181</td>\n      <td>44.563938</td>\n      <td>0.229949</td>\n      <td>DBMEA_cost</td>\n      <td>90</td>\n      <td>4095</td>\n      <td>...</td>\n      <td>0.000496</td>\n      <td>0.050290</td>\n      <td>0.073379</td>\n      <td>0.002201</td>\n      <td>0.004579</td>\n      <td>0.003559</td>\n      <td>0.000797</td>\n      <td>6.358799e-07</td>\n      <td>0.002814</td>\n      <td>0.004375</td>\n    </tr>\n  </tbody>\n</table>\n<p>339 rows × 37 columns</p>\n</div>"
     },
     "execution_count": 18,
     "metadata": {},
     "output_type": "execute_result"
    }
   ],
   "source": [
    "# get the data\n",
    "df2 = pd.read_csv('matrix_final.csv')\n",
    "df2"
   ],
   "metadata": {
    "collapsed": false,
    "ExecuteTime": {
     "end_time": "2023-05-28T23:02:50.178451300Z",
     "start_time": "2023-05-28T23:02:50.151839300Z"
    }
   }
  },
  {
   "cell_type": "code",
   "execution_count": 19,
   "outputs": [],
   "source": [
    "# get the features\n",
    "X = df2.drop(['file', 'min_method', \"GILS_cost\", \"GILS_time\", \"GRASP_cost\", \"GRASP_time\", \"DBMEA_cost\", \"DBMEA_time\"], axis=1)\n",
    "y = df2['min_method']\n"
   ],
   "metadata": {
    "collapsed": false,
    "ExecuteTime": {
     "end_time": "2023-05-28T23:02:54.518114800Z",
     "start_time": "2023-05-28T23:02:54.501760600Z"
    }
   }
  },
  {
   "cell_type": "code",
   "execution_count": 21,
   "outputs": [],
   "source": [
    "# split the data\n",
    "X_train, X_test, y_train, y_test = train_test_split(X, y, test_size=0.3, random_state=42)\n"
   ],
   "metadata": {
    "collapsed": false,
    "ExecuteTime": {
     "end_time": "2023-05-28T23:03:10.043965200Z",
     "start_time": "2023-05-28T23:03:10.033173Z"
    }
   }
  },
  {
   "cell_type": "code",
   "execution_count": 22,
   "outputs": [
    {
     "data": {
      "text/plain": "RandomForestClassifier()",
      "text/html": "<style>#sk-container-id-1 {color: black;background-color: white;}#sk-container-id-1 pre{padding: 0;}#sk-container-id-1 div.sk-toggleable {background-color: white;}#sk-container-id-1 label.sk-toggleable__label {cursor: pointer;display: block;width: 100%;margin-bottom: 0;padding: 0.3em;box-sizing: border-box;text-align: center;}#sk-container-id-1 label.sk-toggleable__label-arrow:before {content: \"▸\";float: left;margin-right: 0.25em;color: #696969;}#sk-container-id-1 label.sk-toggleable__label-arrow:hover:before {color: black;}#sk-container-id-1 div.sk-estimator:hover label.sk-toggleable__label-arrow:before {color: black;}#sk-container-id-1 div.sk-toggleable__content {max-height: 0;max-width: 0;overflow: hidden;text-align: left;background-color: #f0f8ff;}#sk-container-id-1 div.sk-toggleable__content pre {margin: 0.2em;color: black;border-radius: 0.25em;background-color: #f0f8ff;}#sk-container-id-1 input.sk-toggleable__control:checked~div.sk-toggleable__content {max-height: 200px;max-width: 100%;overflow: auto;}#sk-container-id-1 input.sk-toggleable__control:checked~label.sk-toggleable__label-arrow:before {content: \"▾\";}#sk-container-id-1 div.sk-estimator input.sk-toggleable__control:checked~label.sk-toggleable__label {background-color: #d4ebff;}#sk-container-id-1 div.sk-label input.sk-toggleable__control:checked~label.sk-toggleable__label {background-color: #d4ebff;}#sk-container-id-1 input.sk-hidden--visually {border: 0;clip: rect(1px 1px 1px 1px);clip: rect(1px, 1px, 1px, 1px);height: 1px;margin: -1px;overflow: hidden;padding: 0;position: absolute;width: 1px;}#sk-container-id-1 div.sk-estimator {font-family: monospace;background-color: #f0f8ff;border: 1px dotted black;border-radius: 0.25em;box-sizing: border-box;margin-bottom: 0.5em;}#sk-container-id-1 div.sk-estimator:hover {background-color: #d4ebff;}#sk-container-id-1 div.sk-parallel-item::after {content: \"\";width: 100%;border-bottom: 1px solid gray;flex-grow: 1;}#sk-container-id-1 div.sk-label:hover label.sk-toggleable__label {background-color: #d4ebff;}#sk-container-id-1 div.sk-serial::before {content: \"\";position: absolute;border-left: 1px solid gray;box-sizing: border-box;top: 0;bottom: 0;left: 50%;z-index: 0;}#sk-container-id-1 div.sk-serial {display: flex;flex-direction: column;align-items: center;background-color: white;padding-right: 0.2em;padding-left: 0.2em;position: relative;}#sk-container-id-1 div.sk-item {position: relative;z-index: 1;}#sk-container-id-1 div.sk-parallel {display: flex;align-items: stretch;justify-content: center;background-color: white;position: relative;}#sk-container-id-1 div.sk-item::before, #sk-container-id-1 div.sk-parallel-item::before {content: \"\";position: absolute;border-left: 1px solid gray;box-sizing: border-box;top: 0;bottom: 0;left: 50%;z-index: -1;}#sk-container-id-1 div.sk-parallel-item {display: flex;flex-direction: column;z-index: 1;position: relative;background-color: white;}#sk-container-id-1 div.sk-parallel-item:first-child::after {align-self: flex-end;width: 50%;}#sk-container-id-1 div.sk-parallel-item:last-child::after {align-self: flex-start;width: 50%;}#sk-container-id-1 div.sk-parallel-item:only-child::after {width: 0;}#sk-container-id-1 div.sk-dashed-wrapped {border: 1px dashed gray;margin: 0 0.4em 0.5em 0.4em;box-sizing: border-box;padding-bottom: 0.4em;background-color: white;}#sk-container-id-1 div.sk-label label {font-family: monospace;font-weight: bold;display: inline-block;line-height: 1.2em;}#sk-container-id-1 div.sk-label-container {text-align: center;}#sk-container-id-1 div.sk-container {/* jupyter's `normalize.less` sets `[hidden] { display: none; }` but bootstrap.min.css set `[hidden] { display: none !important; }` so we also need the `!important` here to be able to override the default hidden behavior on the sphinx rendered scikit-learn.org. See: https://github.com/scikit-learn/scikit-learn/issues/21755 */display: inline-block !important;position: relative;}#sk-container-id-1 div.sk-text-repr-fallback {display: none;}</style><div id=\"sk-container-id-1\" class=\"sk-top-container\"><div class=\"sk-text-repr-fallback\"><pre>RandomForestClassifier()</pre><b>In a Jupyter environment, please rerun this cell to show the HTML representation or trust the notebook. <br />On GitHub, the HTML representation is unable to render, please try loading this page with nbviewer.org.</b></div><div class=\"sk-container\" hidden><div class=\"sk-item\"><div class=\"sk-estimator sk-toggleable\"><input class=\"sk-toggleable__control sk-hidden--visually\" id=\"sk-estimator-id-1\" type=\"checkbox\" checked><label for=\"sk-estimator-id-1\" class=\"sk-toggleable__label sk-toggleable__label-arrow\">RandomForestClassifier</label><div class=\"sk-toggleable__content\"><pre>RandomForestClassifier()</pre></div></div></div></div></div>"
     },
     "execution_count": 22,
     "metadata": {},
     "output_type": "execute_result"
    }
   ],
   "source": [
    "# train the classifier\n",
    "clf = RandomForestClassifier()\n",
    "clf.fit(X_train, y_train)\n"
   ],
   "metadata": {
    "collapsed": false,
    "ExecuteTime": {
     "end_time": "2023-05-28T23:03:10.637044400Z",
     "start_time": "2023-05-28T23:03:10.518012400Z"
    }
   }
  },
  {
   "cell_type": "code",
   "execution_count": 23,
   "outputs": [],
   "source": [
    "# get the predictions\n",
    "y_pred = clf.predict(X_test)\n"
   ],
   "metadata": {
    "collapsed": false,
    "ExecuteTime": {
     "end_time": "2023-05-28T23:03:11.739678400Z",
     "start_time": "2023-05-28T23:03:11.728562500Z"
    }
   }
  },
  {
   "cell_type": "code",
   "execution_count": 24,
   "outputs": [
    {
     "data": {
      "text/plain": "0.5980392156862745"
     },
     "execution_count": 24,
     "metadata": {},
     "output_type": "execute_result"
    }
   ],
   "source": [
    "# get the accuracy\n",
    "accuracy_score(y_test, y_pred)"
   ],
   "metadata": {
    "collapsed": false,
    "ExecuteTime": {
     "end_time": "2023-05-28T23:03:13.320095200Z",
     "start_time": "2023-05-28T23:03:13.309306500Z"
    }
   }
  },
  {
   "cell_type": "code",
   "execution_count": 25,
   "outputs": [
    {
     "data": {
      "text/plain": "array([[41, 21,  2],\n       [13, 14,  2],\n       [ 1,  2,  6]], dtype=int64)"
     },
     "execution_count": 25,
     "metadata": {},
     "output_type": "execute_result"
    }
   ],
   "source": [
    "# get the confusion matrix\n",
    "confusion_matrix(y_test, y_pred)"
   ],
   "metadata": {
    "collapsed": false,
    "ExecuteTime": {
     "end_time": "2023-05-28T23:03:14.315579600Z",
     "start_time": "2023-05-28T23:03:14.301326300Z"
    }
   }
  },
  {
   "cell_type": "code",
   "execution_count": 26,
   "outputs": [
    {
     "name": "stdout",
     "output_type": "stream",
     "text": [
      "              precision    recall  f1-score   support\n",
      "\n",
      "  DBMEA_cost       0.75      0.64      0.69        64\n",
      "   GILS_cost       0.38      0.48      0.42        29\n",
      "  GRASP_time       0.60      0.67      0.63         9\n",
      "\n",
      "    accuracy                           0.60       102\n",
      "   macro avg       0.57      0.60      0.58       102\n",
      "weighted avg       0.63      0.60      0.61       102\n",
      "\n"
     ]
    }
   ],
   "source": [
    "# get the classification report\n",
    "print(classification_report(y_test, y_pred))"
   ],
   "metadata": {
    "collapsed": false,
    "ExecuteTime": {
     "end_time": "2023-05-28T23:03:15.778199900Z",
     "start_time": "2023-05-28T23:03:15.768550300Z"
    }
   }
  },
  {
   "cell_type": "code",
   "execution_count": 31,
   "outputs": [
    {
     "data": {
      "text/plain": "                importance\nbetween_q25       0.061629\ntsp_approx        0.061198\nbetween_mean      0.058622\nbetween_q75       0.057403\navg_clustering    0.049619\ndensity           0.048625\nbetween_max       0.039240\nbetween_std       0.036947\nm                 0.035831\nratio2            0.034066\ncloseness_q75     0.033873\nbetween_var       0.033656\nmst_size          0.033071\nn                 0.032560\ncloseness_max     0.031871\nedge_var          0.031504\ncloseness_mean    0.030798\nedge_std          0.030530\ncloseness_q25     0.030420\nedge_mean         0.029813\ncloseness_min     0.029782\ncloseness_std     0.029779\nedge_q25          0.028966\nedge_q75          0.027719\nedge_max          0.027204\nbetween_min       0.025490\nratio1            0.020354\ncloseness_var     0.009430\nedge_min          0.000000",
      "text/html": "<div>\n<style scoped>\n    .dataframe tbody tr th:only-of-type {\n        vertical-align: middle;\n    }\n\n    .dataframe tbody tr th {\n        vertical-align: top;\n    }\n\n    .dataframe thead th {\n        text-align: right;\n    }\n</style>\n<table border=\"1\" class=\"dataframe\">\n  <thead>\n    <tr style=\"text-align: right;\">\n      <th></th>\n      <th>importance</th>\n    </tr>\n  </thead>\n  <tbody>\n    <tr>\n      <th>between_q25</th>\n      <td>0.061629</td>\n    </tr>\n    <tr>\n      <th>tsp_approx</th>\n      <td>0.061198</td>\n    </tr>\n    <tr>\n      <th>between_mean</th>\n      <td>0.058622</td>\n    </tr>\n    <tr>\n      <th>between_q75</th>\n      <td>0.057403</td>\n    </tr>\n    <tr>\n      <th>avg_clustering</th>\n      <td>0.049619</td>\n    </tr>\n    <tr>\n      <th>density</th>\n      <td>0.048625</td>\n    </tr>\n    <tr>\n      <th>between_max</th>\n      <td>0.039240</td>\n    </tr>\n    <tr>\n      <th>between_std</th>\n      <td>0.036947</td>\n    </tr>\n    <tr>\n      <th>m</th>\n      <td>0.035831</td>\n    </tr>\n    <tr>\n      <th>ratio2</th>\n      <td>0.034066</td>\n    </tr>\n    <tr>\n      <th>closeness_q75</th>\n      <td>0.033873</td>\n    </tr>\n    <tr>\n      <th>between_var</th>\n      <td>0.033656</td>\n    </tr>\n    <tr>\n      <th>mst_size</th>\n      <td>0.033071</td>\n    </tr>\n    <tr>\n      <th>n</th>\n      <td>0.032560</td>\n    </tr>\n    <tr>\n      <th>closeness_max</th>\n      <td>0.031871</td>\n    </tr>\n    <tr>\n      <th>edge_var</th>\n      <td>0.031504</td>\n    </tr>\n    <tr>\n      <th>closeness_mean</th>\n      <td>0.030798</td>\n    </tr>\n    <tr>\n      <th>edge_std</th>\n      <td>0.030530</td>\n    </tr>\n    <tr>\n      <th>closeness_q25</th>\n      <td>0.030420</td>\n    </tr>\n    <tr>\n      <th>edge_mean</th>\n      <td>0.029813</td>\n    </tr>\n    <tr>\n      <th>closeness_min</th>\n      <td>0.029782</td>\n    </tr>\n    <tr>\n      <th>closeness_std</th>\n      <td>0.029779</td>\n    </tr>\n    <tr>\n      <th>edge_q25</th>\n      <td>0.028966</td>\n    </tr>\n    <tr>\n      <th>edge_q75</th>\n      <td>0.027719</td>\n    </tr>\n    <tr>\n      <th>edge_max</th>\n      <td>0.027204</td>\n    </tr>\n    <tr>\n      <th>between_min</th>\n      <td>0.025490</td>\n    </tr>\n    <tr>\n      <th>ratio1</th>\n      <td>0.020354</td>\n    </tr>\n    <tr>\n      <th>closeness_var</th>\n      <td>0.009430</td>\n    </tr>\n    <tr>\n      <th>edge_min</th>\n      <td>0.000000</td>\n    </tr>\n  </tbody>\n</table>\n</div>"
     },
     "execution_count": 31,
     "metadata": {},
     "output_type": "execute_result"
    }
   ],
   "source": [
    "# rank the features by importance\n",
    "feature_importances = pd.DataFrame(clf.feature_importances_,\n",
    "                                   index = X_train.columns,\n",
    "                                    columns=['importance']).sort_values('importance', ascending=False)\n",
    "# plot the features\n",
    "plt.barh(feature_importances.index, feature_importances.importance)\n",
    "plt.show()\n"
   ],
   "metadata": {
    "collapsed": false,
    "ExecuteTime": {
     "end_time": "2023-05-28T23:04:52.596552200Z",
     "start_time": "2023-05-28T23:04:52.581740100Z"
    }
   }
  },
  {
   "cell_type": "code",
   "execution_count": null,
   "outputs": [],
   "source": [],
   "metadata": {
    "collapsed": false
   }
  }
 ],
 "metadata": {
  "kernelspec": {
   "display_name": "Python 3",
   "language": "python",
   "name": "python3"
  },
  "language_info": {
   "codemirror_mode": {
    "name": "ipython",
    "version": 2
   },
   "file_extension": ".py",
   "mimetype": "text/x-python",
   "name": "python",
   "nbconvert_exporter": "python",
   "pygments_lexer": "ipython2",
   "version": "2.7.6"
  }
 },
 "nbformat": 4,
 "nbformat_minor": 0
}
