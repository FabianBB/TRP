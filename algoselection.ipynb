{
 "cells": [
  {
   "cell_type": "code",
   "execution_count": 5,
   "metadata": {
    "collapsed": true,
    "ExecuteTime": {
     "end_time": "2023-06-06T13:56:21.265947900Z",
     "start_time": "2023-06-06T13:56:21.258290800Z"
    }
   },
   "outputs": [],
   "source": [
    "import numpy as np\n",
    "\n",
    "import tsplib95\n",
    "import networkx as nx\n",
    "\n",
    "import os\n",
    "import pandas as pd\n",
    "import gilsrvnd\n",
    "import DBMEA\n",
    "import grasp\n",
    "import pickle\n",
    "\n",
    "\n",
    "\n",
    "\n"
   ]
  },
  {
   "cell_type": "code",
   "execution_count": 3,
   "outputs": [
    {
     "data": {
      "text/plain": "              file  GILS_cost  DBMEA_cost  GRASP_cost  GILS_time  DBMEA_time   \n0        att48.tsp   226229.0    207771.0    301702.0   6.474685    5.288543  \\\n1     berlin52.tsp   145419.0    143278.0    191072.0   6.054587    5.374160   \n2     brazil58.tsp   532454.0    535150.0    709540.0   8.013889    9.045840   \n3      burma14.tsp    16457.0     16457.0     18393.0   0.156218    0.082072   \n4    dantzig42.tsp    12392.0     12256.0     14523.0   2.579336    3.325098   \n..             ...        ...         ...         ...        ...         ...   \n334  line_90_5.tsp    55730.0     57558.0    157350.0  35.477098   36.326975   \n335  line_90_6.tsp    48884.0     45916.0    128976.0  30.191444   37.348990   \n336  line_90_7.tsp    51464.0     49038.0    124368.0  28.821121   44.483338   \n337  line_90_8.tsp    60845.0     65825.0    123373.0  28.282006   39.745050   \n338  line_90_9.tsp    60959.0     58315.0    118075.0  29.666181   44.563938   \n\n     GRASP_time  min_method   n     m  ...  between_var  between_q25   \n0      0.026019  DBMEA_cost  48  1176  ...     0.000008     0.022051  \\\n1      0.031533  DBMEA_cost  52  1378  ...     0.000065     0.021686   \n2      0.043413   GILS_cost  58  1711  ...     0.000591     0.020050   \n3      0.001000  GRASP_time  14   105  ...     0.000097     0.000000   \n4      0.016044  DBMEA_cost  42   903  ...     0.000788     0.033226   \n..          ...         ...  ..   ...  ...          ...          ...   \n334    0.233857   GILS_cost  90  4095  ...     0.000435     0.050520   \n335    0.232372  DBMEA_cost  90  4095  ...     0.000730     0.049839   \n336    0.232510  DBMEA_cost  90  4095  ...     0.000393     0.048856   \n337    0.231058   GILS_cost  90  4095  ...     0.000680     0.049190   \n338    0.229949  DBMEA_cost  90  4095  ...     0.000496     0.050290   \n\n     between_q75  closeness_min  closeness_max  closeness_mean  closeness_std   \n0       0.026965       0.000574       0.001325        0.001012       0.000205  \\\n1       0.032662       0.000919       0.002555        0.001893       0.000507   \n2       0.042040       0.000201       0.000736        0.000562       0.000145   \n3       0.006410       0.001313       0.002677        0.002193       0.000407   \n4       0.062177       0.008369       0.019061        0.014587       0.003118   \n..           ...            ...            ...             ...            ...   \n334     0.072751       0.002192       0.004113        0.003227       0.000642   \n335     0.071527       0.002220       0.004410        0.003481       0.000709   \n336     0.069497       0.002238       0.005424        0.004240       0.000992   \n337     0.072960       0.002171       0.004137        0.003256       0.000649   \n338     0.073379       0.002201       0.004579        0.003559       0.000797   \n\n     closeness_var  closeness_q25  closeness_q75  \n0     4.221718e-08       0.000889       0.001191  \n1     2.566472e-07       0.001447       0.002371  \n2     2.104825e-08       0.000458       0.000692  \n3     1.654824e-07       0.002048       0.002518  \n4     9.721282e-06       0.011758       0.016824  \n..             ...            ...            ...  \n334   4.123292e-07       0.002620       0.003881  \n335   5.026715e-07       0.002873       0.004060  \n336   9.846681e-07       0.003531       0.005157  \n337   4.205608e-07       0.002625       0.003914  \n338   6.358799e-07       0.002814       0.004375  \n\n[339 rows x 37 columns]",
      "text/html": "<div>\n<style scoped>\n    .dataframe tbody tr th:only-of-type {\n        vertical-align: middle;\n    }\n\n    .dataframe tbody tr th {\n        vertical-align: top;\n    }\n\n    .dataframe thead th {\n        text-align: right;\n    }\n</style>\n<table border=\"1\" class=\"dataframe\">\n  <thead>\n    <tr style=\"text-align: right;\">\n      <th></th>\n      <th>file</th>\n      <th>GILS_cost</th>\n      <th>DBMEA_cost</th>\n      <th>GRASP_cost</th>\n      <th>GILS_time</th>\n      <th>DBMEA_time</th>\n      <th>GRASP_time</th>\n      <th>min_method</th>\n      <th>n</th>\n      <th>m</th>\n      <th>...</th>\n      <th>between_var</th>\n      <th>between_q25</th>\n      <th>between_q75</th>\n      <th>closeness_min</th>\n      <th>closeness_max</th>\n      <th>closeness_mean</th>\n      <th>closeness_std</th>\n      <th>closeness_var</th>\n      <th>closeness_q25</th>\n      <th>closeness_q75</th>\n    </tr>\n  </thead>\n  <tbody>\n    <tr>\n      <th>0</th>\n      <td>att48.tsp</td>\n      <td>226229.0</td>\n      <td>207771.0</td>\n      <td>301702.0</td>\n      <td>6.474685</td>\n      <td>5.288543</td>\n      <td>0.026019</td>\n      <td>DBMEA_cost</td>\n      <td>48</td>\n      <td>1176</td>\n      <td>...</td>\n      <td>0.000008</td>\n      <td>0.022051</td>\n      <td>0.026965</td>\n      <td>0.000574</td>\n      <td>0.001325</td>\n      <td>0.001012</td>\n      <td>0.000205</td>\n      <td>4.221718e-08</td>\n      <td>0.000889</td>\n      <td>0.001191</td>\n    </tr>\n    <tr>\n      <th>1</th>\n      <td>berlin52.tsp</td>\n      <td>145419.0</td>\n      <td>143278.0</td>\n      <td>191072.0</td>\n      <td>6.054587</td>\n      <td>5.374160</td>\n      <td>0.031533</td>\n      <td>DBMEA_cost</td>\n      <td>52</td>\n      <td>1378</td>\n      <td>...</td>\n      <td>0.000065</td>\n      <td>0.021686</td>\n      <td>0.032662</td>\n      <td>0.000919</td>\n      <td>0.002555</td>\n      <td>0.001893</td>\n      <td>0.000507</td>\n      <td>2.566472e-07</td>\n      <td>0.001447</td>\n      <td>0.002371</td>\n    </tr>\n    <tr>\n      <th>2</th>\n      <td>brazil58.tsp</td>\n      <td>532454.0</td>\n      <td>535150.0</td>\n      <td>709540.0</td>\n      <td>8.013889</td>\n      <td>9.045840</td>\n      <td>0.043413</td>\n      <td>GILS_cost</td>\n      <td>58</td>\n      <td>1711</td>\n      <td>...</td>\n      <td>0.000591</td>\n      <td>0.020050</td>\n      <td>0.042040</td>\n      <td>0.000201</td>\n      <td>0.000736</td>\n      <td>0.000562</td>\n      <td>0.000145</td>\n      <td>2.104825e-08</td>\n      <td>0.000458</td>\n      <td>0.000692</td>\n    </tr>\n    <tr>\n      <th>3</th>\n      <td>burma14.tsp</td>\n      <td>16457.0</td>\n      <td>16457.0</td>\n      <td>18393.0</td>\n      <td>0.156218</td>\n      <td>0.082072</td>\n      <td>0.001000</td>\n      <td>GRASP_time</td>\n      <td>14</td>\n      <td>105</td>\n      <td>...</td>\n      <td>0.000097</td>\n      <td>0.000000</td>\n      <td>0.006410</td>\n      <td>0.001313</td>\n      <td>0.002677</td>\n      <td>0.002193</td>\n      <td>0.000407</td>\n      <td>1.654824e-07</td>\n      <td>0.002048</td>\n      <td>0.002518</td>\n    </tr>\n    <tr>\n      <th>4</th>\n      <td>dantzig42.tsp</td>\n      <td>12392.0</td>\n      <td>12256.0</td>\n      <td>14523.0</td>\n      <td>2.579336</td>\n      <td>3.325098</td>\n      <td>0.016044</td>\n      <td>DBMEA_cost</td>\n      <td>42</td>\n      <td>903</td>\n      <td>...</td>\n      <td>0.000788</td>\n      <td>0.033226</td>\n      <td>0.062177</td>\n      <td>0.008369</td>\n      <td>0.019061</td>\n      <td>0.014587</td>\n      <td>0.003118</td>\n      <td>9.721282e-06</td>\n      <td>0.011758</td>\n      <td>0.016824</td>\n    </tr>\n    <tr>\n      <th>...</th>\n      <td>...</td>\n      <td>...</td>\n      <td>...</td>\n      <td>...</td>\n      <td>...</td>\n      <td>...</td>\n      <td>...</td>\n      <td>...</td>\n      <td>...</td>\n      <td>...</td>\n      <td>...</td>\n      <td>...</td>\n      <td>...</td>\n      <td>...</td>\n      <td>...</td>\n      <td>...</td>\n      <td>...</td>\n      <td>...</td>\n      <td>...</td>\n      <td>...</td>\n      <td>...</td>\n    </tr>\n    <tr>\n      <th>334</th>\n      <td>line_90_5.tsp</td>\n      <td>55730.0</td>\n      <td>57558.0</td>\n      <td>157350.0</td>\n      <td>35.477098</td>\n      <td>36.326975</td>\n      <td>0.233857</td>\n      <td>GILS_cost</td>\n      <td>90</td>\n      <td>4095</td>\n      <td>...</td>\n      <td>0.000435</td>\n      <td>0.050520</td>\n      <td>0.072751</td>\n      <td>0.002192</td>\n      <td>0.004113</td>\n      <td>0.003227</td>\n      <td>0.000642</td>\n      <td>4.123292e-07</td>\n      <td>0.002620</td>\n      <td>0.003881</td>\n    </tr>\n    <tr>\n      <th>335</th>\n      <td>line_90_6.tsp</td>\n      <td>48884.0</td>\n      <td>45916.0</td>\n      <td>128976.0</td>\n      <td>30.191444</td>\n      <td>37.348990</td>\n      <td>0.232372</td>\n      <td>DBMEA_cost</td>\n      <td>90</td>\n      <td>4095</td>\n      <td>...</td>\n      <td>0.000730</td>\n      <td>0.049839</td>\n      <td>0.071527</td>\n      <td>0.002220</td>\n      <td>0.004410</td>\n      <td>0.003481</td>\n      <td>0.000709</td>\n      <td>5.026715e-07</td>\n      <td>0.002873</td>\n      <td>0.004060</td>\n    </tr>\n    <tr>\n      <th>336</th>\n      <td>line_90_7.tsp</td>\n      <td>51464.0</td>\n      <td>49038.0</td>\n      <td>124368.0</td>\n      <td>28.821121</td>\n      <td>44.483338</td>\n      <td>0.232510</td>\n      <td>DBMEA_cost</td>\n      <td>90</td>\n      <td>4095</td>\n      <td>...</td>\n      <td>0.000393</td>\n      <td>0.048856</td>\n      <td>0.069497</td>\n      <td>0.002238</td>\n      <td>0.005424</td>\n      <td>0.004240</td>\n      <td>0.000992</td>\n      <td>9.846681e-07</td>\n      <td>0.003531</td>\n      <td>0.005157</td>\n    </tr>\n    <tr>\n      <th>337</th>\n      <td>line_90_8.tsp</td>\n      <td>60845.0</td>\n      <td>65825.0</td>\n      <td>123373.0</td>\n      <td>28.282006</td>\n      <td>39.745050</td>\n      <td>0.231058</td>\n      <td>GILS_cost</td>\n      <td>90</td>\n      <td>4095</td>\n      <td>...</td>\n      <td>0.000680</td>\n      <td>0.049190</td>\n      <td>0.072960</td>\n      <td>0.002171</td>\n      <td>0.004137</td>\n      <td>0.003256</td>\n      <td>0.000649</td>\n      <td>4.205608e-07</td>\n      <td>0.002625</td>\n      <td>0.003914</td>\n    </tr>\n    <tr>\n      <th>338</th>\n      <td>line_90_9.tsp</td>\n      <td>60959.0</td>\n      <td>58315.0</td>\n      <td>118075.0</td>\n      <td>29.666181</td>\n      <td>44.563938</td>\n      <td>0.229949</td>\n      <td>DBMEA_cost</td>\n      <td>90</td>\n      <td>4095</td>\n      <td>...</td>\n      <td>0.000496</td>\n      <td>0.050290</td>\n      <td>0.073379</td>\n      <td>0.002201</td>\n      <td>0.004579</td>\n      <td>0.003559</td>\n      <td>0.000797</td>\n      <td>6.358799e-07</td>\n      <td>0.002814</td>\n      <td>0.004375</td>\n    </tr>\n  </tbody>\n</table>\n<p>339 rows × 37 columns</p>\n</div>"
     },
     "execution_count": 3,
     "metadata": {},
     "output_type": "execute_result"
    }
   ],
   "source": [
    "df = pd.read_csv(\"matrix_final.csv\")\n",
    "df"
   ],
   "metadata": {
    "collapsed": false,
    "ExecuteTime": {
     "end_time": "2023-06-06T13:54:41.850796700Z",
     "start_time": "2023-06-06T13:54:41.833848100Z"
    }
   }
  },
  {
   "cell_type": "code",
   "execution_count": 4,
   "outputs": [],
   "source": [
    "X = df.drop(['file', 'min_method', \"GILS_cost\", \"GILS_time\", \"GRASP_cost\", \"GRASP_time\", \"DBMEA_cost\", \"DBMEA_time\"], axis=1)\n",
    "y = df['min_method']"
   ],
   "metadata": {
    "collapsed": false,
    "ExecuteTime": {
     "end_time": "2023-06-06T13:55:55.660175200Z",
     "start_time": "2023-06-06T13:55:55.656174100Z"
    }
   }
  },
  {
   "cell_type": "code",
   "execution_count": 6,
   "outputs": [],
   "source": [
    "# load the classifier decisiontree.pkl\n",
    "decisiontree = pickle.load(open('decisiontree.pkl', 'rb'))"
   ],
   "metadata": {
    "collapsed": false,
    "ExecuteTime": {
     "end_time": "2023-06-06T13:56:38.111454100Z",
     "start_time": "2023-06-06T13:56:37.221521300Z"
    }
   }
  },
  {
   "cell_type": "code",
   "execution_count": 8,
   "outputs": [
    {
     "data": {
      "text/plain": "array(['DBMEA_cost', 'DBMEA_cost', 'GILS_cost', 'GRASP_time',\n       'DBMEA_cost', 'DBMEA_cost', 'DBMEA_cost', 'DBMEA_cost',\n       'DBMEA_cost', 'GILS_cost', 'DBMEA_cost', 'DBMEA_cost',\n       'DBMEA_cost', 'DBMEA_cost', 'DBMEA_cost', 'DBMEA_cost',\n       'DBMEA_cost', 'GILS_cost', 'GILS_cost', 'GILS_cost', 'DBMEA_cost',\n       'DBMEA_cost', 'DBMEA_cost', 'GILS_cost', 'GILS_cost', 'GILS_cost',\n       'GILS_cost', 'GILS_cost', 'GILS_cost', 'GILS_cost', 'GILS_cost',\n       'GILS_cost', 'DBMEA_cost', 'DBMEA_cost', 'GILS_cost', 'GILS_cost',\n       'DBMEA_cost', 'DBMEA_cost', 'DBMEA_cost', 'DBMEA_cost',\n       'DBMEA_cost', 'DBMEA_cost', 'DBMEA_cost', 'DBMEA_cost',\n       'DBMEA_cost', 'DBMEA_cost', 'GRASP_time', 'GRASP_time',\n       'GRASP_time', 'GRASP_time', 'GRASP_time', 'GRASP_time',\n       'GRASP_time', 'GRASP_time', 'GRASP_time', 'GRASP_time',\n       'GILS_cost', 'GILS_cost', 'GILS_cost', 'GILS_cost', 'GILS_cost',\n       'GILS_cost', 'GILS_cost', 'GILS_cost', 'GILS_cost', 'GILS_cost',\n       'DBMEA_cost', 'DBMEA_cost', 'DBMEA_cost', 'DBMEA_cost',\n       'DBMEA_cost', 'DBMEA_cost', 'DBMEA_cost', 'DBMEA_cost',\n       'DBMEA_cost', 'DBMEA_cost', 'DBMEA_cost', 'DBMEA_cost',\n       'DBMEA_cost', 'DBMEA_cost', 'DBMEA_cost', 'DBMEA_cost',\n       'DBMEA_cost', 'DBMEA_cost', 'DBMEA_cost', 'DBMEA_cost',\n       'DBMEA_cost', 'DBMEA_cost', 'DBMEA_cost', 'DBMEA_cost',\n       'DBMEA_cost', 'DBMEA_cost', 'DBMEA_cost', 'DBMEA_cost',\n       'DBMEA_cost', 'DBMEA_cost', 'DBMEA_cost', 'DBMEA_cost',\n       'DBMEA_cost', 'DBMEA_cost', 'DBMEA_cost', 'DBMEA_cost',\n       'DBMEA_cost', 'DBMEA_cost', 'DBMEA_cost', 'DBMEA_cost',\n       'DBMEA_cost', 'DBMEA_cost', 'DBMEA_cost', 'DBMEA_cost',\n       'DBMEA_cost', 'DBMEA_cost', 'DBMEA_cost', 'DBMEA_cost',\n       'DBMEA_cost', 'DBMEA_cost', 'DBMEA_cost', 'DBMEA_cost',\n       'DBMEA_cost', 'DBMEA_cost', 'DBMEA_cost', 'DBMEA_cost',\n       'DBMEA_cost', 'DBMEA_cost', 'DBMEA_cost', 'DBMEA_cost',\n       'DBMEA_cost', 'DBMEA_cost', 'DBMEA_cost', 'DBMEA_cost',\n       'DBMEA_cost', 'DBMEA_cost', 'DBMEA_cost', 'DBMEA_cost',\n       'DBMEA_cost', 'DBMEA_cost', 'DBMEA_cost', 'DBMEA_cost',\n       'DBMEA_cost', 'DBMEA_cost', 'DBMEA_cost', 'DBMEA_cost',\n       'DBMEA_cost', 'DBMEA_cost', 'DBMEA_cost', 'DBMEA_cost',\n       'DBMEA_cost', 'DBMEA_cost', 'DBMEA_cost', 'GRASP_time',\n       'GRASP_time', 'GRASP_time', 'GRASP_time', 'GRASP_time',\n       'GRASP_time', 'GRASP_time', 'GRASP_time', 'GRASP_time',\n       'GRASP_time', 'GILS_cost', 'GILS_cost', 'GILS_cost', 'GILS_cost',\n       'GILS_cost', 'GILS_cost', 'GILS_cost', 'GILS_cost', 'GILS_cost',\n       'GILS_cost', 'GILS_cost', 'GILS_cost', 'GILS_cost', 'GILS_cost',\n       'GILS_cost', 'GILS_cost', 'DBMEA_cost', 'GILS_cost', 'GILS_cost',\n       'GILS_cost', 'DBMEA_cost', 'DBMEA_cost', 'DBMEA_cost',\n       'DBMEA_cost', 'DBMEA_cost', 'DBMEA_cost', 'DBMEA_cost',\n       'DBMEA_cost', 'DBMEA_cost', 'DBMEA_cost', 'DBMEA_cost',\n       'DBMEA_cost', 'DBMEA_cost', 'DBMEA_cost', 'DBMEA_cost',\n       'DBMEA_cost', 'DBMEA_cost', 'DBMEA_cost', 'DBMEA_cost',\n       'DBMEA_cost', 'DBMEA_cost', 'DBMEA_cost', 'DBMEA_cost',\n       'DBMEA_cost', 'DBMEA_cost', 'DBMEA_cost', 'DBMEA_cost',\n       'DBMEA_cost', 'DBMEA_cost', 'DBMEA_cost', 'DBMEA_cost',\n       'DBMEA_cost', 'DBMEA_cost', 'DBMEA_cost', 'DBMEA_cost',\n       'DBMEA_cost', 'DBMEA_cost', 'DBMEA_cost', 'DBMEA_cost',\n       'DBMEA_cost', 'DBMEA_cost', 'DBMEA_cost', 'DBMEA_cost',\n       'DBMEA_cost', 'DBMEA_cost', 'DBMEA_cost', 'DBMEA_cost',\n       'DBMEA_cost', 'DBMEA_cost', 'DBMEA_cost', 'DBMEA_cost',\n       'DBMEA_cost', 'DBMEA_cost', 'DBMEA_cost', 'DBMEA_cost',\n       'DBMEA_cost', 'DBMEA_cost', 'DBMEA_cost', 'DBMEA_cost',\n       'DBMEA_cost', 'GILS_cost', 'GILS_cost', 'GILS_cost', 'DBMEA_cost',\n       'GILS_cost', 'DBMEA_cost', 'GILS_cost', 'DBMEA_cost', 'GILS_cost',\n       'GILS_cost', 'GRASP_time', 'GRASP_time', 'GRASP_time',\n       'GRASP_time', 'GRASP_time', 'GRASP_time', 'GRASP_time',\n       'GRASP_time', 'GRASP_time', 'GRASP_time', 'GILS_cost', 'GILS_cost',\n       'GILS_cost', 'GILS_cost', 'GILS_cost', 'GILS_cost', 'GILS_cost',\n       'GILS_cost', 'GILS_cost', 'GILS_cost', 'GILS_cost', 'GILS_cost',\n       'GILS_cost', 'GILS_cost', 'GILS_cost', 'GILS_cost', 'GILS_cost',\n       'GILS_cost', 'GILS_cost', 'GILS_cost', 'GILS_cost', 'GILS_cost',\n       'GILS_cost', 'GILS_cost', 'GILS_cost', 'GILS_cost', 'GILS_cost',\n       'GILS_cost', 'GILS_cost', 'GILS_cost', 'GILS_cost', 'GILS_cost',\n       'GILS_cost', 'GILS_cost', 'GILS_cost', 'GILS_cost', 'GILS_cost',\n       'GILS_cost', 'GILS_cost', 'GILS_cost', 'GILS_cost', 'GILS_cost',\n       'GILS_cost', 'GILS_cost', 'GILS_cost', 'GILS_cost', 'GILS_cost',\n       'GILS_cost', 'GILS_cost', 'GILS_cost', 'GILS_cost', 'GILS_cost',\n       'GILS_cost', 'GILS_cost', 'GILS_cost', 'GILS_cost', 'GILS_cost',\n       'GILS_cost', 'GILS_cost', 'GILS_cost', 'GILS_cost', 'GILS_cost',\n       'GILS_cost', 'GILS_cost', 'GILS_cost', 'GILS_cost', 'GILS_cost',\n       'GILS_cost', 'GILS_cost', 'GILS_cost', 'GILS_cost', 'GILS_cost',\n       'GILS_cost', 'GILS_cost', 'GILS_cost', 'GILS_cost', 'GILS_cost',\n       'GILS_cost', 'GILS_cost', 'GILS_cost'], dtype=object)"
     },
     "execution_count": 8,
     "metadata": {},
     "output_type": "execute_result"
    }
   ],
   "source": [
    "# predict the class for the new data point\n",
    "ypred = decisiontree.predict(X)\n",
    "ypred"
   ],
   "metadata": {
    "collapsed": false,
    "ExecuteTime": {
     "end_time": "2023-06-06T13:57:01.024353200Z",
     "start_time": "2023-06-06T13:57:00.998476300Z"
    }
   }
  },
  {
   "cell_type": "code",
   "execution_count": 9,
   "outputs": [],
   "source": [
    "df[\"prediction\"] = ypred"
   ],
   "metadata": {
    "collapsed": false,
    "ExecuteTime": {
     "end_time": "2023-06-06T13:58:12.982311600Z",
     "start_time": "2023-06-06T13:58:12.979309700Z"
    }
   }
  },
  {
   "cell_type": "code",
   "execution_count": 10,
   "outputs": [
    {
     "data": {
      "text/plain": "              file  GILS_cost  DBMEA_cost  GRASP_cost  GILS_time  DBMEA_time   \n0        att48.tsp   226229.0    207771.0    301702.0   6.474685    5.288543  \\\n1     berlin52.tsp   145419.0    143278.0    191072.0   6.054587    5.374160   \n2     brazil58.tsp   532454.0    535150.0    709540.0   8.013889    9.045840   \n3      burma14.tsp    16457.0     16457.0     18393.0   0.156218    0.082072   \n4    dantzig42.tsp    12392.0     12256.0     14523.0   2.579336    3.325098   \n..             ...        ...         ...         ...        ...         ...   \n334  line_90_5.tsp    55730.0     57558.0    157350.0  35.477098   36.326975   \n335  line_90_6.tsp    48884.0     45916.0    128976.0  30.191444   37.348990   \n336  line_90_7.tsp    51464.0     49038.0    124368.0  28.821121   44.483338   \n337  line_90_8.tsp    60845.0     65825.0    123373.0  28.282006   39.745050   \n338  line_90_9.tsp    60959.0     58315.0    118075.0  29.666181   44.563938   \n\n     GRASP_time  min_method   n     m  ...  between_q75  closeness_min   \n0      0.026019  DBMEA_cost  48  1176  ...     0.026965       0.000574  \\\n1      0.031533  DBMEA_cost  52  1378  ...     0.032662       0.000919   \n2      0.043413   GILS_cost  58  1711  ...     0.042040       0.000201   \n3      0.001000  GRASP_time  14   105  ...     0.006410       0.001313   \n4      0.016044  DBMEA_cost  42   903  ...     0.062177       0.008369   \n..          ...         ...  ..   ...  ...          ...            ...   \n334    0.233857   GILS_cost  90  4095  ...     0.072751       0.002192   \n335    0.232372  DBMEA_cost  90  4095  ...     0.071527       0.002220   \n336    0.232510  DBMEA_cost  90  4095  ...     0.069497       0.002238   \n337    0.231058   GILS_cost  90  4095  ...     0.072960       0.002171   \n338    0.229949  DBMEA_cost  90  4095  ...     0.073379       0.002201   \n\n     closeness_max  closeness_mean  closeness_std  closeness_var   \n0         0.001325        0.001012       0.000205   4.221718e-08  \\\n1         0.002555        0.001893       0.000507   2.566472e-07   \n2         0.000736        0.000562       0.000145   2.104825e-08   \n3         0.002677        0.002193       0.000407   1.654824e-07   \n4         0.019061        0.014587       0.003118   9.721282e-06   \n..             ...             ...            ...            ...   \n334       0.004113        0.003227       0.000642   4.123292e-07   \n335       0.004410        0.003481       0.000709   5.026715e-07   \n336       0.005424        0.004240       0.000992   9.846681e-07   \n337       0.004137        0.003256       0.000649   4.205608e-07   \n338       0.004579        0.003559       0.000797   6.358799e-07   \n\n     closeness_q25  closeness_q75  prediction  correct  \n0         0.000889       0.001191  DBMEA_cost        1  \n1         0.001447       0.002371  DBMEA_cost        1  \n2         0.000458       0.000692   GILS_cost        1  \n3         0.002048       0.002518  GRASP_time        1  \n4         0.011758       0.016824  DBMEA_cost        1  \n..             ...            ...         ...      ...  \n334       0.002620       0.003881   GILS_cost        1  \n335       0.002873       0.004060   GILS_cost        0  \n336       0.003531       0.005157   GILS_cost        0  \n337       0.002625       0.003914   GILS_cost        1  \n338       0.002814       0.004375   GILS_cost        0  \n\n[339 rows x 39 columns]",
      "text/html": "<div>\n<style scoped>\n    .dataframe tbody tr th:only-of-type {\n        vertical-align: middle;\n    }\n\n    .dataframe tbody tr th {\n        vertical-align: top;\n    }\n\n    .dataframe thead th {\n        text-align: right;\n    }\n</style>\n<table border=\"1\" class=\"dataframe\">\n  <thead>\n    <tr style=\"text-align: right;\">\n      <th></th>\n      <th>file</th>\n      <th>GILS_cost</th>\n      <th>DBMEA_cost</th>\n      <th>GRASP_cost</th>\n      <th>GILS_time</th>\n      <th>DBMEA_time</th>\n      <th>GRASP_time</th>\n      <th>min_method</th>\n      <th>n</th>\n      <th>m</th>\n      <th>...</th>\n      <th>between_q75</th>\n      <th>closeness_min</th>\n      <th>closeness_max</th>\n      <th>closeness_mean</th>\n      <th>closeness_std</th>\n      <th>closeness_var</th>\n      <th>closeness_q25</th>\n      <th>closeness_q75</th>\n      <th>prediction</th>\n      <th>correct</th>\n    </tr>\n  </thead>\n  <tbody>\n    <tr>\n      <th>0</th>\n      <td>att48.tsp</td>\n      <td>226229.0</td>\n      <td>207771.0</td>\n      <td>301702.0</td>\n      <td>6.474685</td>\n      <td>5.288543</td>\n      <td>0.026019</td>\n      <td>DBMEA_cost</td>\n      <td>48</td>\n      <td>1176</td>\n      <td>...</td>\n      <td>0.026965</td>\n      <td>0.000574</td>\n      <td>0.001325</td>\n      <td>0.001012</td>\n      <td>0.000205</td>\n      <td>4.221718e-08</td>\n      <td>0.000889</td>\n      <td>0.001191</td>\n      <td>DBMEA_cost</td>\n      <td>1</td>\n    </tr>\n    <tr>\n      <th>1</th>\n      <td>berlin52.tsp</td>\n      <td>145419.0</td>\n      <td>143278.0</td>\n      <td>191072.0</td>\n      <td>6.054587</td>\n      <td>5.374160</td>\n      <td>0.031533</td>\n      <td>DBMEA_cost</td>\n      <td>52</td>\n      <td>1378</td>\n      <td>...</td>\n      <td>0.032662</td>\n      <td>0.000919</td>\n      <td>0.002555</td>\n      <td>0.001893</td>\n      <td>0.000507</td>\n      <td>2.566472e-07</td>\n      <td>0.001447</td>\n      <td>0.002371</td>\n      <td>DBMEA_cost</td>\n      <td>1</td>\n    </tr>\n    <tr>\n      <th>2</th>\n      <td>brazil58.tsp</td>\n      <td>532454.0</td>\n      <td>535150.0</td>\n      <td>709540.0</td>\n      <td>8.013889</td>\n      <td>9.045840</td>\n      <td>0.043413</td>\n      <td>GILS_cost</td>\n      <td>58</td>\n      <td>1711</td>\n      <td>...</td>\n      <td>0.042040</td>\n      <td>0.000201</td>\n      <td>0.000736</td>\n      <td>0.000562</td>\n      <td>0.000145</td>\n      <td>2.104825e-08</td>\n      <td>0.000458</td>\n      <td>0.000692</td>\n      <td>GILS_cost</td>\n      <td>1</td>\n    </tr>\n    <tr>\n      <th>3</th>\n      <td>burma14.tsp</td>\n      <td>16457.0</td>\n      <td>16457.0</td>\n      <td>18393.0</td>\n      <td>0.156218</td>\n      <td>0.082072</td>\n      <td>0.001000</td>\n      <td>GRASP_time</td>\n      <td>14</td>\n      <td>105</td>\n      <td>...</td>\n      <td>0.006410</td>\n      <td>0.001313</td>\n      <td>0.002677</td>\n      <td>0.002193</td>\n      <td>0.000407</td>\n      <td>1.654824e-07</td>\n      <td>0.002048</td>\n      <td>0.002518</td>\n      <td>GRASP_time</td>\n      <td>1</td>\n    </tr>\n    <tr>\n      <th>4</th>\n      <td>dantzig42.tsp</td>\n      <td>12392.0</td>\n      <td>12256.0</td>\n      <td>14523.0</td>\n      <td>2.579336</td>\n      <td>3.325098</td>\n      <td>0.016044</td>\n      <td>DBMEA_cost</td>\n      <td>42</td>\n      <td>903</td>\n      <td>...</td>\n      <td>0.062177</td>\n      <td>0.008369</td>\n      <td>0.019061</td>\n      <td>0.014587</td>\n      <td>0.003118</td>\n      <td>9.721282e-06</td>\n      <td>0.011758</td>\n      <td>0.016824</td>\n      <td>DBMEA_cost</td>\n      <td>1</td>\n    </tr>\n    <tr>\n      <th>...</th>\n      <td>...</td>\n      <td>...</td>\n      <td>...</td>\n      <td>...</td>\n      <td>...</td>\n      <td>...</td>\n      <td>...</td>\n      <td>...</td>\n      <td>...</td>\n      <td>...</td>\n      <td>...</td>\n      <td>...</td>\n      <td>...</td>\n      <td>...</td>\n      <td>...</td>\n      <td>...</td>\n      <td>...</td>\n      <td>...</td>\n      <td>...</td>\n      <td>...</td>\n      <td>...</td>\n    </tr>\n    <tr>\n      <th>334</th>\n      <td>line_90_5.tsp</td>\n      <td>55730.0</td>\n      <td>57558.0</td>\n      <td>157350.0</td>\n      <td>35.477098</td>\n      <td>36.326975</td>\n      <td>0.233857</td>\n      <td>GILS_cost</td>\n      <td>90</td>\n      <td>4095</td>\n      <td>...</td>\n      <td>0.072751</td>\n      <td>0.002192</td>\n      <td>0.004113</td>\n      <td>0.003227</td>\n      <td>0.000642</td>\n      <td>4.123292e-07</td>\n      <td>0.002620</td>\n      <td>0.003881</td>\n      <td>GILS_cost</td>\n      <td>1</td>\n    </tr>\n    <tr>\n      <th>335</th>\n      <td>line_90_6.tsp</td>\n      <td>48884.0</td>\n      <td>45916.0</td>\n      <td>128976.0</td>\n      <td>30.191444</td>\n      <td>37.348990</td>\n      <td>0.232372</td>\n      <td>DBMEA_cost</td>\n      <td>90</td>\n      <td>4095</td>\n      <td>...</td>\n      <td>0.071527</td>\n      <td>0.002220</td>\n      <td>0.004410</td>\n      <td>0.003481</td>\n      <td>0.000709</td>\n      <td>5.026715e-07</td>\n      <td>0.002873</td>\n      <td>0.004060</td>\n      <td>GILS_cost</td>\n      <td>0</td>\n    </tr>\n    <tr>\n      <th>336</th>\n      <td>line_90_7.tsp</td>\n      <td>51464.0</td>\n      <td>49038.0</td>\n      <td>124368.0</td>\n      <td>28.821121</td>\n      <td>44.483338</td>\n      <td>0.232510</td>\n      <td>DBMEA_cost</td>\n      <td>90</td>\n      <td>4095</td>\n      <td>...</td>\n      <td>0.069497</td>\n      <td>0.002238</td>\n      <td>0.005424</td>\n      <td>0.004240</td>\n      <td>0.000992</td>\n      <td>9.846681e-07</td>\n      <td>0.003531</td>\n      <td>0.005157</td>\n      <td>GILS_cost</td>\n      <td>0</td>\n    </tr>\n    <tr>\n      <th>337</th>\n      <td>line_90_8.tsp</td>\n      <td>60845.0</td>\n      <td>65825.0</td>\n      <td>123373.0</td>\n      <td>28.282006</td>\n      <td>39.745050</td>\n      <td>0.231058</td>\n      <td>GILS_cost</td>\n      <td>90</td>\n      <td>4095</td>\n      <td>...</td>\n      <td>0.072960</td>\n      <td>0.002171</td>\n      <td>0.004137</td>\n      <td>0.003256</td>\n      <td>0.000649</td>\n      <td>4.205608e-07</td>\n      <td>0.002625</td>\n      <td>0.003914</td>\n      <td>GILS_cost</td>\n      <td>1</td>\n    </tr>\n    <tr>\n      <th>338</th>\n      <td>line_90_9.tsp</td>\n      <td>60959.0</td>\n      <td>58315.0</td>\n      <td>118075.0</td>\n      <td>29.666181</td>\n      <td>44.563938</td>\n      <td>0.229949</td>\n      <td>DBMEA_cost</td>\n      <td>90</td>\n      <td>4095</td>\n      <td>...</td>\n      <td>0.073379</td>\n      <td>0.002201</td>\n      <td>0.004579</td>\n      <td>0.003559</td>\n      <td>0.000797</td>\n      <td>6.358799e-07</td>\n      <td>0.002814</td>\n      <td>0.004375</td>\n      <td>GILS_cost</td>\n      <td>0</td>\n    </tr>\n  </tbody>\n</table>\n<p>339 rows × 39 columns</p>\n</div>"
     },
     "execution_count": 10,
     "metadata": {},
     "output_type": "execute_result"
    }
   ],
   "source": [
    "# create a new column, if prediction == min_method, then 1, else 0\n",
    "df[\"correct\"] = np.where(df[\"prediction\"] == df[\"min_method\"], 1, 0)\n",
    "df"
   ],
   "metadata": {
    "collapsed": false,
    "ExecuteTime": {
     "end_time": "2023-06-06T13:59:53.807679700Z",
     "start_time": "2023-06-06T13:59:53.779568800Z"
    }
   }
  },
  {
   "cell_type": "code",
   "execution_count": 11,
   "outputs": [
    {
     "data": {
      "text/plain": "correct\n1    247\n0     92\nName: count, dtype: int64"
     },
     "execution_count": 11,
     "metadata": {},
     "output_type": "execute_result"
    }
   ],
   "source": [
    "df[\"correct\"].value_counts()"
   ],
   "metadata": {
    "collapsed": false,
    "ExecuteTime": {
     "end_time": "2023-06-06T14:00:57.416961800Z",
     "start_time": "2023-06-06T14:00:57.412456600Z"
    }
   }
  },
  {
   "cell_type": "code",
   "execution_count": 15,
   "outputs": [
    {
     "data": {
      "text/plain": "              file  GILS_cost  DBMEA_cost  GRASP_cost  GILS_time  DBMEA_time   \n0        att48.tsp   226229.0    207771.0    301702.0   6.474685    5.288543  \\\n1     berlin52.tsp   145419.0    143278.0    191072.0   6.054587    5.374160   \n2     brazil58.tsp   532454.0    535150.0    709540.0   8.013889    9.045840   \n3      burma14.tsp    16457.0     16457.0     18393.0   0.156218    0.082072   \n4    dantzig42.tsp    12392.0     12256.0     14523.0   2.579336    3.325098   \n..             ...        ...         ...         ...        ...         ...   \n334  line_90_5.tsp    55730.0     57558.0    157350.0  35.477098   36.326975   \n335  line_90_6.tsp    48884.0     45916.0    128976.0  30.191444   37.348990   \n336  line_90_7.tsp    51464.0     49038.0    124368.0  28.821121   44.483338   \n337  line_90_8.tsp    60845.0     65825.0    123373.0  28.282006   39.745050   \n338  line_90_9.tsp    60959.0     58315.0    118075.0  29.666181   44.563938   \n\n     GRASP_time  min_method   n     m  ...  closeness_max  closeness_mean   \n0      0.026019  DBMEA_cost  48  1176  ...       0.001325        0.001012  \\\n1      0.031533  DBMEA_cost  52  1378  ...       0.002555        0.001893   \n2      0.043413   GILS_cost  58  1711  ...       0.000736        0.000562   \n3      0.001000  GRASP_time  14   105  ...       0.002677        0.002193   \n4      0.016044  DBMEA_cost  42   903  ...       0.019061        0.014587   \n..          ...         ...  ..   ...  ...            ...             ...   \n334    0.233857   GILS_cost  90  4095  ...       0.004113        0.003227   \n335    0.232372  DBMEA_cost  90  4095  ...       0.004410        0.003481   \n336    0.232510  DBMEA_cost  90  4095  ...       0.005424        0.004240   \n337    0.231058   GILS_cost  90  4095  ...       0.004137        0.003256   \n338    0.229949  DBMEA_cost  90  4095  ...       0.004579        0.003559   \n\n     closeness_std  closeness_var  closeness_q25  closeness_q75  prediction   \n0         0.000205   4.221718e-08       0.000889       0.001191  DBMEA_cost  \\\n1         0.000507   2.566472e-07       0.001447       0.002371  DBMEA_cost   \n2         0.000145   2.104825e-08       0.000458       0.000692   GILS_cost   \n3         0.000407   1.654824e-07       0.002048       0.002518  GRASP_time   \n4         0.003118   9.721282e-06       0.011758       0.016824  DBMEA_cost   \n..             ...            ...            ...            ...         ...   \n334       0.000642   4.123292e-07       0.002620       0.003881   GILS_cost   \n335       0.000709   5.026715e-07       0.002873       0.004060   GILS_cost   \n336       0.000992   9.846681e-07       0.003531       0.005157   GILS_cost   \n337       0.000649   4.205608e-07       0.002625       0.003914   GILS_cost   \n338       0.000797   6.358799e-07       0.002814       0.004375   GILS_cost   \n\n     correct               combined       actual_predicted  \n0          1  DBMEA_cost DBMEA_cost  DBMEA_cost DBMEA_cost  \n1          1  DBMEA_cost DBMEA_cost  DBMEA_cost DBMEA_cost  \n2          1    GILS_cost GILS_cost    GILS_cost GILS_cost  \n3          1  GRASP_time GRASP_time  GRASP_time GRASP_time  \n4          1  DBMEA_cost DBMEA_cost  DBMEA_cost DBMEA_cost  \n..       ...                    ...                    ...  \n334        1    GILS_cost GILS_cost    GILS_cost GILS_cost  \n335        0   DBMEA_cost GILS_cost   DBMEA_cost GILS_cost  \n336        0   DBMEA_cost GILS_cost   DBMEA_cost GILS_cost  \n337        1    GILS_cost GILS_cost    GILS_cost GILS_cost  \n338        0   DBMEA_cost GILS_cost   DBMEA_cost GILS_cost  \n\n[339 rows x 41 columns]",
      "text/html": "<div>\n<style scoped>\n    .dataframe tbody tr th:only-of-type {\n        vertical-align: middle;\n    }\n\n    .dataframe tbody tr th {\n        vertical-align: top;\n    }\n\n    .dataframe thead th {\n        text-align: right;\n    }\n</style>\n<table border=\"1\" class=\"dataframe\">\n  <thead>\n    <tr style=\"text-align: right;\">\n      <th></th>\n      <th>file</th>\n      <th>GILS_cost</th>\n      <th>DBMEA_cost</th>\n      <th>GRASP_cost</th>\n      <th>GILS_time</th>\n      <th>DBMEA_time</th>\n      <th>GRASP_time</th>\n      <th>min_method</th>\n      <th>n</th>\n      <th>m</th>\n      <th>...</th>\n      <th>closeness_max</th>\n      <th>closeness_mean</th>\n      <th>closeness_std</th>\n      <th>closeness_var</th>\n      <th>closeness_q25</th>\n      <th>closeness_q75</th>\n      <th>prediction</th>\n      <th>correct</th>\n      <th>combined</th>\n      <th>actual_predicted</th>\n    </tr>\n  </thead>\n  <tbody>\n    <tr>\n      <th>0</th>\n      <td>att48.tsp</td>\n      <td>226229.0</td>\n      <td>207771.0</td>\n      <td>301702.0</td>\n      <td>6.474685</td>\n      <td>5.288543</td>\n      <td>0.026019</td>\n      <td>DBMEA_cost</td>\n      <td>48</td>\n      <td>1176</td>\n      <td>...</td>\n      <td>0.001325</td>\n      <td>0.001012</td>\n      <td>0.000205</td>\n      <td>4.221718e-08</td>\n      <td>0.000889</td>\n      <td>0.001191</td>\n      <td>DBMEA_cost</td>\n      <td>1</td>\n      <td>DBMEA_cost DBMEA_cost</td>\n      <td>DBMEA_cost DBMEA_cost</td>\n    </tr>\n    <tr>\n      <th>1</th>\n      <td>berlin52.tsp</td>\n      <td>145419.0</td>\n      <td>143278.0</td>\n      <td>191072.0</td>\n      <td>6.054587</td>\n      <td>5.374160</td>\n      <td>0.031533</td>\n      <td>DBMEA_cost</td>\n      <td>52</td>\n      <td>1378</td>\n      <td>...</td>\n      <td>0.002555</td>\n      <td>0.001893</td>\n      <td>0.000507</td>\n      <td>2.566472e-07</td>\n      <td>0.001447</td>\n      <td>0.002371</td>\n      <td>DBMEA_cost</td>\n      <td>1</td>\n      <td>DBMEA_cost DBMEA_cost</td>\n      <td>DBMEA_cost DBMEA_cost</td>\n    </tr>\n    <tr>\n      <th>2</th>\n      <td>brazil58.tsp</td>\n      <td>532454.0</td>\n      <td>535150.0</td>\n      <td>709540.0</td>\n      <td>8.013889</td>\n      <td>9.045840</td>\n      <td>0.043413</td>\n      <td>GILS_cost</td>\n      <td>58</td>\n      <td>1711</td>\n      <td>...</td>\n      <td>0.000736</td>\n      <td>0.000562</td>\n      <td>0.000145</td>\n      <td>2.104825e-08</td>\n      <td>0.000458</td>\n      <td>0.000692</td>\n      <td>GILS_cost</td>\n      <td>1</td>\n      <td>GILS_cost GILS_cost</td>\n      <td>GILS_cost GILS_cost</td>\n    </tr>\n    <tr>\n      <th>3</th>\n      <td>burma14.tsp</td>\n      <td>16457.0</td>\n      <td>16457.0</td>\n      <td>18393.0</td>\n      <td>0.156218</td>\n      <td>0.082072</td>\n      <td>0.001000</td>\n      <td>GRASP_time</td>\n      <td>14</td>\n      <td>105</td>\n      <td>...</td>\n      <td>0.002677</td>\n      <td>0.002193</td>\n      <td>0.000407</td>\n      <td>1.654824e-07</td>\n      <td>0.002048</td>\n      <td>0.002518</td>\n      <td>GRASP_time</td>\n      <td>1</td>\n      <td>GRASP_time GRASP_time</td>\n      <td>GRASP_time GRASP_time</td>\n    </tr>\n    <tr>\n      <th>4</th>\n      <td>dantzig42.tsp</td>\n      <td>12392.0</td>\n      <td>12256.0</td>\n      <td>14523.0</td>\n      <td>2.579336</td>\n      <td>3.325098</td>\n      <td>0.016044</td>\n      <td>DBMEA_cost</td>\n      <td>42</td>\n      <td>903</td>\n      <td>...</td>\n      <td>0.019061</td>\n      <td>0.014587</td>\n      <td>0.003118</td>\n      <td>9.721282e-06</td>\n      <td>0.011758</td>\n      <td>0.016824</td>\n      <td>DBMEA_cost</td>\n      <td>1</td>\n      <td>DBMEA_cost DBMEA_cost</td>\n      <td>DBMEA_cost DBMEA_cost</td>\n    </tr>\n    <tr>\n      <th>...</th>\n      <td>...</td>\n      <td>...</td>\n      <td>...</td>\n      <td>...</td>\n      <td>...</td>\n      <td>...</td>\n      <td>...</td>\n      <td>...</td>\n      <td>...</td>\n      <td>...</td>\n      <td>...</td>\n      <td>...</td>\n      <td>...</td>\n      <td>...</td>\n      <td>...</td>\n      <td>...</td>\n      <td>...</td>\n      <td>...</td>\n      <td>...</td>\n      <td>...</td>\n      <td>...</td>\n    </tr>\n    <tr>\n      <th>334</th>\n      <td>line_90_5.tsp</td>\n      <td>55730.0</td>\n      <td>57558.0</td>\n      <td>157350.0</td>\n      <td>35.477098</td>\n      <td>36.326975</td>\n      <td>0.233857</td>\n      <td>GILS_cost</td>\n      <td>90</td>\n      <td>4095</td>\n      <td>...</td>\n      <td>0.004113</td>\n      <td>0.003227</td>\n      <td>0.000642</td>\n      <td>4.123292e-07</td>\n      <td>0.002620</td>\n      <td>0.003881</td>\n      <td>GILS_cost</td>\n      <td>1</td>\n      <td>GILS_cost GILS_cost</td>\n      <td>GILS_cost GILS_cost</td>\n    </tr>\n    <tr>\n      <th>335</th>\n      <td>line_90_6.tsp</td>\n      <td>48884.0</td>\n      <td>45916.0</td>\n      <td>128976.0</td>\n      <td>30.191444</td>\n      <td>37.348990</td>\n      <td>0.232372</td>\n      <td>DBMEA_cost</td>\n      <td>90</td>\n      <td>4095</td>\n      <td>...</td>\n      <td>0.004410</td>\n      <td>0.003481</td>\n      <td>0.000709</td>\n      <td>5.026715e-07</td>\n      <td>0.002873</td>\n      <td>0.004060</td>\n      <td>GILS_cost</td>\n      <td>0</td>\n      <td>DBMEA_cost GILS_cost</td>\n      <td>DBMEA_cost GILS_cost</td>\n    </tr>\n    <tr>\n      <th>336</th>\n      <td>line_90_7.tsp</td>\n      <td>51464.0</td>\n      <td>49038.0</td>\n      <td>124368.0</td>\n      <td>28.821121</td>\n      <td>44.483338</td>\n      <td>0.232510</td>\n      <td>DBMEA_cost</td>\n      <td>90</td>\n      <td>4095</td>\n      <td>...</td>\n      <td>0.005424</td>\n      <td>0.004240</td>\n      <td>0.000992</td>\n      <td>9.846681e-07</td>\n      <td>0.003531</td>\n      <td>0.005157</td>\n      <td>GILS_cost</td>\n      <td>0</td>\n      <td>DBMEA_cost GILS_cost</td>\n      <td>DBMEA_cost GILS_cost</td>\n    </tr>\n    <tr>\n      <th>337</th>\n      <td>line_90_8.tsp</td>\n      <td>60845.0</td>\n      <td>65825.0</td>\n      <td>123373.0</td>\n      <td>28.282006</td>\n      <td>39.745050</td>\n      <td>0.231058</td>\n      <td>GILS_cost</td>\n      <td>90</td>\n      <td>4095</td>\n      <td>...</td>\n      <td>0.004137</td>\n      <td>0.003256</td>\n      <td>0.000649</td>\n      <td>4.205608e-07</td>\n      <td>0.002625</td>\n      <td>0.003914</td>\n      <td>GILS_cost</td>\n      <td>1</td>\n      <td>GILS_cost GILS_cost</td>\n      <td>GILS_cost GILS_cost</td>\n    </tr>\n    <tr>\n      <th>338</th>\n      <td>line_90_9.tsp</td>\n      <td>60959.0</td>\n      <td>58315.0</td>\n      <td>118075.0</td>\n      <td>29.666181</td>\n      <td>44.563938</td>\n      <td>0.229949</td>\n      <td>DBMEA_cost</td>\n      <td>90</td>\n      <td>4095</td>\n      <td>...</td>\n      <td>0.004579</td>\n      <td>0.003559</td>\n      <td>0.000797</td>\n      <td>6.358799e-07</td>\n      <td>0.002814</td>\n      <td>0.004375</td>\n      <td>GILS_cost</td>\n      <td>0</td>\n      <td>DBMEA_cost GILS_cost</td>\n      <td>DBMEA_cost GILS_cost</td>\n    </tr>\n  </tbody>\n</table>\n<p>339 rows × 41 columns</p>\n</div>"
     },
     "execution_count": 15,
     "metadata": {},
     "output_type": "execute_result"
    }
   ],
   "source": [
    "# new column called combined where the string = min_method + prediction\n",
    "df[\"actual_predicted\"] = df[\"min_method\"] + \" \" + df[\"prediction\"]\n",
    "df"
   ],
   "metadata": {
    "collapsed": false,
    "ExecuteTime": {
     "end_time": "2023-06-06T14:02:50.335836400Z",
     "start_time": "2023-06-06T14:02:50.321293Z"
    }
   }
  },
  {
   "cell_type": "code",
   "execution_count": 16,
   "outputs": [
    {
     "data": {
      "text/plain": "actual_predicted\nDBMEA_cost DBMEA_cost    138\nGILS_cost GILS_cost       81\nDBMEA_cost GILS_cost      46\nGILS_cost DBMEA_cost      38\nGRASP_time GRASP_time     28\nGRASP_time GILS_cost       5\nDBMEA_cost GRASP_time      2\nGILS_cost GRASP_time       1\nName: count, dtype: int64"
     },
     "execution_count": 16,
     "metadata": {},
     "output_type": "execute_result"
    }
   ],
   "source": [
    "df[\"actual_predicted\"].value_counts()"
   ],
   "metadata": {
    "collapsed": false,
    "ExecuteTime": {
     "end_time": "2023-06-06T14:02:54.049659Z",
     "start_time": "2023-06-06T14:02:54.038105800Z"
    }
   }
  },
  {
   "cell_type": "code",
   "execution_count": 21,
   "outputs": [
    {
     "data": {
      "text/plain": "array([[<Axes: title={'center': 'DBMEA_cost'}>]], dtype=object)"
     },
     "execution_count": 21,
     "metadata": {},
     "output_type": "execute_result"
    },
    {
     "data": {
      "text/plain": "<Figure size 640x480 with 1 Axes>",
      "image/png": "[encoded data removed]"
     },
     "metadata": {},
     "output_type": "display_data"
    }
   ],
   "source": [
    "testingdf = df.copy()\n",
    "# sort df by dbmea cost and plot the column\n",
    "testingdf.sort_values(by=['DBMEA_cost'], inplace=True)\n",
    "# plot histograms\n",
    "testingdf.hist(column='DBMEA_cost', bins=100)\n",
    "\n"
   ],
   "metadata": {
    "collapsed": false,
    "ExecuteTime": {
     "end_time": "2023-06-06T16:49:18.784071100Z",
     "start_time": "2023-06-06T16:49:18.628620800Z"
    }
   }
  },
  {
   "cell_type": "code",
   "execution_count": null,
   "outputs": [],
   "source": [],
   "metadata": {
    "collapsed": false
   }
  }
 ],
 "metadata": {
  "kernelspec": {
   "display_name": "Python 3",
   "language": "python",
   "name": "python3"
  },
  "language_info": {
   "codemirror_mode": {
    "name": "ipython",
    "version": 2
   },
   "file_extension": ".py",
   "mimetype": "text/x-python",
   "name": "python",
   "nbconvert_exporter": "python",
   "pygments_lexer": "ipython2",
   "version": "2.7.6"
  }
 },
 "nbformat": 4,
 "nbformat_minor": 0
}
