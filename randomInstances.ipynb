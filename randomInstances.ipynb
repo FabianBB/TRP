{
 "cells": [
  {
   "cell_type": "code",
   "execution_count": 1,
   "metadata": {
    "collapsed": true,
    "ExecuteTime": {
     "end_time": "2023-05-18T13:50:39.447379500Z",
     "start_time": "2023-05-18T13:50:39.191526700Z"
    }
   },
   "outputs": [],
   "source": [
    "import numpy as np\n",
    "import matplotlib.pyplot as plt"
   ]
  },
  {
   "cell_type": "code",
   "execution_count": 2,
   "outputs": [],
   "source": [
    "# notebook to create random tsp instances"
   ],
   "metadata": {
    "collapsed": false,
    "ExecuteTime": {
     "end_time": "2023-05-18T13:50:39.450056300Z",
     "start_time": "2023-05-18T13:50:39.448548800Z"
    }
   }
  },
  {
   "cell_type": "code",
   "execution_count": 3,
   "outputs": [],
   "source": [
    "# function to create n random points from 0 to 500\n",
    "def random_points(n):\n",
    "    return np.random.randint(0,500,(n,2))\n",
    "\n"
   ],
   "metadata": {
    "collapsed": false,
    "ExecuteTime": {
     "end_time": "2023-05-18T13:50:39.453191300Z",
     "start_time": "2023-05-18T13:50:39.451057Z"
    }
   }
  },
  {
   "cell_type": "code",
   "execution_count": 4,
   "outputs": [
    {
     "data": {
      "text/plain": "array([[351, 107],\n       [244, 391],\n       [297, 208],\n       [135, 458],\n       [200,  45],\n       [205, 103],\n       [167, 157],\n       [ 50, 376],\n       [156,  19],\n       [ 93, 280]])"
     },
     "execution_count": 4,
     "metadata": {},
     "output_type": "execute_result"
    }
   ],
   "source": [
    "a = random_points(10)\n",
    "a"
   ],
   "metadata": {
    "collapsed": false,
    "ExecuteTime": {
     "end_time": "2023-05-18T13:50:39.458835500Z",
     "start_time": "2023-05-18T13:50:39.454192800Z"
    }
   }
  },
  {
   "cell_type": "code",
   "execution_count": 5,
   "outputs": [],
   "source": [
    "# function to create a random tsp instance\n",
    "# generate the points and then create a file of the following format\n",
    "# NAME: random_size (insert the size value=\n",
    "# TYPE: TSP\n",
    "# COMMENT:\n",
    "# DIMENSION: n (insert the size value)\n",
    "# EDGE_WEIGHT_TYPE: EUC_2D\n",
    "# NODE_COORD_SECTION\n",
    "# 1 565.0 575.0\n",
    "# 2 25.0 185.0\n",
    "# etc.\n",
    "# EOF\n",
    "\n",
    "def createTSP(size, num):\n",
    "    points = random_points(size)\n",
    "    with open(f'random_{size}_{num}.tsp', 'w') as f:\n",
    "        f.write(f'NAME: random_{size}_{num}\\n')\n",
    "        f.write('TYPE: TSP\\n')\n",
    "        f.write(f'COMMENT: random_{size}_{num}\\n')\n",
    "        f.write(f'DIMENSION: {size}\\n')\n",
    "        f.write('EDGE_WEIGHT_TYPE: EUC_2D\\n')\n",
    "        f.write('NODE_COORD_SECTION\\n')\n",
    "        for i in range(size):\n",
    "            f.write(f'{i+1} {points[i][0]} {points[i][1]}\\n')\n",
    "\n",
    "\n",
    "\n"
   ],
   "metadata": {
    "collapsed": false,
    "ExecuteTime": {
     "end_time": "2023-05-18T13:50:39.461562300Z",
     "start_time": "2023-05-18T13:50:39.458835500Z"
    }
   }
  },
  {
   "cell_type": "code",
   "execution_count": 6,
   "outputs": [],
   "source": [
    "# create 10 instances each of size 10 to 100\n",
    "for i in range(10):\n",
    "    for j in range(10,101,10):\n",
    "        createTSP(j,i)\n",
    "\n"
   ],
   "metadata": {
    "collapsed": false,
    "ExecuteTime": {
     "end_time": "2023-05-18T13:50:39.504156300Z",
     "start_time": "2023-05-18T13:50:39.463567500Z"
    }
   }
  },
  {
   "cell_type": "code",
   "execution_count": 7,
   "outputs": [
    {
     "data": {
      "text/plain": "<Figure size 640x480 with 1 Axes>",
      "image/png": "[encoded data removed]"
     },
     "metadata": {},
     "output_type": "display_data"
    }
   ],
   "source": [
    "# plot random_20_0.tsp\n",
    "\n",
    "with open('random_20_0.tsp', 'r') as f:\n",
    "    lines = f.readlines()\n",
    "    points = []\n",
    "    for line in lines[7:-1]:\n",
    "        points.append([float(x) for x in line.split()[1:]])\n",
    "    points = np.array(points)\n",
    "    plt.scatter(points[:,0], points[:,1])\n",
    "    plt.show()"
   ],
   "metadata": {
    "collapsed": false,
    "ExecuteTime": {
     "end_time": "2023-05-18T13:50:39.590663500Z",
     "start_time": "2023-05-18T13:50:39.501930900Z"
    }
   }
  },
  {
   "cell_type": "code",
   "execution_count": 7,
   "outputs": [],
   "source": [],
   "metadata": {
    "collapsed": false,
    "ExecuteTime": {
     "end_time": "2023-05-18T13:50:39.592172400Z",
     "start_time": "2023-05-18T13:50:39.589824600Z"
    }
   }
  }
 ],
 "metadata": {
  "kernelspec": {
   "display_name": "Python 3",
   "language": "python",
   "name": "python3"
  },
  "language_info": {
   "codemirror_mode": {
    "name": "ipython",
    "version": 2
   },
   "file_extension": ".py",
   "mimetype": "text/x-python",
   "name": "python",
   "nbconvert_exporter": "python",
   "pygments_lexer": "ipython2",
   "version": "2.7.6"
  }
 },
 "nbformat": 4,
 "nbformat_minor": 0
}
